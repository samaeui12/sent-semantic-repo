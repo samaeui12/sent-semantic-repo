{
 "cells": [
  {
   "cell_type": "code",
   "execution_count": 1,
   "id": "3bcd4657-3709-4dd9-a8e6-4f833af130e8",
   "metadata": {
    "execution": {
     "iopub.execute_input": "2023-11-27T01:33:55.740824Z",
     "iopub.status.busy": "2023-11-27T01:33:55.740071Z",
     "iopub.status.idle": "2023-11-27T01:33:55.746577Z",
     "shell.execute_reply": "2023-11-27T01:33:55.745380Z",
     "shell.execute_reply.started": "2023-11-27T01:33:55.740771Z"
    }
   },
   "outputs": [],
   "source": [
    "# distcp real 쿼리"
   ]
  },
  {
   "cell_type": "code",
   "execution_count": 2,
   "id": "d3c0b391-a79f-43d9-8b8c-25aa2dce6e06",
   "metadata": {
    "execution": {
     "iopub.execute_input": "2023-11-27T01:34:21.448678Z",
     "iopub.status.busy": "2023-11-27T01:34:21.447971Z",
     "iopub.status.idle": "2023-11-27T01:34:21.453942Z",
     "shell.execute_reply": "2023-11-27T01:34:21.452683Z",
     "shell.execute_reply.started": "2023-11-27T01:34:21.448626Z"
    }
   },
   "outputs": [],
   "source": [
    "# !hdfs dfs -mkdir -p /data/adot/temp/jaehwan/faq/service_query_log/ \n",
    "# !hadoop distcp -pb hdfs://172.27.23.141:8020/data/faq/result.csv /data/adot/temp/jaehwan/faq/service_query_log/"
   ]
  },
  {
   "cell_type": "code",
   "execution_count": null,
   "id": "a42fc2cf-5a37-481b-9cf7-c9226c951131",
   "metadata": {},
   "outputs": [],
   "source": []
  }
 ],
 "metadata": {
  "kernelspec": {
   "display_name": "Python 3 (ipykernel)",
   "language": "python",
   "name": "python3"
  },
  "language_info": {
   "codemirror_mode": {
    "name": "ipython",
    "version": 3
   },
   "file_extension": ".py",
   "mimetype": "text/x-python",
   "name": "python",
   "nbconvert_exporter": "python",
   "pygments_lexer": "ipython3",
   "version": "3.8.12"
  }
 },
 "nbformat": 4,
 "nbformat_minor": 5
}
