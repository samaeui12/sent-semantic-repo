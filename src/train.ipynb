{
 "cells": [
  {
   "cell_type": "code",
   "execution_count": 1,
   "id": "3b690790-5a7f-4a51-a60f-c347422ccc90",
   "metadata": {
    "execution": {
     "iopub.execute_input": "2023-11-21T06:56:01.971901Z",
     "iopub.status.busy": "2023-11-21T06:56:01.971433Z",
     "iopub.status.idle": "2023-11-21T06:56:18.215703Z",
     "shell.execute_reply": "2023-11-21T06:56:18.214446Z",
     "shell.execute_reply.started": "2023-11-21T06:56:01.971855Z"
    }
   },
   "outputs": [
    {
     "ename": "ModuleNotFoundError",
     "evalue": "No module named 'src'",
     "output_type": "error",
     "traceback": [
      "\u001b[0;31m---------------------------------------------------------------------------\u001b[0m",
      "\u001b[0;31mModuleNotFoundError\u001b[0m                       Traceback (most recent call last)",
      "Input \u001b[0;32mIn [1]\u001b[0m, in \u001b[0;36m<module>\u001b[0;34m\u001b[0m\n\u001b[1;32m      5\u001b[0m \u001b[38;5;28;01mimport\u001b[39;00m \u001b[38;5;21;01margparse\u001b[39;00m\n\u001b[1;32m      6\u001b[0m \u001b[38;5;28;01mfrom\u001b[39;00m \u001b[38;5;21;01mtrainer\u001b[39;00m \u001b[38;5;28;01mimport\u001b[39;00m SimcseTrainer\n\u001b[0;32m----> 7\u001b[0m \u001b[38;5;28;01mfrom\u001b[39;00m \u001b[38;5;21;01mdataset\u001b[39;00m \u001b[38;5;28;01mimport\u001b[39;00m DATASET_MAPPING_DICT\n\u001b[1;32m      8\u001b[0m \u001b[38;5;28;01mfrom\u001b[39;00m \u001b[38;5;21;01mutils\u001b[39;00m \u001b[38;5;28;01mimport\u001b[39;00m PreprocessorFactory \n\u001b[1;32m      9\u001b[0m \u001b[38;5;28;01mfrom\u001b[39;00m \u001b[38;5;21;01mutils\u001b[39;00m \u001b[38;5;28;01mimport\u001b[39;00m get_model_argparse\n",
      "File \u001b[0;32m~/git/sent-semantic-repo/src/dataset/__init__.py:1\u001b[0m, in \u001b[0;36m<module>\u001b[0;34m\u001b[0m\n\u001b[0;32m----> 1\u001b[0m \u001b[38;5;28;01mfrom\u001b[39;00m \u001b[38;5;21;01m.\u001b[39;00m\u001b[38;5;21;01msimcse_dataset\u001b[39;00m \u001b[38;5;28;01mimport\u001b[39;00m Unsup_simcse, Sup_simcse\n\u001b[1;32m      2\u001b[0m \u001b[38;5;28;01mfrom\u001b[39;00m \u001b[38;5;21;01m.\u001b[39;00m\u001b[38;5;21;01msts_dataset\u001b[39;00m \u001b[38;5;28;01mimport\u001b[39;00m StsDataset\n\u001b[1;32m      5\u001b[0m DATASET_MAPPING_DICT \u001b[38;5;241m=\u001b[39m {\n\u001b[1;32m      6\u001b[0m     \u001b[38;5;124m'\u001b[39m\u001b[38;5;124mSup_simcse\u001b[39m\u001b[38;5;124m'\u001b[39m: Sup_simcse,\n\u001b[1;32m      7\u001b[0m     \u001b[38;5;124m'\u001b[39m\u001b[38;5;124mUnsup_simcse\u001b[39m\u001b[38;5;124m'\u001b[39m: Unsup_simcse,\n\u001b[1;32m      8\u001b[0m     \u001b[38;5;124m'\u001b[39m\u001b[38;5;124mStsDataset\u001b[39m\u001b[38;5;124m'\u001b[39m: StsDataset\n\u001b[1;32m      9\u001b[0m }\n",
      "File \u001b[0;32m~/git/sent-semantic-repo/src/dataset/simcse_dataset.py:7\u001b[0m, in \u001b[0;36m<module>\u001b[0;34m\u001b[0m\n\u001b[1;32m      5\u001b[0m \u001b[38;5;28;01mimport\u001b[39;00m \u001b[38;5;21;01mos\u001b[39;00m\n\u001b[1;32m      6\u001b[0m sys\u001b[38;5;241m.\u001b[39mpath\u001b[38;5;241m.\u001b[39mappend(os\u001b[38;5;241m.\u001b[39mpath\u001b[38;5;241m.\u001b[39mdirname(os\u001b[38;5;241m.\u001b[39mpath\u001b[38;5;241m.\u001b[39mabspath(os\u001b[38;5;241m.\u001b[39mpath\u001b[38;5;241m.\u001b[39mdirname(\u001b[38;5;18m__file__\u001b[39m))))\n\u001b[0;32m----> 7\u001b[0m \u001b[38;5;28;01mfrom\u001b[39;00m \u001b[38;5;21;01msrc\u001b[39;00m\u001b[38;5;21;01m.\u001b[39;00m\u001b[38;5;21;01minput\u001b[39;00m \u001b[38;5;28;01mimport\u001b[39;00m NLIInput\n\u001b[1;32m      9\u001b[0m \u001b[38;5;28;01mimport\u001b[39;00m \u001b[38;5;21;01mtorch\u001b[39;00m\n\u001b[1;32m     10\u001b[0m \u001b[38;5;28;01mfrom\u001b[39;00m \u001b[38;5;21;01mtorch\u001b[39;00m\u001b[38;5;21;01m.\u001b[39;00m\u001b[38;5;21;01mutils\u001b[39;00m\u001b[38;5;21;01m.\u001b[39;00m\u001b[38;5;21;01mdata\u001b[39;00m \u001b[38;5;28;01mimport\u001b[39;00m (\n\u001b[1;32m     11\u001b[0m     DataLoader, Dataset\n\u001b[1;32m     12\u001b[0m )\n",
      "\u001b[0;31mModuleNotFoundError\u001b[0m: No module named 'src'"
     ]
    }
   ],
   "source": [
    "from utils import set_seed\n",
    "import torch\n",
    "import os\n",
    "import logging\n",
    "import argparse\n",
    "from trainer import SimcseTrainer\n",
    "from dataset import DATASET_MAPPING_DICT\n",
    "from utils import PreprocessorFactory \n",
    "from utils import get_model_argparse\n",
    "from model import MODEL_MAPPING_DICT\n",
    "from model import CONFIG_MAPPING_DICT\n",
    "from logger import Experi_Logger\n",
    "from transformers import (\n",
    "    AdamW,\n",
    "    AutoModel,\n",
    "    get_linear_schedule_with_warmup,\n",
    "    AutoTokenizer,\n",
    ")"
   ]
  },
  {
   "cell_type": "code",
   "execution_count": 2,
   "id": "b731e2d3-3637-4e1f-aa3e-a155a84d846c",
   "metadata": {
    "execution": {
     "iopub.execute_input": "2023-11-21T06:53:20.931564Z",
     "iopub.status.busy": "2023-11-21T06:53:20.929948Z",
     "iopub.status.idle": "2023-11-21T06:53:21.765028Z",
     "shell.execute_reply": "2023-11-21T06:53:21.763105Z",
     "shell.execute_reply.started": "2023-11-21T06:53:20.931474Z"
    }
   },
   "outputs": [],
   "source": [
    "!export PYTHONPATH='/home/x1112436/git/sent-semantic-repo'"
   ]
  },
  {
   "cell_type": "code",
   "execution_count": 2,
   "id": "2905cc34-dfad-4e7b-9034-27b4321bbc2c",
   "metadata": {},
   "outputs": [],
   "source": [
    "from config.nli_config import nli_parser_model_args"
   ]
  },
  {
   "cell_type": "code",
   "execution_count": 3,
   "id": "11bc0d6c-6b66-481c-950b-fad87c72f75d",
   "metadata": {},
   "outputs": [],
   "source": [
    "args = nli_parser_model_args()"
   ]
  },
  {
   "cell_type": "code",
   "execution_count": 4,
   "id": "ba576de6-338d-4ea9-bead-501d0183a688",
   "metadata": {},
   "outputs": [],
   "source": [
    "from logger import Experi_Logger"
   ]
  },
  {
   "cell_type": "code",
   "execution_count": 5,
   "id": "b8521640-2714-4f6c-8122-cdc162ada005",
   "metadata": {},
   "outputs": [],
   "source": [
    "args.device = torch.device(\"cuda:0\" if torch.cuda.is_available() else \"cpu\")\n",
    "args.n_gpu = torch.cuda.device_count()\n",
    "args.output_dir = f'/app/data/model/{args.pretrained_model}'\n",
    "args.log_dir = f'/app/data/log/{args.pretrained_model}'\n",
    "args.experiments_path = f'/app/data/experiment/{args.pretrained_model}/experiment.csv'\n",
    "args.model_max_len = 50\n",
    "args.is_preprocessed = True\n",
    "args.valid_first = False\n",
    "args.data_type='nli'"
   ]
  },
  {
   "cell_type": "code",
   "execution_count": 6,
   "id": "666f9672-dee9-4a46-9f4d-9b228e8eec9d",
   "metadata": {},
   "outputs": [],
   "source": [
    "#args.amp_use"
   ]
  },
  {
   "cell_type": "markdown",
   "id": "b47c798a-8e74-449d-a3bf-a09e645cb02b",
   "metadata": {},
   "source": [
    "# load pretrained model "
   ]
  },
  {
   "cell_type": "code",
   "execution_count": 7,
   "id": "2991cde3-bdfa-4900-84d0-5503fea0b0a2",
   "metadata": {},
   "outputs": [
    {
     "data": {
      "text/plain": [
       "'klue/roberta-large'"
      ]
     },
     "execution_count": 7,
     "metadata": {},
     "output_type": "execute_result"
    }
   ],
   "source": [
    "args.pretrained_model"
   ]
  },
  {
   "cell_type": "code",
   "execution_count": null,
   "id": "68f17c1e-ca7b-4020-876b-c3c4ad2507ab",
   "metadata": {
    "scrolled": true
   },
   "outputs": [
    {
     "name": "stderr",
     "output_type": "stream",
     "text": [
      "You are using a model of type roberta to instantiate a model of type sent_roberta. This is not supported for all configurations of models and can yield errors.\n"
     ]
    }
   ],
   "source": [
    "#model = AutoModel.from_pretrained(args.pretrained_model)\n",
    "model = MODEL_MAPPING_DICT['sent_roberta'].from_pretrained(\n",
    "    args.pretrained_model, **vars(args), \n",
    ")\n",
    "tokenizer = AutoTokenizer.from_pretrained(\"klue/roberta-large\")"
   ]
  },
  {
   "cell_type": "markdown",
   "id": "45ff6a95-9104-4525-b52b-98ac51925131",
   "metadata": {},
   "source": [
    "# load data"
   ]
  },
  {
   "cell_type": "code",
   "execution_count": null,
   "id": "693de2b2-9183-4f1c-a505-b9af810a88c0",
   "metadata": {},
   "outputs": [],
   "source": [
    "data_path = '/app/data/open_data/KorNLI/multinli.train.ko.tsv'"
   ]
  },
  {
   "cell_type": "code",
   "execution_count": null,
   "id": "e4f0d7f4-d49b-4d74-acd9-d789a92177b6",
   "metadata": {},
   "outputs": [],
   "source": [
    "preprocessor = PreprocessorFactory(data_type=args.data_type)"
   ]
  },
  {
   "cell_type": "code",
   "execution_count": null,
   "id": "1d27edd5-dda1-4d0c-8141-5aafe27be1c2",
   "metadata": {},
   "outputs": [],
   "source": [
    "nli_data = preprocessor.preprocess(\n",
    "                              data_path=data_path,\n",
    "                              tokenizer=tokenizer, \n",
    "                              save_path=None\n",
    ")"
   ]
  },
  {
   "cell_type": "code",
   "execution_count": null,
   "id": "b11052db-ab18-4f7d-b6cb-a3c3cc5f9c24",
   "metadata": {},
   "outputs": [],
   "source": [
    "preprocessor = PreprocessorFactory('sts')"
   ]
  },
  {
   "cell_type": "code",
   "execution_count": null,
   "id": "6b33914b-1634-4162-87d4-437ce219cb12",
   "metadata": {},
   "outputs": [],
   "source": [
    "data_path = '/app/data/open_data/KorSTS/sts-train.tsv'\n",
    "sts_data = preprocessor.preprocess(\n",
    "                              data_path=data_path,\n",
    "                              tokenizer=tokenizer, \n",
    "                              save_path=None\n",
    ")"
   ]
  },
  {
   "cell_type": "code",
   "execution_count": null,
   "id": "43266f8c-dcfa-47cd-97f2-98f4db99bcd2",
   "metadata": {},
   "outputs": [],
   "source": [
    "train_dataset = DATASET_MAPPING_DICT['Unsup_simcse']\n",
    "train_dataset = train_dataset(args=args, features=nli_data, max_length=args.model_max_len, tokenizer=tokenizer)"
   ]
  },
  {
   "cell_type": "code",
   "execution_count": null,
   "id": "19b59acb-cbd1-4342-8db1-e64e20b4a7fa",
   "metadata": {},
   "outputs": [],
   "source": [
    "val_dataset = DATASET_MAPPING_DICT['StsDataset']\n",
    "val_dataset = val_dataset(args=args, features=sts_data, max_length=args.model_max_len, tokenizer=tokenizer)"
   ]
  },
  {
   "cell_type": "markdown",
   "id": "df4d9df3-e85f-4e68-a04a-a09f2675dfc6",
   "metadata": {},
   "source": [
    "# Trainer"
   ]
  },
  {
   "cell_type": "code",
   "execution_count": null,
   "id": "b654fccd-f345-4fbd-a689-37f5b2b6c3a2",
   "metadata": {},
   "outputs": [],
   "source": [
    "from trainer import SimcseTrainer\n",
    "import torch.cuda.amp as amp"
   ]
  },
  {
   "cell_type": "code",
   "execution_count": null,
   "id": "a2ad8292-5cbe-4e07-b8d2-b0f8e97d3900",
   "metadata": {},
   "outputs": [],
   "source": [
    "trainer = SimcseTrainer(args=args, logger=logging)"
   ]
  },
  {
   "cell_type": "code",
   "execution_count": null,
   "id": "d2020337-34a5-4457-8b22-eeb3f095591f",
   "metadata": {},
   "outputs": [],
   "source": [
    "trainer.model_setting(model_type=args.model_type, train_dataset=train_dataset, model=model, tokenizer=tokenizer)"
   ]
  },
  {
   "cell_type": "code",
   "execution_count": null,
   "id": "3db3afa0-ea43-4635-b8b9-f8416d163f6e",
   "metadata": {},
   "outputs": [],
   "source": [
    "trainer.train(model=model, tokenizer=tokenizer, train_dataset=train_dataset, val_dataset=val_dataset, model_type=args.model_type)"
   ]
  },
  {
   "cell_type": "code",
   "execution_count": null,
   "id": "9a992fee-23a4-4811-8ce3-5b3ee69fc474",
   "metadata": {},
   "outputs": [],
   "source": [
    "!nvidia-smi"
   ]
  },
  {
   "cell_type": "code",
   "execution_count": null,
   "id": "254f935a-5c3a-4df8-adec-4556e7436bd6",
   "metadata": {},
   "outputs": [],
   "source": []
  },
  {
   "cell_type": "code",
   "execution_count": null,
   "id": "91876a6c-09c2-4005-83b8-8a6bcd5fabe0",
   "metadata": {},
   "outputs": [],
   "source": []
  },
  {
   "cell_type": "code",
   "execution_count": null,
   "id": "419ea726-7ce4-4d03-8f4e-2471094ef614",
   "metadata": {},
   "outputs": [],
   "source": []
  }
 ],
 "metadata": {
  "kernelspec": {
   "display_name": "Python 3 (ipykernel)",
   "language": "python",
   "name": "python3"
  },
  "language_info": {
   "codemirror_mode": {
    "name": "ipython",
    "version": 3
   },
   "file_extension": ".py",
   "mimetype": "text/x-python",
   "name": "python",
   "nbconvert_exporter": "python",
   "pygments_lexer": "ipython3",
   "version": "3.8.12"
  }
 },
 "nbformat": 4,
 "nbformat_minor": 5
}
