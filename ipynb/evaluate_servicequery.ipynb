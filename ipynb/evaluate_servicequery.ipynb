{
 "cells": [
  {
   "cell_type": "markdown",
   "id": "74f630ea-b572-4262-89ef-35b31f0aed45",
   "metadata": {},
   "source": [
    "# add module path"
   ]
  },
  {
   "cell_type": "code",
   "execution_count": 31,
   "id": "2293817b-3b68-4e80-92d0-63d8203540ed",
   "metadata": {
    "execution": {
     "iopub.execute_input": "2023-12-10T14:35:41.605019Z",
     "iopub.status.busy": "2023-12-10T14:35:41.604163Z",
     "iopub.status.idle": "2023-12-10T14:35:41.613655Z",
     "shell.execute_reply": "2023-12-10T14:35:41.612280Z",
     "shell.execute_reply.started": "2023-12-10T14:35:41.604951Z"
    },
    "tags": []
   },
   "outputs": [],
   "source": [
    "import sys\n",
    "module_path = '/home/x1112436/git/sent-semantic-repo'\n",
    "sys.path.append(module_path)"
   ]
  },
  {
   "cell_type": "markdown",
   "id": "7b4661f7-ccb3-4972-8ffc-33fe6d775c94",
   "metadata": {},
   "source": [
    "# Read real data"
   ]
  },
  {
   "cell_type": "code",
   "execution_count": 32,
   "id": "9c773a7c-ebfc-4573-9f5a-b4f1f22563df",
   "metadata": {
    "execution": {
     "iopub.execute_input": "2023-12-10T14:35:41.872184Z",
     "iopub.status.busy": "2023-12-10T14:35:41.871404Z",
     "iopub.status.idle": "2023-12-10T14:35:41.877950Z",
     "shell.execute_reply": "2023-12-10T14:35:41.876730Z",
     "shell.execute_reply.started": "2023-12-10T14:35:41.872126Z"
    },
    "tags": []
   },
   "outputs": [],
   "source": [
    "import pandas as pd\n",
    "import re"
   ]
  },
  {
   "cell_type": "code",
   "execution_count": 33,
   "id": "b21e969e-610c-430a-8bc8-f74ac02a2a49",
   "metadata": {
    "execution": {
     "iopub.execute_input": "2023-12-10T14:35:42.748366Z",
     "iopub.status.busy": "2023-12-10T14:35:42.747594Z",
     "iopub.status.idle": "2023-12-10T14:35:42.754487Z",
     "shell.execute_reply": "2023-12-10T14:35:42.753177Z",
     "shell.execute_reply.started": "2023-12-10T14:35:42.748291Z"
    },
    "tags": []
   },
   "outputs": [],
   "source": [
    "root_data = '../data/service_query/query.csv'"
   ]
  },
  {
   "cell_type": "code",
   "execution_count": 34,
   "id": "a2d79504-da82-4837-87e8-1fc152e243c1",
   "metadata": {
    "execution": {
     "iopub.execute_input": "2023-12-10T14:35:42.903182Z",
     "iopub.status.busy": "2023-12-10T14:35:42.902422Z",
     "iopub.status.idle": "2023-12-10T14:35:42.912856Z",
     "shell.execute_reply": "2023-12-10T14:35:42.909018Z",
     "shell.execute_reply.started": "2023-12-10T14:35:42.903123Z"
    },
    "tags": []
   },
   "outputs": [],
   "source": [
    "def parse(input):\n",
    "    res = re.search(r'^(.*)(?=\\([^()]*\\)$)', input)\n",
    "    if res is None:\n",
    "        return ''\n",
    "    return res.group(1)"
   ]
  },
  {
   "cell_type": "code",
   "execution_count": 35,
   "id": "102a2981-6352-4610-81fa-e9f9d52533ae",
   "metadata": {
    "execution": {
     "iopub.execute_input": "2023-12-10T14:35:43.046913Z",
     "iopub.status.busy": "2023-12-10T14:35:43.046474Z",
     "iopub.status.idle": "2023-12-10T14:35:43.094080Z",
     "shell.execute_reply": "2023-12-10T14:35:43.093013Z",
     "shell.execute_reply.started": "2023-12-10T14:35:43.046887Z"
    },
    "tags": []
   },
   "outputs": [],
   "source": [
    "query_list = []\n",
    "with open(root_data, 'r') as f:\n",
    "    for line in f:\n",
    "        data = line.strip().split('|')\n",
    "        if (5 - len(data)) > 0:\n",
    "            for i in range(5- len(data)):\n",
    "                data.append('')\n",
    "\n",
    "        if len(data) <5:\n",
    "            print(data)\n",
    "            break\n",
    "\n",
    "        query_list.append({'query': data[0], 'query_cnt': data[1], 'p_rank1': parse(data[2]), 'p_rank2': parse(data[3]), 'p_rank3': parse(data[4])})"
   ]
  },
  {
   "cell_type": "code",
   "execution_count": 36,
   "id": "dac6a7e9-1dde-4292-974e-122c257e373f",
   "metadata": {
    "execution": {
     "iopub.execute_input": "2023-12-10T14:35:43.174626Z",
     "iopub.status.busy": "2023-12-10T14:35:43.173906Z",
     "iopub.status.idle": "2023-12-10T14:35:43.189402Z",
     "shell.execute_reply": "2023-12-10T14:35:43.188364Z",
     "shell.execute_reply.started": "2023-12-10T14:35:43.174570Z"
    },
    "tags": []
   },
   "outputs": [],
   "source": [
    "query_pd = pd.DataFrame(query_list)"
   ]
  },
  {
   "cell_type": "code",
   "execution_count": 37,
   "id": "d96ce616-7005-4787-8dfc-d71bd6af7feb",
   "metadata": {
    "execution": {
     "iopub.execute_input": "2023-12-10T14:35:44.169622Z",
     "iopub.status.busy": "2023-12-10T14:35:44.168822Z",
     "iopub.status.idle": "2023-12-10T14:35:44.181185Z",
     "shell.execute_reply": "2023-12-10T14:35:44.180220Z",
     "shell.execute_reply.started": "2023-12-10T14:35:44.169563Z"
    },
    "tags": []
   },
   "outputs": [],
   "source": [
    "queries = list(query_pd['query'].unique())"
   ]
  },
  {
   "cell_type": "markdown",
   "id": "67e72690-fc4d-4477-a6c6-cb966cb078bc",
   "metadata": {},
   "source": [
    "# LOAD MODEL"
   ]
  },
  {
   "cell_type": "code",
   "execution_count": 38,
   "id": "5059ea57-5065-4bac-adc8-bc178e05730e",
   "metadata": {
    "execution": {
     "iopub.execute_input": "2023-12-10T14:35:47.166925Z",
     "iopub.status.busy": "2023-12-10T14:35:47.166154Z",
     "iopub.status.idle": "2023-12-10T14:35:47.173206Z",
     "shell.execute_reply": "2023-12-10T14:35:47.172171Z",
     "shell.execute_reply.started": "2023-12-10T14:35:47.166866Z"
    },
    "tags": []
   },
   "outputs": [],
   "source": [
    "import torch\n",
    "from transformers import (\n",
    "    AdamW,\n",
    "    AutoModel,\n",
    "    get_linear_schedule_with_warmup,\n",
    "    AutoTokenizer,\n",
    "    AutoConfig\n",
    ")"
   ]
  },
  {
   "cell_type": "code",
   "execution_count": 39,
   "id": "e1e29fc2-31f9-4bcb-8200-24e6afc23860",
   "metadata": {
    "execution": {
     "iopub.execute_input": "2023-12-10T14:35:47.343919Z",
     "iopub.status.busy": "2023-12-10T14:35:47.343173Z",
     "iopub.status.idle": "2023-12-10T14:35:47.351746Z",
     "shell.execute_reply": "2023-12-10T14:35:47.350456Z",
     "shell.execute_reply.started": "2023-12-10T14:35:47.343862Z"
    },
    "tags": []
   },
   "outputs": [],
   "source": [
    "from src.utils import set_seed\n",
    "from src.trainer import SimcseTrainer\n",
    "from src.dataset import DATASET_MAPPING_DICT\n",
    "from src.utils import PreprocessorFactory \n",
    "from src.utils import get_model_argparse\n",
    "from src.model import MODEL_MAPPING_DICT\n",
    "from src.model import CONFIG_MAPPING_DICT\n",
    "from src.logger import Experi_Logger\n",
    "from config.nli_config import nli_parser_model_args"
   ]
  },
  {
   "cell_type": "code",
   "execution_count": 40,
   "id": "7368d224-2d0c-4c78-b349-b93dac187077",
   "metadata": {
    "execution": {
     "iopub.execute_input": "2023-12-10T14:35:47.885275Z",
     "iopub.status.busy": "2023-12-10T14:35:47.884529Z",
     "iopub.status.idle": "2023-12-10T14:35:47.895801Z",
     "shell.execute_reply": "2023-12-10T14:35:47.894550Z",
     "shell.execute_reply.started": "2023-12-10T14:35:47.885217Z"
    },
    "tags": []
   },
   "outputs": [],
   "source": [
    "args = nli_parser_model_args()"
   ]
  },
  {
   "cell_type": "code",
   "execution_count": 162,
   "id": "719b14c8-ee96-4457-8287-54168666e211",
   "metadata": {
    "execution": {
     "iopub.execute_input": "2023-12-10T14:58:51.325194Z",
     "iopub.status.busy": "2023-12-10T14:58:51.324417Z",
     "iopub.status.idle": "2023-12-10T14:58:51.331898Z",
     "shell.execute_reply": "2023-12-10T14:58:51.330600Z",
     "shell.execute_reply.started": "2023-12-10T14:58:51.325137Z"
    },
    "tags": []
   },
   "outputs": [],
   "source": [
    "args.device = torch.device(\"cuda:0\" if torch.cuda.is_available() else \"cpu\")\n",
    "args.pretrained_model = '/home/x1112436/final_result/faq/klue-faq-large-sent_robert/train_Triple_Triple'"
   ]
  },
  {
   "cell_type": "code",
   "execution_count": 164,
   "id": "97599861-8f4b-476b-b6ef-fcc6ce6b4e62",
   "metadata": {
    "execution": {
     "iopub.execute_input": "2023-12-10T14:59:11.914644Z",
     "iopub.status.busy": "2023-12-10T14:59:11.913292Z",
     "iopub.status.idle": "2023-12-10T14:59:16.717201Z",
     "shell.execute_reply": "2023-12-10T14:59:16.715853Z",
     "shell.execute_reply.started": "2023-12-10T14:59:11.914570Z"
    },
    "tags": []
   },
   "outputs": [],
   "source": [
    "model = MODEL_MAPPING_DICT['sent_roberta'].from_pretrained(\n",
    "    args.pretrained_model, **vars(args), \n",
    ")\n",
    "tokenizer = AutoTokenizer.from_pretrained(args.pretrained_model)"
   ]
  },
  {
   "cell_type": "markdown",
   "id": "1dbbf6c2-2937-4f8d-b192-f93c54ef8a22",
   "metadata": {},
   "source": [
    "# load data"
   ]
  },
  {
   "cell_type": "code",
   "execution_count": 10,
   "id": "273715cb-1bc0-479d-b1c7-aca8dc51f8d6",
   "metadata": {
    "execution": {
     "iopub.execute_input": "2023-12-09T09:58:47.440245Z",
     "iopub.status.busy": "2023-12-09T09:58:47.439360Z",
     "iopub.status.idle": "2023-12-09T09:58:48.051208Z",
     "shell.execute_reply": "2023-12-09T09:58:48.049674Z",
     "shell.execute_reply.started": "2023-12-09T09:58:47.440147Z"
    },
    "tags": []
   },
   "outputs": [],
   "source": [
    "from skt.gcp import load_bigquery_ipython_magic, \\\n",
    "                    bq_to_pandas, \\\n",
    "                    get_bigquery_client"
   ]
  },
  {
   "cell_type": "code",
   "execution_count": 43,
   "id": "d9f76236-7577-444f-a73a-279957784e35",
   "metadata": {
    "execution": {
     "iopub.execute_input": "2023-12-10T14:36:04.251499Z",
     "iopub.status.busy": "2023-12-10T14:36:04.250926Z",
     "iopub.status.idle": "2023-12-10T14:36:04.258216Z",
     "shell.execute_reply": "2023-12-10T14:36:04.257188Z",
     "shell.execute_reply.started": "2023-12-10T14:36:04.251449Z"
    },
    "tags": []
   },
   "outputs": [],
   "source": [
    "dataset = 'x1112436'\n",
    "log_table = 'faq_table'\n",
    "query = f\"\"\"\n",
    "\n",
    "SELECT  TRIM(query) as query,\n",
    "        answer,\n",
    "        REPLACE(TRIM(intent_nm), \"'\", \"\") as intent_nm,\n",
    "        answer,\n",
    "        domain,\n",
    "        status\n",
    "FROM `skt-datahub.{dataset}.{log_table}`\n",
    "WHERE intent_nm !='' and intent_nm is not null\n",
    "\"\"\""
   ]
  },
  {
   "cell_type": "code",
   "execution_count": 44,
   "id": "eec467df-8601-4f4d-9d50-07d9733012fe",
   "metadata": {
    "execution": {
     "iopub.execute_input": "2023-12-10T14:36:04.779585Z",
     "iopub.status.busy": "2023-12-10T14:36:04.778935Z",
     "iopub.status.idle": "2023-12-10T14:36:09.711813Z",
     "shell.execute_reply": "2023-12-10T14:36:09.710754Z",
     "shell.execute_reply.started": "2023-12-10T14:36:04.779538Z"
    },
    "tags": []
   },
   "outputs": [
    {
     "name": "stdout",
     "output_type": "stream",
     "text": [
      "Warning: exception on print statistics\n",
      "unsupported operand type(s) for /: 'NoneType' and 'int'\n",
      "Downloading: 100%|\u001b[32m██████████\u001b[0m|\n"
     ]
    }
   ],
   "source": [
    "faq_table = bq_to_pandas(query)"
   ]
  },
  {
   "cell_type": "code",
   "execution_count": 45,
   "id": "3cbb1d6e-5d02-4405-901b-a2d5f46c49d1",
   "metadata": {
    "execution": {
     "iopub.execute_input": "2023-12-10T14:36:10.284222Z",
     "iopub.status.busy": "2023-12-10T14:36:10.283416Z",
     "iopub.status.idle": "2023-12-10T14:36:10.309578Z",
     "shell.execute_reply": "2023-12-10T14:36:10.308417Z",
     "shell.execute_reply.started": "2023-12-10T14:36:10.284163Z"
    },
    "tags": []
   },
   "outputs": [],
   "source": [
    "idx2intent_nm = list(faq_table.intent_nm.unique())"
   ]
  },
  {
   "cell_type": "markdown",
   "id": "ad9a69e5-fcc3-40d5-a19d-a17e13952a87",
   "metadata": {},
   "source": [
    "# Load service query"
   ]
  },
  {
   "cell_type": "code",
   "execution_count": 46,
   "id": "e9fad14c-ee29-4b14-a9a1-eb4aeaa9c0d0",
   "metadata": {
    "execution": {
     "iopub.execute_input": "2023-12-10T14:36:11.357985Z",
     "iopub.status.busy": "2023-12-10T14:36:11.357200Z",
     "iopub.status.idle": "2023-12-10T14:36:11.363222Z",
     "shell.execute_reply": "2023-12-10T14:36:11.362154Z",
     "shell.execute_reply.started": "2023-12-10T14:36:11.357927Z"
    },
    "tags": []
   },
   "outputs": [],
   "source": [
    "service_query_file = '/home/x1112436/git/sent-semantic-repo/data/service_query/query.csv'"
   ]
  },
  {
   "cell_type": "code",
   "execution_count": 47,
   "id": "53921912-7ffb-4569-92a7-36bc9ee34559",
   "metadata": {
    "execution": {
     "iopub.execute_input": "2023-12-10T14:36:12.768222Z",
     "iopub.status.busy": "2023-12-10T14:36:12.767464Z",
     "iopub.status.idle": "2023-12-10T14:36:12.799226Z",
     "shell.execute_reply": "2023-12-10T14:36:12.798171Z",
     "shell.execute_reply.started": "2023-12-10T14:36:12.768164Z"
    },
    "tags": []
   },
   "outputs": [],
   "source": [
    "service_queries = []\n",
    "with open(service_query_file, 'r') as f:\n",
    "    for data in f:\n",
    "        line = data.split('|')\n",
    "        for i in range(5- len(line)):\n",
    "            line.append('')\n",
    "        service_queries.append({'query': line[0], 'count': line[1], 'p_rank1': line[2], 'p_rank2': line[3], 'p_rank3': line[4]})"
   ]
  },
  {
   "cell_type": "code",
   "execution_count": 48,
   "id": "2f086e9e-76bd-43f7-9836-48a75ffbbf3e",
   "metadata": {
    "execution": {
     "iopub.execute_input": "2023-12-10T14:36:13.482156Z",
     "iopub.status.busy": "2023-12-10T14:36:13.481408Z",
     "iopub.status.idle": "2023-12-10T14:36:13.497237Z",
     "shell.execute_reply": "2023-12-10T14:36:13.496176Z",
     "shell.execute_reply.started": "2023-12-10T14:36:13.482099Z"
    },
    "tags": []
   },
   "outputs": [],
   "source": [
    "import pandas as pd\n",
    "service_queries_pd = pd.DataFrame(service_queries)"
   ]
  },
  {
   "cell_type": "code",
   "execution_count": 49,
   "id": "40d99e68-4ed9-41bc-8d96-9221b8796b75",
   "metadata": {
    "execution": {
     "iopub.execute_input": "2023-12-10T14:36:14.244370Z",
     "iopub.status.busy": "2023-12-10T14:36:14.243584Z",
     "iopub.status.idle": "2023-12-10T14:36:14.257605Z",
     "shell.execute_reply": "2023-12-10T14:36:14.256675Z",
     "shell.execute_reply.started": "2023-12-10T14:36:14.244291Z"
    },
    "tags": []
   },
   "outputs": [
    {
     "data": {
      "text/html": [
       "<div>\n",
       "<style scoped>\n",
       "    .dataframe tbody tr th:only-of-type {\n",
       "        vertical-align: middle;\n",
       "    }\n",
       "\n",
       "    .dataframe tbody tr th {\n",
       "        vertical-align: top;\n",
       "    }\n",
       "\n",
       "    .dataframe thead th {\n",
       "        text-align: right;\n",
       "    }\n",
       "</style>\n",
       "<table border=\"1\" class=\"dataframe\">\n",
       "  <thead>\n",
       "    <tr style=\"text-align: right;\">\n",
       "      <th></th>\n",
       "      <th>query</th>\n",
       "      <th>count</th>\n",
       "      <th>p_rank1</th>\n",
       "      <th>p_rank2</th>\n",
       "      <th>p_rank3</th>\n",
       "    </tr>\n",
       "  </thead>\n",
       "  <tbody>\n",
       "    <tr>\n",
       "      <th>0</th>\n",
       "      <td>미납요금 납부 가능일 문의</td>\n",
       "      <td>49194</td>\n",
       "      <td>SKT미납센터연락처(0.4809759)</td>\n",
       "      <td>미납이용정지(0.457217725)</td>\n",
       "      <td>미납직권해지(0.43127817)</td>\n",
       "    </tr>\n",
       "  </tbody>\n",
       "</table>\n",
       "</div>"
      ],
      "text/plain": [
       "            query  count                p_rank1              p_rank2  \\\n",
       "0  미납요금 납부 가능일 문의  49194  SKT미납센터연락처(0.4809759)  미납이용정지(0.457217725)   \n",
       "\n",
       "              p_rank3  \n",
       "0  미납직권해지(0.43127817)  "
      ]
     },
     "execution_count": 49,
     "metadata": {},
     "output_type": "execute_result"
    }
   ],
   "source": [
    "service_queries_pd.head(1)"
   ]
  },
  {
   "cell_type": "code",
   "execution_count": 50,
   "id": "42e8d96f-3f99-4206-a9e0-0e4229897725",
   "metadata": {
    "execution": {
     "iopub.execute_input": "2023-12-10T14:36:20.558996Z",
     "iopub.status.busy": "2023-12-10T14:36:20.558236Z",
     "iopub.status.idle": "2023-12-10T14:36:20.570992Z",
     "shell.execute_reply": "2023-12-10T14:36:20.569954Z",
     "shell.execute_reply.started": "2023-12-10T14:36:20.558939Z"
    }
   },
   "outputs": [],
   "source": [
    "service_queries = list(service_queries_pd['query'].unique())"
   ]
  },
  {
   "cell_type": "markdown",
   "id": "e2a7cdcc-2163-48b7-89ad-8855a65d2c7b",
   "metadata": {},
   "source": [
    "# Inference Setting"
   ]
  },
  {
   "cell_type": "code",
   "execution_count": 51,
   "id": "709174f3-4c88-41e8-b65b-8cb06ed2aab8",
   "metadata": {
    "execution": {
     "iopub.execute_input": "2023-12-10T14:36:24.323214Z",
     "iopub.status.busy": "2023-12-10T14:36:24.322112Z",
     "iopub.status.idle": "2023-12-10T14:36:24.328071Z",
     "shell.execute_reply": "2023-12-10T14:36:24.326974Z",
     "shell.execute_reply.started": "2023-12-10T14:36:24.323158Z"
    },
    "tags": []
   },
   "outputs": [],
   "source": [
    "from torch.utils.data import (\n",
    "    DataLoader, Dataset\n",
    ")"
   ]
  },
  {
   "cell_type": "code",
   "execution_count": 52,
   "id": "12211454-1da5-481f-a09c-6bde4de27e02",
   "metadata": {
    "execution": {
     "iopub.execute_input": "2023-12-10T14:36:24.466831Z",
     "iopub.status.busy": "2023-12-10T14:36:24.466144Z",
     "iopub.status.idle": "2023-12-10T14:36:24.472416Z",
     "shell.execute_reply": "2023-12-10T14:36:24.471219Z",
     "shell.execute_reply.started": "2023-12-10T14:36:24.466777Z"
    },
    "tags": []
   },
   "outputs": [],
   "source": [
    "from dataclasses import dataclass\n",
    "from typing import List, Any, Union, Dict"
   ]
  },
  {
   "cell_type": "code",
   "execution_count": 53,
   "id": "da2313ef-2551-4d23-9015-2dce369a6f78",
   "metadata": {
    "execution": {
     "iopub.execute_input": "2023-12-10T14:36:24.599862Z",
     "iopub.status.busy": "2023-12-10T14:36:24.599021Z",
     "iopub.status.idle": "2023-12-10T14:36:24.608520Z",
     "shell.execute_reply": "2023-12-10T14:36:24.607191Z",
     "shell.execute_reply.started": "2023-12-10T14:36:24.599773Z"
    },
    "tags": []
   },
   "outputs": [],
   "source": [
    "@dataclass\n",
    "class SingleSentenceInput:\n",
    "    sentence_a: str = None\n",
    "    a_input_ids: List[int] = None\n",
    "    a_attention_mask: List[int] = None"
   ]
  },
  {
   "cell_type": "code",
   "execution_count": 54,
   "id": "4415b8bb-2203-4427-8361-48a727005ce3",
   "metadata": {
    "execution": {
     "iopub.execute_input": "2023-12-10T14:36:25.808458Z",
     "iopub.status.busy": "2023-12-10T14:36:25.807988Z",
     "iopub.status.idle": "2023-12-10T14:36:25.819115Z",
     "shell.execute_reply": "2023-12-10T14:36:25.818215Z",
     "shell.execute_reply.started": "2023-12-10T14:36:25.808431Z"
    },
    "tags": []
   },
   "outputs": [],
   "source": [
    "class EmbeddingDataset(Dataset):\n",
    "    def __init__(\n",
    "            self,\n",
    "            args,\n",
    "            features:List[SingleSentenceInput],\n",
    "            max_length,\n",
    "            tokenizer,\n",
    "            **kwargs\n",
    "    ):\n",
    "        super(EmbeddingDataset, self).__init__()\n",
    "        self.args = args\n",
    "        self.features = features\n",
    "        self.max_length = max_length\n",
    "        self.pad_token_id = tokenizer.pad_token_id\n",
    "        self.sep_token_id = tokenizer.sep_token_id if tokenizer.sep_token_id else tokenizer.eos_token_id\n",
    "\n",
    "    def __getitem__(self, index) -> Dict[str, Any]:\n",
    "        feature = self.features[index]\n",
    "        return {\n",
    "            'a_sentence': feature.sentence_a,\n",
    "            'a_input_ids': torch.tensor(feature.a_input_ids, dtype=torch.long),\n",
    "            'a_attention_mask': torch.tensor(feature.a_attention_mask, dtype=torch.long)\n",
    "        }\n",
    "    def __len__(self):\n",
    "        return len(self.features)\n",
    "    \n",
    "    def loader(self, shuffle:bool=True, batch_size:int=64):\n",
    "        return DataLoader(self, shuffle=shuffle, batch_size=batch_size, collate_fn=self.collater)\n",
    "\n",
    "    def collater(self, batch: List[Dict[str, Any]]) -> Dict[str, Any]:\n",
    "\n",
    "        a_sentence = [data['a_sentence'] for data in batch]\n",
    "        a_input_ids = [data['a_input_ids'] for data in batch]\n",
    "        a_attention_mask = [data['a_attention_mask'] for data in batch]\n",
    "        ##  token level encoding\n",
    "        batch_size = len(batch)\n",
    "        sizes = [len(s) for s in a_input_ids]\n",
    "        target_size = min(max(sizes), self.max_length)\n",
    "        \"\"\" torch.full -> creates a tensor of a given shape and fills it with a scalar value self.pad_token_id here\"\"\"\n",
    "        a_collated_ids = torch.full((batch_size, target_size), self.pad_token_id, dtype=torch.long)\n",
    "        a_collated_attention_masks = torch.zeros((batch_size, target_size), dtype=torch.long)\n",
    "\n",
    "        \"\"\" cut data if size > target_size else: fill by self.pad_token_id \"\"\"\n",
    "        for i, (input_id, attention_m, size) in enumerate(\n",
    "                zip(a_input_ids, a_attention_mask, sizes)):\n",
    "            diff = target_size - size\n",
    "            if diff < 0:\n",
    "                a_collated_ids[i, :target_size] = input_id[:target_size]\n",
    "                a_collated_ids[i, -1] = self.sep_token_id\n",
    "                a_collated_attention_masks[i, :target_size] = attention_m[:target_size]\n",
    "\n",
    "            else:\n",
    "                a_collated_ids[i, :size] = input_id\n",
    "                a_collated_attention_masks[i, :size] = attention_m\n",
    "\n",
    "        return {\n",
    "            'a_sentence': a_sentence,\n",
    "            'a_input_ids': a_collated_ids,\n",
    "            'a_attention_mask': a_collated_attention_masks\n",
    "        }"
   ]
  },
  {
   "cell_type": "code",
   "execution_count": 55,
   "id": "e556f741-9d9f-42f5-a8a3-13839dab3aa9",
   "metadata": {
    "execution": {
     "iopub.execute_input": "2023-12-10T14:36:26.665732Z",
     "iopub.status.busy": "2023-12-10T14:36:26.664935Z",
     "iopub.status.idle": "2023-12-10T14:36:26.677969Z",
     "shell.execute_reply": "2023-12-10T14:36:26.676125Z",
     "shell.execute_reply.started": "2023-12-10T14:36:26.665674Z"
    },
    "tags": []
   },
   "outputs": [],
   "source": [
    "from src.utils.abs_preprocess import AbsPreprocessor\n",
    "\n",
    "class Testprocessor(AbsPreprocessor):\n",
    "\n",
    "    @classmethod\n",
    "    def preprocess(cls, tokenizer,  input_list:List) -> None:\n",
    "        \"\"\" try read tsv file using pandas first if [memory or parse] error catched use other reading method  \"\"\"\n",
    "    \n",
    "        feature_list = list()\n",
    "        skipped_line = 0\n",
    "\n",
    "        for i, line in enumerate(input_list):\n",
    "            try:\n",
    "                a_encoded_sentence = cls.tokenizing(input=line, tokenizer=tokenizer, tokenizer_input=None)\n",
    "                feature_list.append(\n",
    "                    SingleSentenceInput(\n",
    "                        sentence_a = line,\n",
    "                        a_input_ids = a_encoded_sentence.input_ids,\n",
    "                        a_attention_mask=a_encoded_sentence.attention_mask,\n",
    "                    )\n",
    "                )\n",
    "            except Exception as e:\n",
    "                print(f'Error occurs in {i} lines in preprocessing')\n",
    "                print(line)\n",
    "                print(e)\n",
    "                break\n",
    "\n",
    "        return feature_list\n"
   ]
  },
  {
   "cell_type": "code",
   "execution_count": 67,
   "id": "a28d48f6-7589-4f64-97e7-33a69884dc97",
   "metadata": {
    "execution": {
     "iopub.execute_input": "2023-12-10T14:37:30.035288Z",
     "iopub.status.busy": "2023-12-10T14:37:30.033718Z",
     "iopub.status.idle": "2023-12-10T14:37:30.044948Z",
     "shell.execute_reply": "2023-12-10T14:37:30.043741Z",
     "shell.execute_reply.started": "2023-12-10T14:37:30.035222Z"
    },
    "tags": []
   },
   "outputs": [],
   "source": [
    "def embedding(model, dataloader):\n",
    "    input_list = []\n",
    "    embedding_result = []\n",
    "    model.eval()\n",
    "    with torch.no_grad():   \n",
    "        for batch_idx, batch in enumerate(tqdm(dataloader)): \n",
    "            batch = {key: (item.to(args.device) if type(item) == torch.Tensor else item) for key, item in batch.items()}\n",
    "            a_embedding = model(batch['a_input_ids'], batch['a_attention_mask'])\n",
    "            a_sentence = batch['a_sentence']\n",
    "            input_list.extend(a_sentence)\n",
    "            embedding_result.append(a_embedding)\n",
    "    embedding_result = torch.cat(embedding_result, 0) \n",
    "    return embedding_result, input_list\n"
   ]
  },
  {
   "cell_type": "code",
   "execution_count": 165,
   "id": "badc0501-ee25-4441-b93e-e8eea853688a",
   "metadata": {
    "execution": {
     "iopub.execute_input": "2023-12-10T14:59:18.359233Z",
     "iopub.status.busy": "2023-12-10T14:59:18.358333Z",
     "iopub.status.idle": "2023-12-10T14:59:19.076728Z",
     "shell.execute_reply": "2023-12-10T14:59:19.075208Z",
     "shell.execute_reply.started": "2023-12-10T14:59:18.359157Z"
    },
    "tags": []
   },
   "outputs": [],
   "source": [
    "model = model.to(args.device)"
   ]
  },
  {
   "cell_type": "markdown",
   "id": "2e44a61a-aade-44ad-b376-33f540747d7f",
   "metadata": {},
   "source": [
    "# Set Dataloader and Dataset"
   ]
  },
  {
   "cell_type": "code",
   "execution_count": 89,
   "id": "77b04581-047d-4f3b-99b6-8919c17b0381",
   "metadata": {
    "execution": {
     "iopub.execute_input": "2023-12-10T14:46:41.420388Z",
     "iopub.status.busy": "2023-12-10T14:46:41.419841Z",
     "iopub.status.idle": "2023-12-10T14:46:41.506796Z",
     "shell.execute_reply": "2023-12-10T14:46:41.506095Z",
     "shell.execute_reply.started": "2023-12-10T14:46:41.420348Z"
    },
    "tags": []
   },
   "outputs": [],
   "source": [
    "intent_input = Testprocessor.preprocess(tokenizer = tokenizer , input_list = idx2intent_nm)"
   ]
  },
  {
   "cell_type": "code",
   "execution_count": 90,
   "id": "95c66f2f-7064-4af1-83b4-ec079a6c19b6",
   "metadata": {
    "execution": {
     "iopub.execute_input": "2023-12-10T14:46:41.930194Z",
     "iopub.status.busy": "2023-12-10T14:46:41.929383Z",
     "iopub.status.idle": "2023-12-10T14:46:42.567578Z",
     "shell.execute_reply": "2023-12-10T14:46:42.566842Z",
     "shell.execute_reply.started": "2023-12-10T14:46:41.930138Z"
    },
    "tags": []
   },
   "outputs": [],
   "source": [
    "sq_input = Testprocessor.preprocess(tokenizer = tokenizer ,input_list = service_queries)"
   ]
  },
  {
   "cell_type": "code",
   "execution_count": 91,
   "id": "281aa1f1-819e-4586-a0dc-b3a62eaccef4",
   "metadata": {
    "execution": {
     "iopub.execute_input": "2023-12-10T14:46:42.569758Z",
     "iopub.status.busy": "2023-12-10T14:46:42.569358Z",
     "iopub.status.idle": "2023-12-10T14:46:42.574004Z",
     "shell.execute_reply": "2023-12-10T14:46:42.573147Z",
     "shell.execute_reply.started": "2023-12-10T14:46:42.569732Z"
    },
    "tags": []
   },
   "outputs": [],
   "source": [
    "sqDataset = EmbeddingDataset(args=args, features=sq_input, max_length=args.model_max_len, tokenizer=tokenizer)"
   ]
  },
  {
   "cell_type": "code",
   "execution_count": 92,
   "id": "c040cf39-f732-440d-8bf7-9def1e646c4e",
   "metadata": {
    "execution": {
     "iopub.execute_input": "2023-12-10T14:46:42.575119Z",
     "iopub.status.busy": "2023-12-10T14:46:42.574859Z",
     "iopub.status.idle": "2023-12-10T14:46:42.586555Z",
     "shell.execute_reply": "2023-12-10T14:46:42.586002Z",
     "shell.execute_reply.started": "2023-12-10T14:46:42.575099Z"
    },
    "tags": []
   },
   "outputs": [],
   "source": [
    "intentDataset = EmbeddingDataset(args=args, features=intent_input, max_length=args.model_max_len, tokenizer=tokenizer)"
   ]
  },
  {
   "cell_type": "code",
   "execution_count": 93,
   "id": "1c6c6d82-0f6c-4aa5-99b4-c68683fee843",
   "metadata": {
    "execution": {
     "iopub.execute_input": "2023-12-10T14:46:42.588100Z",
     "iopub.status.busy": "2023-12-10T14:46:42.587906Z",
     "iopub.status.idle": "2023-12-10T14:46:42.599722Z",
     "shell.execute_reply": "2023-12-10T14:46:42.598880Z",
     "shell.execute_reply.started": "2023-12-10T14:46:42.588080Z"
    },
    "tags": []
   },
   "outputs": [],
   "source": [
    "intentDataloader = intentDataset.loader(\n",
    "            shuffle=False, batch_size=400 )"
   ]
  },
  {
   "cell_type": "code",
   "execution_count": 94,
   "id": "bb22780c-87d0-432d-8842-27acad56d295",
   "metadata": {
    "execution": {
     "iopub.execute_input": "2023-12-10T14:46:43.510045Z",
     "iopub.status.busy": "2023-12-10T14:46:43.509343Z",
     "iopub.status.idle": "2023-12-10T14:46:43.523671Z",
     "shell.execute_reply": "2023-12-10T14:46:43.522532Z",
     "shell.execute_reply.started": "2023-12-10T14:46:43.509990Z"
    },
    "tags": []
   },
   "outputs": [],
   "source": [
    "sqDataloader = sqDataset.loader(shuffle=False, batch_size=400 )"
   ]
  },
  {
   "cell_type": "markdown",
   "id": "ddf94671-ac3e-4f5c-b843-b29a089c84be",
   "metadata": {},
   "source": [
    "# Inference"
   ]
  },
  {
   "cell_type": "code",
   "execution_count": 138,
   "id": "f8a5439e-6eb7-4eab-87e8-85c09fa44319",
   "metadata": {
    "execution": {
     "iopub.execute_input": "2023-12-10T14:55:40.459818Z",
     "iopub.status.busy": "2023-12-10T14:55:40.459281Z",
     "iopub.status.idle": "2023-12-10T14:55:40.464420Z",
     "shell.execute_reply": "2023-12-10T14:55:40.463505Z",
     "shell.execute_reply.started": "2023-12-10T14:55:40.459785Z"
    },
    "tags": []
   },
   "outputs": [],
   "source": [
    "from tqdm.notebook import tqdm"
   ]
  },
  {
   "cell_type": "code",
   "execution_count": 166,
   "id": "9a573c65-bae7-4640-8547-941a8b48ada1",
   "metadata": {
    "execution": {
     "iopub.execute_input": "2023-12-10T14:59:21.426467Z",
     "iopub.status.busy": "2023-12-10T14:59:21.425580Z",
     "iopub.status.idle": "2023-12-10T14:59:32.636900Z",
     "shell.execute_reply": "2023-12-10T14:59:32.635651Z",
     "shell.execute_reply.started": "2023-12-10T14:59:21.426405Z"
    },
    "tags": []
   },
   "outputs": [
    {
     "data": {
      "application/vnd.jupyter.widget-view+json": {
       "model_id": "3efbe5a6c7d044e6b213fd366a84eae4",
       "version_major": 2,
       "version_minor": 0
      },
      "text/plain": [
       "  0%|          | 0/17 [00:00<?, ?it/s]"
      ]
     },
     "metadata": {},
     "output_type": "display_data"
    }
   ],
   "source": [
    "s_query_embedding, s_query_list = embedding(model=model, dataloader=sqDataloader)"
   ]
  },
  {
   "cell_type": "code",
   "execution_count": 167,
   "id": "7389ccc9-7ab3-47e1-93d5-1e6171dfd795",
   "metadata": {
    "execution": {
     "iopub.execute_input": "2023-12-10T14:59:32.639029Z",
     "iopub.status.busy": "2023-12-10T14:59:32.638805Z",
     "iopub.status.idle": "2023-12-10T14:59:34.487121Z",
     "shell.execute_reply": "2023-12-10T14:59:34.486127Z",
     "shell.execute_reply.started": "2023-12-10T14:59:32.639001Z"
    },
    "tags": []
   },
   "outputs": [
    {
     "data": {
      "application/vnd.jupyter.widget-view+json": {
       "model_id": "0607981a853c4326ae522964a7f5d1e7",
       "version_major": 2,
       "version_minor": 0
      },
      "text/plain": [
       "  0%|          | 0/5 [00:00<?, ?it/s]"
      ]
     },
     "metadata": {},
     "output_type": "display_data"
    }
   ],
   "source": [
    "intent_embedding, intent_list = embedding(model=model, dataloader=intentDataloader)"
   ]
  },
  {
   "cell_type": "markdown",
   "id": "04b77b7c-e4fa-409f-88c1-54a0eaa97670",
   "metadata": {},
   "source": [
    "# TOP K"
   ]
  },
  {
   "cell_type": "code",
   "execution_count": 168,
   "id": "3095dff1-5c72-4128-99a9-22813f00ab51",
   "metadata": {
    "execution": {
     "iopub.execute_input": "2023-12-10T14:59:34.488730Z",
     "iopub.status.busy": "2023-12-10T14:59:34.488332Z",
     "iopub.status.idle": "2023-12-10T14:59:34.493881Z",
     "shell.execute_reply": "2023-12-10T14:59:34.493157Z",
     "shell.execute_reply.started": "2023-12-10T14:59:34.488698Z"
    },
    "tags": []
   },
   "outputs": [],
   "source": [
    "import torch.nn.functional as F\n",
    "values, indices = torch.topk(F.normalize(s_query_embedding, dim =1) @ F.normalize(intent_embedding, dim=1).T, 3)"
   ]
  },
  {
   "cell_type": "code",
   "execution_count": 169,
   "id": "9f61d235-f740-406f-85e4-0a5b487c974f",
   "metadata": {
    "execution": {
     "iopub.execute_input": "2023-12-10T14:59:34.495542Z",
     "iopub.status.busy": "2023-12-10T14:59:34.495337Z",
     "iopub.status.idle": "2023-12-10T14:59:34.503664Z",
     "shell.execute_reply": "2023-12-10T14:59:34.503098Z",
     "shell.execute_reply.started": "2023-12-10T14:59:34.495521Z"
    },
    "tags": []
   },
   "outputs": [],
   "source": [
    "threshold = 0.4"
   ]
  },
  {
   "cell_type": "code",
   "execution_count": 170,
   "id": "85e49974-dfb4-4dd6-9174-221970d70d63",
   "metadata": {
    "execution": {
     "iopub.execute_input": "2023-12-10T14:59:34.505086Z",
     "iopub.status.busy": "2023-12-10T14:59:34.504787Z",
     "iopub.status.idle": "2023-12-10T14:59:34.516421Z",
     "shell.execute_reply": "2023-12-10T14:59:34.515850Z",
     "shell.execute_reply.started": "2023-12-10T14:59:34.505064Z"
    },
    "tags": []
   },
   "outputs": [],
   "source": [
    "values[values < threshold] = -1\n",
    "indices[values < threshold] = -1"
   ]
  },
  {
   "cell_type": "code",
   "execution_count": 171,
   "id": "bf2cbc17-dbb9-412f-8a4b-66a4ee7d7ab4",
   "metadata": {
    "execution": {
     "iopub.execute_input": "2023-12-10T14:59:34.517953Z",
     "iopub.status.busy": "2023-12-10T14:59:34.517638Z",
     "iopub.status.idle": "2023-12-10T14:59:34.526902Z",
     "shell.execute_reply": "2023-12-10T14:59:34.526353Z",
     "shell.execute_reply.started": "2023-12-10T14:59:34.517915Z"
    },
    "tags": []
   },
   "outputs": [],
   "source": [
    "indices = indices.cpu().numpy()"
   ]
  },
  {
   "cell_type": "code",
   "execution_count": 172,
   "id": "dea03703-fae9-4f28-8385-1b9f7c9547ae",
   "metadata": {
    "execution": {
     "iopub.execute_input": "2023-12-10T14:59:34.528275Z",
     "iopub.status.busy": "2023-12-10T14:59:34.527989Z",
     "iopub.status.idle": "2023-12-10T14:59:35.144300Z",
     "shell.execute_reply": "2023-12-10T14:59:35.142819Z",
     "shell.execute_reply.started": "2023-12-10T14:59:34.528256Z"
    },
    "tags": []
   },
   "outputs": [],
   "source": [
    "predict_dict = dict()\n",
    "for i in range(s_query_embedding.size()[0]):        \n",
    "    predict_dict[s_query_list[i]] = [(intent_list[indices[i, j]], round(values[i,j].cpu().item(), 3)) for j in range(3) if indices[i,j] != -1]\n",
    "\n",
    "predict_list = []\n",
    "for key, value in predict_dict.items():\n",
    "    query = key\n",
    "    for i in range(3 - len(value)):\n",
    "        value.append('')\n",
    "        \n",
    "    predict_list.append({'query': query, 'n_rank1': value[0], 'n_rank2': value[1], 'n_rank3': value[2]})\n",
    "            "
   ]
  },
  {
   "cell_type": "code",
   "execution_count": 173,
   "id": "921ee472-aaa8-4462-803f-7e804a68604d",
   "metadata": {
    "execution": {
     "iopub.execute_input": "2023-12-10T14:59:35.146899Z",
     "iopub.status.busy": "2023-12-10T14:59:35.146174Z",
     "iopub.status.idle": "2023-12-10T14:59:35.160383Z",
     "shell.execute_reply": "2023-12-10T14:59:35.159779Z",
     "shell.execute_reply.started": "2023-12-10T14:59:35.146839Z"
    },
    "tags": []
   },
   "outputs": [],
   "source": [
    "predict_pd = pd.DataFrame(predict_list)"
   ]
  },
  {
   "cell_type": "code",
   "execution_count": 174,
   "id": "34a50550-d083-4616-8b3a-41690f9179f9",
   "metadata": {
    "execution": {
     "iopub.execute_input": "2023-12-10T14:59:35.161912Z",
     "iopub.status.busy": "2023-12-10T14:59:35.161578Z",
     "iopub.status.idle": "2023-12-10T14:59:35.203918Z",
     "shell.execute_reply": "2023-12-10T14:59:35.202711Z",
     "shell.execute_reply.started": "2023-12-10T14:59:35.161891Z"
    },
    "tags": []
   },
   "outputs": [
    {
     "data": {
      "text/html": [
       "<div>\n",
       "<style scoped>\n",
       "    .dataframe tbody tr th:only-of-type {\n",
       "        vertical-align: middle;\n",
       "    }\n",
       "\n",
       "    .dataframe tbody tr th {\n",
       "        vertical-align: top;\n",
       "    }\n",
       "\n",
       "    .dataframe thead th {\n",
       "        text-align: right;\n",
       "    }\n",
       "</style>\n",
       "<table border=\"1\" class=\"dataframe\">\n",
       "  <thead>\n",
       "    <tr style=\"text-align: right;\">\n",
       "      <th></th>\n",
       "      <th>query</th>\n",
       "      <th>n_rank1</th>\n",
       "      <th>n_rank2</th>\n",
       "      <th>n_rank3</th>\n",
       "    </tr>\n",
       "  </thead>\n",
       "  <tbody>\n",
       "    <tr>\n",
       "      <th>0</th>\n",
       "      <td>미납요금 납부 가능일 문의</td>\n",
       "      <td>(요금 납부일 확인 방법, 0.779)</td>\n",
       "      <td>(요금 납부일 변경 방법, 0.606)</td>\n",
       "      <td>(요금 수납 내역 확인 방법, 0.602)</td>\n",
       "    </tr>\n",
       "    <tr>\n",
       "      <th>1</th>\n",
       "      <td>미납 문의할게</td>\n",
       "      <td>(SKT 미납센터 연락처, 0.776)</td>\n",
       "      <td>(가산금, 0.701)</td>\n",
       "      <td>(과납, 0.673)</td>\n",
       "    </tr>\n",
       "    <tr>\n",
       "      <th>2</th>\n",
       "      <td>미납문의할게</td>\n",
       "      <td>(SKT 미납센터 연락처, 0.788)</td>\n",
       "      <td>(가산금, 0.696)</td>\n",
       "      <td>(과납, 0.653)</td>\n",
       "    </tr>\n",
       "    <tr>\n",
       "      <th>3</th>\n",
       "      <td>데이터 자동선물 신청할래</td>\n",
       "      <td>(가족 간 데이터 자동 선물하기, 0.701)</td>\n",
       "      <td>(가족 간 데이터 자동 선물 발송 시점, 0.547)</td>\n",
       "      <td>(T끼리 데이터 선물 조르기 방법, 0.487)</td>\n",
       "    </tr>\n",
       "    <tr>\n",
       "      <th>4</th>\n",
       "      <td>로밍 요금제 한눈에 보기</td>\n",
       "      <td>(로밍 요금 확인 시점, 0.562)</td>\n",
       "      <td>(T로밍 Biz 요금제, 0.473)</td>\n",
       "      <td>(B tv 요금제, 0.41)</td>\n",
       "    </tr>\n",
       "    <tr>\n",
       "      <th>5</th>\n",
       "      <td>음성 잔여량 알려줘</td>\n",
       "      <td>(일자별 잔여통화안내, 0.614)</td>\n",
       "      <td>(일자별 잔여통화안내 신청 방법, 0.507)</td>\n",
       "      <td>(baro 요금제 잔여량 확인, 0.5)</td>\n",
       "    </tr>\n",
       "    <tr>\n",
       "      <th>6</th>\n",
       "      <td>요금 조회해줘</td>\n",
       "      <td>(실시간 요금 상세 내역, 0.721)</td>\n",
       "      <td>(요금제문의, 0.694)</td>\n",
       "      <td>(자녀 요금 조회 방법, 0.495)</td>\n",
       "    </tr>\n",
       "    <tr>\n",
       "      <th>7</th>\n",
       "      <td>콘텐츠 이용료 알려줘</td>\n",
       "      <td>(콘텐츠 이용료 가능 대상, 0.551)</td>\n",
       "      <td>(콘텐츠 이용료 구매내역 확인 방법, 0.543)</td>\n",
       "      <td>(애플 콘텐츠 이용료, 0.451)</td>\n",
       "    </tr>\n",
       "    <tr>\n",
       "      <th>8</th>\n",
       "      <td>미납요금</td>\n",
       "      <td>(SKT 미납센터 연락처, 0.758)</td>\n",
       "      <td>(미납 이용정지, 0.697)</td>\n",
       "      <td>(가산금, 0.688)</td>\n",
       "    </tr>\n",
       "    <tr>\n",
       "      <th>9</th>\n",
       "      <td>OnePass500 기간형</td>\n",
       "      <td>(원패스 VIP 기간형, 0.752)</td>\n",
       "      <td>(원패스 기준 시간, 0.403)</td>\n",
       "      <td></td>\n",
       "    </tr>\n",
       "    <tr>\n",
       "      <th>10</th>\n",
       "      <td>OnePass500 기본형</td>\n",
       "      <td>(원패스 VIP 기본형, 0.829)</td>\n",
       "      <td>(표준 요금제, 0.527)</td>\n",
       "      <td>(베이직, 0.493)</td>\n",
       "    </tr>\n",
       "    <tr>\n",
       "      <th>11</th>\n",
       "      <td>상담사</td>\n",
       "      <td>(전화 상담사 연결, 0.859)</td>\n",
       "      <td>(SK텔레콤 고객센터 운영 시간, 0.663)</td>\n",
       "      <td>(타 통신사 고객센터, 0.465)</td>\n",
       "    </tr>\n",
       "    <tr>\n",
       "      <th>12</th>\n",
       "      <td>선물받은 쿠폰 사용할래</td>\n",
       "      <td>(T끼리 데이터 선물하기 받은 데이터 사용 방법, 0.657)</td>\n",
       "      <td>(데이터 리필하기 선물 받은 리필 쿠폰 소멸, 0.522)</td>\n",
       "      <td></td>\n",
       "    </tr>\n",
       "    <tr>\n",
       "      <th>13</th>\n",
       "      <td>상담원</td>\n",
       "      <td>(전화 상담사 연결, 0.811)</td>\n",
       "      <td>(SK텔레콤 고객센터 운영 시간, 0.68)</td>\n",
       "      <td>(타 통신사 고객센터, 0.552)</td>\n",
       "    </tr>\n",
       "    <tr>\n",
       "      <th>14</th>\n",
       "      <td>휴대폰결제</td>\n",
       "      <td>(결제 관련, 0.748)</td>\n",
       "      <td>(휴대폰결제 이용동의 신청 방법, 0.649)</td>\n",
       "      <td>(휴대폰 결제 이용가능 대상, 0.649)</td>\n",
       "    </tr>\n",
       "    <tr>\n",
       "      <th>15</th>\n",
       "      <td>콘텐츠 이용료 한도 변경 방법 알려줘</td>\n",
       "      <td>(애플 콘텐츠 이용료 결제 이용 한도, 0.554)</td>\n",
       "      <td>(060정보료한도제 신청 방법, 0.426)</td>\n",
       "      <td>(휴대폰결제 이용 제한 해제 방법, 0.426)</td>\n",
       "    </tr>\n",
       "    <tr>\n",
       "      <th>16</th>\n",
       "      <td>요금조회</td>\n",
       "      <td>(실시간 요금 상세 내역, 0.69)</td>\n",
       "      <td>(요금제문의, 0.623)</td>\n",
       "      <td>(조회 관련, 0.468)</td>\n",
       "    </tr>\n",
       "    <tr>\n",
       "      <th>17</th>\n",
       "      <td>로밍 안내 방송 서비스</td>\n",
       "      <td>(자동안심 T로밍 음성, 0.465)</td>\n",
       "      <td>(T로밍 고객센터, 0.453)</td>\n",
       "      <td>(국제전화 알림 Biz 레터링, 0.448)</td>\n",
       "    </tr>\n",
       "    <tr>\n",
       "      <th>18</th>\n",
       "      <td>데이터 로밍 차단해줘</td>\n",
       "      <td>(데이터 로밍 차단 해지, 0.757)</td>\n",
       "      <td>(데이터 로밍 차단 시 통화 문자 이용, 0.7)</td>\n",
       "      <td>(데이터 로밍 차단 시 Wi-Fi 이용, 0.679)</td>\n",
       "    </tr>\n",
       "    <tr>\n",
       "      <th>19</th>\n",
       "      <td>장기가입 쿠폰 사용할래</td>\n",
       "      <td>(장기가입고객 할인제도, 0.608)</td>\n",
       "      <td>(T쿠폰 등록 방법, 0.434)</td>\n",
       "      <td>(데이터 리필하기 쿠폰 유효기간, 0.422)</td>\n",
       "    </tr>\n",
       "    <tr>\n",
       "      <th>20</th>\n",
       "      <td>실시간요금</td>\n",
       "      <td>(실시간 요금 상세 내역, 0.843)</td>\n",
       "      <td>(요금제문의, 0.508)</td>\n",
       "      <td>(최근 사용량 확인 방법, 0.412)</td>\n",
       "    </tr>\n",
       "    <tr>\n",
       "      <th>21</th>\n",
       "      <td>납부가능일 등록</td>\n",
       "      <td>(요금 납부일 변경 방법, 0.788)</td>\n",
       "      <td>(요금 납부일 확인 방법, 0.768)</td>\n",
       "      <td>(유선 요금 납부일 변경 방법, 0.489)</td>\n",
       "    </tr>\n",
       "    <tr>\n",
       "      <th>22</th>\n",
       "      <td>미납문의</td>\n",
       "      <td>(SKT 미납센터 연락처, 0.798)</td>\n",
       "      <td>(가산금, 0.693)</td>\n",
       "      <td>(미납 이용정지, 0.669)</td>\n",
       "    </tr>\n",
       "    <tr>\n",
       "      <th>23</th>\n",
       "      <td>약정할인</td>\n",
       "      <td>(요금약정 할인제도, 0.69)</td>\n",
       "      <td>(T지원금 약정, 0.569)</td>\n",
       "      <td>(데이터결합약정할인, 0.493)</td>\n",
       "    </tr>\n",
       "    <tr>\n",
       "      <th>24</th>\n",
       "      <td>휴대폰결제대행사연락처</td>\n",
       "      <td>(휴대폰 결제 대행사 연락처, 0.813)</td>\n",
       "      <td>(구글 Play 스토어 고객센터, 0.46)</td>\n",
       "      <td>(SK pay 고객센터, 0.446)</td>\n",
       "    </tr>\n",
       "    <tr>\n",
       "      <th>25</th>\n",
       "      <td>청구서</td>\n",
       "      <td>(요금안내서 변경 방법, 0.782)</td>\n",
       "      <td>(요금안내서 재발행 방법, 0.614)</td>\n",
       "      <td>(요금안내서 발행유형 자동 변경 해제 방법, 0.581)</td>\n",
       "    </tr>\n",
       "    <tr>\n",
       "      <th>26</th>\n",
       "      <td>청구서문자</td>\n",
       "      <td>(요금안내서 변경 방법, 0.68)</td>\n",
       "      <td>(MMS, 0.605)</td>\n",
       "      <td>(메시지 관련, 0.591)</td>\n",
       "    </tr>\n",
       "    <tr>\n",
       "      <th>27</th>\n",
       "      <td>납부가능일등록</td>\n",
       "      <td>(요금 납부일 확인 방법, 0.855)</td>\n",
       "      <td>(요금 납부일 변경 방법, 0.784)</td>\n",
       "      <td>(유선 요금 납부일 변경 방법, 0.489)</td>\n",
       "    </tr>\n",
       "    <tr>\n",
       "      <th>28</th>\n",
       "      <td>남은 약정 기간</td>\n",
       "      <td>(단말기 잔여 할부 조회 방법, 0.597)</td>\n",
       "      <td>(연장 관련, 0.48)</td>\n",
       "      <td>(예상 해지 금액, 0.414)</td>\n",
       "    </tr>\n",
       "    <tr>\n",
       "      <th>29</th>\n",
       "      <td>선택약정 연장</td>\n",
       "      <td>(선택약정 할인제도 약정 기간 변경, 0.607)</td>\n",
       "      <td>(연장 관련, 0.467)</td>\n",
       "      <td>(선택약정 할인제도 만료 SMS 발송 시기, 0.464)</td>\n",
       "    </tr>\n",
       "    <tr>\n",
       "      <th>30</th>\n",
       "      <td>휴대폰결제 대행사 연락처</td>\n",
       "      <td>(휴대폰 결제 대행사 연락처, 0.969)</td>\n",
       "      <td></td>\n",
       "      <td></td>\n",
       "    </tr>\n",
       "    <tr>\n",
       "      <th>31</th>\n",
       "      <td>데이터 잔여량</td>\n",
       "      <td>(데이터 추가 사용 방법, 0.647)</td>\n",
       "      <td>(데이터 문의 관련, 0.636)</td>\n",
       "      <td>(일자별 잔여통화안내, 0.63)</td>\n",
       "    </tr>\n",
       "    <tr>\n",
       "      <th>32</th>\n",
       "      <td>요금 조회</td>\n",
       "      <td>(실시간 요금 상세 내역, 0.567)</td>\n",
       "      <td>(요금제문의, 0.489)</td>\n",
       "      <td>(조회 관련, 0.462)</td>\n",
       "    </tr>\n",
       "    <tr>\n",
       "      <th>33</th>\n",
       "      <td>상담할래</td>\n",
       "      <td>(채티 서비스, 0.717)</td>\n",
       "      <td>(전화 상담사 연결, 0.537)</td>\n",
       "      <td>(데이터 문의 관련, 0.51)</td>\n",
       "    </tr>\n",
       "    <tr>\n",
       "      <th>34</th>\n",
       "      <td>약정재가입</td>\n",
       "      <td>(선택약정 할인제도 재가입 조건, 0.607)</td>\n",
       "      <td>(번호이동 제도, 0.433)</td>\n",
       "      <td>(연장 관련, 0.417)</td>\n",
       "    </tr>\n",
       "    <tr>\n",
       "      <th>35</th>\n",
       "      <td>내입금전용계좌</td>\n",
       "      <td></td>\n",
       "      <td></td>\n",
       "      <td></td>\n",
       "    </tr>\n",
       "    <tr>\n",
       "      <th>36</th>\n",
       "      <td>실시간</td>\n",
       "      <td>(실시간 요금 상세 내역, 0.598)</td>\n",
       "      <td>(최근 사용량 확인 방법, 0.457)</td>\n",
       "      <td>(데이터 문의 관련, 0.446)</td>\n",
       "    </tr>\n",
       "    <tr>\n",
       "      <th>37</th>\n",
       "      <td>로밍 안내 방송 서비스 가입</td>\n",
       "      <td>(T로밍 고객센터, 0.474)</td>\n",
       "      <td>(T로밍 도착알리미, 0.433)</td>\n",
       "      <td>(자동안심 T로밍 음성, 0.411)</td>\n",
       "    </tr>\n",
       "    <tr>\n",
       "      <th>38</th>\n",
       "      <td>아리아</td>\n",
       "      <td>(T전화 음성명령 사용 방법, 0.556)</td>\n",
       "      <td>(NUGU 서비스, 0.531)</td>\n",
       "      <td>(NUGU 서비스 음성 인식 기능, 0.461)</td>\n",
       "    </tr>\n",
       "    <tr>\n",
       "      <th>39</th>\n",
       "      <td>사이판</td>\n",
       "      <td>(T괌사이판 옵션 변경, 0.564)</td>\n",
       "      <td>(T괌사이판 요금제 잔여량 확인, 0.506)</td>\n",
       "      <td></td>\n",
       "    </tr>\n",
       "    <tr>\n",
       "      <th>40</th>\n",
       "      <td>11월요금</td>\n",
       "      <td></td>\n",
       "      <td></td>\n",
       "      <td></td>\n",
       "    </tr>\n",
       "    <tr>\n",
       "      <th>41</th>\n",
       "      <td>납부 가능일 등록</td>\n",
       "      <td>(요금 납부일 변경 방법, 0.804)</td>\n",
       "      <td>(요금 납부일 확인 방법, 0.784)</td>\n",
       "      <td>(유선 요금 납부일 변경 방법, 0.498)</td>\n",
       "    </tr>\n",
       "    <tr>\n",
       "      <th>42</th>\n",
       "      <td>청구요금</td>\n",
       "      <td>(실시간 요금 상세 내역, 0.575)</td>\n",
       "      <td>(요금 납부일 확인 방법, 0.523)</td>\n",
       "      <td>(요금제문의, 0.507)</td>\n",
       "    </tr>\n",
       "    <tr>\n",
       "      <th>43</th>\n",
       "      <td>휴대폰 결제</td>\n",
       "      <td>(결제 관련, 0.8)</td>\n",
       "      <td>(휴대폰 결제 이용가능 대상, 0.642)</td>\n",
       "      <td>(법인 휴대폰 결제, 0.603)</td>\n",
       "    </tr>\n",
       "    <tr>\n",
       "      <th>44</th>\n",
       "      <td>재약정</td>\n",
       "      <td>(선택약정 할인제도 재가입 조건, 0.544)</td>\n",
       "      <td></td>\n",
       "      <td></td>\n",
       "    </tr>\n",
       "    <tr>\n",
       "      <th>45</th>\n",
       "      <td>이동전화 가입</td>\n",
       "      <td>(이동전화 가입 (타사), 0.808)</td>\n",
       "      <td>(신규가입 구비서류, 0.614)</td>\n",
       "      <td>(번호이동 제도, 0.556)</td>\n",
       "    </tr>\n",
       "    <tr>\n",
       "      <th>46</th>\n",
       "      <td>가상계좌보내주세요</td>\n",
       "      <td>(채팅플러스 계좌 송금 서비스, 0.423)</td>\n",
       "      <td></td>\n",
       "      <td></td>\n",
       "    </tr>\n",
       "    <tr>\n",
       "      <th>47</th>\n",
       "      <td>국제전화</td>\n",
       "      <td>(국제전화 알림 Biz 레터링, 0.64)</td>\n",
       "      <td>(국제전화 사업자 선택, 0.575)</td>\n",
       "      <td>(국제전화 발신 금지, 0.504)</td>\n",
       "    </tr>\n",
       "    <tr>\n",
       "      <th>48</th>\n",
       "      <td>약정할인신청</td>\n",
       "      <td></td>\n",
       "      <td></td>\n",
       "      <td></td>\n",
       "    </tr>\n",
       "    <tr>\n",
       "      <th>49</th>\n",
       "      <td>납부방법</td>\n",
       "      <td>(요금 수납 내역 확인 방법, 0.632)</td>\n",
       "      <td>(요금 부분 납부 방법, 0.621)</td>\n",
       "      <td>(단말기 할부금 중도 납부 방법, 0.608)</td>\n",
       "    </tr>\n",
       "  </tbody>\n",
       "</table>\n",
       "</div>"
      ],
      "text/plain": [
       "                   query                             n_rank1  \\\n",
       "0         미납요금 납부 가능일 문의               (요금 납부일 확인 방법, 0.779)   \n",
       "1                미납 문의할게               (SKT 미납센터 연락처, 0.776)   \n",
       "2                 미납문의할게               (SKT 미납센터 연락처, 0.788)   \n",
       "3          데이터 자동선물 신청할래           (가족 간 데이터 자동 선물하기, 0.701)   \n",
       "4          로밍 요금제 한눈에 보기                (로밍 요금 확인 시점, 0.562)   \n",
       "5             음성 잔여량 알려줘                 (일자별 잔여통화안내, 0.614)   \n",
       "6                요금 조회해줘               (실시간 요금 상세 내역, 0.721)   \n",
       "7            콘텐츠 이용료 알려줘              (콘텐츠 이용료 가능 대상, 0.551)   \n",
       "8                   미납요금               (SKT 미납센터 연락처, 0.758)   \n",
       "9         OnePass500 기간형                (원패스 VIP 기간형, 0.752)   \n",
       "10        OnePass500 기본형                (원패스 VIP 기본형, 0.829)   \n",
       "11                   상담사                  (전화 상담사 연결, 0.859)   \n",
       "12          선물받은 쿠폰 사용할래  (T끼리 데이터 선물하기 받은 데이터 사용 방법, 0.657)   \n",
       "13                   상담원                  (전화 상담사 연결, 0.811)   \n",
       "14                 휴대폰결제                      (결제 관련, 0.748)   \n",
       "15  콘텐츠 이용료 한도 변경 방법 알려줘        (애플 콘텐츠 이용료 결제 이용 한도, 0.554)   \n",
       "16                  요금조회                (실시간 요금 상세 내역, 0.69)   \n",
       "17          로밍 안내 방송 서비스                (자동안심 T로밍 음성, 0.465)   \n",
       "18           데이터 로밍 차단해줘               (데이터 로밍 차단 해지, 0.757)   \n",
       "19          장기가입 쿠폰 사용할래                (장기가입고객 할인제도, 0.608)   \n",
       "20                 실시간요금               (실시간 요금 상세 내역, 0.843)   \n",
       "21              납부가능일 등록               (요금 납부일 변경 방법, 0.788)   \n",
       "22                  미납문의               (SKT 미납센터 연락처, 0.798)   \n",
       "23                  약정할인                   (요금약정 할인제도, 0.69)   \n",
       "24           휴대폰결제대행사연락처             (휴대폰 결제 대행사 연락처, 0.813)   \n",
       "25                   청구서                (요금안내서 변경 방법, 0.782)   \n",
       "26                 청구서문자                 (요금안내서 변경 방법, 0.68)   \n",
       "27               납부가능일등록               (요금 납부일 확인 방법, 0.855)   \n",
       "28              남은 약정 기간            (단말기 잔여 할부 조회 방법, 0.597)   \n",
       "29               선택약정 연장         (선택약정 할인제도 약정 기간 변경, 0.607)   \n",
       "30         휴대폰결제 대행사 연락처             (휴대폰 결제 대행사 연락처, 0.969)   \n",
       "31               데이터 잔여량               (데이터 추가 사용 방법, 0.647)   \n",
       "32                 요금 조회               (실시간 요금 상세 내역, 0.567)   \n",
       "33                  상담할래                     (채티 서비스, 0.717)   \n",
       "34                 약정재가입           (선택약정 할인제도 재가입 조건, 0.607)   \n",
       "35               내입금전용계좌                                       \n",
       "36                   실시간               (실시간 요금 상세 내역, 0.598)   \n",
       "37       로밍 안내 방송 서비스 가입                   (T로밍 고객센터, 0.474)   \n",
       "38                   아리아             (T전화 음성명령 사용 방법, 0.556)   \n",
       "39                   사이판                (T괌사이판 옵션 변경, 0.564)   \n",
       "40                 11월요금                                       \n",
       "41             납부 가능일 등록               (요금 납부일 변경 방법, 0.804)   \n",
       "42                  청구요금               (실시간 요금 상세 내역, 0.575)   \n",
       "43                휴대폰 결제                        (결제 관련, 0.8)   \n",
       "44                   재약정           (선택약정 할인제도 재가입 조건, 0.544)   \n",
       "45               이동전화 가입               (이동전화 가입 (타사), 0.808)   \n",
       "46             가상계좌보내주세요            (채팅플러스 계좌 송금 서비스, 0.423)   \n",
       "47                  국제전화             (국제전화 알림 Biz 레터링, 0.64)   \n",
       "48                약정할인신청                                       \n",
       "49                  납부방법             (요금 수납 내역 확인 방법, 0.632)   \n",
       "\n",
       "                             n_rank2                          n_rank3  \n",
       "0              (요금 납부일 변경 방법, 0.606)          (요금 수납 내역 확인 방법, 0.602)  \n",
       "1                       (가산금, 0.701)                      (과납, 0.673)  \n",
       "2                       (가산금, 0.696)                      (과납, 0.653)  \n",
       "3      (가족 간 데이터 자동 선물 발송 시점, 0.547)       (T끼리 데이터 선물 조르기 방법, 0.487)  \n",
       "4               (T로밍 Biz 요금제, 0.473)                 (B tv 요금제, 0.41)  \n",
       "5          (일자별 잔여통화안내 신청 방법, 0.507)           (baro 요금제 잔여량 확인, 0.5)  \n",
       "6                     (요금제문의, 0.694)             (자녀 요금 조회 방법, 0.495)  \n",
       "7        (콘텐츠 이용료 구매내역 확인 방법, 0.543)              (애플 콘텐츠 이용료, 0.451)  \n",
       "8                   (미납 이용정지, 0.697)                     (가산금, 0.688)  \n",
       "9                 (원패스 기준 시간, 0.403)                                   \n",
       "10                   (표준 요금제, 0.527)                     (베이직, 0.493)  \n",
       "11         (SK텔레콤 고객센터 운영 시간, 0.663)              (타 통신사 고객센터, 0.465)  \n",
       "12  (데이터 리필하기 선물 받은 리필 쿠폰 소멸, 0.522)                                   \n",
       "13          (SK텔레콤 고객센터 운영 시간, 0.68)              (타 통신사 고객센터, 0.552)  \n",
       "14         (휴대폰결제 이용동의 신청 방법, 0.649)          (휴대폰 결제 이용가능 대상, 0.649)  \n",
       "15          (060정보료한도제 신청 방법, 0.426)       (휴대폰결제 이용 제한 해제 방법, 0.426)  \n",
       "16                    (요금제문의, 0.623)                   (조회 관련, 0.468)  \n",
       "17                 (T로밍 고객센터, 0.453)         (국제전화 알림 Biz 레터링, 0.448)  \n",
       "18       (데이터 로밍 차단 시 통화 문자 이용, 0.7)    (데이터 로밍 차단 시 Wi-Fi 이용, 0.679)  \n",
       "19                (T쿠폰 등록 방법, 0.434)        (데이터 리필하기 쿠폰 유효기간, 0.422)  \n",
       "20                    (요금제문의, 0.508)            (최근 사용량 확인 방법, 0.412)  \n",
       "21             (요금 납부일 확인 방법, 0.768)         (유선 요금 납부일 변경 방법, 0.489)  \n",
       "22                      (가산금, 0.693)                 (미납 이용정지, 0.669)  \n",
       "23                  (T지원금 약정, 0.569)               (데이터결합약정할인, 0.493)  \n",
       "24          (구글 Play 스토어 고객센터, 0.46)             (SK pay 고객센터, 0.446)  \n",
       "25             (요금안내서 재발행 방법, 0.614)  (요금안내서 발행유형 자동 변경 해제 방법, 0.581)  \n",
       "26                      (MMS, 0.605)                  (메시지 관련, 0.591)  \n",
       "27             (요금 납부일 변경 방법, 0.784)         (유선 요금 납부일 변경 방법, 0.489)  \n",
       "28                     (연장 관련, 0.48)                (예상 해지 금액, 0.414)  \n",
       "29                    (연장 관련, 0.467)  (선택약정 할인제도 만료 SMS 발송 시기, 0.464)  \n",
       "30                                                                     \n",
       "31                (데이터 문의 관련, 0.636)               (일자별 잔여통화안내, 0.63)  \n",
       "32                    (요금제문의, 0.489)                   (조회 관련, 0.462)  \n",
       "33                (전화 상담사 연결, 0.537)                (데이터 문의 관련, 0.51)  \n",
       "34                  (번호이동 제도, 0.433)                   (연장 관련, 0.417)  \n",
       "35                                                                     \n",
       "36             (최근 사용량 확인 방법, 0.457)               (데이터 문의 관련, 0.446)  \n",
       "37                (T로밍 도착알리미, 0.433)             (자동안심 T로밍 음성, 0.411)  \n",
       "38                 (NUGU 서비스, 0.531)       (NUGU 서비스 음성 인식 기능, 0.461)  \n",
       "39         (T괌사이판 요금제 잔여량 확인, 0.506)                                   \n",
       "40                                                                     \n",
       "41             (요금 납부일 확인 방법, 0.784)         (유선 요금 납부일 변경 방법, 0.498)  \n",
       "42             (요금 납부일 확인 방법, 0.523)                   (요금제문의, 0.507)  \n",
       "43           (휴대폰 결제 이용가능 대상, 0.642)               (법인 휴대폰 결제, 0.603)  \n",
       "44                                                                     \n",
       "45                (신규가입 구비서류, 0.614)                 (번호이동 제도, 0.556)  \n",
       "46                                                                     \n",
       "47              (국제전화 사업자 선택, 0.575)              (국제전화 발신 금지, 0.504)  \n",
       "48                                                                     \n",
       "49              (요금 부분 납부 방법, 0.621)        (단말기 할부금 중도 납부 방법, 0.608)  "
      ]
     },
     "execution_count": 174,
     "metadata": {},
     "output_type": "execute_result"
    }
   ],
   "source": [
    "predict_pd.head(50)"
   ]
  },
  {
   "cell_type": "code",
   "execution_count": 175,
   "id": "0afb7616-6745-4596-a963-861d3e8e04a5",
   "metadata": {
    "execution": {
     "iopub.execute_input": "2023-12-10T15:00:03.726206Z",
     "iopub.status.busy": "2023-12-10T15:00:03.725757Z",
     "iopub.status.idle": "2023-12-10T15:00:03.777510Z",
     "shell.execute_reply": "2023-12-10T15:00:03.776799Z",
     "shell.execute_reply.started": "2023-12-10T15:00:03.726177Z"
    },
    "tags": []
   },
   "outputs": [],
   "source": [
    "predict_pd.to_csv('../data/result_triple_triple-large.csv', index=False, encoding='utf-8-sig')"
   ]
  },
  {
   "cell_type": "markdown",
   "id": "014ab5ea-1495-4e3a-a74e-6554205d3197",
   "metadata": {},
   "source": [
    "# join and sampling"
   ]
  },
  {
   "cell_type": "code",
   "execution_count": null,
   "id": "66b6a94b-b898-4d05-b8ea-2931ad4aea80",
   "metadata": {},
   "outputs": [],
   "source": [
    "weighted_sample = predict_pd.sample(n=1100, weights=\"count\")"
   ]
  }
 ],
 "metadata": {
  "kernelspec": {
   "display_name": "Python 3 (ipykernel)",
   "language": "python",
   "name": "python3"
  },
  "language_info": {
   "codemirror_mode": {
    "name": "ipython",
    "version": 3
   },
   "file_extension": ".py",
   "mimetype": "text/x-python",
   "name": "python",
   "nbconvert_exporter": "python",
   "pygments_lexer": "ipython3",
   "version": "3.8.10"
  }
 },
 "nbformat": 4,
 "nbformat_minor": 5
}
