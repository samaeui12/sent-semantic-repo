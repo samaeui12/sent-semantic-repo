{
 "cells": [
  {
   "cell_type": "code",
   "execution_count": 2,
   "id": "29090836-5ac1-454d-9643-11399a2706ce",
   "metadata": {
    "execution": {
     "iopub.execute_input": "2023-11-15T05:30:32.856555Z",
     "iopub.status.busy": "2023-11-15T05:30:32.855900Z",
     "iopub.status.idle": "2023-11-15T05:30:39.721237Z",
     "shell.execute_reply": "2023-11-15T05:30:39.720389Z",
     "shell.execute_reply.started": "2023-11-15T05:30:32.856507Z"
    }
   },
   "outputs": [],
   "source": [
    "from sentence_transformers import SentenceTransformer\n",
    "import torch\n",
    "from transformers import (\n",
    "    AdamW,\n",
    "    AutoModel,\n",
    "    get_linear_schedule_with_warmup,\n",
    "    AutoTokenizer,\n",
    "    AutoConfig\n",
    ")"
   ]
  },
  {
   "cell_type": "code",
   "execution_count": 3,
   "id": "ca76bc66-76b8-4693-89c8-de4dd881d86e",
   "metadata": {
    "execution": {
     "iopub.execute_input": "2023-11-15T05:30:41.364763Z",
     "iopub.status.busy": "2023-11-15T05:30:41.363705Z",
     "iopub.status.idle": "2023-11-15T05:30:41.418558Z",
     "shell.execute_reply": "2023-11-15T05:30:41.417335Z",
     "shell.execute_reply.started": "2023-11-15T05:30:41.364708Z"
    }
   },
   "outputs": [],
   "source": [
    "from skt.vault_utils import get_secrets\n",
    "proxies = get_secrets('proxies')"
   ]
  },
  {
   "cell_type": "code",
   "execution_count": 21,
   "id": "05712e04-2ebe-4d04-936d-bf6aa7def77c",
   "metadata": {
    "execution": {
     "iopub.execute_input": "2023-11-15T05:36:07.656240Z",
     "iopub.status.busy": "2023-11-15T05:36:07.655495Z",
     "iopub.status.idle": "2023-11-15T05:36:07.662810Z",
     "shell.execute_reply": "2023-11-15T05:36:07.661550Z",
     "shell.execute_reply.started": "2023-11-15T05:36:07.656190Z"
    }
   },
   "outputs": [],
   "source": [
    "import os \n",
    "import numpy as np\n",
    "os.environ['http_proxy'] = proxies['http']\n",
    "os.environ['https_proxy'] = proxies['https']"
   ]
  },
  {
   "cell_type": "code",
   "execution_count": 5,
   "id": "ec8d81ab-2743-4397-a2c3-ac210a095710",
   "metadata": {
    "execution": {
     "iopub.execute_input": "2023-11-15T05:30:41.661518Z",
     "iopub.status.busy": "2023-11-15T05:30:41.660934Z",
     "iopub.status.idle": "2023-11-15T05:30:56.269227Z",
     "shell.execute_reply": "2023-11-15T05:30:56.267829Z",
     "shell.execute_reply.started": "2023-11-15T05:30:41.661474Z"
    }
   },
   "outputs": [],
   "source": [
    "model = SentenceTransformer('jhlee3421/faq-semantic-klue-roberta-large', device='cuda')"
   ]
  },
  {
   "cell_type": "markdown",
   "id": "2b1098a2-5d42-4630-8c08-7a55f218e7e0",
   "metadata": {},
   "source": [
    "# load data"
   ]
  },
  {
   "cell_type": "code",
   "execution_count": 6,
   "id": "fcaf299f-1f26-4af2-a877-cb1ef7d0f382",
   "metadata": {
    "execution": {
     "iopub.execute_input": "2023-11-15T05:30:56.272269Z",
     "iopub.status.busy": "2023-11-15T05:30:56.271571Z",
     "iopub.status.idle": "2023-11-15T05:31:12.857411Z",
     "shell.execute_reply": "2023-11-15T05:31:12.855965Z",
     "shell.execute_reply.started": "2023-11-15T05:30:56.272216Z"
    }
   },
   "outputs": [],
   "source": [
    "from skt.gcp import load_bigquery_ipython_magic, \\\n",
    "                    bq_to_pandas, \\\n",
    "                    get_bigquery_client"
   ]
  },
  {
   "cell_type": "code",
   "execution_count": 7,
   "id": "da066a6c-f8bf-48fd-97bf-6403ff6577ef",
   "metadata": {
    "execution": {
     "iopub.execute_input": "2023-11-15T05:31:12.860783Z",
     "iopub.status.busy": "2023-11-15T05:31:12.859920Z",
     "iopub.status.idle": "2023-11-15T05:31:12.866694Z",
     "shell.execute_reply": "2023-11-15T05:31:12.865568Z",
     "shell.execute_reply.started": "2023-11-15T05:31:12.860732Z"
    }
   },
   "outputs": [],
   "source": [
    "dataset = 'x1112436'\n",
    "log_table = 'faq_table'\n",
    "query = f\"\"\"\n",
    "        SELECT  qry_txt_cont,\n",
    "                intent_nm,\n",
    "                ans_cont,\n",
    "                type\n",
    "        FROM `skt-datahub.{dataset}.{log_table}`  AS a\n",
    "        WHERE type = 'faq'\n",
    "    \"\"\""
   ]
  },
  {
   "cell_type": "code",
   "execution_count": 8,
   "id": "e26bc93d-f0e7-4128-a6d1-c4476fb1d350",
   "metadata": {
    "execution": {
     "iopub.execute_input": "2023-11-15T05:31:12.868655Z",
     "iopub.status.busy": "2023-11-15T05:31:12.868178Z",
     "iopub.status.idle": "2023-11-15T05:31:17.816196Z",
     "shell.execute_reply": "2023-11-15T05:31:17.815045Z",
     "shell.execute_reply.started": "2023-11-15T05:31:12.868632Z"
    }
   },
   "outputs": [
    {
     "name": "stdout",
     "output_type": "stream",
     "text": [
      "Warning: exception on print statistics\n",
      "unsupported operand type(s) for /: 'NoneType' and 'int'\n",
      "Downloading: 100%|\u001b[32m██████████\u001b[0m|\n"
     ]
    }
   ],
   "source": [
    "faq_table = bq_to_pandas(query)"
   ]
  },
  {
   "cell_type": "markdown",
   "id": "3d8834de-dc93-40a2-beb2-1f2ef03df746",
   "metadata": {},
   "source": [
    "# Save resource"
   ]
  },
  {
   "cell_type": "code",
   "execution_count": 9,
   "id": "fb7874e3-140c-46f1-b9e2-26031e911dee",
   "metadata": {
    "execution": {
     "iopub.execute_input": "2023-11-15T05:31:20.874203Z",
     "iopub.status.busy": "2023-11-15T05:31:20.873284Z",
     "iopub.status.idle": "2023-11-15T05:31:20.901652Z",
     "shell.execute_reply": "2023-11-15T05:31:20.900738Z",
     "shell.execute_reply.started": "2023-11-15T05:31:20.874149Z"
    }
   },
   "outputs": [],
   "source": [
    "idx2intent_nm = list(faq_table.intent_nm.unique())\n",
    "intent_nm2idx = {intent_nm : i for i, intent_nm in enumerate(idx2intent_nm)}"
   ]
  },
  {
   "cell_type": "code",
   "execution_count": 10,
   "id": "4eb94d92-e5e9-4b14-acbb-ef98c7e2e07a",
   "metadata": {
    "execution": {
     "iopub.execute_input": "2023-11-15T05:31:31.583771Z",
     "iopub.status.busy": "2023-11-15T05:31:31.583069Z",
     "iopub.status.idle": "2023-11-15T05:31:31.768364Z",
     "shell.execute_reply": "2023-11-15T05:31:31.767332Z",
     "shell.execute_reply.started": "2023-11-15T05:31:31.583723Z"
    }
   },
   "outputs": [],
   "source": [
    "idx2query = list(faq_table.qry_txt_cont.unique())\n",
    "query2idx = {query : i for i, query in enumerate(idx2query)}"
   ]
  },
  {
   "cell_type": "code",
   "execution_count": 11,
   "id": "5e6ef4f3-7e83-4257-a477-087fd482b7b6",
   "metadata": {
    "execution": {
     "iopub.execute_input": "2023-11-15T05:31:53.454181Z",
     "iopub.status.busy": "2023-11-15T05:31:53.453384Z",
     "iopub.status.idle": "2023-11-15T05:31:53.577101Z",
     "shell.execute_reply": "2023-11-15T05:31:53.576020Z",
     "shell.execute_reply.started": "2023-11-15T05:31:53.454130Z"
    }
   },
   "outputs": [],
   "source": [
    "black_list_path = '/home/x1112436/faq/blacklist/blacklist.txt'\n",
    "black_list_sent = set()\n",
    "with open(black_list_path) as f:\n",
    "    for data in f:\n",
    "        line = data.strip()\n",
    "        black_list_sent.add(line)"
   ]
  },
  {
   "cell_type": "markdown",
   "id": "27da0f75-f474-431d-88c0-a73f7f0204f5",
   "metadata": {},
   "source": [
    "# embedding query, intent_nm blacklist"
   ]
  },
  {
   "cell_type": "code",
   "execution_count": 14,
   "id": "e70ab5b2-8816-43c2-89ee-857b13c0a1d6",
   "metadata": {
    "execution": {
     "iopub.execute_input": "2023-11-15T05:32:59.664210Z",
     "iopub.status.busy": "2023-11-15T05:32:59.663492Z",
     "iopub.status.idle": "2023-11-15T05:32:59.669667Z",
     "shell.execute_reply": "2023-11-15T05:32:59.668542Z",
     "shell.execute_reply.started": "2023-11-15T05:32:59.664162Z"
    }
   },
   "outputs": [],
   "source": [
    "from tqdm.notebook import tqdm"
   ]
  },
  {
   "cell_type": "code",
   "execution_count": 12,
   "id": "0399de1e-b9cb-4e1b-88a4-9a47df28956f",
   "metadata": {
    "execution": {
     "iopub.execute_input": "2023-11-15T05:32:29.555419Z",
     "iopub.status.busy": "2023-11-15T05:32:29.554690Z",
     "iopub.status.idle": "2023-11-15T05:32:29.563199Z",
     "shell.execute_reply": "2023-11-15T05:32:29.562083Z",
     "shell.execute_reply.started": "2023-11-15T05:32:29.555371Z"
    }
   },
   "outputs": [],
   "source": [
    "# chunking inetent\n",
    "def chunking(input_list, chunk_size=200):\n",
    "    result = []\n",
    "    chunk_length = int(len(input_list) / chunk_size)\n",
    "    chunk_rest = len(input_list) % chunk_size\n",
    "\n",
    "    start = 0\n",
    "    for i in range(0, chunk_length):\n",
    "        result.append(input_list[start: start + chunk_size])\n",
    "        start = start + chunk_size\n",
    "                      \n",
    "    if chunk_rest > 0 :\n",
    "        result.append(input_list[start:])\n",
    "    return result\n",
    "        "
   ]
  },
  {
   "cell_type": "code",
   "execution_count": 13,
   "id": "cec9cede-f03c-4fcd-b1ff-e92e62e2fdd2",
   "metadata": {
    "execution": {
     "iopub.execute_input": "2023-11-15T05:32:45.405204Z",
     "iopub.status.busy": "2023-11-15T05:32:45.403657Z",
     "iopub.status.idle": "2023-11-15T05:32:45.410556Z",
     "shell.execute_reply": "2023-11-15T05:32:45.409266Z",
     "shell.execute_reply.started": "2023-11-15T05:32:45.405123Z"
    }
   },
   "outputs": [],
   "source": [
    "intent_nm_chunk = chunking(idx2intent_nm)"
   ]
  },
  {
   "cell_type": "code",
   "execution_count": 18,
   "id": "46ae4ed3-994a-4efe-b6c8-2bd51710e43f",
   "metadata": {
    "execution": {
     "iopub.execute_input": "2023-11-15T05:35:50.855614Z",
     "iopub.status.busy": "2023-11-15T05:35:50.854900Z",
     "iopub.status.idle": "2023-11-15T05:35:50.872643Z",
     "shell.execute_reply": "2023-11-15T05:35:50.871956Z",
     "shell.execute_reply.started": "2023-11-15T05:35:50.855566Z"
    }
   },
   "outputs": [],
   "source": [
    "query_chunk = chunking(idx2query, chunk_size=400)"
   ]
  },
  {
   "cell_type": "code",
   "execution_count": 25,
   "id": "73945e24-90a9-419c-a9f2-4e4a9e7acfcf",
   "metadata": {
    "execution": {
     "iopub.execute_input": "2023-11-15T05:44:29.705867Z",
     "iopub.status.busy": "2023-11-15T05:44:29.705575Z",
     "iopub.status.idle": "2023-11-15T05:44:29.712270Z",
     "shell.execute_reply": "2023-11-15T05:44:29.711729Z",
     "shell.execute_reply.started": "2023-11-15T05:44:29.705835Z"
    }
   },
   "outputs": [],
   "source": [
    "blacklist_chunk = chunking(list(black_list_sent), chunk_size=400)"
   ]
  },
  {
   "cell_type": "code",
   "execution_count": 22,
   "id": "79199620-cf36-4467-b8e6-54bdc816191d",
   "metadata": {
    "execution": {
     "iopub.execute_input": "2023-11-15T05:36:11.080675Z",
     "iopub.status.busy": "2023-11-15T05:36:11.080018Z",
     "iopub.status.idle": "2023-11-15T05:36:11.087286Z",
     "shell.execute_reply": "2023-11-15T05:36:11.086619Z",
     "shell.execute_reply.started": "2023-11-15T05:36:11.080631Z"
    }
   },
   "outputs": [],
   "source": [
    "def embedding(chunk_list):\n",
    "    result = []\n",
    "    for i in tqdm(range(len(chunk_list))):\n",
    "        if i ==0:\n",
    "            embedding_result = model.encode(chunk_list[i])\n",
    "        else:\n",
    "            embedding = model.encode(chunk_list[i])\n",
    "            embedding_result = np.concatenate((embedding_result, embedding), axis=0)\n",
    "        result.extend(chunk_list[i])\n",
    "    return embedding_result, result"
   ]
  },
  {
   "cell_type": "code",
   "execution_count": 23,
   "id": "722a9a92-96f0-404c-a06f-b4c198867e16",
   "metadata": {
    "execution": {
     "iopub.execute_input": "2023-11-15T05:36:11.424858Z",
     "iopub.status.busy": "2023-11-15T05:36:11.424233Z",
     "iopub.status.idle": "2023-11-15T05:44:28.095557Z",
     "shell.execute_reply": "2023-11-15T05:44:28.094484Z",
     "shell.execute_reply.started": "2023-11-15T05:36:11.424812Z"
    }
   },
   "outputs": [
    {
     "data": {
      "application/vnd.jupyter.widget-view+json": {
       "model_id": "1b0d4ce37f8049ec94b5a894929a3181",
       "version_major": 2,
       "version_minor": 0
      },
      "text/plain": [
       "  0%|          | 0/614 [00:00<?, ?it/s]"
      ]
     },
     "metadata": {},
     "output_type": "display_data"
    }
   ],
   "source": [
    "query_embeddings, query_list = embedding(query_chunk)"
   ]
  },
  {
   "cell_type": "code",
   "execution_count": 24,
   "id": "53c0ea1e-cd85-401d-9d54-142a342991dd",
   "metadata": {
    "execution": {
     "iopub.execute_input": "2023-11-15T05:44:28.110042Z",
     "iopub.status.busy": "2023-11-15T05:44:28.109851Z",
     "iopub.status.idle": "2023-11-15T05:44:29.581343Z",
     "shell.execute_reply": "2023-11-15T05:44:29.580430Z",
     "shell.execute_reply.started": "2023-11-15T05:44:28.110022Z"
    }
   },
   "outputs": [
    {
     "data": {
      "application/vnd.jupyter.widget-view+json": {
       "model_id": "3abd8b5b1a334c68ba0a68dccbc512ec",
       "version_major": 2,
       "version_minor": 0
      },
      "text/plain": [
       "  0%|          | 0/9 [00:00<?, ?it/s]"
      ]
     },
     "metadata": {},
     "output_type": "display_data"
    }
   ],
   "source": [
    "intetn_nm_embeddings, intent_nm_list = embedding(intent_nm_chunk)"
   ]
  },
  {
   "cell_type": "code",
   "execution_count": 26,
   "id": "13de7592-c29b-49b7-a4e7-66f05c060241",
   "metadata": {
    "execution": {
     "iopub.execute_input": "2023-11-15T05:44:29.713327Z",
     "iopub.status.busy": "2023-11-15T05:44:29.713154Z",
     "iopub.status.idle": "2023-11-15T05:44:58.861476Z",
     "shell.execute_reply": "2023-11-15T05:44:58.860785Z",
     "shell.execute_reply.started": "2023-11-15T05:44:29.713311Z"
    }
   },
   "outputs": [
    {
     "data": {
      "application/vnd.jupyter.widget-view+json": {
       "model_id": "197638708300450f8bb3bc23fc251877",
       "version_major": 2,
       "version_minor": 0
      },
      "text/plain": [
       "  0%|          | 0/65 [00:00<?, ?it/s]"
      ]
     },
     "metadata": {},
     "output_type": "display_data"
    }
   ],
   "source": [
    "blacklist_embeddings, blacklist_list = embedding(blacklist_chunk)"
   ]
  },
  {
   "cell_type": "code",
   "execution_count": 29,
   "id": "20260c45-11f8-4bd7-8e6a-821c993c3ba4",
   "metadata": {
    "execution": {
     "iopub.execute_input": "2023-11-15T05:45:56.036309Z",
     "iopub.status.busy": "2023-11-15T05:45:56.035564Z",
     "iopub.status.idle": "2023-11-15T05:45:56.044394Z",
     "shell.execute_reply": "2023-11-15T05:45:56.043221Z",
     "shell.execute_reply.started": "2023-11-15T05:45:56.036258Z"
    }
   },
   "outputs": [
    {
     "data": {
      "text/plain": [
       "torch.Size([25760, 1024])"
      ]
     },
     "execution_count": 29,
     "metadata": {},
     "output_type": "execute_result"
    }
   ],
   "source": [
    "torch.from_numpy(blacklist_embeddings).shape"
   ]
  },
  {
   "cell_type": "markdown",
   "id": "49539b25-4cec-4696-a995-bd739c6c5c57",
   "metadata": {},
   "source": [
    "# save"
   ]
  },
  {
   "cell_type": "code",
   "execution_count": 32,
   "id": "92739a2a-eeba-4813-810c-15586b9563a5",
   "metadata": {
    "execution": {
     "iopub.execute_input": "2023-11-15T05:47:04.049235Z",
     "iopub.status.busy": "2023-11-15T05:47:04.048525Z",
     "iopub.status.idle": "2023-11-15T05:47:26.945860Z",
     "shell.execute_reply": "2023-11-15T05:47:26.945019Z",
     "shell.execute_reply.started": "2023-11-15T05:47:04.049187Z"
    }
   },
   "outputs": [],
   "source": [
    "torch.save(intetn_nm_embeddings, './embedding_result/intent.pkl')\n",
    "torch.save(query_embeddings, './embedding_result/query.pkl')\n",
    "torch.save(blacklist_embeddings, './embedding_result/blacklist.pkl')"
   ]
  },
  {
   "cell_type": "code",
   "execution_count": 33,
   "id": "de0fbe5f-93e4-4ef8-97b7-dc3d5ade747d",
   "metadata": {
    "execution": {
     "iopub.execute_input": "2023-11-15T05:48:16.261759Z",
     "iopub.status.busy": "2023-11-15T05:48:16.261057Z",
     "iopub.status.idle": "2023-11-15T05:48:16.662721Z",
     "shell.execute_reply": "2023-11-15T05:48:16.661665Z",
     "shell.execute_reply.started": "2023-11-15T05:48:16.261712Z"
    }
   },
   "outputs": [],
   "source": [
    "import pickle\n",
    "with open('./pickle/intent.pkl', 'wb') as f:\n",
    "    pickle.dump({\n",
    "    'idx2intent': idx2intent_nm,\n",
    "    'intent2idx' : intent_nm2idx\n",
    "    }, f)\n",
    "with open('./pickle/query.pkl', 'wb') as f:\n",
    "    pickle.dump({\n",
    "    'idx2query': idx2query,\n",
    "    'query2idx' : query2idx\n",
    "    }, f)\n",
    "    \n",
    "with open('./pickle/blacklist.pkl', 'wb') as f:\n",
    "    pickle.dump({\n",
    "    'idx2blacklist': list(black_list_sent),\n",
    "    }, f)"
   ]
  },
  {
   "cell_type": "markdown",
   "id": "70b77ea4-470b-4cf1-8a97-93f0e26e171e",
   "metadata": {},
   "source": [
    "# TesT"
   ]
  },
  {
   "cell_type": "code",
   "execution_count": 37,
   "id": "a368a8cf-52df-4055-a295-bab179bc61cd",
   "metadata": {
    "execution": {
     "iopub.execute_input": "2023-11-15T05:49:49.523578Z",
     "iopub.status.busy": "2023-11-15T05:49:49.522861Z",
     "iopub.status.idle": "2023-11-15T05:49:49.529103Z",
     "shell.execute_reply": "2023-11-15T05:49:49.527972Z",
     "shell.execute_reply.started": "2023-11-15T05:49:49.523530Z"
    }
   },
   "outputs": [],
   "source": [
    "import torch.nn.functional as F"
   ]
  },
  {
   "cell_type": "code",
   "execution_count": 38,
   "id": "2fb07512-0e79-49e2-8793-18d221798fed",
   "metadata": {
    "execution": {
     "iopub.execute_input": "2023-11-15T05:49:50.163662Z",
     "iopub.status.busy": "2023-11-15T05:49:50.162996Z",
     "iopub.status.idle": "2023-11-15T05:49:50.177960Z",
     "shell.execute_reply": "2023-11-15T05:49:50.177013Z",
     "shell.execute_reply.started": "2023-11-15T05:49:50.163615Z"
    }
   },
   "outputs": [
    {
     "data": {
      "text/plain": [
       "tensor([[ 0.0204,  0.0211, -0.0034,  ...,  0.0211, -0.0504, -0.0035],\n",
       "        [ 0.0143,  0.0331,  0.0149,  ...,  0.0326, -0.0275, -0.0275],\n",
       "        [ 0.0002,  0.0333, -0.0062,  ..., -0.0227,  0.0276,  0.0356],\n",
       "        ...,\n",
       "        [-0.0537, -0.0461,  0.0309,  ..., -0.0596, -0.0193, -0.0186],\n",
       "        [-0.0575, -0.0268,  0.0425,  ..., -0.0571, -0.0191, -0.0192],\n",
       "        [-0.0488, -0.0165,  0.0447,  ..., -0.0553, -0.0216, -0.0079]])"
      ]
     },
     "execution_count": 38,
     "metadata": {},
     "output_type": "execute_result"
    }
   ],
   "source": [
    "F.normalize(torch.from_numpy(intetn_nm_embeddings), dim=1)"
   ]
  },
  {
   "cell_type": "code",
   "execution_count": 60,
   "id": "fec921c1-321f-4fb8-b5ab-e4987c18fe8e",
   "metadata": {
    "execution": {
     "iopub.execute_input": "2023-11-15T05:53:16.955704Z",
     "iopub.status.busy": "2023-11-15T05:53:16.954999Z",
     "iopub.status.idle": "2023-11-15T05:53:17.099001Z",
     "shell.execute_reply": "2023-11-15T05:53:17.098282Z",
     "shell.execute_reply.started": "2023-11-15T05:53:16.955656Z"
    }
   },
   "outputs": [],
   "source": [
    "black_list_cosine_sim = F.normalize(torch.from_numpy(blacklist_embeddings), dim=1)@ F.normalize(torch.from_numpy(intetn_nm_embeddings), dim=1).T"
   ]
  },
  {
   "cell_type": "code",
   "execution_count": 61,
   "id": "14bebc36-dc41-413f-b6ae-003272224e0c",
   "metadata": {
    "execution": {
     "iopub.execute_input": "2023-11-15T05:53:19.444426Z",
     "iopub.status.busy": "2023-11-15T05:53:19.443916Z",
     "iopub.status.idle": "2023-11-15T05:53:19.477644Z",
     "shell.execute_reply": "2023-11-15T05:53:19.476951Z",
     "shell.execute_reply.started": "2023-11-15T05:53:19.444387Z"
    }
   },
   "outputs": [],
   "source": [
    "values, indices = torch.topk(black_list_cosine_sim, k=1)"
   ]
  },
  {
   "cell_type": "code",
   "execution_count": 65,
   "id": "653fab44-13b6-4ca9-bee4-0a3b4fca46eb",
   "metadata": {
    "execution": {
     "iopub.execute_input": "2023-11-15T05:54:00.657117Z",
     "iopub.status.busy": "2023-11-15T05:54:00.656401Z",
     "iopub.status.idle": "2023-11-15T05:54:00.663646Z",
     "shell.execute_reply": "2023-11-15T05:54:00.662611Z",
     "shell.execute_reply.started": "2023-11-15T05:54:00.657068Z"
    }
   },
   "outputs": [],
   "source": [
    "import pandas as pd\n",
    "black_list_pd = pd.DataFrame(values[:, 0].numpy(), columns=['cosine_score'])"
   ]
  },
  {
   "cell_type": "code",
   "execution_count": 67,
   "id": "67e862a9-bc42-497f-b16b-8275309859c0",
   "metadata": {
    "execution": {
     "iopub.execute_input": "2023-11-15T05:54:11.201277Z",
     "iopub.status.busy": "2023-11-15T05:54:11.200557Z",
     "iopub.status.idle": "2023-11-15T05:54:11.699715Z",
     "shell.execute_reply": "2023-11-15T05:54:11.698962Z",
     "shell.execute_reply.started": "2023-11-15T05:54:11.201228Z"
    }
   },
   "outputs": [
    {
     "data": {
      "text/plain": [
       "array([[<matplotlib.axes._subplots.AxesSubplot object at 0x7f832cfaca90>]],\n",
       "      dtype=object)"
      ]
     },
     "execution_count": 67,
     "metadata": {},
     "output_type": "execute_result"
    },
    {
     "data": {
      "image/png": "[encoded data removed]",
      "text/plain": [
       "<Figure size 432x288 with 1 Axes>"
      ]
     },
     "metadata": {
      "needs_background": "light"
     },
     "output_type": "display_data"
    }
   ],
   "source": [
    "black_list_pd.hist()"
   ]
  },
  {
   "cell_type": "code",
   "execution_count": 68,
   "id": "8953278a-1894-4650-94e6-ab0921f00048",
   "metadata": {
    "execution": {
     "iopub.execute_input": "2023-11-15T06:35:39.915142Z",
     "iopub.status.busy": "2023-11-15T06:35:39.914383Z",
     "iopub.status.idle": "2023-11-15T06:35:41.471842Z",
     "shell.execute_reply": "2023-11-15T06:35:41.471123Z",
     "shell.execute_reply.started": "2023-11-15T06:35:39.915089Z"
    }
   },
   "outputs": [],
   "source": [
    "query_cosine_sim = F.normalize(torch.from_numpy(query_embeddings), dim=1)@ F.normalize(torch.from_numpy(intetn_nm_embeddings), dim=1).T"
   ]
  },
  {
   "cell_type": "code",
   "execution_count": 73,
   "id": "9b75396b-b8f9-4f73-b6ca-87310475e72d",
   "metadata": {
    "execution": {
     "iopub.execute_input": "2023-11-15T06:36:26.234094Z",
     "iopub.status.busy": "2023-11-15T06:36:26.233383Z",
     "iopub.status.idle": "2023-11-15T06:36:26.724087Z",
     "shell.execute_reply": "2023-11-15T06:36:26.723353Z",
     "shell.execute_reply.started": "2023-11-15T06:36:26.234045Z"
    }
   },
   "outputs": [],
   "source": [
    "q_values, q_indices = torch.topk(query_cosine_sim, k=1)"
   ]
  },
  {
   "cell_type": "code",
   "execution_count": 74,
   "id": "744d7889-014b-4b2c-a64f-4c632eea1286",
   "metadata": {
    "execution": {
     "iopub.execute_input": "2023-11-15T06:36:27.533895Z",
     "iopub.status.busy": "2023-11-15T06:36:27.533173Z",
     "iopub.status.idle": "2023-11-15T06:36:27.540441Z",
     "shell.execute_reply": "2023-11-15T06:36:27.539420Z",
     "shell.execute_reply.started": "2023-11-15T06:36:27.533830Z"
    }
   },
   "outputs": [],
   "source": [
    "import pandas as pd\n",
    "q_list_pd = pd.DataFrame(q_values[:, 0].numpy(), columns=['cosine_score'])"
   ]
  },
  {
   "cell_type": "code",
   "execution_count": 75,
   "id": "680983ef-2534-45f7-bb33-8bdc76da99c9",
   "metadata": {
    "execution": {
     "iopub.execute_input": "2023-11-15T06:36:27.694915Z",
     "iopub.status.busy": "2023-11-15T06:36:27.694283Z",
     "iopub.status.idle": "2023-11-15T06:36:27.959661Z",
     "shell.execute_reply": "2023-11-15T06:36:27.959047Z",
     "shell.execute_reply.started": "2023-11-15T06:36:27.694850Z"
    }
   },
   "outputs": [
    {
     "data": {
      "text/plain": [
       "array([[<matplotlib.axes._subplots.AxesSubplot object at 0x7f832c5e55e0>]],\n",
       "      dtype=object)"
      ]
     },
     "execution_count": 75,
     "metadata": {},
     "output_type": "execute_result"
    },
    {
     "data": {
      "image/png": "[encoded data removed]",
      "text/plain": [
       "<Figure size 432x288 with 1 Axes>"
      ]
     },
     "metadata": {
      "needs_background": "light"
     },
     "output_type": "display_data"
    }
   ],
   "source": [
    "q_list_pd.hist()"
   ]
  },
  {
   "cell_type": "code",
   "execution_count": null,
   "id": "4c160425-de87-4863-b8c8-f9840b875038",
   "metadata": {},
   "outputs": [],
   "source": []
  }
 ],
 "metadata": {
  "kernelspec": {
   "display_name": "Python 3 (ipykernel)",
   "language": "python",
   "name": "python3"
  },
  "language_info": {
   "codemirror_mode": {
    "name": "ipython",
    "version": 3
   },
   "file_extension": ".py",
   "mimetype": "text/x-python",
   "name": "python",
   "nbconvert_exporter": "python",
   "pygments_lexer": "ipython3",
   "version": "3.8.12"
  }
 },
 "nbformat": 4,
 "nbformat_minor": 5
}
