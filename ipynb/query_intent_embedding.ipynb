{
 "cells": [
  {
   "cell_type": "code",
   "execution_count": 3,
   "id": "3b4ae7f5-a0a1-4b57-ac68-771e6637effa",
   "metadata": {
    "execution": {
     "iopub.execute_input": "2023-11-13T08:33:40.306681Z",
     "iopub.status.busy": "2023-11-13T08:33:40.305801Z",
     "iopub.status.idle": "2023-11-13T08:33:40.309518Z",
     "shell.execute_reply": "2023-11-13T08:33:40.308982Z",
     "shell.execute_reply.started": "2023-11-13T08:33:40.306651Z"
    },
    "tags": []
   },
   "outputs": [],
   "source": [
    "#!pip install sentence-transformers"
   ]
  },
  {
   "cell_type": "code",
   "execution_count": 2,
   "id": "72aa8ece-e5a1-4f95-b126-163783bcab30",
   "metadata": {
    "execution": {
     "iopub.execute_input": "2023-11-16T05:19:01.424566Z",
     "iopub.status.busy": "2023-11-16T05:19:01.423774Z",
     "iopub.status.idle": "2023-11-16T05:19:11.030430Z",
     "shell.execute_reply": "2023-11-16T05:19:11.029541Z",
     "shell.execute_reply.started": "2023-11-16T05:19:01.424515Z"
    },
    "tags": []
   },
   "outputs": [],
   "source": [
    "from sentence_transformers import SentenceTransformer\n",
    "import torch\n",
    "from transformers import (\n",
    "    AdamW,\n",
    "    AutoModel,\n",
    "    get_linear_schedule_with_warmup,\n",
    "    AutoTokenizer,\n",
    "    AutoConfig\n",
    ")"
   ]
  },
  {
   "cell_type": "code",
   "execution_count": 3,
   "id": "64e080dd-91a9-4041-84a6-b57ecb4e311a",
   "metadata": {
    "execution": {
     "iopub.execute_input": "2023-11-16T05:19:11.032619Z",
     "iopub.status.busy": "2023-11-16T05:19:11.032206Z",
     "iopub.status.idle": "2023-11-16T05:19:11.094253Z",
     "shell.execute_reply": "2023-11-16T05:19:11.092942Z",
     "shell.execute_reply.started": "2023-11-16T05:19:11.032595Z"
    },
    "tags": []
   },
   "outputs": [],
   "source": [
    "from skt.vault_utils import get_secrets\n",
    "proxies = get_secrets('proxies')"
   ]
  },
  {
   "cell_type": "code",
   "execution_count": 4,
   "id": "c19591c7-8a6b-4ff5-90dc-8b203fc5ee3c",
   "metadata": {
    "execution": {
     "iopub.execute_input": "2023-11-16T05:19:11.096685Z",
     "iopub.status.busy": "2023-11-16T05:19:11.096088Z",
     "iopub.status.idle": "2023-11-16T05:19:11.320830Z",
     "shell.execute_reply": "2023-11-16T05:19:11.319509Z",
     "shell.execute_reply.started": "2023-11-16T05:19:11.096638Z"
    },
    "tags": []
   },
   "outputs": [],
   "source": [
    "import os \n",
    "os.environ['http_proxy'] = proxies['http']\n",
    "os.environ['https_proxy'] = proxies['https']"
   ]
  },
  {
   "cell_type": "code",
   "execution_count": 5,
   "id": "7435d177-1a42-4234-89eb-3a8a6952cf66",
   "metadata": {
    "execution": {
     "iopub.execute_input": "2023-11-16T05:19:11.324775Z",
     "iopub.status.busy": "2023-11-16T05:19:11.323589Z",
     "iopub.status.idle": "2023-11-16T05:19:25.233443Z",
     "shell.execute_reply": "2023-11-16T05:19:25.231840Z",
     "shell.execute_reply.started": "2023-11-16T05:19:11.324725Z"
    },
    "tags": []
   },
   "outputs": [],
   "source": [
    "model = SentenceTransformer('jhlee3421/faq-semantic-klue-roberta-large', device='cuda')"
   ]
  },
  {
   "cell_type": "markdown",
   "id": "453e0e09-a136-4dbd-bb7d-ee378e76d297",
   "metadata": {},
   "source": [
    "# data load"
   ]
  },
  {
   "cell_type": "code",
   "execution_count": 7,
   "id": "03274aec-9cf8-4280-b42c-5ed03f240659",
   "metadata": {
    "execution": {
     "iopub.execute_input": "2023-11-15T04:51:47.893398Z",
     "iopub.status.busy": "2023-11-15T04:51:47.892577Z",
     "iopub.status.idle": "2023-11-15T04:51:48.911199Z",
     "shell.execute_reply": "2023-11-15T04:51:48.910179Z",
     "shell.execute_reply.started": "2023-11-15T04:51:47.893345Z"
    },
    "tags": []
   },
   "outputs": [],
   "source": [
    "from skt.gcp import load_bigquery_ipython_magic, \\\n",
    "                    bq_to_pandas, \\\n",
    "                    get_bigquery_client"
   ]
  },
  {
   "cell_type": "code",
   "execution_count": 8,
   "id": "c0cd397e-2776-4c02-86d2-18be8840b3e8",
   "metadata": {
    "execution": {
     "iopub.execute_input": "2023-11-15T04:51:48.912926Z",
     "iopub.status.busy": "2023-11-15T04:51:48.912562Z",
     "iopub.status.idle": "2023-11-15T04:51:48.917185Z",
     "shell.execute_reply": "2023-11-15T04:51:48.916364Z",
     "shell.execute_reply.started": "2023-11-15T04:51:48.912903Z"
    },
    "tags": []
   },
   "outputs": [],
   "source": [
    "dataset = 'x1112436'\n",
    "log_table = 'faq_table'\n",
    "query = f\"\"\"\n",
    "        SELECT  qry_txt_cont,\n",
    "                intent_nm,\n",
    "                ans_cont,\n",
    "                type\n",
    "        FROM `skt-datahub.{dataset}.{log_table}`  AS a\n",
    "        WHERE type = 'faq'\n",
    "    \"\"\""
   ]
  },
  {
   "cell_type": "code",
   "execution_count": 9,
   "id": "23ef3553-15f2-4ee7-819e-eb3685f9d20d",
   "metadata": {
    "execution": {
     "iopub.execute_input": "2023-11-15T04:51:49.400833Z",
     "iopub.status.busy": "2023-11-15T04:51:49.400116Z",
     "iopub.status.idle": "2023-11-15T04:52:19.461543Z",
     "shell.execute_reply": "2023-11-15T04:52:19.459470Z",
     "shell.execute_reply.started": "2023-11-15T04:51:49.400784Z"
    },
    "tags": []
   },
   "outputs": [
    {
     "name": "stdout",
     "output_type": "stream",
     "text": [
      "Warning: exception on print statistics\n",
      "unsupported operand type(s) for /: 'NoneType' and 'int'\n",
      "Downloading: 100%|\u001b[32m██████████\u001b[0m|\n"
     ]
    }
   ],
   "source": [
    "faq_table = bq_to_pandas(query)"
   ]
  },
  {
   "cell_type": "code",
   "execution_count": 10,
   "id": "1671afc2-1803-4813-859a-1ed85c99fd47",
   "metadata": {
    "execution": {
     "iopub.execute_input": "2023-11-15T04:52:19.464986Z",
     "iopub.status.busy": "2023-11-15T04:52:19.464310Z",
     "iopub.status.idle": "2023-11-15T04:52:19.478903Z",
     "shell.execute_reply": "2023-11-15T04:52:19.478071Z",
     "shell.execute_reply.started": "2023-11-15T04:52:19.464948Z"
    },
    "tags": []
   },
   "outputs": [
    {
     "data": {
      "text/plain": [
       "'자동안심T로밍음성'"
      ]
     },
     "execution_count": 10,
     "metadata": {},
     "output_type": "execute_result"
    }
   ],
   "source": [
    "faq_table.iloc[0].intent_nm"
   ]
  },
  {
   "cell_type": "markdown",
   "id": "e6001fa5-1abd-4c3d-8193-a0e1524482e0",
   "metadata": {},
   "source": [
    "# preprocessing"
   ]
  },
  {
   "cell_type": "code",
   "execution_count": 10,
   "id": "91e1539c-f35c-4e5d-8c3f-07112dcb1789",
   "metadata": {
    "execution": {
     "iopub.execute_input": "2023-11-15T01:00:02.698742Z",
     "iopub.status.busy": "2023-11-15T01:00:02.698441Z",
     "iopub.status.idle": "2023-11-15T01:00:02.702936Z",
     "shell.execute_reply": "2023-11-15T01:00:02.702152Z",
     "shell.execute_reply.started": "2023-11-15T01:00:02.698717Z"
    },
    "tags": []
   },
   "outputs": [],
   "source": [
    "#faq_table.loc[(faq_table.in !='') & (faq_table.ans_cont !='.')].reset_index(drop=True)"
   ]
  },
  {
   "cell_type": "code",
   "execution_count": null,
   "id": "c105594e-d46c-4789-8ac1-6d3cb1fb8dc5",
   "metadata": {},
   "outputs": [],
   "source": []
  },
  {
   "cell_type": "markdown",
   "id": "5c437550-e24a-4eab-ac43-9b1433245458",
   "metadata": {},
   "source": [
    "# Build index vocab"
   ]
  },
  {
   "cell_type": "code",
   "execution_count": 11,
   "id": "bac44764-db83-4004-ac24-237c362c6a52",
   "metadata": {
    "execution": {
     "iopub.execute_input": "2023-11-15T04:52:19.479913Z",
     "iopub.status.busy": "2023-11-15T04:52:19.479723Z",
     "iopub.status.idle": "2023-11-15T04:52:19.504705Z",
     "shell.execute_reply": "2023-11-15T04:52:19.503899Z",
     "shell.execute_reply.started": "2023-11-15T04:52:19.479896Z"
    },
    "tags": []
   },
   "outputs": [],
   "source": [
    "idx2intent_nm = list(faq_table.intent_nm.unique())\n",
    "intent_nm2idx = {intent_nm : i for i, intent_nm in enumerate(idx2intent_nm)}"
   ]
  },
  {
   "cell_type": "code",
   "execution_count": 12,
   "id": "a1ca91da-81c9-4591-9504-a5603f0b8d98",
   "metadata": {
    "execution": {
     "iopub.execute_input": "2023-11-15T04:52:19.506521Z",
     "iopub.status.busy": "2023-11-15T04:52:19.506211Z",
     "iopub.status.idle": "2023-11-15T04:52:19.570368Z",
     "shell.execute_reply": "2023-11-15T04:52:19.569406Z",
     "shell.execute_reply.started": "2023-11-15T04:52:19.506503Z"
    },
    "tags": []
   },
   "outputs": [],
   "source": [
    "faq_table['intent_nm_idx'] = faq_table['intent_nm'].apply(lambda x: intent_nm2idx[x])"
   ]
  },
  {
   "cell_type": "code",
   "execution_count": 13,
   "id": "bcc19f6f-812d-4153-b2f8-222c7d5b4cc6",
   "metadata": {
    "execution": {
     "iopub.execute_input": "2023-11-15T04:52:19.571508Z",
     "iopub.status.busy": "2023-11-15T04:52:19.571303Z",
     "iopub.status.idle": "2023-11-15T04:52:19.752543Z",
     "shell.execute_reply": "2023-11-15T04:52:19.751467Z",
     "shell.execute_reply.started": "2023-11-15T04:52:19.571489Z"
    },
    "tags": []
   },
   "outputs": [],
   "source": [
    "idx2query = list(faq_table.qry_txt_cont.unique())\n",
    "query2idx = {query : i for i, query in enumerate(idx2query)}"
   ]
  },
  {
   "cell_type": "code",
   "execution_count": 14,
   "id": "411ecb52-34e1-4437-9295-47e56bd549ae",
   "metadata": {
    "execution": {
     "iopub.execute_input": "2023-11-15T04:52:19.754135Z",
     "iopub.status.busy": "2023-11-15T04:52:19.753713Z",
     "iopub.status.idle": "2023-11-15T04:52:19.862204Z",
     "shell.execute_reply": "2023-11-15T04:52:19.861204Z",
     "shell.execute_reply.started": "2023-11-15T04:52:19.754112Z"
    },
    "tags": []
   },
   "outputs": [],
   "source": [
    "faq_table['query_idx'] = faq_table['qry_txt_cont'].apply(lambda x: query2idx[x])"
   ]
  },
  {
   "cell_type": "markdown",
   "id": "c1293000-7b79-41aa-a0fe-0d15f7638546",
   "metadata": {},
   "source": [
    "# intent to embedding"
   ]
  },
  {
   "cell_type": "code",
   "execution_count": 6,
   "id": "a31298d7-3623-4636-a345-577bc413fffd",
   "metadata": {
    "execution": {
     "iopub.execute_input": "2023-11-16T05:19:34.348221Z",
     "iopub.status.busy": "2023-11-16T05:19:34.347391Z",
     "iopub.status.idle": "2023-11-16T05:19:34.357042Z",
     "shell.execute_reply": "2023-11-16T05:19:34.355822Z",
     "shell.execute_reply.started": "2023-11-16T05:19:34.348166Z"
    },
    "tags": []
   },
   "outputs": [],
   "source": [
    "# chunking inetent\n",
    "def chunking(input_list, chunk_size=200):\n",
    "    result = []\n",
    "    chunk_length = int(len(input_list) / chunk_size)\n",
    "    chunk_rest = len(input_list) % chunk_size\n",
    "\n",
    "    start = 0\n",
    "    for i in range(0, chunk_length):\n",
    "        result.append(input_list[start: start + chunk_size])\n",
    "        start = start + chunk_size\n",
    "                      \n",
    "    if chunk_rest > 0 :\n",
    "        result.append(input_list[start:])\n",
    "    return result\n",
    "        "
   ]
  },
  {
   "cell_type": "code",
   "execution_count": 16,
   "id": "1d3f0059-7113-4c8a-a087-e0e44e797b58",
   "metadata": {
    "execution": {
     "iopub.execute_input": "2023-11-15T04:52:19.874803Z",
     "iopub.status.busy": "2023-11-15T04:52:19.874618Z",
     "iopub.status.idle": "2023-11-15T04:52:19.883979Z",
     "shell.execute_reply": "2023-11-15T04:52:19.883187Z",
     "shell.execute_reply.started": "2023-11-15T04:52:19.874786Z"
    },
    "tags": []
   },
   "outputs": [],
   "source": [
    "chunk_result = chunking(idx2intent_nm, chunk_size= 200)"
   ]
  },
  {
   "cell_type": "code",
   "execution_count": 17,
   "id": "d9262de7-c05b-4432-999d-f0c77eef77f4",
   "metadata": {
    "execution": {
     "iopub.execute_input": "2023-11-15T04:52:19.885006Z",
     "iopub.status.busy": "2023-11-15T04:52:19.884796Z",
     "iopub.status.idle": "2023-11-15T04:52:19.895484Z",
     "shell.execute_reply": "2023-11-15T04:52:19.894576Z",
     "shell.execute_reply.started": "2023-11-15T04:52:19.884988Z"
    },
    "tags": []
   },
   "outputs": [],
   "source": [
    "import numpy as np"
   ]
  },
  {
   "cell_type": "code",
   "execution_count": 22,
   "id": "391b645f-da87-4d7c-80c9-17dde403c55d",
   "metadata": {
    "execution": {
     "iopub.execute_input": "2023-11-15T04:52:53.756717Z",
     "iopub.status.busy": "2023-11-15T04:52:53.756018Z",
     "iopub.status.idle": "2023-11-15T04:52:53.762596Z",
     "shell.execute_reply": "2023-11-15T04:52:53.761325Z",
     "shell.execute_reply.started": "2023-11-15T04:52:53.756666Z"
    }
   },
   "outputs": [],
   "source": [
    "from tqdm.notebook import tqdm"
   ]
  },
  {
   "cell_type": "code",
   "execution_count": 24,
   "id": "147a93cd-d299-4403-9600-c902b18000c0",
   "metadata": {
    "execution": {
     "iopub.execute_input": "2023-11-15T04:53:01.344337Z",
     "iopub.status.busy": "2023-11-15T04:53:01.343594Z",
     "iopub.status.idle": "2023-11-15T04:53:07.435737Z",
     "shell.execute_reply": "2023-11-15T04:53:07.434740Z",
     "shell.execute_reply.started": "2023-11-15T04:53:01.344287Z"
    },
    "tags": []
   },
   "outputs": [
    {
     "data": {
      "application/vnd.jupyter.widget-view+json": {
       "model_id": "3897d7e11b214ae68c83d1e3c8dc031a",
       "version_major": 2,
       "version_minor": 0
      },
      "text/plain": [
       "  0%|          | 0/9 [00:00<?, ?it/s]"
      ]
     },
     "metadata": {},
     "output_type": "display_data"
    }
   ],
   "source": [
    "intent_nm_result = []\n",
    "for i in tqdm(range(len(chunk_result))):\n",
    "    if i ==0:\n",
    "        embedding_result = model.encode(chunk_result[i])\n",
    "    else:\n",
    "        embedding = model.encode(chunk_result[i])\n",
    "        embedding_result = np.concatenate((embedding_result, embedding), axis=0)\n",
    "    intent_nm_result.extend(chunk_result[i])"
   ]
  },
  {
   "cell_type": "code",
   "execution_count": 25,
   "id": "829c53d6-a1c9-4bed-b1ac-aaeea8960bc5",
   "metadata": {
    "execution": {
     "iopub.execute_input": "2023-11-15T04:53:08.762781Z",
     "iopub.status.busy": "2023-11-15T04:53:08.762038Z",
     "iopub.status.idle": "2023-11-15T04:53:08.770588Z",
     "shell.execute_reply": "2023-11-15T04:53:08.769342Z",
     "shell.execute_reply.started": "2023-11-15T04:53:08.762729Z"
    },
    "tags": []
   },
   "outputs": [
    {
     "data": {
      "text/plain": [
       "1609"
      ]
     },
     "execution_count": 25,
     "metadata": {},
     "output_type": "execute_result"
    }
   ],
   "source": [
    "len(intent_nm_result)"
   ]
  },
  {
   "cell_type": "code",
   "execution_count": 33,
   "id": "23572929-5234-41f5-ba9d-c954155ac9ab",
   "metadata": {
    "execution": {
     "iopub.execute_input": "2023-11-15T04:10:50.045977Z",
     "iopub.status.busy": "2023-11-15T04:10:50.045689Z",
     "iopub.status.idle": "2023-11-15T04:10:50.449203Z",
     "shell.execute_reply": "2023-11-15T04:10:50.448609Z",
     "shell.execute_reply.started": "2023-11-15T04:10:50.045958Z"
    },
    "tags": []
   },
   "outputs": [],
   "source": [
    "import pickle\n",
    "with open('./pickle/intent.pkl', 'wb') as f:\n",
    "    pickle.dump({\n",
    "    'idx2intent': idx2intent_nm,\n",
    "    'intent2idx' : intent_nm2idx\n",
    "    }, f)"
   ]
  },
  {
   "cell_type": "code",
   "execution_count": 34,
   "id": "74f5c536-4c17-4950-aa8b-de803de59bba",
   "metadata": {
    "execution": {
     "iopub.execute_input": "2023-11-15T04:10:50.450601Z",
     "iopub.status.busy": "2023-11-15T04:10:50.450328Z",
     "iopub.status.idle": "2023-11-15T04:10:50.795737Z",
     "shell.execute_reply": "2023-11-15T04:10:50.795045Z",
     "shell.execute_reply.started": "2023-11-15T04:10:50.450582Z"
    },
    "tags": []
   },
   "outputs": [],
   "source": [
    "torch.save(torch.from_numpy(embedding_result), './embedding_result/intent.pt')"
   ]
  },
  {
   "cell_type": "markdown",
   "id": "979ab2ba-c911-45d5-87e9-78cf31e760da",
   "metadata": {},
   "source": [
    "# query to label"
   ]
  },
  {
   "cell_type": "code",
   "execution_count": 20,
   "id": "35928156-77d7-4b26-b72e-b187c2cf11ef",
   "metadata": {
    "execution": {
     "iopub.execute_input": "2023-11-15T01:00:42.192013Z",
     "iopub.status.busy": "2023-11-15T01:00:42.191188Z",
     "iopub.status.idle": "2023-11-15T01:00:42.208934Z",
     "shell.execute_reply": "2023-11-15T01:00:42.207844Z",
     "shell.execute_reply.started": "2023-11-15T01:00:42.191958Z"
    },
    "tags": []
   },
   "outputs": [],
   "source": [
    "query_answer_table = faq_table[['qry_txt_cont', 'intent_nm']]"
   ]
  },
  {
   "cell_type": "code",
   "execution_count": 21,
   "id": "eaedf1af-76c3-48ce-9f07-a2a1f422b06c",
   "metadata": {
    "execution": {
     "iopub.execute_input": "2023-11-15T01:00:42.631833Z",
     "iopub.status.busy": "2023-11-15T01:00:42.631117Z",
     "iopub.status.idle": "2023-11-15T01:00:42.644421Z",
     "shell.execute_reply": "2023-11-15T01:00:42.643595Z",
     "shell.execute_reply.started": "2023-11-15T01:00:42.631784Z"
    },
    "tags": []
   },
   "outputs": [
    {
     "data": {
      "text/html": [
       "<div>\n",
       "<style scoped>\n",
       "    .dataframe tbody tr th:only-of-type {\n",
       "        vertical-align: middle;\n",
       "    }\n",
       "\n",
       "    .dataframe tbody tr th {\n",
       "        vertical-align: top;\n",
       "    }\n",
       "\n",
       "    .dataframe thead th {\n",
       "        text-align: right;\n",
       "    }\n",
       "</style>\n",
       "<table border=\"1\" class=\"dataframe\">\n",
       "  <thead>\n",
       "    <tr style=\"text-align: right;\">\n",
       "      <th></th>\n",
       "      <th>qry_txt_cont</th>\n",
       "      <th>intent_nm</th>\n",
       "    </tr>\n",
       "  </thead>\n",
       "  <tbody>\n",
       "    <tr>\n",
       "      <th>0</th>\n",
       "      <td>t로밍 3분</td>\n",
       "      <td>자동안심T로밍음성</td>\n",
       "    </tr>\n",
       "    <tr>\n",
       "      <th>1</th>\n",
       "      <td>로밍 현지 통화 요금</td>\n",
       "      <td>로밍통화요금</td>\n",
       "    </tr>\n",
       "  </tbody>\n",
       "</table>\n",
       "</div>"
      ],
      "text/plain": [
       "  qry_txt_cont  intent_nm\n",
       "0       t로밍 3분  자동안심T로밍음성\n",
       "1  로밍 현지 통화 요금     로밍통화요금"
      ]
     },
     "execution_count": 21,
     "metadata": {},
     "output_type": "execute_result"
    }
   ],
   "source": [
    "query_answer_table.head(2)"
   ]
  },
  {
   "cell_type": "code",
   "execution_count": 22,
   "id": "b4aa03b6-3e5e-4656-b7c6-e350c11cb882",
   "metadata": {
    "execution": {
     "iopub.execute_input": "2023-11-15T01:00:44.179346Z",
     "iopub.status.busy": "2023-11-15T01:00:44.178598Z",
     "iopub.status.idle": "2023-11-15T01:00:44.280564Z",
     "shell.execute_reply": "2023-11-15T01:00:44.279548Z",
     "shell.execute_reply.started": "2023-11-15T01:00:44.179272Z"
    },
    "tags": []
   },
   "outputs": [],
   "source": [
    "query_to_answer = query_answer_table.set_index('qry_txt_cont').to_dict()['intent_nm']"
   ]
  },
  {
   "cell_type": "markdown",
   "id": "8a6610ba-06d2-4381-a1b2-e38d18930681",
   "metadata": {},
   "source": [
    "# cal metric"
   ]
  },
  {
   "cell_type": "code",
   "execution_count": 23,
   "id": "53e6d591-b67d-47dd-acd1-f49935e217d2",
   "metadata": {
    "execution": {
     "iopub.execute_input": "2023-11-15T01:00:46.692042Z",
     "iopub.status.busy": "2023-11-15T01:00:46.691304Z",
     "iopub.status.idle": "2023-11-15T01:00:46.800572Z",
     "shell.execute_reply": "2023-11-15T01:00:46.799592Z",
     "shell.execute_reply.started": "2023-11-15T01:00:46.691990Z"
    },
    "tags": []
   },
   "outputs": [],
   "source": [
    "query_chunk_list = chunking(idx2query)\n",
    "query_result = []\n",
    "query_index_result = []\n",
    "\n",
    "for chunks in query_chunk_list:\n",
    "    temp_result = []\n",
    "    temp_index_result = []\n",
    "    for chunk in chunks:\n",
    "        temp_result.append(query_to_answer[chunk])\n",
    "        temp_index_result.append(intent_nm2idx[query_to_answer[chunk]])\n",
    "        \n",
    "    query_result.append(temp_result)\n",
    "    query_index_result.append(temp_index_result)"
   ]
  },
  {
   "cell_type": "code",
   "execution_count": 26,
   "id": "c2e65fda-0d31-48c3-a34c-61d97f987cb1",
   "metadata": {
    "execution": {
     "iopub.execute_input": "2023-11-15T01:01:19.643419Z",
     "iopub.status.busy": "2023-11-15T01:01:19.642616Z",
     "iopub.status.idle": "2023-11-15T01:01:19.650828Z",
     "shell.execute_reply": "2023-11-15T01:01:19.649900Z",
     "shell.execute_reply.started": "2023-11-15T01:01:19.643368Z"
    }
   },
   "outputs": [
    {
     "data": {
      "text/plain": [
       "1228"
      ]
     },
     "execution_count": 26,
     "metadata": {},
     "output_type": "execute_result"
    }
   ],
   "source": [
    "len(query_chunk_list)"
   ]
  },
  {
   "cell_type": "code",
   "execution_count": 36,
   "id": "9306340b-29b1-493d-bae8-8c393434808c",
   "metadata": {
    "execution": {
     "iopub.execute_input": "2023-11-15T04:12:50.183780Z",
     "iopub.status.busy": "2023-11-15T04:12:50.183406Z",
     "iopub.status.idle": "2023-11-15T04:12:50.729194Z",
     "shell.execute_reply": "2023-11-15T04:12:50.728207Z",
     "shell.execute_reply.started": "2023-11-15T04:12:50.183755Z"
    },
    "tags": []
   },
   "outputs": [],
   "source": [
    "from torchmetrics.functional.pairwise import pairwise_cosine_similarity"
   ]
  },
  {
   "cell_type": "code",
   "execution_count": 234,
   "id": "f177d2ea-0155-4e6a-9a2c-fb5b05082f4d",
   "metadata": {
    "execution": {
     "iopub.execute_input": "2023-11-14T09:37:39.097062Z",
     "iopub.status.busy": "2023-11-14T09:37:39.096660Z",
     "iopub.status.idle": "2023-11-14T12:14:10.546619Z",
     "shell.execute_reply": "2023-11-14T12:14:10.545520Z",
     "shell.execute_reply.started": "2023-11-14T09:37:39.097036Z"
    },
    "tags": []
   },
   "outputs": [
    {
     "data": {
      "application/vnd.jupyter.widget-view+json": {
       "model_id": "1fd6298c7a304ae4b71fd006a2c7a257",
       "version_major": 2,
       "version_minor": 0
      },
      "text/plain": [
       "  0%|          | 0/1228 [00:00<?, ?it/s]"
      ]
     },
     "metadata": {},
     "output_type": "display_data"
    }
   ],
   "source": [
    "predict_list = []\n",
    "wrong_count = 0\n",
    "for i in tqdm(range(len(query_chunk_list))):\n",
    "    query = query_chunk_list[i]\n",
    "    query_embed = torch.from_numpy(model.encode(query))\n",
    "    cos_mat = pairwise_cosine_similarity(query_embed, embedding_result)\n",
    "    values, indices = torch.topk(cos_mat, k = 1)\n",
    "    predict_list = indices[:, 0]\n",
    "    label = torch.tensor(query_index_result[i])\n",
    "    wrong_count += label[label != predict_list].size()[0]"
   ]
  },
  {
   "cell_type": "code",
   "execution_count": 27,
   "id": "195f324c-8646-4d21-b113-ab4a248fd617",
   "metadata": {
    "execution": {
     "iopub.execute_input": "2023-11-15T01:01:30.465119Z",
     "iopub.status.busy": "2023-11-15T01:01:30.464252Z",
     "iopub.status.idle": "2023-11-15T01:01:30.473184Z",
     "shell.execute_reply": "2023-11-15T01:01:30.471963Z",
     "shell.execute_reply.started": "2023-11-15T01:01:30.465067Z"
    },
    "tags": []
   },
   "outputs": [
    {
     "data": {
      "text/plain": [
       "29714.0"
      ]
     },
     "execution_count": 27,
     "metadata": {},
     "output_type": "execute_result"
    }
   ],
   "source": [
    "(24.197068403908794 * 1228) / "
   ]
  },
  {
   "cell_type": "markdown",
   "id": "4bbab312-b568-4485-af58-0e377ecbc31e",
   "metadata": {},
   "source": [
    "# Blacklist"
   ]
  },
  {
   "cell_type": "code",
   "execution_count": 26,
   "id": "53761ac2-e667-4a94-ac0d-1397db954e65",
   "metadata": {
    "execution": {
     "iopub.execute_input": "2023-11-15T04:53:13.732787Z",
     "iopub.status.busy": "2023-11-15T04:53:13.732079Z",
     "iopub.status.idle": "2023-11-15T04:53:13.740442Z",
     "shell.execute_reply": "2023-11-15T04:53:13.739275Z",
     "shell.execute_reply.started": "2023-11-15T04:53:13.732735Z"
    },
    "tags": []
   },
   "outputs": [
    {
     "data": {
      "text/plain": [
       "(1609, 1024)"
      ]
     },
     "execution_count": 26,
     "metadata": {},
     "output_type": "execute_result"
    }
   ],
   "source": [
    "embedding_result.shape"
   ]
  },
  {
   "cell_type": "code",
   "execution_count": 27,
   "id": "df8fd422-2e73-45ba-90b7-85cbfd06cf6c",
   "metadata": {
    "execution": {
     "iopub.execute_input": "2023-11-15T04:53:13.880205Z",
     "iopub.status.busy": "2023-11-15T04:53:13.879522Z",
     "iopub.status.idle": "2023-11-15T04:53:13.885217Z",
     "shell.execute_reply": "2023-11-15T04:53:13.884044Z",
     "shell.execute_reply.started": "2023-11-15T04:53:13.880158Z"
    },
    "tags": []
   },
   "outputs": [],
   "source": [
    "black_list_path = '/home/x1112436/faq/blacklist/blacklist.txt'"
   ]
  },
  {
   "cell_type": "code",
   "execution_count": 28,
   "id": "1b37be47-3e72-4f4b-8e8b-82e5cd3569eb",
   "metadata": {
    "execution": {
     "iopub.execute_input": "2023-11-15T04:53:15.472732Z",
     "iopub.status.busy": "2023-11-15T04:53:15.472019Z",
     "iopub.status.idle": "2023-11-15T04:53:15.501266Z",
     "shell.execute_reply": "2023-11-15T04:53:15.500329Z",
     "shell.execute_reply.started": "2023-11-15T04:53:15.472683Z"
    },
    "tags": []
   },
   "outputs": [],
   "source": [
    "black_list_sent = set()\n",
    "with open(black_list_path) as f:\n",
    "    for data in f:\n",
    "        line = data.strip()\n",
    "        black_list_sent.add(line)"
   ]
  },
  {
   "cell_type": "code",
   "execution_count": 29,
   "id": "659a0bec-6d61-4339-95bd-4b3fbd81501e",
   "metadata": {
    "execution": {
     "iopub.execute_input": "2023-11-15T04:53:16.519905Z",
     "iopub.status.busy": "2023-11-15T04:53:16.519182Z",
     "iopub.status.idle": "2023-11-15T04:53:16.528502Z",
     "shell.execute_reply": "2023-11-15T04:53:16.527235Z",
     "shell.execute_reply.started": "2023-11-15T04:53:16.519843Z"
    },
    "tags": []
   },
   "outputs": [],
   "source": [
    "black_list_sent = list(black_list_sent)"
   ]
  },
  {
   "cell_type": "code",
   "execution_count": 3,
   "id": "cc676e0a-b2d5-446d-86e9-78e0a34c9b89",
   "metadata": {
    "execution": {
     "iopub.execute_input": "2023-11-15T04:59:58.984117Z",
     "iopub.status.busy": "2023-11-15T04:59:58.983375Z",
     "iopub.status.idle": "2023-11-15T04:59:58.989720Z",
     "shell.execute_reply": "2023-11-15T04:59:58.988496Z",
     "shell.execute_reply.started": "2023-11-15T04:59:58.984067Z"
    }
   },
   "outputs": [],
   "source": [
    "import torch"
   ]
  },
  {
   "cell_type": "code",
   "execution_count": 4,
   "id": "8ea1c967-6449-4773-8da2-b785a6bb074f",
   "metadata": {
    "execution": {
     "iopub.execute_input": "2023-11-15T05:00:07.141644Z",
     "iopub.status.busy": "2023-11-15T05:00:07.140968Z",
     "iopub.status.idle": "2023-11-15T05:00:07.150888Z",
     "shell.execute_reply": "2023-11-15T05:00:07.150252Z",
     "shell.execute_reply.started": "2023-11-15T05:00:07.141595Z"
    }
   },
   "outputs": [
    {
     "data": {
      "text/plain": [
       "'1.8.1+cu102'"
      ]
     },
     "execution_count": 4,
     "metadata": {},
     "output_type": "execute_result"
    }
   ],
   "source": [
    "torch.__version__"
   ]
  },
  {
   "cell_type": "code",
   "execution_count": 1,
   "id": "f18c7317-149c-489a-aeb8-b2afc849fea3",
   "metadata": {
    "execution": {
     "iopub.execute_input": "2023-11-16T04:41:03.051986Z",
     "iopub.status.busy": "2023-11-16T04:41:03.051603Z",
     "iopub.status.idle": "2023-11-16T04:41:03.054958Z",
     "shell.execute_reply": "2023-11-16T04:41:03.054407Z",
     "shell.execute_reply.started": "2023-11-16T04:41:03.051959Z"
    },
    "tags": []
   },
   "outputs": [],
   "source": [
    "#import torchmetrics"
   ]
  },
  {
   "cell_type": "code",
   "execution_count": 2,
   "id": "58131f9d-267a-448c-b7fd-5bf3370a9198",
   "metadata": {
    "execution": {
     "iopub.execute_input": "2023-11-16T04:41:04.441361Z",
     "iopub.status.busy": "2023-11-16T04:41:04.441004Z",
     "iopub.status.idle": "2023-11-16T04:41:04.443908Z",
     "shell.execute_reply": "2023-11-16T04:41:04.443424Z",
     "shell.execute_reply.started": "2023-11-16T04:41:04.441337Z"
    },
    "tags": []
   },
   "outputs": [],
   "source": [
    "#from torchmetrics.functional.pairwise import pairwise_cosine_similarity"
   ]
  },
  {
   "cell_type": "code",
   "execution_count": 31,
   "id": "93fb1ee2-7574-46db-9825-47f09feff20b",
   "metadata": {
    "execution": {
     "iopub.execute_input": "2023-11-15T04:53:17.179917Z",
     "iopub.status.busy": "2023-11-15T04:53:17.179267Z",
     "iopub.status.idle": "2023-11-15T04:53:17.185813Z",
     "shell.execute_reply": "2023-11-15T04:53:17.184613Z",
     "shell.execute_reply.started": "2023-11-15T04:53:17.179848Z"
    },
    "tags": []
   },
   "outputs": [],
   "source": [
    "black_list_chunk_result = chunking(black_list_sent, chunk_size= 200)"
   ]
  },
  {
   "cell_type": "code",
   "execution_count": 46,
   "id": "ded717c6-31cd-43b2-8e47-70e2f29d2b08",
   "metadata": {
    "execution": {
     "iopub.execute_input": "2023-11-15T04:19:32.037407Z",
     "iopub.status.busy": "2023-11-15T04:19:32.037031Z",
     "iopub.status.idle": "2023-11-15T04:19:32.040208Z",
     "shell.execute_reply": "2023-11-15T04:19:32.039679Z",
     "shell.execute_reply.started": "2023-11-15T04:19:32.037383Z"
    },
    "tags": []
   },
   "outputs": [],
   "source": [
    "from tqdm.notebook import tqdm"
   ]
  },
  {
   "cell_type": "code",
   "execution_count": 49,
   "id": "ced0d15f-3da9-4e5b-8031-0212588362af",
   "metadata": {
    "execution": {
     "iopub.execute_input": "2023-11-15T04:20:41.479425Z",
     "iopub.status.busy": "2023-11-15T04:20:41.479029Z",
     "iopub.status.idle": "2023-11-15T04:20:41.482421Z",
     "shell.execute_reply": "2023-11-15T04:20:41.481844Z",
     "shell.execute_reply.started": "2023-11-15T04:20:41.479400Z"
    },
    "tags": []
   },
   "outputs": [],
   "source": [
    "embedding_result = torch.from_numpy(embedding_result)"
   ]
  },
  {
   "cell_type": "code",
   "execution_count": null,
   "id": "90356fb8-a594-43f0-a34e-f9a3f77ffcaa",
   "metadata": {
    "execution": {
     "iopub.execute_input": "2023-11-15T04:24:05.950888Z",
     "iopub.status.busy": "2023-11-15T04:24:05.949995Z"
    },
    "tags": []
   },
   "outputs": [
    {
     "data": {
      "application/vnd.jupyter.widget-view+json": {
       "model_id": "6a39034615c24de28018579df7eb26d2",
       "version_major": 2,
       "version_minor": 0
      },
      "text/plain": [
       "  0%|          | 0/129 [00:00<?, ?it/s]"
      ]
     },
     "metadata": {},
     "output_type": "display_data"
    }
   ],
   "source": [
    "predict_list = []\n",
    "value_list = []\n",
    "wrong_count = 0\n",
    "for i in tqdm(range(len(black_list_chunk_result))):\n",
    "    query = black_list_chunk_result[i]\n",
    "    query_embed = torch.from_numpy(model.encode(query))\n",
    "    cos_mat = pairwise_cosine_similarity(query_embed, embedding_result)\n",
    "    values, indices = torch.topk(cos_mat, k = 1)\n",
    "    value_list.extend(values[:, 0].tolist())"
   ]
  },
  {
   "cell_type": "markdown",
   "id": "d7c03102-a574-45df-9720-96914db7aadf",
   "metadata": {},
   "source": [
    "# real_query"
   ]
  },
  {
   "cell_type": "code",
   "execution_count": 8,
   "id": "9cacacff-424d-47af-a62f-3d4f19ffed8a",
   "metadata": {
    "execution": {
     "iopub.execute_input": "2023-11-16T05:20:03.353419Z",
     "iopub.status.busy": "2023-11-16T05:20:03.352551Z",
     "iopub.status.idle": "2023-11-16T05:20:03.359330Z",
     "shell.execute_reply": "2023-11-16T05:20:03.358171Z",
     "shell.execute_reply.started": "2023-11-16T05:20:03.353362Z"
    },
    "tags": []
   },
   "outputs": [],
   "source": [
    "root_path = '/home/x1112436/faq/service_query'"
   ]
  },
  {
   "cell_type": "code",
   "execution_count": 100,
   "id": "52fa2075-278e-44c3-b1e5-c64c0f94367b",
   "metadata": {
    "execution": {
     "iopub.execute_input": "2023-11-16T08:19:14.310185Z",
     "iopub.status.busy": "2023-11-16T08:19:14.309326Z",
     "iopub.status.idle": "2023-11-16T08:19:14.316354Z",
     "shell.execute_reply": "2023-11-16T08:19:14.315023Z",
     "shell.execute_reply.started": "2023-11-16T08:19:14.310132Z"
    },
    "tags": []
   },
   "outputs": [],
   "source": [
    "#file_path = '/home/x1112436/faq/service_query/service_query.csv'\n",
    "file_path = '/home/x1112436/faq/service_query/recent_q.csv'"
   ]
  },
  {
   "cell_type": "code",
   "execution_count": 101,
   "id": "8eace5b7-b350-4f66-8c99-a9e661b591cb",
   "metadata": {
    "execution": {
     "iopub.execute_input": "2023-11-16T08:19:14.803630Z",
     "iopub.status.busy": "2023-11-16T08:19:14.802869Z",
     "iopub.status.idle": "2023-11-16T08:19:15.304998Z",
     "shell.execute_reply": "2023-11-16T08:19:15.303838Z",
     "shell.execute_reply.started": "2023-11-16T08:19:14.803582Z"
    },
    "tags": []
   },
   "outputs": [],
   "source": [
    "data = []\n",
    "with open(file_path) as f:\n",
    "    for line in f:\n",
    "        datum = line.strip().split('|')\n",
    "        query = datum[0]\n",
    "        query_cnt = datum[1]\n",
    "        model_result = datum[2:]\n",
    "        data.append({'query': query, 'query_cnt':query_cnt, 'model_result': model_result})"
   ]
  },
  {
   "cell_type": "code",
   "execution_count": 102,
   "id": "22b62c84-3266-409d-8f48-baa7d84bd60a",
   "metadata": {
    "execution": {
     "iopub.execute_input": "2023-11-16T08:19:15.478055Z",
     "iopub.status.busy": "2023-11-16T08:19:15.476863Z",
     "iopub.status.idle": "2023-11-16T08:19:15.503843Z",
     "shell.execute_reply": "2023-11-16T08:19:15.502904Z",
     "shell.execute_reply.started": "2023-11-16T08:19:15.478004Z"
    },
    "tags": []
   },
   "outputs": [],
   "source": [
    "import pandas as pd\n",
    "df = pd.DataFrame(data)"
   ]
  },
  {
   "cell_type": "code",
   "execution_count": 112,
   "id": "7d43c4cb-786d-4f49-a78a-a6db41f241cc",
   "metadata": {
    "execution": {
     "iopub.execute_input": "2023-11-16T08:20:35.727900Z",
     "iopub.status.busy": "2023-11-16T08:20:35.727114Z",
     "iopub.status.idle": "2023-11-16T08:20:35.737455Z",
     "shell.execute_reply": "2023-11-16T08:20:35.736429Z",
     "shell.execute_reply.started": "2023-11-16T08:20:35.727849Z"
    },
    "tags": []
   },
   "outputs": [],
   "source": [
    "query_list = list(df['query'].unique())"
   ]
  },
  {
   "cell_type": "code",
   "execution_count": 113,
   "id": "06540488-ee49-4831-98a2-a3cf7c3fb3b2",
   "metadata": {
    "execution": {
     "iopub.execute_input": "2023-11-16T08:20:37.455836Z",
     "iopub.status.busy": "2023-11-16T08:20:37.455049Z",
     "iopub.status.idle": "2023-11-16T08:20:37.461908Z",
     "shell.execute_reply": "2023-11-16T08:20:37.460733Z",
     "shell.execute_reply.started": "2023-11-16T08:20:37.455784Z"
    }
   },
   "outputs": [],
   "source": [
    "real_query_chunk = chunking(query_list)"
   ]
  },
  {
   "cell_type": "code",
   "execution_count": 114,
   "id": "eace093f-778f-465a-a155-b804629a1b79",
   "metadata": {
    "execution": {
     "iopub.execute_input": "2023-11-16T08:20:39.167681Z",
     "iopub.status.busy": "2023-11-16T08:20:39.166968Z",
     "iopub.status.idle": "2023-11-16T08:20:39.173155Z",
     "shell.execute_reply": "2023-11-16T08:20:39.171984Z",
     "shell.execute_reply.started": "2023-11-16T08:20:39.167631Z"
    }
   },
   "outputs": [],
   "source": [
    "from tqdm.notebook import tqdm\n",
    "import numpy as np"
   ]
  },
  {
   "cell_type": "code",
   "execution_count": 115,
   "id": "c75c63f0-4ef1-4adc-8731-fc6b261d6e89",
   "metadata": {
    "execution": {
     "iopub.execute_input": "2023-11-16T08:20:39.399399Z",
     "iopub.status.busy": "2023-11-16T08:20:39.398711Z",
     "iopub.status.idle": "2023-11-16T08:20:46.886844Z",
     "shell.execute_reply": "2023-11-16T08:20:46.885630Z",
     "shell.execute_reply.started": "2023-11-16T08:20:39.399350Z"
    }
   },
   "outputs": [
    {
     "data": {
      "application/vnd.jupyter.widget-view+json": {
       "model_id": "e49bab30c12e479bad3ec00861ca755f",
       "version_major": 2,
       "version_minor": 0
      },
      "text/plain": [
       "  0%|          | 0/34 [00:00<?, ?it/s]"
      ]
     },
     "metadata": {},
     "output_type": "display_data"
    }
   ],
   "source": [
    "result = []\n",
    "for i in tqdm(range(len(real_query_chunk))):\n",
    "    if i ==0:\n",
    "        embedding_result = model.encode(real_query_chunk[i])\n",
    "    else:\n",
    "        embedding = model.encode(real_query_chunk[i])\n",
    "        embedding_result = np.concatenate((embedding_result, embedding), axis=0)\n",
    "    result.extend(real_query_chunk[i])"
   ]
  },
  {
   "cell_type": "code",
   "execution_count": 116,
   "id": "039183d5-7afb-402a-99ab-b86956e0e942",
   "metadata": {
    "execution": {
     "iopub.execute_input": "2023-11-16T08:20:51.610303Z",
     "iopub.status.busy": "2023-11-16T08:20:51.609407Z",
     "iopub.status.idle": "2023-11-16T08:20:51.616978Z",
     "shell.execute_reply": "2023-11-16T08:20:51.615706Z",
     "shell.execute_reply.started": "2023-11-16T08:20:51.610244Z"
    }
   },
   "outputs": [],
   "source": [
    "import pickle\n",
    "import torch"
   ]
  },
  {
   "cell_type": "code",
   "execution_count": 117,
   "id": "c270ceca-5251-4622-bd83-da320985aaaf",
   "metadata": {
    "execution": {
     "iopub.execute_input": "2023-11-16T08:20:51.620386Z",
     "iopub.status.busy": "2023-11-16T08:20:51.619276Z",
     "iopub.status.idle": "2023-11-16T08:20:51.894755Z",
     "shell.execute_reply": "2023-11-16T08:20:51.893520Z",
     "shell.execute_reply.started": "2023-11-16T08:20:51.620338Z"
    }
   },
   "outputs": [],
   "source": [
    "with open('./pickle/intent.pkl', 'rb') as f:\n",
    "    intent_resource = pickle.load(f)"
   ]
  },
  {
   "cell_type": "code",
   "execution_count": 118,
   "id": "cfa53fb6-4cd1-4612-a507-c9ea209f521a",
   "metadata": {
    "execution": {
     "iopub.execute_input": "2023-11-16T08:20:52.495103Z",
     "iopub.status.busy": "2023-11-16T08:20:52.493809Z",
     "iopub.status.idle": "2023-11-16T08:20:52.499972Z",
     "shell.execute_reply": "2023-11-16T08:20:52.498865Z",
     "shell.execute_reply.started": "2023-11-16T08:20:52.495054Z"
    }
   },
   "outputs": [],
   "source": [
    "idx2intent = intent_resource['idx2intent']"
   ]
  },
  {
   "cell_type": "code",
   "execution_count": 119,
   "id": "43b8114f-29bf-44f1-94be-f62494fd34d3",
   "metadata": {
    "execution": {
     "iopub.execute_input": "2023-11-16T08:20:52.886571Z",
     "iopub.status.busy": "2023-11-16T08:20:52.885829Z",
     "iopub.status.idle": "2023-11-16T08:20:53.006150Z",
     "shell.execute_reply": "2023-11-16T08:20:53.005139Z",
     "shell.execute_reply.started": "2023-11-16T08:20:52.886523Z"
    }
   },
   "outputs": [],
   "source": [
    "intent_embedding = torch.from_numpy(torch.load('./embedding_result/intent.pkl'))"
   ]
  },
  {
   "cell_type": "code",
   "execution_count": 120,
   "id": "4164bf07-3448-41ca-b662-3f5af4d7b1d8",
   "metadata": {
    "execution": {
     "iopub.execute_input": "2023-11-16T08:20:53.881967Z",
     "iopub.status.busy": "2023-11-16T08:20:53.881223Z",
     "iopub.status.idle": "2023-11-16T08:20:53.887577Z",
     "shell.execute_reply": "2023-11-16T08:20:53.886358Z",
     "shell.execute_reply.started": "2023-11-16T08:20:53.881917Z"
    }
   },
   "outputs": [],
   "source": [
    "import torch.nn.functional as F"
   ]
  },
  {
   "cell_type": "code",
   "execution_count": 121,
   "id": "0a158244-e870-434c-a77f-a928c80b7d65",
   "metadata": {
    "execution": {
     "iopub.execute_input": "2023-11-16T08:20:54.236033Z",
     "iopub.status.busy": "2023-11-16T08:20:54.235120Z",
     "iopub.status.idle": "2023-11-16T08:20:54.278298Z",
     "shell.execute_reply": "2023-11-16T08:20:54.277541Z",
     "shell.execute_reply.started": "2023-11-16T08:20:54.235944Z"
    }
   },
   "outputs": [],
   "source": [
    "values, indices = torch.topk(F.normalize(torch.from_numpy(embedding_result), dim=1) @ F.normalize(intent_embedding.T, dim=1), 5)"
   ]
  },
  {
   "cell_type": "code",
   "execution_count": 122,
   "id": "b2a12688-1e32-4d57-ba8b-10ffa77f8adb",
   "metadata": {
    "execution": {
     "iopub.execute_input": "2023-11-16T08:20:54.850859Z",
     "iopub.status.busy": "2023-11-16T08:20:54.850066Z",
     "iopub.status.idle": "2023-11-16T08:20:55.327008Z",
     "shell.execute_reply": "2023-11-16T08:20:55.326036Z",
     "shell.execute_reply.started": "2023-11-16T08:20:54.850804Z"
    }
   },
   "outputs": [],
   "source": [
    "result = []\n",
    "for i in range(values.shape[0]):\n",
    "    query = query_list[i]\n",
    "    intent_nm_list = []\n",
    "    value_list = []\n",
    "    for j in range(values.shape[1]):\n",
    "        value = np.round(values[i][j].item(),3)\n",
    "        intent_nm = idx2intent[indices[i][j]]\n",
    "        intent_nm_list.append(intent_nm+ '(' + str(value) + ')')\n",
    "    result.append({'query': query, 'a_model_result': intent_nm_list})\n",
    "    "
   ]
  },
  {
   "cell_type": "code",
   "execution_count": 123,
   "id": "b5c4ab3c-7121-423f-acb3-4cbb55691aae",
   "metadata": {
    "execution": {
     "iopub.execute_input": "2023-11-16T08:20:55.651482Z",
     "iopub.status.busy": "2023-11-16T08:20:55.650761Z",
     "iopub.status.idle": "2023-11-16T08:20:55.666129Z",
     "shell.execute_reply": "2023-11-16T08:20:55.665166Z",
     "shell.execute_reply.started": "2023-11-16T08:20:55.651431Z"
    }
   },
   "outputs": [],
   "source": [
    "new_model = pd.DataFrame(result)"
   ]
  },
  {
   "cell_type": "code",
   "execution_count": 124,
   "id": "516658f3-7da8-4a58-904d-2a7ca25de21c",
   "metadata": {
    "execution": {
     "iopub.execute_input": "2023-11-16T08:20:56.048579Z",
     "iopub.status.busy": "2023-11-16T08:20:56.047893Z",
     "iopub.status.idle": "2023-11-16T08:20:56.065244Z",
     "shell.execute_reply": "2023-11-16T08:20:56.064442Z",
     "shell.execute_reply.started": "2023-11-16T08:20:56.048531Z"
    }
   },
   "outputs": [
    {
     "data": {
      "text/html": [
       "<div>\n",
       "<style scoped>\n",
       "    .dataframe tbody tr th:only-of-type {\n",
       "        vertical-align: middle;\n",
       "    }\n",
       "\n",
       "    .dataframe tbody tr th {\n",
       "        vertical-align: top;\n",
       "    }\n",
       "\n",
       "    .dataframe thead th {\n",
       "        text-align: right;\n",
       "    }\n",
       "</style>\n",
       "<table border=\"1\" class=\"dataframe\">\n",
       "  <thead>\n",
       "    <tr style=\"text-align: right;\">\n",
       "      <th></th>\n",
       "      <th>query</th>\n",
       "      <th>query_cnt</th>\n",
       "      <th>model_result</th>\n",
       "    </tr>\n",
       "  </thead>\n",
       "  <tbody>\n",
       "    <tr>\n",
       "      <th>0</th>\n",
       "      <td>미납요금 납부 가능일 문의</td>\n",
       "      <td>49194</td>\n",
       "      <td>[SKT미납센터연락처(0.4809759), 미납이용정지(0.457217725), 미...</td>\n",
       "    </tr>\n",
       "    <tr>\n",
       "      <th>1</th>\n",
       "      <td>미납 문의할게</td>\n",
       "      <td>27234</td>\n",
       "      <td>[SKT해지미납센터연락처(0.4995), SKT미납센터연락처(0.4940547), ...</td>\n",
       "    </tr>\n",
       "    <tr>\n",
       "      <th>2</th>\n",
       "      <td>미납문의할게</td>\n",
       "      <td>1616</td>\n",
       "      <td>[SKT미납센터연락처(0.49495625), 미납직권해지(0.463400065), ...</td>\n",
       "    </tr>\n",
       "  </tbody>\n",
       "</table>\n",
       "</div>"
      ],
      "text/plain": [
       "            query query_cnt                                       model_result\n",
       "0  미납요금 납부 가능일 문의     49194  [SKT미납센터연락처(0.4809759), 미납이용정지(0.457217725), 미...\n",
       "1         미납 문의할게     27234  [SKT해지미납센터연락처(0.4995), SKT미납센터연락처(0.4940547), ...\n",
       "2          미납문의할게      1616  [SKT미납센터연락처(0.49495625), 미납직권해지(0.463400065), ..."
      ]
     },
     "execution_count": 124,
     "metadata": {},
     "output_type": "execute_result"
    }
   ],
   "source": [
    "df.head(3)"
   ]
  },
  {
   "cell_type": "code",
   "execution_count": 125,
   "id": "02b1e2d5-a5c7-4a14-a182-d93b201c2d9c",
   "metadata": {
    "execution": {
     "iopub.execute_input": "2023-11-16T08:20:59.442849Z",
     "iopub.status.busy": "2023-11-16T08:20:59.442128Z",
     "iopub.status.idle": "2023-11-16T08:20:59.460980Z",
     "shell.execute_reply": "2023-11-16T08:20:59.460086Z",
     "shell.execute_reply.started": "2023-11-16T08:20:59.442799Z"
    }
   },
   "outputs": [],
   "source": [
    "final_df = pd.merge(df, new_model, on = 'query')"
   ]
  },
  {
   "cell_type": "code",
   "execution_count": 129,
   "id": "dfe286d2-9354-437f-bcbf-a49f074fe57f",
   "metadata": {
    "execution": {
     "iopub.execute_input": "2023-11-16T08:39:43.186914Z",
     "iopub.status.busy": "2023-11-16T08:39:43.186179Z",
     "iopub.status.idle": "2023-11-16T08:39:43.207592Z",
     "shell.execute_reply": "2023-11-16T08:39:43.206783Z",
     "shell.execute_reply.started": "2023-11-16T08:39:43.186864Z"
    }
   },
   "outputs": [
    {
     "data": {
      "text/html": [
       "<div>\n",
       "<style scoped>\n",
       "    .dataframe tbody tr th:only-of-type {\n",
       "        vertical-align: middle;\n",
       "    }\n",
       "\n",
       "    .dataframe tbody tr th {\n",
       "        vertical-align: top;\n",
       "    }\n",
       "\n",
       "    .dataframe thead th {\n",
       "        text-align: right;\n",
       "    }\n",
       "</style>\n",
       "<table border=\"1\" class=\"dataframe\">\n",
       "  <thead>\n",
       "    <tr style=\"text-align: right;\">\n",
       "      <th></th>\n",
       "      <th>query</th>\n",
       "      <th>query_cnt</th>\n",
       "      <th>model_result</th>\n",
       "      <th>a_model_result</th>\n",
       "    </tr>\n",
       "  </thead>\n",
       "  <tbody>\n",
       "    <tr>\n",
       "      <th>6556</th>\n",
       "      <td>감사합니다 연락주시면 좋겠습니다</td>\n",
       "      <td>1</td>\n",
       "      <td>[휴대폰결제대행사연락처(0.48269505), SK텔레콤고객센터운영시간(0.4657...</td>\n",
       "      <td>[유선인터넷모뎀공유기(0.465), 퀵보이스차단서비스(0.465), 퀵보이스이용방법...</td>\n",
       "    </tr>\n",
       "    <tr>\n",
       "      <th>6557</th>\n",
       "      <td>10일까지 납부가능 합니다</td>\n",
       "      <td>1</td>\n",
       "      <td>[부가사용금액(0.463944525), 과납(0.45516785), 요금납부일확인방...</td>\n",
       "      <td>[요금납부일확인방법(0.432), 단말기할부금중도납부방법(0.405), 각종업무구비...</td>\n",
       "    </tr>\n",
       "    <tr>\n",
       "      <th>6558</th>\n",
       "      <td>영업장 전번 부탁드립니다</td>\n",
       "      <td>1</td>\n",
       "      <td>[영업장위치확인(0.4868497), 개통대리점조회방법(0.43437485), 행복...</td>\n",
       "      <td>[영업장위치확인(0.637), 제조사AS센터연락처(0.534), 개통대리점조회방법(...</td>\n",
       "    </tr>\n",
       "    <tr>\n",
       "      <th>6559</th>\n",
       "      <td>타통신사에서는 신호가 먹통이 되면 유심 갈아끼우라고 했는데요 skt와의 절차는 어떻...</td>\n",
       "      <td>1</td>\n",
       "      <td>[USIM기기변경방법(0.4823117), USIM카드교품방법(0.4812251),...</td>\n",
       "      <td>[USIM기변방법(0.552), USIM카드교품방법(0.524), 로밍중USIM변경...</td>\n",
       "    </tr>\n",
       "    <tr>\n",
       "      <th>6560</th>\n",
       "      <td>네연락해보겠습니다</td>\n",
       "      <td>1</td>\n",
       "      <td>[휴대폰결제대행사연락처(0.44381103), SK텔레콤고객센터운영시간(0.4045...</td>\n",
       "      <td>[전화상담사연결(0.533), 퀵보이스신청방법(0.425), 퀵보이스해지방법(0.4...</td>\n",
       "    </tr>\n",
       "    <tr>\n",
       "      <th>...</th>\n",
       "      <td>...</td>\n",
       "      <td>...</td>\n",
       "      <td>...</td>\n",
       "      <td>...</td>\n",
       "    </tr>\n",
       "    <tr>\n",
       "      <th>6751</th>\n",
       "      <td>부가서비스 기타 4000원도 있네요</td>\n",
       "      <td>1</td>\n",
       "      <td>[기타요금(0.4781918), 요금부분납부방법(0.44400195), 상품권수납(...</td>\n",
       "      <td>[기타요금(0.709), 음악관련(0.382), 소리관련(0.264), baro4G...</td>\n",
       "    </tr>\n",
       "    <tr>\n",
       "      <th>6752</th>\n",
       "      <td>법인폰입니다</td>\n",
       "      <td>1</td>\n",
       "      <td>[법인폰요금안내서신청_변경방법(0.48128655), 법인폰청구요금조회방법(0.45...</td>\n",
       "      <td>[법인고객센터(0.63), T끼리법인요금제(0.553), T끼리법인요금제회선_사용자...</td>\n",
       "    </tr>\n",
       "    <tr>\n",
       "      <th>6753</th>\n",
       "      <td>노미지 060630</td>\n",
       "      <td>1</td>\n",
       "      <td>[060정보료한도제(0.472423525), 060정보료한도제신청방법(0.47041...</td>\n",
       "      <td>[다이렉트5G62(0.328), T우주패스mini(0.326), PASS신용지키미(...</td>\n",
       "    </tr>\n",
       "    <tr>\n",
       "      <th>6754</th>\n",
       "      <td>11월30일에  납부  가능할까요</td>\n",
       "      <td>1</td>\n",
       "      <td>[요금납부일확인방법(0.8642154)]</td>\n",
       "      <td>[단말기할부금중도납부방법(0.454), 요금납부일확인방법(0.419), OK캐쉬백납...</td>\n",
       "    </tr>\n",
       "    <tr>\n",
       "      <th>6755</th>\n",
       "      <td>미납요금 납부가능일 문의합니다</td>\n",
       "      <td>1</td>\n",
       "      <td>[SKT미납센터연락처(0.476213215), 미납이용정지(0.45389175), ...</td>\n",
       "      <td>[요금납부일확인방법(0.525), SKT미납센터연락처(0.425), 미납이용정지(0...</td>\n",
       "    </tr>\n",
       "  </tbody>\n",
       "</table>\n",
       "<p>200 rows × 4 columns</p>\n",
       "</div>"
      ],
      "text/plain": [
       "                                                  query query_cnt  \\\n",
       "6556                                  감사합니다 연락주시면 좋겠습니다         1   \n",
       "6557                                     10일까지 납부가능 합니다         1   \n",
       "6558                                      영업장 전번 부탁드립니다         1   \n",
       "6559  타통신사에서는 신호가 먹통이 되면 유심 갈아끼우라고 했는데요 skt와의 절차는 어떻...         1   \n",
       "6560                                          네연락해보겠습니다         1   \n",
       "...                                                 ...       ...   \n",
       "6751                                부가서비스 기타 4000원도 있네요         1   \n",
       "6752                                             법인폰입니다         1   \n",
       "6753                                         노미지 060630         1   \n",
       "6754                                 11월30일에  납부  가능할까요         1   \n",
       "6755                                   미납요금 납부가능일 문의합니다         1   \n",
       "\n",
       "                                           model_result  \\\n",
       "6556  [휴대폰결제대행사연락처(0.48269505), SK텔레콤고객센터운영시간(0.4657...   \n",
       "6557  [부가사용금액(0.463944525), 과납(0.45516785), 요금납부일확인방...   \n",
       "6558  [영업장위치확인(0.4868497), 개통대리점조회방법(0.43437485), 행복...   \n",
       "6559  [USIM기기변경방법(0.4823117), USIM카드교품방법(0.4812251),...   \n",
       "6560  [휴대폰결제대행사연락처(0.44381103), SK텔레콤고객센터운영시간(0.4045...   \n",
       "...                                                 ...   \n",
       "6751  [기타요금(0.4781918), 요금부분납부방법(0.44400195), 상품권수납(...   \n",
       "6752  [법인폰요금안내서신청_변경방법(0.48128655), 법인폰청구요금조회방법(0.45...   \n",
       "6753  [060정보료한도제(0.472423525), 060정보료한도제신청방법(0.47041...   \n",
       "6754                             [요금납부일확인방법(0.8642154)]   \n",
       "6755  [SKT미납센터연락처(0.476213215), 미납이용정지(0.45389175), ...   \n",
       "\n",
       "                                         a_model_result  \n",
       "6556  [유선인터넷모뎀공유기(0.465), 퀵보이스차단서비스(0.465), 퀵보이스이용방법...  \n",
       "6557  [요금납부일확인방법(0.432), 단말기할부금중도납부방법(0.405), 각종업무구비...  \n",
       "6558  [영업장위치확인(0.637), 제조사AS센터연락처(0.534), 개통대리점조회방법(...  \n",
       "6559  [USIM기변방법(0.552), USIM카드교품방법(0.524), 로밍중USIM변경...  \n",
       "6560  [전화상담사연결(0.533), 퀵보이스신청방법(0.425), 퀵보이스해지방법(0.4...  \n",
       "...                                                 ...  \n",
       "6751  [기타요금(0.709), 음악관련(0.382), 소리관련(0.264), baro4G...  \n",
       "6752  [법인고객센터(0.63), T끼리법인요금제(0.553), T끼리법인요금제회선_사용자...  \n",
       "6753  [다이렉트5G62(0.328), T우주패스mini(0.326), PASS신용지키미(...  \n",
       "6754  [단말기할부금중도납부방법(0.454), 요금납부일확인방법(0.419), OK캐쉬백납...  \n",
       "6755  [요금납부일확인방법(0.525), SKT미납센터연락처(0.425), 미납이용정지(0...  \n",
       "\n",
       "[200 rows x 4 columns]"
      ]
     },
     "execution_count": 129,
     "metadata": {},
     "output_type": "execute_result"
    }
   ],
   "source": [
    "final_df.tail(200)"
   ]
  },
  {
   "cell_type": "code",
   "execution_count": 88,
   "id": "d2574bc3-10c1-4e5c-b4f6-753182b5a7c7",
   "metadata": {
    "execution": {
     "iopub.execute_input": "2023-11-16T06:37:23.845141Z",
     "iopub.status.busy": "2023-11-16T06:37:23.844335Z",
     "iopub.status.idle": "2023-11-16T06:37:24.004592Z",
     "shell.execute_reply": "2023-11-16T06:37:24.003243Z",
     "shell.execute_reply.started": "2023-11-16T06:37:23.845087Z"
    }
   },
   "outputs": [],
   "source": [
    "final_df.to_csv('./result/result.csv', encoding='utf-8-sig')"
   ]
  },
  {
   "cell_type": "code",
   "execution_count": 97,
   "id": "51618b90-bab8-449a-85bc-377e1b594470",
   "metadata": {
    "execution": {
     "iopub.execute_input": "2023-11-16T06:59:27.163420Z",
     "iopub.status.busy": "2023-11-16T06:59:27.161935Z",
     "iopub.status.idle": "2023-11-16T06:59:27.169901Z",
     "shell.execute_reply": "2023-11-16T06:59:27.168580Z",
     "shell.execute_reply.started": "2023-11-16T06:59:27.163306Z"
    }
   },
   "outputs": [],
   "source": [
    "for intent in idx2intent:\n",
    "    if '리필쿠폰유효기간' in intent:\n",
    "        print(intent)"
   ]
  },
  {
   "cell_type": "code",
   "execution_count": 99,
   "id": "8ade4490-8a5a-416a-b248-f328a7f3287f",
   "metadata": {
    "execution": {
     "iopub.execute_input": "2023-11-16T07:02:23.111041Z",
     "iopub.status.busy": "2023-11-16T07:02:23.110292Z",
     "iopub.status.idle": "2023-11-16T07:02:23.118746Z",
     "shell.execute_reply": "2023-11-16T07:02:23.117549Z",
     "shell.execute_reply.started": "2023-11-16T07:02:23.110990Z"
    }
   },
   "outputs": [
    {
     "data": {
      "text/plain": [
       "False"
      ]
     },
     "execution_count": 99,
     "metadata": {},
     "output_type": "execute_result"
    }
   ],
   "source": [
    "'척척할인' in idx2intent"
   ]
  },
  {
   "cell_type": "code",
   "execution_count": null,
   "id": "25d600bc-14d3-42b8-8abc-f4202129caa7",
   "metadata": {},
   "outputs": [],
   "source": [
    "척척할인"
   ]
  }
 ],
 "metadata": {
  "kernelspec": {
   "display_name": "Python 3 (ipykernel)",
   "language": "python",
   "name": "python3"
  },
  "language_info": {
   "codemirror_mode": {
    "name": "ipython",
    "version": 3
   },
   "file_extension": ".py",
   "mimetype": "text/x-python",
   "name": "python",
   "nbconvert_exporter": "python",
   "pygments_lexer": "ipython3",
   "version": "3.8.12"
  }
 },
 "nbformat": 4,
 "nbformat_minor": 5
}
