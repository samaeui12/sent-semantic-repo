{
 "cells": [
  {
   "cell_type": "code",
   "execution_count": 2,
   "id": "d0af835e-6839-4640-b440-aa84c7b21b05",
   "metadata": {
    "execution": {
     "iopub.execute_input": "2023-12-09T08:34:41.510005Z",
     "iopub.status.busy": "2023-12-09T08:34:41.509229Z",
     "iopub.status.idle": "2023-12-09T08:34:44.045215Z",
     "shell.execute_reply": "2023-12-09T08:34:44.044556Z",
     "shell.execute_reply.started": "2023-12-09T08:34:41.509944Z"
    },
    "tags": []
   },
   "outputs": [],
   "source": [
    "import torch\n",
    "from transformers import (\n",
    "    AdamW,\n",
    "    AutoModel,\n",
    "    get_linear_schedule_with_warmup,\n",
    "    AutoTokenizer,\n",
    "    AutoConfig\n",
    ")"
   ]
  },
  {
   "cell_type": "code",
   "execution_count": 4,
   "id": "6a2d3601-bc1f-40b3-a8b6-0a67fbdf1573",
   "metadata": {
    "execution": {
     "iopub.execute_input": "2023-12-09T08:34:55.751373Z",
     "iopub.status.busy": "2023-12-09T08:34:55.750498Z",
     "iopub.status.idle": "2023-12-09T08:34:55.757668Z",
     "shell.execute_reply": "2023-12-09T08:34:55.756363Z",
     "shell.execute_reply.started": "2023-12-09T08:34:55.751287Z"
    },
    "tags": []
   },
   "outputs": [],
   "source": [
    "import sys\n",
    "module_path = '/home/x1112436/git/sent-semantic-repo'\n",
    "sys.path.append(module_path)"
   ]
  },
  {
   "cell_type": "code",
   "execution_count": 6,
   "id": "2f87d1cd-b311-4d0f-bc07-a1dce4f9e581",
   "metadata": {
    "execution": {
     "iopub.execute_input": "2023-12-09T08:35:40.063317Z",
     "iopub.status.busy": "2023-12-09T08:35:40.062889Z",
     "iopub.status.idle": "2023-12-09T08:35:40.091341Z",
     "shell.execute_reply": "2023-12-09T08:35:40.090679Z",
     "shell.execute_reply.started": "2023-12-09T08:35:40.063284Z"
    },
    "tags": []
   },
   "outputs": [],
   "source": [
    "from src.utils import set_seed\n",
    "from src.trainer import SimcseTrainer\n",
    "from src.dataset import DATASET_MAPPING_DICT\n",
    "from src.utils import PreprocessorFactory \n",
    "from src.utils import get_model_argparse\n",
    "from src.model import MODEL_MAPPING_DICT\n",
    "from src.model import CONFIG_MAPPING_DICT\n",
    "from src.logger import Experi_Logger\n",
    "from config.nli_config import nli_parser_model_args"
   ]
  },
  {
   "cell_type": "code",
   "execution_count": 7,
   "id": "917cacc8-555a-444f-b29c-9d3dc438842c",
   "metadata": {
    "execution": {
     "iopub.execute_input": "2023-12-09T08:35:41.317958Z",
     "iopub.status.busy": "2023-12-09T08:35:41.317261Z",
     "iopub.status.idle": "2023-12-09T08:35:41.326704Z",
     "shell.execute_reply": "2023-12-09T08:35:41.325564Z",
     "shell.execute_reply.started": "2023-12-09T08:35:41.317904Z"
    },
    "tags": []
   },
   "outputs": [],
   "source": [
    "args = nli_parser_model_args()"
   ]
  },
  {
   "cell_type": "code",
   "execution_count": 8,
   "id": "73ed324f-3952-4d5a-b296-e8826dbe7cd2",
   "metadata": {
    "execution": {
     "iopub.execute_input": "2023-12-09T08:35:43.321084Z",
     "iopub.status.busy": "2023-12-09T08:35:43.320308Z",
     "iopub.status.idle": "2023-12-09T08:35:43.383683Z",
     "shell.execute_reply": "2023-12-09T08:35:43.383043Z",
     "shell.execute_reply.started": "2023-12-09T08:35:43.321026Z"
    },
    "tags": []
   },
   "outputs": [],
   "source": [
    "#args.pretrained_model = '/home/x1112436/model_file/faq_sent_roberta/sent_roberta'\n",
    "#args.pretrained_model = f'/home/x1112436/result/faq/modelfile/{args.pretrained_model}'\n",
    "args.device = torch.device(\"cuda:0\" if torch.cuda.is_available() else \"cpu\")\n",
    "args.n_gpu = torch.cuda.device_count()\n",
    "args.model_max_len = 100\n",
    "args.is_preprocessed = True\n",
    "args.valid_first = False\n",
    "args.data_type='triple'\n",
    "args.loss= 'TripletLoss'\n",
    "args.margin = 1.0"
   ]
  },
  {
   "cell_type": "code",
   "execution_count": 83,
   "id": "f618432c-f921-4e22-a241-10d429f0e5e6",
   "metadata": {
    "execution": {
     "iopub.execute_input": "2023-12-09T08:55:26.869022Z",
     "iopub.status.busy": "2023-12-09T08:55:26.868270Z",
     "iopub.status.idle": "2023-12-09T08:55:26.874650Z",
     "shell.execute_reply": "2023-12-09T08:55:26.873582Z",
     "shell.execute_reply.started": "2023-12-09T08:55:26.868964Z"
    },
    "tags": []
   },
   "outputs": [],
   "source": [
    "#args.pretrained_model_final = '/home/x1112436/result/faq/modelfile/home/x1112436/model_file/sent_roberta'\n",
    "#args.pretrained_model = '/home/x1112436/result/faq/modelfile2/klue/roberta-large'"
   ]
  },
  {
   "cell_type": "code",
   "execution_count": 84,
   "id": "be42d143-b66f-4604-8617-c5ab2961d767",
   "metadata": {
    "execution": {
     "iopub.execute_input": "2023-12-09T08:55:27.072701Z",
     "iopub.status.busy": "2023-12-09T08:55:27.072036Z",
     "iopub.status.idle": "2023-12-09T08:55:34.811573Z",
     "shell.execute_reply": "2023-12-09T08:55:34.810793Z",
     "shell.execute_reply.started": "2023-12-09T08:55:27.072645Z"
    },
    "tags": []
   },
   "outputs": [
    {
     "name": "stderr",
     "output_type": "stream",
     "text": [
      "Special tokens have been added in the vocabulary, make sure the associated word embeddings are fine-tuned or trained.\n"
     ]
    }
   ],
   "source": [
    "model = MODEL_MAPPING_DICT['sent_roberta'].from_pretrained(\n",
    "    args.pretrained_model, **vars(args), \n",
    ")\n",
    "tokenizer = AutoTokenizer.from_pretrained(args.pretrained_model)"
   ]
  },
  {
   "cell_type": "markdown",
   "id": "748d7f49-28cb-4318-a6e2-0fd3c6b03af1",
   "metadata": {},
   "source": [
    "# LOAD DATA"
   ]
  },
  {
   "cell_type": "code",
   "execution_count": 1,
   "id": "08a6d975-ae07-449b-9414-173ee9832acb",
   "metadata": {
    "execution": {
     "iopub.execute_input": "2023-12-10T11:18:29.607918Z",
     "iopub.status.busy": "2023-12-10T11:18:29.606976Z",
     "iopub.status.idle": "2023-12-10T11:18:30.829549Z",
     "shell.execute_reply": "2023-12-10T11:18:30.828558Z",
     "shell.execute_reply.started": "2023-12-10T11:18:29.607839Z"
    },
    "tags": []
   },
   "outputs": [],
   "source": [
    "from skt.gcp import load_bigquery_ipython_magic, \\\n",
    "                    bq_to_pandas, \\\n",
    "                    get_bigquery_client"
   ]
  },
  {
   "cell_type": "code",
   "execution_count": 6,
   "id": "5257d994-8295-48c9-a458-f17b985e1493",
   "metadata": {
    "execution": {
     "iopub.execute_input": "2023-12-10T11:20:00.823695Z",
     "iopub.status.busy": "2023-12-10T11:20:00.822952Z",
     "iopub.status.idle": "2023-12-10T11:20:00.831039Z",
     "shell.execute_reply": "2023-12-10T11:20:00.829675Z",
     "shell.execute_reply.started": "2023-12-10T11:20:00.823635Z"
    },
    "tags": []
   },
   "outputs": [],
   "source": [
    "dataset = 'x1112436'\n",
    "log_table = 'faq_table'\n",
    "query = f\"\"\"\n",
    "\n",
    "SELECT  TRIM(query) as query,\n",
    "        answer,\n",
    "        REPLACE(TRIM(intent_nm), \"'\", \"\") as intent_nm,\n",
    "        answer,\n",
    "        domain,\n",
    "        status\n",
    "FROM `skt-datahub.{dataset}.{log_table}`\n",
    "WHERE intent_nm !='' and intent_nm is not null\n",
    "\"\"\""
   ]
  },
  {
   "cell_type": "code",
   "execution_count": 7,
   "id": "2de75d2d-e9ed-4f52-8402-c6435e8dffce",
   "metadata": {
    "execution": {
     "iopub.execute_input": "2023-12-10T11:20:01.191589Z",
     "iopub.status.busy": "2023-12-10T11:20:01.190881Z",
     "iopub.status.idle": "2023-12-10T11:20:07.341668Z",
     "shell.execute_reply": "2023-12-10T11:20:07.340618Z",
     "shell.execute_reply.started": "2023-12-10T11:20:01.191531Z"
    },
    "tags": []
   },
   "outputs": [
    {
     "name": "stdout",
     "output_type": "stream",
     "text": [
      "query: \n",
      "\n",
      "SELECT  TRIM(query) as query,\n",
      "        answer,\n",
      "        REPLACE(TRIM(intent_nm), \"'\", \"\") as intent_nm,\n",
      "        answer,\n",
      "        domain,\n",
      "        status\n",
      "FROM `skt-datahub.x1112436.faq_table`\n",
      "WHERE intent_nm !='' and intent_nm is not null\n",
      "\n",
      "destination: skt-datahub._775c5ccab1096b3cccd7ac34a5db11c0a354fb07.anon2441652b26c102a5fa984effca804675c71dde12e9edc20962cb33cf9629c4d1\n",
      "total_rows: 246427\n",
      "slot_secs: 0.971\n",
      "\n",
      "Downloading: 100%|\u001b[32m██████████\u001b[0m|\n"
     ]
    }
   ],
   "source": [
    "faq_table = bq_to_pandas(query)"
   ]
  },
  {
   "cell_type": "code",
   "execution_count": 9,
   "id": "a8298b43-d510-4210-a4aa-1cdb30e91d6d",
   "metadata": {
    "execution": {
     "iopub.execute_input": "2023-12-10T11:20:32.233822Z",
     "iopub.status.busy": "2023-12-10T11:20:32.233086Z",
     "iopub.status.idle": "2023-12-10T11:20:32.248839Z",
     "shell.execute_reply": "2023-12-10T11:20:32.247997Z",
     "shell.execute_reply.started": "2023-12-10T11:20:32.233763Z"
    },
    "tags": []
   },
   "outputs": [
    {
     "data": {
      "text/html": [
       "<div>\n",
       "<style scoped>\n",
       "    .dataframe tbody tr th:only-of-type {\n",
       "        vertical-align: middle;\n",
       "    }\n",
       "\n",
       "    .dataframe tbody tr th {\n",
       "        vertical-align: top;\n",
       "    }\n",
       "\n",
       "    .dataframe thead th {\n",
       "        text-align: right;\n",
       "    }\n",
       "</style>\n",
       "<table border=\"1\" class=\"dataframe\">\n",
       "  <thead>\n",
       "    <tr style=\"text-align: right;\">\n",
       "      <th></th>\n",
       "      <th>query</th>\n",
       "      <th>answer</th>\n",
       "      <th>intent_nm</th>\n",
       "      <th>answer_1</th>\n",
       "      <th>domain</th>\n",
       "      <th>status</th>\n",
       "    </tr>\n",
       "  </thead>\n",
       "  <tbody>\n",
       "    <tr>\n",
       "      <th>0</th>\n",
       "      <td>T RING</td>\n",
       "      <td>'T Ring(티 링)'에 대해 안내해 드릴게요.\\nT Ring은 SK텔레콤의 상징...</td>\n",
       "      <td>T Ring</td>\n",
       "      <td>'T Ring(티 링)'에 대해 안내해 드릴게요.\\nT Ring은 SK텔레콤의 상징...</td>\n",
       "      <td>sms_customer_center</td>\n",
       "      <td>INSERT</td>\n",
       "    </tr>\n",
       "    <tr>\n",
       "      <th>1</th>\n",
       "      <td>슬림</td>\n",
       "      <td>'슬림 요금제'에 대해 안내해 드릴게요.\\n슬림 요금제는 5G 스마트폰을 사용하는 ...</td>\n",
       "      <td>슬림</td>\n",
       "      <td>'슬림 요금제'에 대해 안내해 드릴게요.\\n슬림 요금제는 5G 스마트폰을 사용하는 ...</td>\n",
       "      <td>sms_customer_center</td>\n",
       "      <td>INSERT</td>\n",
       "    </tr>\n",
       "  </tbody>\n",
       "</table>\n",
       "</div>"
      ],
      "text/plain": [
       "    query                                             answer intent_nm  \\\n",
       "0  T RING  'T Ring(티 링)'에 대해 안내해 드릴게요.\\nT Ring은 SK텔레콤의 상징...    T Ring   \n",
       "1      슬림  '슬림 요금제'에 대해 안내해 드릴게요.\\n슬림 요금제는 5G 스마트폰을 사용하는 ...        슬림   \n",
       "\n",
       "                                            answer_1               domain  \\\n",
       "0  'T Ring(티 링)'에 대해 안내해 드릴게요.\\nT Ring은 SK텔레콤의 상징...  sms_customer_center   \n",
       "1  '슬림 요금제'에 대해 안내해 드릴게요.\\n슬림 요금제는 5G 스마트폰을 사용하는 ...  sms_customer_center   \n",
       "\n",
       "   status  \n",
       "0  INSERT  \n",
       "1  INSERT  "
      ]
     },
     "execution_count": 9,
     "metadata": {},
     "output_type": "execute_result"
    }
   ],
   "source": [
    "faq_table.head(2)"
   ]
  },
  {
   "cell_type": "code",
   "execution_count": 21,
   "id": "6b5725c8-d079-457d-a7fa-58c3c19fa926",
   "metadata": {
    "execution": {
     "iopub.execute_input": "2023-12-09T08:37:57.719927Z",
     "iopub.status.busy": "2023-12-09T08:37:57.719105Z",
     "iopub.status.idle": "2023-12-09T08:37:57.725697Z",
     "shell.execute_reply": "2023-12-09T08:37:57.724394Z",
     "shell.execute_reply.started": "2023-12-09T08:37:57.719862Z"
    },
    "tags": []
   },
   "outputs": [],
   "source": [
    "# intent_nm_ans = faq_table[['intent_nm', 'answer']].drop_duplicates(keep='first')\n",
    "# intent_nm_ans.to_csv('./result/intent_nm.csv', encoding='utf-8-sig', index=False)"
   ]
  },
  {
   "cell_type": "code",
   "execution_count": 22,
   "id": "97ab9939-384f-4199-99a7-fc0fef593d0b",
   "metadata": {
    "execution": {
     "iopub.execute_input": "2023-12-09T08:38:10.473739Z",
     "iopub.status.busy": "2023-12-09T08:38:10.472922Z",
     "iopub.status.idle": "2023-12-09T08:38:10.479251Z",
     "shell.execute_reply": "2023-12-09T08:38:10.478057Z",
     "shell.execute_reply.started": "2023-12-09T08:38:10.473675Z"
    },
    "tags": []
   },
   "outputs": [],
   "source": [
    "idx2query = list(faq_table['query'].unique())\n",
    "idx2intent_nm = list(faq_table.intent_nm.unique())"
   ]
  },
  {
   "cell_type": "code",
   "execution_count": 24,
   "id": "065406bb-9176-4f3c-98cc-a97266e3ba0c",
   "metadata": {
    "execution": {
     "iopub.execute_input": "2023-12-09T08:38:15.659760Z",
     "iopub.status.busy": "2023-12-09T08:38:15.658960Z",
     "iopub.status.idle": "2023-12-09T08:38:15.665067Z",
     "shell.execute_reply": "2023-12-09T08:38:15.663818Z",
     "shell.execute_reply.started": "2023-12-09T08:38:15.659695Z"
    },
    "tags": []
   },
   "outputs": [],
   "source": [
    "# faq_table_q_a = faq_table[['qry_txt_cont', 'intent_nm']]\n",
    "# query_to_answer = faq_table_q_a.set_index('qry_txt_cont').to_dict()['intent_nm']"
   ]
  },
  {
   "cell_type": "markdown",
   "id": "b2cfbd73-0832-45ba-9f20-6954e1bcc03a",
   "metadata": {},
   "source": [
    "# INPUT for single embedding"
   ]
  },
  {
   "cell_type": "code",
   "execution_count": 31,
   "id": "14053629-0792-4cd8-95cc-abc64694c648",
   "metadata": {
    "execution": {
     "iopub.execute_input": "2023-12-09T08:38:32.989275Z",
     "iopub.status.busy": "2023-12-09T08:38:32.988460Z",
     "iopub.status.idle": "2023-12-09T08:38:32.993845Z",
     "shell.execute_reply": "2023-12-09T08:38:32.993120Z",
     "shell.execute_reply.started": "2023-12-09T08:38:32.989215Z"
    },
    "tags": []
   },
   "outputs": [],
   "source": [
    "from torch.utils.data import (\n",
    "    DataLoader, Dataset\n",
    ")"
   ]
  },
  {
   "cell_type": "code",
   "execution_count": 32,
   "id": "eaa37b61-7089-4aff-99b0-c45172691be0",
   "metadata": {
    "execution": {
     "iopub.execute_input": "2023-12-09T08:38:32.995855Z",
     "iopub.status.busy": "2023-12-09T08:38:32.995421Z",
     "iopub.status.idle": "2023-12-09T08:38:33.004865Z",
     "shell.execute_reply": "2023-12-09T08:38:33.004290Z",
     "shell.execute_reply.started": "2023-12-09T08:38:32.995817Z"
    },
    "tags": []
   },
   "outputs": [],
   "source": [
    "from dataclasses import dataclass\n",
    "from typing import List, Any, Union, Dict"
   ]
  },
  {
   "cell_type": "code",
   "execution_count": 33,
   "id": "480be143-6480-4e00-bbf0-f839d2ddc838",
   "metadata": {
    "execution": {
     "iopub.execute_input": "2023-12-09T08:38:33.005845Z",
     "iopub.status.busy": "2023-12-09T08:38:33.005629Z",
     "iopub.status.idle": "2023-12-09T08:38:33.016623Z",
     "shell.execute_reply": "2023-12-09T08:38:33.015910Z",
     "shell.execute_reply.started": "2023-12-09T08:38:33.005822Z"
    },
    "tags": []
   },
   "outputs": [],
   "source": [
    "@dataclass\n",
    "class SingleSentenceInput:\n",
    "    sentence_a: str = None\n",
    "    a_input_ids: List[int] = None\n",
    "    a_attention_mask: List[int] = None"
   ]
  },
  {
   "cell_type": "code",
   "execution_count": 34,
   "id": "6bd912de-6fd3-4abb-9d56-2d9070dcc309",
   "metadata": {
    "execution": {
     "iopub.execute_input": "2023-12-09T08:38:34.649204Z",
     "iopub.status.busy": "2023-12-09T08:38:34.647981Z",
     "iopub.status.idle": "2023-12-09T08:38:34.664091Z",
     "shell.execute_reply": "2023-12-09T08:38:34.663432Z",
     "shell.execute_reply.started": "2023-12-09T08:38:34.649145Z"
    },
    "tags": []
   },
   "outputs": [],
   "source": [
    "class EmbeddingDataset(Dataset):\n",
    "    def __init__(\n",
    "            self,\n",
    "            args,\n",
    "            features:List[SingleSentenceInput],\n",
    "            max_length,\n",
    "            tokenizer,\n",
    "            **kwargs\n",
    "    ):\n",
    "        super(EmbeddingDataset, self).__init__()\n",
    "        self.args = args\n",
    "        self.features = features\n",
    "        self.max_length = max_length\n",
    "        self.pad_token_id = tokenizer.pad_token_id\n",
    "        self.sep_token_id = tokenizer.sep_token_id if tokenizer.sep_token_id else tokenizer.eos_token_id\n",
    "\n",
    "    def __getitem__(self, index) -> Dict[str, Any]:\n",
    "        feature = self.features[index]\n",
    "        return {\n",
    "            'a_sentence': feature.sentence_a,\n",
    "            'a_input_ids': torch.tensor(feature.a_input_ids, dtype=torch.long),\n",
    "            'a_attention_mask': torch.tensor(feature.a_attention_mask, dtype=torch.long)\n",
    "        }\n",
    "    def __len__(self):\n",
    "        return len(self.features)\n",
    "    \n",
    "    def loader(self, shuffle:bool=True, batch_size:int=64):\n",
    "        return DataLoader(self, shuffle=shuffle, batch_size=batch_size, collate_fn=self.collater)\n",
    "\n",
    "    def collater(self, batch: List[Dict[str, Any]]) -> Dict[str, Any]:\n",
    "\n",
    "        a_sentence = [data['a_sentence'] for data in batch]\n",
    "        a_input_ids = [data['a_input_ids'] for data in batch]\n",
    "        a_attention_mask = [data['a_attention_mask'] for data in batch]\n",
    "        ##  token level encoding\n",
    "        batch_size = len(batch)\n",
    "        sizes = [len(s) for s in a_input_ids]\n",
    "        target_size = min(max(sizes), self.max_length)\n",
    "        \"\"\" torch.full -> creates a tensor of a given shape and fills it with a scalar value self.pad_token_id here\"\"\"\n",
    "        a_collated_ids = torch.full((batch_size, target_size), self.pad_token_id, dtype=torch.long)\n",
    "        a_collated_attention_masks = torch.zeros((batch_size, target_size), dtype=torch.long)\n",
    "\n",
    "        \"\"\" cut data if size > target_size else: fill by self.pad_token_id \"\"\"\n",
    "        for i, (input_id, attention_m, size) in enumerate(\n",
    "                zip(a_input_ids, a_attention_mask, sizes)):\n",
    "            diff = target_size - size\n",
    "            if diff < 0:\n",
    "                a_collated_ids[i, :target_size] = input_id[:target_size]\n",
    "                a_collated_ids[i, -1] = self.sep_token_id\n",
    "                a_collated_attention_masks[i, :target_size] = attention_m[:target_size]\n",
    "\n",
    "            else:\n",
    "                a_collated_ids[i, :size] = input_id\n",
    "                a_collated_attention_masks[i, :size] = attention_m\n",
    "\n",
    "        return {\n",
    "            'a_sentence': a_sentence,\n",
    "            'a_input_ids': a_collated_ids,\n",
    "            'a_attention_mask': a_collated_attention_masks\n",
    "        }"
   ]
  },
  {
   "cell_type": "code",
   "execution_count": 35,
   "id": "6f6a956f-1b7a-421d-a9ae-2d5522da748c",
   "metadata": {
    "execution": {
     "iopub.execute_input": "2023-12-09T08:38:35.956018Z",
     "iopub.status.busy": "2023-12-09T08:38:35.955289Z",
     "iopub.status.idle": "2023-12-09T08:38:35.965925Z",
     "shell.execute_reply": "2023-12-09T08:38:35.965048Z",
     "shell.execute_reply.started": "2023-12-09T08:38:35.955960Z"
    },
    "tags": []
   },
   "outputs": [],
   "source": [
    "from src.utils.abs_preprocess import AbsPreprocessor\n",
    "\n",
    "class Testprocessor(AbsPreprocessor):\n",
    "\n",
    "    @classmethod\n",
    "    def preprocess(cls, tokenizer,  input_list:List) -> None:\n",
    "        \"\"\" try read tsv file using pandas first if [memory or parse] error catched use other reading method  \"\"\"\n",
    "    \n",
    "        feature_list = list()\n",
    "        skipped_line = 0\n",
    "\n",
    "        for i, line in enumerate(input_list):\n",
    "            try:\n",
    "                a_encoded_sentence = cls.tokenizing(input=line, tokenizer=tokenizer, tokenizer_input=None)\n",
    "                feature_list.append(\n",
    "                    SingleSentenceInput(\n",
    "                        sentence_a = line,\n",
    "                        a_input_ids = a_encoded_sentence.input_ids,\n",
    "                        a_attention_mask=a_encoded_sentence.attention_mask,\n",
    "                    )\n",
    "                )\n",
    "            except Exception as e:\n",
    "                print(f'Error occurs in {i} lines in preprocessing')\n",
    "                print(line)\n",
    "                print(e)\n",
    "                break\n",
    "\n",
    "        return feature_list"
   ]
  },
  {
   "cell_type": "code",
   "execution_count": 39,
   "id": "6e342500-a493-4218-a6c7-13e85a0636f6",
   "metadata": {
    "execution": {
     "iopub.execute_input": "2023-12-09T08:39:06.349526Z",
     "iopub.status.busy": "2023-12-09T08:39:06.348775Z",
     "iopub.status.idle": "2023-12-09T08:39:06.355583Z",
     "shell.execute_reply": "2023-12-09T08:39:06.354339Z",
     "shell.execute_reply.started": "2023-12-09T08:39:06.349468Z"
    },
    "tags": []
   },
   "outputs": [],
   "source": [
    "query_input = Testprocessor.preprocess(tokenizer = tokenizer ,input_list = idx2query)"
   ]
  },
  {
   "cell_type": "code",
   "execution_count": 37,
   "id": "d2bc5292-6b5d-47ac-ab97-73f7979e39f7",
   "metadata": {
    "execution": {
     "iopub.execute_input": "2023-12-09T08:38:54.156324Z",
     "iopub.status.busy": "2023-12-09T08:38:54.155597Z",
     "iopub.status.idle": "2023-12-09T08:38:54.235396Z",
     "shell.execute_reply": "2023-12-09T08:38:54.234727Z",
     "shell.execute_reply.started": "2023-12-09T08:38:54.156291Z"
    },
    "tags": []
   },
   "outputs": [],
   "source": [
    "intent_input = Testprocessor.preprocess(tokenizer = tokenizer ,input_list = idx2intent_nm)"
   ]
  },
  {
   "cell_type": "code",
   "execution_count": 40,
   "id": "7a760ae8-0084-497b-bca5-114fcc675d21",
   "metadata": {
    "execution": {
     "iopub.execute_input": "2023-12-09T08:39:11.144008Z",
     "iopub.status.busy": "2023-12-09T08:39:11.143288Z",
     "iopub.status.idle": "2023-12-09T08:39:11.149142Z",
     "shell.execute_reply": "2023-12-09T08:39:11.147950Z",
     "shell.execute_reply.started": "2023-12-09T08:39:11.143951Z"
    },
    "tags": []
   },
   "outputs": [],
   "source": [
    "queryDataset = EmbeddingDataset(args=args, features=query_input, max_length=args.model_max_len, tokenizer=tokenizer)"
   ]
  },
  {
   "cell_type": "code",
   "execution_count": 41,
   "id": "4e47e2f9-9cda-4a84-9d0f-844cd9836f97",
   "metadata": {
    "execution": {
     "iopub.execute_input": "2023-12-09T08:39:14.178961Z",
     "iopub.status.busy": "2023-12-09T08:39:14.178219Z",
     "iopub.status.idle": "2023-12-09T08:39:14.185560Z",
     "shell.execute_reply": "2023-12-09T08:39:14.184259Z",
     "shell.execute_reply.started": "2023-12-09T08:39:14.178905Z"
    },
    "tags": []
   },
   "outputs": [],
   "source": [
    "intentDataset = EmbeddingDataset(args=args, features=intent_input, max_length=args.model_max_len, tokenizer=tokenizer)"
   ]
  },
  {
   "cell_type": "markdown",
   "id": "1644df85-2159-4193-968e-048f1401bdbd",
   "metadata": {},
   "source": [
    "# DataLoader"
   ]
  },
  {
   "cell_type": "code",
   "execution_count": 44,
   "id": "ae488fb4-b133-4688-a9f6-e0fdc4b5e476",
   "metadata": {
    "execution": {
     "iopub.execute_input": "2023-12-09T08:39:20.786131Z",
     "iopub.status.busy": "2023-12-09T08:39:20.785406Z",
     "iopub.status.idle": "2023-12-09T08:39:20.791659Z",
     "shell.execute_reply": "2023-12-09T08:39:20.790251Z",
     "shell.execute_reply.started": "2023-12-09T08:39:20.786074Z"
    },
    "tags": []
   },
   "outputs": [],
   "source": [
    "queryDataloader = queryDataset.loader(\n",
    "            shuffle=False, batch_size=400 )"
   ]
  },
  {
   "cell_type": "code",
   "execution_count": 45,
   "id": "af7b0c53-b574-4bf4-9288-83ee5545f4c8",
   "metadata": {
    "execution": {
     "iopub.execute_input": "2023-12-09T08:39:21.819939Z",
     "iopub.status.busy": "2023-12-09T08:39:21.819195Z",
     "iopub.status.idle": "2023-12-09T08:39:21.826394Z",
     "shell.execute_reply": "2023-12-09T08:39:21.825140Z",
     "shell.execute_reply.started": "2023-12-09T08:39:21.819880Z"
    },
    "tags": []
   },
   "outputs": [],
   "source": [
    "intentDataloader = intentDataset.loader(\n",
    "            shuffle=False, batch_size=400 )"
   ]
  },
  {
   "cell_type": "markdown",
   "id": "db69171e-b3a3-4cd2-b355-55755f0b8b04",
   "metadata": {},
   "source": [
    "# embed query and intent"
   ]
  },
  {
   "cell_type": "code",
   "execution_count": 47,
   "id": "e67505a2-43d2-4433-b530-5b333989e076",
   "metadata": {
    "execution": {
     "iopub.execute_input": "2023-12-09T08:39:24.107606Z",
     "iopub.status.busy": "2023-12-09T08:39:24.106856Z",
     "iopub.status.idle": "2023-12-09T08:39:24.113622Z",
     "shell.execute_reply": "2023-12-09T08:39:24.112536Z",
     "shell.execute_reply.started": "2023-12-09T08:39:24.107544Z"
    },
    "tags": []
   },
   "outputs": [],
   "source": [
    "from tqdm.notebook import tqdm"
   ]
  },
  {
   "cell_type": "code",
   "execution_count": 85,
   "id": "c7737560-8a5a-4d54-8692-03c298c57bae",
   "metadata": {
    "execution": {
     "iopub.execute_input": "2023-12-09T08:55:49.551476Z",
     "iopub.status.busy": "2023-12-09T08:55:49.550618Z",
     "iopub.status.idle": "2023-12-09T08:55:49.758599Z",
     "shell.execute_reply": "2023-12-09T08:55:49.757759Z",
     "shell.execute_reply.started": "2023-12-09T08:55:49.551408Z"
    },
    "tags": []
   },
   "outputs": [],
   "source": [
    "model = model.to(args.device)"
   ]
  },
  {
   "cell_type": "code",
   "execution_count": null,
   "id": "4755591d-ae7e-43c8-8774-79cde2d1ee88",
   "metadata": {
    "execution": {
     "iopub.status.busy": "2023-11-27T04:22:24.423064Z",
     "iopub.status.idle": "2023-11-27T04:22:24.423283Z",
     "shell.execute_reply": "2023-11-27T04:22:24.423183Z",
     "shell.execute_reply.started": "2023-11-27T04:22:24.423173Z"
    }
   },
   "outputs": [],
   "source": [
    "#next(iter(query_dataloader))"
   ]
  },
  {
   "cell_type": "code",
   "execution_count": 86,
   "id": "9a23720e-24c1-4e76-8237-7790dad58b99",
   "metadata": {
    "execution": {
     "iopub.execute_input": "2023-12-09T08:55:58.680459Z",
     "iopub.status.busy": "2023-12-09T08:55:58.679694Z",
     "iopub.status.idle": "2023-12-09T08:55:58.686427Z",
     "shell.execute_reply": "2023-12-09T08:55:58.685217Z",
     "shell.execute_reply.started": "2023-12-09T08:55:58.680396Z"
    },
    "tags": []
   },
   "outputs": [],
   "source": [
    "# model.eval()\n",
    "# query_list = []\n",
    "# embedding_query = []\n",
    "# with torch.no_grad():   \n",
    "#     for batch_idx, batch in enumerate(tqdm(query_dataloader)): \n",
    "#         batch = {key: (item.to(args.device) if type(item) == torch.Tensor else item) for key, item in batch.items()}\n",
    "#         a_embedding = model(batch['a_input_ids'], batch['a_attention_mask'])\n",
    "#         a_sentence = batch['a_sentence']\n",
    "#         query_list.extend(a_sentence)\n",
    "#         embedding_query.append(a_embedding)\n",
    "#     embedding_query = torch.cat(embedding_query, 0) "
   ]
  },
  {
   "cell_type": "code",
   "execution_count": 87,
   "id": "e01da8ef-1f5c-4909-8d75-71d0adcd38ac",
   "metadata": {
    "execution": {
     "iopub.execute_input": "2023-12-09T08:56:00.024438Z",
     "iopub.status.busy": "2023-12-09T08:56:00.023701Z",
     "iopub.status.idle": "2023-12-09T08:56:01.269013Z",
     "shell.execute_reply": "2023-12-09T08:56:01.268297Z",
     "shell.execute_reply.started": "2023-12-09T08:56:00.024380Z"
    },
    "tags": []
   },
   "outputs": [
    {
     "data": {
      "application/vnd.jupyter.widget-view+json": {
       "model_id": "4cf56364ea3f4bad98fe5e5f274bc8a5",
       "version_major": 2,
       "version_minor": 0
      },
      "text/plain": [
       "  0%|          | 0/5 [00:00<?, ?it/s]"
      ]
     },
     "metadata": {},
     "output_type": "display_data"
    }
   ],
   "source": [
    "model.eval()\n",
    "intent_list = []\n",
    "embedding_intent = []\n",
    "with torch.no_grad():   \n",
    "    for batch_idx, batch in enumerate(tqdm(intent_dataloader)): \n",
    "        batch = {key: (item.to(args.device) if type(item) == torch.Tensor else item) for key, item in batch.items()}\n",
    "        a_embedding = model(batch['a_input_ids'], batch['a_attention_mask'])\n",
    "        a_sentence = batch['a_sentence']\n",
    "        intent_list.extend(a_sentence)\n",
    "        embedding_intent.append(a_embedding)\n",
    "    embedding_intent = torch.cat(embedding_intent, 0) \n"
   ]
  },
  {
   "cell_type": "code",
   "execution_count": 88,
   "id": "0be4b3cf-5c35-408a-9886-ffe9ae5d54d9",
   "metadata": {
    "execution": {
     "iopub.execute_input": "2023-12-09T08:56:01.270381Z",
     "iopub.status.busy": "2023-12-09T08:56:01.270046Z",
     "iopub.status.idle": "2023-12-09T08:56:12.468871Z",
     "shell.execute_reply": "2023-12-09T08:56:12.467994Z",
     "shell.execute_reply.started": "2023-12-09T08:56:01.270359Z"
    },
    "tags": []
   },
   "outputs": [
    {
     "data": {
      "application/vnd.jupyter.widget-view+json": {
       "model_id": "bd349fdebbcd49cca22d991cc8d96cdf",
       "version_major": 2,
       "version_minor": 0
      },
      "text/plain": [
       "  0%|          | 0/17 [00:00<?, ?it/s]"
      ]
     },
     "metadata": {},
     "output_type": "display_data"
    }
   ],
   "source": [
    "model.eval()\n",
    "service_query_list = []\n",
    "embedding_service_query = []\n",
    "with torch.no_grad():   \n",
    "    for batch_idx, batch in enumerate(tqdm(service_query_dataloader)): \n",
    "        batch = {key: (item.to(args.device) if type(item) == torch.Tensor else item) for key, item in batch.items()}\n",
    "        a_embedding = model(batch['a_input_ids'], batch['a_attention_mask'])\n",
    "        a_sentence = batch['a_sentence']\n",
    "        service_query_list.extend(a_sentence)\n",
    "        embedding_service_query.append(a_embedding)\n",
    "    embedding_service_query = torch.cat(embedding_service_query, 0) \n"
   ]
  },
  {
   "cell_type": "code",
   "execution_count": 89,
   "id": "9897cdbe-207b-4090-a2b5-81ebc230255a",
   "metadata": {
    "execution": {
     "iopub.execute_input": "2023-12-09T08:56:13.166669Z",
     "iopub.status.busy": "2023-12-09T08:56:13.166169Z",
     "iopub.status.idle": "2023-12-09T08:56:13.173067Z",
     "shell.execute_reply": "2023-12-09T08:56:13.171641Z",
     "shell.execute_reply.started": "2023-12-09T08:56:13.166637Z"
    },
    "tags": []
   },
   "outputs": [],
   "source": [
    "import torch.nn.functional as F\n",
    "values, indices = torch.topk(F.normalize(embedding_service_query, dim =1) @ F.normalize(embedding_intent, dim=1).T, 3)"
   ]
  },
  {
   "cell_type": "code",
   "execution_count": 90,
   "id": "bd3526a3-debf-4eb7-9e86-f26fefe5a9b9",
   "metadata": {
    "execution": {
     "iopub.execute_input": "2023-12-09T08:56:13.727412Z",
     "iopub.status.busy": "2023-12-09T08:56:13.726662Z",
     "iopub.status.idle": "2023-12-09T08:56:13.734482Z",
     "shell.execute_reply": "2023-12-09T08:56:13.733172Z",
     "shell.execute_reply.started": "2023-12-09T08:56:13.727353Z"
    },
    "tags": []
   },
   "outputs": [],
   "source": [
    "threshold = 0.4"
   ]
  },
  {
   "cell_type": "code",
   "execution_count": 91,
   "id": "dac4d930-4e0f-4fd9-808c-f8cc1b2b16f9",
   "metadata": {
    "execution": {
     "iopub.execute_input": "2023-12-09T08:56:15.550707Z",
     "iopub.status.busy": "2023-12-09T08:56:15.549971Z",
     "iopub.status.idle": "2023-12-09T08:56:15.556171Z",
     "shell.execute_reply": "2023-12-09T08:56:15.555270Z",
     "shell.execute_reply.started": "2023-12-09T08:56:15.550649Z"
    },
    "tags": []
   },
   "outputs": [],
   "source": [
    "values[values < threshold] = -1\n",
    "indices[values < threshold] = -1"
   ]
  },
  {
   "cell_type": "code",
   "execution_count": 92,
   "id": "912f692f-d046-404f-af23-93015e2676ea",
   "metadata": {
    "execution": {
     "iopub.execute_input": "2023-12-09T08:56:15.947075Z",
     "iopub.status.busy": "2023-12-09T08:56:15.946362Z",
     "iopub.status.idle": "2023-12-09T08:56:15.953223Z",
     "shell.execute_reply": "2023-12-09T08:56:15.951951Z",
     "shell.execute_reply.started": "2023-12-09T08:56:15.947018Z"
    },
    "tags": []
   },
   "outputs": [],
   "source": [
    "indices = indices.cpu().numpy()"
   ]
  },
  {
   "cell_type": "code",
   "execution_count": 93,
   "id": "5ff44abd-572a-41a5-897f-aec0968ce7ab",
   "metadata": {
    "execution": {
     "iopub.execute_input": "2023-12-09T08:56:16.679969Z",
     "iopub.status.busy": "2023-12-09T08:56:16.679239Z",
     "iopub.status.idle": "2023-12-09T08:56:17.118070Z",
     "shell.execute_reply": "2023-12-09T08:56:17.116695Z",
     "shell.execute_reply.started": "2023-12-09T08:56:16.679910Z"
    },
    "tags": []
   },
   "outputs": [],
   "source": [
    "predict_dict = dict()\n",
    "for i in range(embedding_service_query.size()[0]):        \n",
    "    predict_dict[service_queries[i]] = [(intent_list[indices[i, j]], round(values[i,j].cpu().item(), 3)) for j in range(3) if indices[i,j] != -1]\n",
    "\n",
    "predict_list = []\n",
    "for key, value in predict_dict.items():\n",
    "    query = key\n",
    "    for i in range(3 - len(value)):\n",
    "        value.append('')\n",
    "        \n",
    "    predict_list.append({'query': query, 'n_rank1': value[0], 'n_rank2': value[1], 'n_rank3': value[2]})\n",
    "            "
   ]
  },
  {
   "cell_type": "code",
   "execution_count": 94,
   "id": "c480f032-6d5a-4925-9570-e895a40b586d",
   "metadata": {
    "execution": {
     "iopub.execute_input": "2023-12-09T08:56:18.057858Z",
     "iopub.status.busy": "2023-12-09T08:56:18.057000Z",
     "iopub.status.idle": "2023-12-09T08:56:18.068891Z",
     "shell.execute_reply": "2023-12-09T08:56:18.067824Z",
     "shell.execute_reply.started": "2023-12-09T08:56:18.057831Z"
    },
    "tags": []
   },
   "outputs": [],
   "source": [
    "predict_pd = pd.DataFrame(predict_list)"
   ]
  },
  {
   "cell_type": "code",
   "execution_count": 95,
   "id": "70627edd-6b30-493b-a73a-31965837516c",
   "metadata": {
    "execution": {
     "iopub.execute_input": "2023-12-09T08:56:18.445449Z",
     "iopub.status.busy": "2023-12-09T08:56:18.444736Z",
     "iopub.status.idle": "2023-12-09T08:56:18.462365Z",
     "shell.execute_reply": "2023-12-09T08:56:18.461254Z",
     "shell.execute_reply.started": "2023-12-09T08:56:18.445391Z"
    },
    "tags": []
   },
   "outputs": [],
   "source": [
    "join_data = pd.merge(predict_pd, service_queries_pd, on = 'query')"
   ]
  },
  {
   "cell_type": "code",
   "execution_count": 96,
   "id": "161986de-4e5d-4f71-862c-2a5961d40f0e",
   "metadata": {
    "execution": {
     "iopub.execute_input": "2023-12-09T08:56:40.651417Z",
     "iopub.status.busy": "2023-12-09T08:56:40.650676Z",
     "iopub.status.idle": "2023-12-09T08:56:40.720286Z",
     "shell.execute_reply": "2023-12-09T08:56:40.719604Z",
     "shell.execute_reply.started": "2023-12-09T08:56:40.651359Z"
    },
    "tags": []
   },
   "outputs": [],
   "source": [
    "join_data.to_csv('../result/result_v1.csv', encoding='utf-8-sig', index=False)"
   ]
  },
  {
   "cell_type": "markdown",
   "id": "eabdd14c-ce6f-477e-8402-5261b6af59ad",
   "metadata": {},
   "source": [
    "# sampling for result v1 v2"
   ]
  },
  {
   "cell_type": "code",
   "execution_count": 98,
   "id": "60ecc125-90b0-4e70-bdd1-8e71d7cddf44",
   "metadata": {
    "execution": {
     "iopub.execute_input": "2023-12-09T08:58:49.042764Z",
     "iopub.status.busy": "2023-12-09T08:58:49.042160Z",
     "iopub.status.idle": "2023-12-09T08:58:49.100834Z",
     "shell.execute_reply": "2023-12-09T08:58:49.100163Z",
     "shell.execute_reply.started": "2023-12-09T08:58:49.042717Z"
    },
    "tags": []
   },
   "outputs": [],
   "source": [
    "result_1 = pd.read_csv('../result/result_v1.csv')"
   ]
  },
  {
   "cell_type": "code",
   "execution_count": 111,
   "id": "7c69bebf-92ae-40ba-8afc-00455432d9ff",
   "metadata": {
    "execution": {
     "iopub.execute_input": "2023-12-09T09:01:52.740670Z",
     "iopub.status.busy": "2023-12-09T09:01:52.739933Z",
     "iopub.status.idle": "2023-12-09T09:01:52.792014Z",
     "shell.execute_reply": "2023-12-09T09:01:52.791188Z",
     "shell.execute_reply.started": "2023-12-09T09:01:52.740613Z"
    },
    "tags": []
   },
   "outputs": [],
   "source": [
    "result_2 = pd.read_csv('../result/result_v2.csv')"
   ]
  },
  {
   "cell_type": "code",
   "execution_count": 100,
   "id": "bbc810c6-e26d-4a88-a187-f61f76c43d5b",
   "metadata": {
    "execution": {
     "iopub.execute_input": "2023-12-09T08:59:06.245052Z",
     "iopub.status.busy": "2023-12-09T08:59:06.244293Z",
     "iopub.status.idle": "2023-12-09T08:59:06.259245Z",
     "shell.execute_reply": "2023-12-09T08:59:06.258628Z",
     "shell.execute_reply.started": "2023-12-09T08:59:06.244993Z"
    },
    "tags": []
   },
   "outputs": [
    {
     "data": {
      "text/html": [
       "<div>\n",
       "<style scoped>\n",
       "    .dataframe tbody tr th:only-of-type {\n",
       "        vertical-align: middle;\n",
       "    }\n",
       "\n",
       "    .dataframe tbody tr th {\n",
       "        vertical-align: top;\n",
       "    }\n",
       "\n",
       "    .dataframe thead th {\n",
       "        text-align: right;\n",
       "    }\n",
       "</style>\n",
       "<table border=\"1\" class=\"dataframe\">\n",
       "  <thead>\n",
       "    <tr style=\"text-align: right;\">\n",
       "      <th></th>\n",
       "      <th>query</th>\n",
       "      <th>n_rank1</th>\n",
       "      <th>n_rank2</th>\n",
       "      <th>n_rank3</th>\n",
       "      <th>count</th>\n",
       "      <th>p_rank1</th>\n",
       "      <th>p_rank2</th>\n",
       "      <th>p_rank3</th>\n",
       "    </tr>\n",
       "  </thead>\n",
       "  <tbody>\n",
       "    <tr>\n",
       "      <th>0</th>\n",
       "      <td>미납요금 납부 가능일 문의</td>\n",
       "      <td>('SKT 미납센터 연락처', 0.884)</td>\n",
       "      <td>('미납 이용정지', 0.874)</td>\n",
       "      <td>('과납', 0.858)</td>\n",
       "      <td>49194</td>\n",
       "      <td>SKT미납센터연락처(0.4809759)</td>\n",
       "      <td>미납이용정지(0.457217725)</td>\n",
       "      <td>미납직권해지(0.43127817)</td>\n",
       "    </tr>\n",
       "    <tr>\n",
       "      <th>1</th>\n",
       "      <td>미납 문의할게</td>\n",
       "      <td>('SKT 미납센터 연락처', 0.97)</td>\n",
       "      <td>('미납 이용정지', 0.935)</td>\n",
       "      <td>('과납', 0.881)</td>\n",
       "      <td>27234</td>\n",
       "      <td>SKT해지미납센터연락처(0.4995)</td>\n",
       "      <td>SKT미납센터연락처(0.4940547)</td>\n",
       "      <td>미납직권해지(0.4642235)</td>\n",
       "    </tr>\n",
       "    <tr>\n",
       "      <th>2</th>\n",
       "      <td>미납문의할게</td>\n",
       "      <td>('SKT 미납센터 연락처', 0.956)</td>\n",
       "      <td>('미납 이용정지', 0.903)</td>\n",
       "      <td>('과납', 0.9)</td>\n",
       "      <td>1616</td>\n",
       "      <td>SKT미납센터연락처(0.49495625)</td>\n",
       "      <td>미납직권해지(0.463400065)</td>\n",
       "      <td>미납이용정지(0.4573068)</td>\n",
       "    </tr>\n",
       "  </tbody>\n",
       "</table>\n",
       "</div>"
      ],
      "text/plain": [
       "            query                  n_rank1             n_rank2        n_rank3  \\\n",
       "0  미납요금 납부 가능일 문의  ('SKT 미납센터 연락처', 0.884)  ('미납 이용정지', 0.874)  ('과납', 0.858)   \n",
       "1         미납 문의할게   ('SKT 미납센터 연락처', 0.97)  ('미납 이용정지', 0.935)  ('과납', 0.881)   \n",
       "2          미납문의할게  ('SKT 미납센터 연락처', 0.956)  ('미납 이용정지', 0.903)    ('과납', 0.9)   \n",
       "\n",
       "   count                 p_rank1                p_rank2             p_rank3  \n",
       "0  49194   SKT미납센터연락처(0.4809759)    미납이용정지(0.457217725)  미납직권해지(0.43127817)  \n",
       "1  27234    SKT해지미납센터연락처(0.4995)  SKT미납센터연락처(0.4940547)   미납직권해지(0.4642235)  \n",
       "2   1616  SKT미납센터연락처(0.49495625)    미납직권해지(0.463400065)   미납이용정지(0.4573068)  "
      ]
     },
     "execution_count": 100,
     "metadata": {},
     "output_type": "execute_result"
    }
   ],
   "source": [
    "result_1.head(3)"
   ]
  },
  {
   "cell_type": "code",
   "execution_count": 112,
   "id": "d603d89d-4164-4312-bc55-c73e0d29dd63",
   "metadata": {
    "execution": {
     "iopub.execute_input": "2023-12-09T09:01:54.242613Z",
     "iopub.status.busy": "2023-12-09T09:01:54.241874Z",
     "iopub.status.idle": "2023-12-09T09:01:54.253130Z",
     "shell.execute_reply": "2023-12-09T09:01:54.250340Z",
     "shell.execute_reply.started": "2023-12-09T09:01:54.242555Z"
    },
    "tags": []
   },
   "outputs": [],
   "source": [
    "result_2 = result_2.rename(columns={'n_rank1': 'f_rank1', 'n_rank2': 'f_rank2','n_rank3': 'f_rank3'})"
   ]
  },
  {
   "cell_type": "code",
   "execution_count": 114,
   "id": "401d68dc-55df-422c-a655-1bdcc6bd0247",
   "metadata": {
    "execution": {
     "iopub.execute_input": "2023-12-09T09:01:57.692633Z",
     "iopub.status.busy": "2023-12-09T09:01:57.691901Z",
     "iopub.status.idle": "2023-12-09T09:01:57.700572Z",
     "shell.execute_reply": "2023-12-09T09:01:57.699357Z",
     "shell.execute_reply.started": "2023-12-09T09:01:57.692575Z"
    },
    "tags": []
   },
   "outputs": [],
   "source": [
    "result_2 = result_2[['query', 'f_rank1', 'f_rank2', 'f_rank3']]"
   ]
  },
  {
   "cell_type": "code",
   "execution_count": 116,
   "id": "43bbe66b-cdd1-41cd-b723-6ab2da808c03",
   "metadata": {
    "execution": {
     "iopub.execute_input": "2023-12-09T09:02:49.004745Z",
     "iopub.status.busy": "2023-12-09T09:02:49.004016Z",
     "iopub.status.idle": "2023-12-09T09:02:49.021385Z",
     "shell.execute_reply": "2023-12-09T09:02:49.020648Z",
     "shell.execute_reply.started": "2023-12-09T09:02:49.004688Z"
    },
    "tags": []
   },
   "outputs": [],
   "source": [
    "final_result = pd.merge(result_1, result_2, on = ['query'], how='left')"
   ]
  },
  {
   "cell_type": "code",
   "execution_count": 118,
   "id": "dc718ec4-2189-47bd-a3f4-25413a616a9d",
   "metadata": {
    "execution": {
     "iopub.execute_input": "2023-12-09T09:03:19.891656Z",
     "iopub.status.busy": "2023-12-09T09:03:19.890913Z",
     "iopub.status.idle": "2023-12-09T09:03:19.898743Z",
     "shell.execute_reply": "2023-12-09T09:03:19.897523Z",
     "shell.execute_reply.started": "2023-12-09T09:03:19.891598Z"
    },
    "tags": []
   },
   "outputs": [],
   "source": [
    "final_result['count'] = final_result['count'].astype('int')"
   ]
  },
  {
   "cell_type": "code",
   "execution_count": 120,
   "id": "91b0d263-6ab6-41a4-ad45-9ac4f0a16d0b",
   "metadata": {
    "execution": {
     "iopub.execute_input": "2023-12-09T09:03:27.543294Z",
     "iopub.status.busy": "2023-12-09T09:03:27.542582Z",
     "iopub.status.idle": "2023-12-09T09:03:27.564180Z",
     "shell.execute_reply": "2023-12-09T09:03:27.563561Z",
     "shell.execute_reply.started": "2023-12-09T09:03:27.543237Z"
    },
    "tags": []
   },
   "outputs": [
    {
     "data": {
      "text/html": [
       "<div>\n",
       "<style scoped>\n",
       "    .dataframe tbody tr th:only-of-type {\n",
       "        vertical-align: middle;\n",
       "    }\n",
       "\n",
       "    .dataframe tbody tr th {\n",
       "        vertical-align: top;\n",
       "    }\n",
       "\n",
       "    .dataframe thead th {\n",
       "        text-align: right;\n",
       "    }\n",
       "</style>\n",
       "<table border=\"1\" class=\"dataframe\">\n",
       "  <thead>\n",
       "    <tr style=\"text-align: right;\">\n",
       "      <th></th>\n",
       "      <th>query</th>\n",
       "      <th>n_rank1</th>\n",
       "      <th>n_rank2</th>\n",
       "      <th>n_rank3</th>\n",
       "      <th>count</th>\n",
       "      <th>p_rank1</th>\n",
       "      <th>p_rank2</th>\n",
       "      <th>p_rank3</th>\n",
       "      <th>f_rank1</th>\n",
       "      <th>f_rank2</th>\n",
       "      <th>f_rank3</th>\n",
       "    </tr>\n",
       "  </thead>\n",
       "  <tbody>\n",
       "    <tr>\n",
       "      <th>0</th>\n",
       "      <td>미납요금 납부 가능일 문의</td>\n",
       "      <td>('SKT 미납센터 연락처', 0.884)</td>\n",
       "      <td>('미납 이용정지', 0.874)</td>\n",
       "      <td>('과납', 0.858)</td>\n",
       "      <td>49194</td>\n",
       "      <td>SKT미납센터연락처(0.4809759)</td>\n",
       "      <td>미납이용정지(0.457217725)</td>\n",
       "      <td>미납직권해지(0.43127817)</td>\n",
       "      <td>('요금 납부일 확인 방법', 0.754)</td>\n",
       "      <td>('요금 납부일 변경 방법', 0.607)</td>\n",
       "      <td>('SKT 미납센터 연락처', 0.508)</td>\n",
       "    </tr>\n",
       "    <tr>\n",
       "      <th>1</th>\n",
       "      <td>미납 문의할게</td>\n",
       "      <td>('SKT 미납센터 연락처', 0.97)</td>\n",
       "      <td>('미납 이용정지', 0.935)</td>\n",
       "      <td>('과납', 0.881)</td>\n",
       "      <td>27234</td>\n",
       "      <td>SKT해지미납센터연락처(0.4995)</td>\n",
       "      <td>SKT미납센터연락처(0.4940547)</td>\n",
       "      <td>미납직권해지(0.4642235)</td>\n",
       "      <td>('SKT 미납센터 연락처', 0.734)</td>\n",
       "      <td>('과납', 0.672)</td>\n",
       "      <td>('미납 이용정지', 0.664)</td>\n",
       "    </tr>\n",
       "    <tr>\n",
       "      <th>2</th>\n",
       "      <td>미납문의할게</td>\n",
       "      <td>('SKT 미납센터 연락처', 0.956)</td>\n",
       "      <td>('미납 이용정지', 0.903)</td>\n",
       "      <td>('과납', 0.9)</td>\n",
       "      <td>1616</td>\n",
       "      <td>SKT미납센터연락처(0.49495625)</td>\n",
       "      <td>미납직권해지(0.463400065)</td>\n",
       "      <td>미납이용정지(0.4573068)</td>\n",
       "      <td>('SKT 미납센터 연락처', 0.757)</td>\n",
       "      <td>('미납 이용정지', 0.654)</td>\n",
       "      <td>('과납', 0.634)</td>\n",
       "    </tr>\n",
       "    <tr>\n",
       "      <th>3</th>\n",
       "      <td>데이터 자동선물 신청할래</td>\n",
       "      <td>('자동연결 유료 서비스', 0.989)</td>\n",
       "      <td>('자동연결 유료 서비스 신청 방법', 0.988)</td>\n",
       "      <td>('가족 간 데이터 자동 선물 발송 시점', 0.988)</td>\n",
       "      <td>1315</td>\n",
       "      <td>가족간데이터자동선물하기(0.48386545)</td>\n",
       "      <td>T끼리데이터선물하기비용(0.48172125)</td>\n",
       "      <td>T끼리데이터선물하기대상(0.4792024)</td>\n",
       "      <td>('가족 간 데이터 자동 선물하기', 0.621)</td>\n",
       "      <td>('T끼리 데이터 선물 조르기 방법', 0.574)</td>\n",
       "      <td>('가족 간 데이터 자동 선물 발송 시점', 0.544)</td>\n",
       "    </tr>\n",
       "    <tr>\n",
       "      <th>4</th>\n",
       "      <td>로밍 요금제 한눈에 보기</td>\n",
       "      <td>('B tv 요금제', 0.938)</td>\n",
       "      <td>('요금제문의', 0.932)</td>\n",
       "      <td>('유선 인터넷 요금제', 0.931)</td>\n",
       "      <td>1125</td>\n",
       "      <td>로밍요금확인시점(0.49537815)</td>\n",
       "      <td>로밍통화요금(0.49452138)</td>\n",
       "      <td>로밍수신요금(0.4935397)</td>\n",
       "      <td>('로밍 요금 확인 시점', 0.535)</td>\n",
       "      <td>('T로밍 Biz 요금제', 0.512)</td>\n",
       "      <td>('원패스 제공 국가', 0.405)</td>\n",
       "    </tr>\n",
       "    <tr>\n",
       "      <th>...</th>\n",
       "      <td>...</td>\n",
       "      <td>...</td>\n",
       "      <td>...</td>\n",
       "      <td>...</td>\n",
       "      <td>...</td>\n",
       "      <td>...</td>\n",
       "      <td>...</td>\n",
       "      <td>...</td>\n",
       "      <td>...</td>\n",
       "      <td>...</td>\n",
       "      <td>...</td>\n",
       "    </tr>\n",
       "    <tr>\n",
       "      <th>4420</th>\n",
       "      <td>시아야</td>\n",
       "      <td>('\\u200bT아이폰케어 SE 2022', 0.749)</td>\n",
       "      <td>('A.', 0.748)</td>\n",
       "      <td>('퀵보이스', 0.728)</td>\n",
       "      <td>2</td>\n",
       "      <td>팅요금제자동변경시기(0.42258522)</td>\n",
       "      <td>가입정보조회(0.41399312)</td>\n",
       "      <td>시니어요금제(0.40805438)</td>\n",
       "      <td>('세이프캐시', 0.434)</td>\n",
       "      <td>NaN</td>\n",
       "      <td>NaN</td>\n",
       "    </tr>\n",
       "    <tr>\n",
       "      <th>4421</th>\n",
       "      <td>영화 볼레</td>\n",
       "      <td>('롯데 TELLO 카드', 0.469)</td>\n",
       "      <td>('휴대폰 렌탈', 0.467)</td>\n",
       "      <td>('휴대폰 렌탈 예약 방법', 0.449)</td>\n",
       "      <td>2</td>\n",
       "      <td>T멤버십VIPPick영화예매방법(0.48877975)</td>\n",
       "      <td>VIP요금제프로그램(0.452621075)</td>\n",
       "      <td>T멤버십VIPPick잔여횟수확인방법(0.401124475)\\n</td>\n",
       "      <td>('V 컬러링', 0.403)</td>\n",
       "      <td>NaN</td>\n",
       "      <td>NaN</td>\n",
       "    </tr>\n",
       "    <tr>\n",
       "      <th>4422</th>\n",
       "      <td>T ALL케어 부가서비스 해지하고 싶습니다.</td>\n",
       "      <td>('아파트청약케어 해지 방법', 0.961)</td>\n",
       "      <td>('예상 해지 금액', 0.928)</td>\n",
       "      <td>('가족 결합 상품 해지 방법', 0.926)</td>\n",
       "      <td>2</td>\n",
       "      <td>단말보험해지방법(0.416549475)</td>\n",
       "      <td>단말보험가입방법(0.405288)\\n</td>\n",
       "      <td>NaN</td>\n",
       "      <td>('단말보험 해지 방법', 0.648)</td>\n",
       "      <td>('T 아이폰케어 해지 방법', 0.539)</td>\n",
       "      <td>('T All케어플러스 포인트 서비스 해지 방법', 0.533)</td>\n",
       "    </tr>\n",
       "    <tr>\n",
       "      <th>4423</th>\n",
       "      <td>요금납부 전화번호  알고싶어요</td>\n",
       "      <td>('요금 부분 납부 방법', 0.885)</td>\n",
       "      <td>('과납', 0.858)</td>\n",
       "      <td>('미납 직권해지', 0.764)</td>\n",
       "      <td>2</td>\n",
       "      <td>요금수납내역확인방법(0.47446915)</td>\n",
       "      <td>요금부분납부방법(0.46495125)</td>\n",
       "      <td>기타요금(0.46109585)</td>\n",
       "      <td>('SKT 미납센터 연락처', 0.567)</td>\n",
       "      <td>('자동납부번호 확인 방법', 0.538)</td>\n",
       "      <td>('요금 수납 내역 확인 방법', 0.486)</td>\n",
       "    </tr>\n",
       "    <tr>\n",
       "      <th>4424</th>\n",
       "      <td>문자가 제대로 안 와요</td>\n",
       "      <td>('문자메시지 서비스', 0.973)</td>\n",
       "      <td>('해외 SMS 서비스', 0.965)</td>\n",
       "      <td>('MMS', 0.945)</td>\n",
       "      <td>2</td>\n",
       "      <td>일500건SMS발송량제한(0.471016675)</td>\n",
       "      <td>등기문자(0.4651475)</td>\n",
       "      <td>문자메시지서비스(0.45700872)</td>\n",
       "      <td>('휴대폰 문자 수발신 실패 조치 방법', 0.748)</td>\n",
       "      <td>('메시지 관련', 0.626)</td>\n",
       "      <td>('휴대폰 MMS 수발신 실패 조치 방법', 0.541)</td>\n",
       "    </tr>\n",
       "  </tbody>\n",
       "</table>\n",
       "<p>4425 rows × 11 columns</p>\n",
       "</div>"
      ],
      "text/plain": [
       "                         query                          n_rank1  \\\n",
       "0               미납요금 납부 가능일 문의          ('SKT 미납센터 연락처', 0.884)   \n",
       "1                      미납 문의할게           ('SKT 미납센터 연락처', 0.97)   \n",
       "2                       미납문의할게          ('SKT 미납센터 연락처', 0.956)   \n",
       "3                데이터 자동선물 신청할래           ('자동연결 유료 서비스', 0.989)   \n",
       "4                로밍 요금제 한눈에 보기              ('B tv 요금제', 0.938)   \n",
       "...                        ...                              ...   \n",
       "4420                       시아야  ('\\u200bT아이폰케어 SE 2022', 0.749)   \n",
       "4421                     영화 볼레           ('롯데 TELLO 카드', 0.469)   \n",
       "4422  T ALL케어 부가서비스 해지하고 싶습니다.         ('아파트청약케어 해지 방법', 0.961)   \n",
       "4423          요금납부 전화번호  알고싶어요           ('요금 부분 납부 방법', 0.885)   \n",
       "4424              문자가 제대로 안 와요             ('문자메시지 서비스', 0.973)   \n",
       "\n",
       "                           n_rank2                          n_rank3  count  \\\n",
       "0               ('미납 이용정지', 0.874)                    ('과납', 0.858)  49194   \n",
       "1               ('미납 이용정지', 0.935)                    ('과납', 0.881)  27234   \n",
       "2               ('미납 이용정지', 0.903)                      ('과납', 0.9)   1616   \n",
       "3     ('자동연결 유료 서비스 신청 방법', 0.988)  ('가족 간 데이터 자동 선물 발송 시점', 0.988)   1315   \n",
       "4                 ('요금제문의', 0.932)            ('유선 인터넷 요금제', 0.931)   1125   \n",
       "...                            ...                              ...    ...   \n",
       "4420                 ('A.', 0.748)                  ('퀵보이스', 0.728)      2   \n",
       "4421             ('휴대폰 렌탈', 0.467)          ('휴대폰 렌탈 예약 방법', 0.449)      2   \n",
       "4422           ('예상 해지 금액', 0.928)        ('가족 결합 상품 해지 방법', 0.926)      2   \n",
       "4423                 ('과납', 0.858)               ('미납 직권해지', 0.764)      2   \n",
       "4424         ('해외 SMS 서비스', 0.965)                   ('MMS', 0.945)      2   \n",
       "\n",
       "                            p_rank1                   p_rank2  \\\n",
       "0             SKT미납센터연락처(0.4809759)       미납이용정지(0.457217725)   \n",
       "1              SKT해지미납센터연락처(0.4995)     SKT미납센터연락처(0.4940547)   \n",
       "2            SKT미납센터연락처(0.49495625)       미납직권해지(0.463400065)   \n",
       "3          가족간데이터자동선물하기(0.48386545)  T끼리데이터선물하기비용(0.48172125)   \n",
       "4              로밍요금확인시점(0.49537815)        로밍통화요금(0.49452138)   \n",
       "...                             ...                       ...   \n",
       "4420         팅요금제자동변경시기(0.42258522)        가입정보조회(0.41399312)   \n",
       "4421  T멤버십VIPPick영화예매방법(0.48877975)   VIP요금제프로그램(0.452621075)   \n",
       "4422          단말보험해지방법(0.416549475)      단말보험가입방법(0.405288)\\n   \n",
       "4423         요금수납내역확인방법(0.47446915)      요금부분납부방법(0.46495125)   \n",
       "4424     일500건SMS발송량제한(0.471016675)           등기문자(0.4651475)   \n",
       "\n",
       "                                 p_rank3                         f_rank1  \\\n",
       "0                     미납직권해지(0.43127817)         ('요금 납부일 확인 방법', 0.754)   \n",
       "1                      미납직권해지(0.4642235)         ('SKT 미납센터 연락처', 0.734)   \n",
       "2                      미납이용정지(0.4573068)         ('SKT 미납센터 연락처', 0.757)   \n",
       "3                T끼리데이터선물하기대상(0.4792024)     ('가족 간 데이터 자동 선물하기', 0.621)   \n",
       "4                      로밍수신요금(0.4935397)          ('로밍 요금 확인 시점', 0.535)   \n",
       "...                                  ...                             ...   \n",
       "4420                  시니어요금제(0.40805438)                ('세이프캐시', 0.434)   \n",
       "4421  T멤버십VIPPick잔여횟수확인방법(0.401124475)\\n                ('V 컬러링', 0.403)   \n",
       "4422                                 NaN           ('단말보험 해지 방법', 0.648)   \n",
       "4423                    기타요금(0.46109585)         ('SKT 미납센터 연락처', 0.567)   \n",
       "4424                문자메시지서비스(0.45700872)  ('휴대폰 문자 수발신 실패 조치 방법', 0.748)   \n",
       "\n",
       "                           f_rank2                              f_rank3  \n",
       "0          ('요금 납부일 변경 방법', 0.607)              ('SKT 미납센터 연락처', 0.508)  \n",
       "1                    ('과납', 0.672)                   ('미납 이용정지', 0.664)  \n",
       "2               ('미납 이용정지', 0.654)                        ('과납', 0.634)  \n",
       "3     ('T끼리 데이터 선물 조르기 방법', 0.574)      ('가족 간 데이터 자동 선물 발송 시점', 0.544)  \n",
       "4           ('T로밍 Biz 요금제', 0.512)                 ('원패스 제공 국가', 0.405)  \n",
       "...                            ...                                  ...  \n",
       "4420                           NaN                                  NaN  \n",
       "4421                           NaN                                  NaN  \n",
       "4422      ('T 아이폰케어 해지 방법', 0.539)  ('T All케어플러스 포인트 서비스 해지 방법', 0.533)  \n",
       "4423       ('자동납부번호 확인 방법', 0.538)            ('요금 수납 내역 확인 방법', 0.486)  \n",
       "4424             ('메시지 관련', 0.626)      ('휴대폰 MMS 수발신 실패 조치 방법', 0.541)  \n",
       "\n",
       "[4425 rows x 11 columns]"
      ]
     },
     "execution_count": 120,
     "metadata": {},
     "output_type": "execute_result"
    }
   ],
   "source": [
    "final_result[final_result['count'] > 1]"
   ]
  },
  {
   "cell_type": "code",
   "execution_count": 121,
   "id": "e771c8cd-7647-4f04-be0d-e698c316d357",
   "metadata": {
    "execution": {
     "iopub.execute_input": "2023-12-09T09:03:42.910743Z",
     "iopub.status.busy": "2023-12-09T09:03:42.909998Z",
     "iopub.status.idle": "2023-12-09T09:03:42.920346Z",
     "shell.execute_reply": "2023-12-09T09:03:42.919067Z",
     "shell.execute_reply.started": "2023-12-09T09:03:42.910685Z"
    },
    "tags": []
   },
   "outputs": [
    {
     "data": {
      "text/plain": [
       "array([49194, 27234,  1616,  1315,  1125,  1005,   746,   667,   523,\n",
       "         252,   223,   198,   188,   180,   178,   172,   169,   154,\n",
       "         130,   116,   106,    83,    76,    65,    54,    52,    51,\n",
       "          50,    44,    40,    39,    38,    36,    35,    34,    33,\n",
       "          32,    30,    24,    22,    20,    19,    18,    17,    16,\n",
       "          15,    14,    13,    12,    11,    10,     9,     8,     7,\n",
       "           6,     5,     4,     3,     2,     1])"
      ]
     },
     "execution_count": 121,
     "metadata": {},
     "output_type": "execute_result"
    }
   ],
   "source": [
    "final_result['count'].unique()"
   ]
  },
  {
   "cell_type": "code",
   "execution_count": 123,
   "id": "bff465bb-6fdf-4fec-b0b9-b48a191774a3",
   "metadata": {
    "execution": {
     "iopub.execute_input": "2023-12-09T09:04:55.257670Z",
     "iopub.status.busy": "2023-12-09T09:04:55.257066Z",
     "iopub.status.idle": "2023-12-09T09:04:55.266963Z",
     "shell.execute_reply": "2023-12-09T09:04:55.265735Z",
     "shell.execute_reply.started": "2023-12-09T09:04:55.257624Z"
    },
    "tags": []
   },
   "outputs": [],
   "source": [
    "weighted_sample = final_result.sample(n=1100, weights=\"count\")\n"
   ]
  },
  {
   "cell_type": "code",
   "execution_count": 127,
   "id": "b1e2088d-159a-4844-9580-7e71bcea4c77",
   "metadata": {
    "execution": {
     "iopub.execute_input": "2023-12-09T09:05:23.257952Z",
     "iopub.status.busy": "2023-12-09T09:05:23.257213Z",
     "iopub.status.idle": "2023-12-09T09:05:23.265343Z",
     "shell.execute_reply": "2023-12-09T09:05:23.264093Z",
     "shell.execute_reply.started": "2023-12-09T09:05:23.257896Z"
    },
    "tags": []
   },
   "outputs": [],
   "source": [
    "weighted_sample = weighted_sample.sort_values(by=['count'], ascending=False)"
   ]
  },
  {
   "cell_type": "code",
   "execution_count": 130,
   "id": "bf82ce95-b785-4d63-a4f4-f0b1e7f8da4e",
   "metadata": {
    "execution": {
     "iopub.execute_input": "2023-12-09T09:09:49.621358Z",
     "iopub.status.busy": "2023-12-09T09:09:49.620628Z",
     "iopub.status.idle": "2023-12-09T09:09:49.640757Z",
     "shell.execute_reply": "2023-12-09T09:09:49.640035Z",
     "shell.execute_reply.started": "2023-12-09T09:09:49.621281Z"
    },
    "tags": []
   },
   "outputs": [
    {
     "data": {
      "text/html": [
       "<div>\n",
       "<style scoped>\n",
       "    .dataframe tbody tr th:only-of-type {\n",
       "        vertical-align: middle;\n",
       "    }\n",
       "\n",
       "    .dataframe tbody tr th {\n",
       "        vertical-align: top;\n",
       "    }\n",
       "\n",
       "    .dataframe thead th {\n",
       "        text-align: right;\n",
       "    }\n",
       "</style>\n",
       "<table border=\"1\" class=\"dataframe\">\n",
       "  <thead>\n",
       "    <tr style=\"text-align: right;\">\n",
       "      <th></th>\n",
       "      <th>query</th>\n",
       "      <th>n_rank1</th>\n",
       "      <th>n_rank2</th>\n",
       "      <th>n_rank3</th>\n",
       "      <th>count</th>\n",
       "      <th>p_rank1</th>\n",
       "      <th>p_rank2</th>\n",
       "      <th>p_rank3</th>\n",
       "      <th>f_rank1</th>\n",
       "      <th>f_rank2</th>\n",
       "      <th>f_rank3</th>\n",
       "    </tr>\n",
       "  </thead>\n",
       "  <tbody>\n",
       "    <tr>\n",
       "      <th>0</th>\n",
       "      <td>미납요금 납부 가능일 문의</td>\n",
       "      <td>('SKT 미납센터 연락처', 0.884)</td>\n",
       "      <td>('미납 이용정지', 0.874)</td>\n",
       "      <td>('과납', 0.858)</td>\n",
       "      <td>49194</td>\n",
       "      <td>SKT미납센터연락처(0.4809759)</td>\n",
       "      <td>미납이용정지(0.457217725)</td>\n",
       "      <td>미납직권해지(0.43127817)</td>\n",
       "      <td>('요금 납부일 확인 방법', 0.754)</td>\n",
       "      <td>('요금 납부일 변경 방법', 0.607)</td>\n",
       "      <td>('SKT 미납센터 연락처', 0.508)</td>\n",
       "    </tr>\n",
       "    <tr>\n",
       "      <th>1</th>\n",
       "      <td>미납 문의할게</td>\n",
       "      <td>('SKT 미납센터 연락처', 0.97)</td>\n",
       "      <td>('미납 이용정지', 0.935)</td>\n",
       "      <td>('과납', 0.881)</td>\n",
       "      <td>27234</td>\n",
       "      <td>SKT해지미납센터연락처(0.4995)</td>\n",
       "      <td>SKT미납센터연락처(0.4940547)</td>\n",
       "      <td>미납직권해지(0.4642235)</td>\n",
       "      <td>('SKT 미납센터 연락처', 0.734)</td>\n",
       "      <td>('과납', 0.672)</td>\n",
       "      <td>('미납 이용정지', 0.664)</td>\n",
       "    </tr>\n",
       "    <tr>\n",
       "      <th>2</th>\n",
       "      <td>미납문의할게</td>\n",
       "      <td>('SKT 미납센터 연락처', 0.956)</td>\n",
       "      <td>('미납 이용정지', 0.903)</td>\n",
       "      <td>('과납', 0.9)</td>\n",
       "      <td>1616</td>\n",
       "      <td>SKT미납센터연락처(0.49495625)</td>\n",
       "      <td>미납직권해지(0.463400065)</td>\n",
       "      <td>미납이용정지(0.4573068)</td>\n",
       "      <td>('SKT 미납센터 연락처', 0.757)</td>\n",
       "      <td>('미납 이용정지', 0.654)</td>\n",
       "      <td>('과납', 0.634)</td>\n",
       "    </tr>\n",
       "    <tr>\n",
       "      <th>3</th>\n",
       "      <td>데이터 자동선물 신청할래</td>\n",
       "      <td>('자동연결 유료 서비스', 0.989)</td>\n",
       "      <td>('자동연결 유료 서비스 신청 방법', 0.988)</td>\n",
       "      <td>('가족 간 데이터 자동 선물 발송 시점', 0.988)</td>\n",
       "      <td>1315</td>\n",
       "      <td>가족간데이터자동선물하기(0.48386545)</td>\n",
       "      <td>T끼리데이터선물하기비용(0.48172125)</td>\n",
       "      <td>T끼리데이터선물하기대상(0.4792024)</td>\n",
       "      <td>('가족 간 데이터 자동 선물하기', 0.621)</td>\n",
       "      <td>('T끼리 데이터 선물 조르기 방법', 0.574)</td>\n",
       "      <td>('가족 간 데이터 자동 선물 발송 시점', 0.544)</td>\n",
       "    </tr>\n",
       "    <tr>\n",
       "      <th>4</th>\n",
       "      <td>로밍 요금제 한눈에 보기</td>\n",
       "      <td>('B tv 요금제', 0.938)</td>\n",
       "      <td>('요금제문의', 0.932)</td>\n",
       "      <td>('유선 인터넷 요금제', 0.931)</td>\n",
       "      <td>1125</td>\n",
       "      <td>로밍요금확인시점(0.49537815)</td>\n",
       "      <td>로밍통화요금(0.49452138)</td>\n",
       "      <td>로밍수신요금(0.4935397)</td>\n",
       "      <td>('로밍 요금 확인 시점', 0.535)</td>\n",
       "      <td>('T로밍 Biz 요금제', 0.512)</td>\n",
       "      <td>('원패스 제공 국가', 0.405)</td>\n",
       "    </tr>\n",
       "    <tr>\n",
       "      <th>...</th>\n",
       "      <td>...</td>\n",
       "      <td>...</td>\n",
       "      <td>...</td>\n",
       "      <td>...</td>\n",
       "      <td>...</td>\n",
       "      <td>...</td>\n",
       "      <td>...</td>\n",
       "      <td>...</td>\n",
       "      <td>...</td>\n",
       "      <td>...</td>\n",
       "      <td>...</td>\n",
       "    </tr>\n",
       "    <tr>\n",
       "      <th>125</th>\n",
       "      <td>내요금제</td>\n",
       "      <td>('요금제문의', 0.947)</td>\n",
       "      <td>('요금제 추천', 0.936)</td>\n",
       "      <td>('요금약정 할인제도', 0.931)</td>\n",
       "      <td>8</td>\n",
       "      <td>과납(0.42699795)</td>\n",
       "      <td>부가사용금액(0.41011563)\\n</td>\n",
       "      <td>NaN</td>\n",
       "      <td>('요금제문의', 0.648)</td>\n",
       "      <td>('VIP 요금제 프로그램', 0.438)</td>\n",
       "      <td>('유선 인터넷 요금제', 0.428)</td>\n",
       "    </tr>\n",
       "    <tr>\n",
       "      <th>108</th>\n",
       "      <td>01094203667 1기가 선물</td>\n",
       "      <td>('T끼리 데이터 선물하기 연령', 0.799)</td>\n",
       "      <td>('T끼리 데이터 선물하기 대상', 0.769)</td>\n",
       "      <td>('T끼리 데이터 선물하기 알림', 0.757)</td>\n",
       "      <td>8</td>\n",
       "      <td>T끼리데이터선물하기받은데이터사용방법(0.42342803)</td>\n",
       "      <td>T끼리데이터선물하기연령(0.42330955)</td>\n",
       "      <td>T끼리데이터선물하기대상(0.416208)</td>\n",
       "      <td>('baro 1GB 충전', 0.403)</td>\n",
       "      <td>NaN</td>\n",
       "      <td>NaN</td>\n",
       "    </tr>\n",
       "    <tr>\n",
       "      <th>135</th>\n",
       "      <td>미납가능일</td>\n",
       "      <td>('SKT 미납센터 연락처', 0.927)</td>\n",
       "      <td>('미납 이용정지', 0.909)</td>\n",
       "      <td>('과납', 0.866)</td>\n",
       "      <td>7</td>\n",
       "      <td>SKT미납센터연락처(0.48734835)</td>\n",
       "      <td>미납이용정지(0.4625415)</td>\n",
       "      <td>미납직권해지(0.43736097)</td>\n",
       "      <td>('요금 납부일 확인 방법', 0.642)</td>\n",
       "      <td>('가산금', 0.6)</td>\n",
       "      <td>('SKT 미납센터 연락처', 0.579)</td>\n",
       "    </tr>\n",
       "    <tr>\n",
       "      <th>131</th>\n",
       "      <td>말일납부가능</td>\n",
       "      <td>('요금 납부일 변경 방법', 0.892)</td>\n",
       "      <td>('요금 납부일 확인 방법', 0.877)</td>\n",
       "      <td>('유선 요금 납부일 변경 방법', 0.849)</td>\n",
       "      <td>7</td>\n",
       "      <td>요금납부일확인방법(0.9039121)\\n</td>\n",
       "      <td>NaN</td>\n",
       "      <td>NaN</td>\n",
       "      <td>('요금 납부일 변경 방법', 0.695)</td>\n",
       "      <td>('요금 납부일 확인 방법', 0.656)</td>\n",
       "      <td>('단말기 할부금 중도 납부 방법', 0.532)</td>\n",
       "    </tr>\n",
       "    <tr>\n",
       "      <th>165</th>\n",
       "      <td>데이터 속도</td>\n",
       "      <td>('속도 관련', 0.984)</td>\n",
       "      <td>('휴대폰 데이터 속도 저하 조치 방법', 0.942)</td>\n",
       "      <td>('유선 인터넷 속도 저하 조치 방법', 0.933)</td>\n",
       "      <td>6</td>\n",
       "      <td>Wavve속도제어해제(0.45605165)</td>\n",
       "      <td>Wavve속도제어해제신청방법(0.44695762)</td>\n",
       "      <td>유선인터넷속도저하조치방법(0.4294362)</td>\n",
       "      <td>('속도 관련', 0.936)</td>\n",
       "      <td>('휴대폰 데이터 속도 저하 조치 방법', 0.597)</td>\n",
       "      <td>('데이터 문의 관련', 0.476)</td>\n",
       "    </tr>\n",
       "  </tbody>\n",
       "</table>\n",
       "<p>100 rows × 11 columns</p>\n",
       "</div>"
      ],
      "text/plain": [
       "                  query                     n_rank1  \\\n",
       "0        미납요금 납부 가능일 문의     ('SKT 미납센터 연락처', 0.884)   \n",
       "1               미납 문의할게      ('SKT 미납센터 연락처', 0.97)   \n",
       "2                미납문의할게     ('SKT 미납센터 연락처', 0.956)   \n",
       "3         데이터 자동선물 신청할래      ('자동연결 유료 서비스', 0.989)   \n",
       "4         로밍 요금제 한눈에 보기         ('B tv 요금제', 0.938)   \n",
       "..                  ...                         ...   \n",
       "125                내요금제            ('요금제문의', 0.947)   \n",
       "108  01094203667 1기가 선물  ('T끼리 데이터 선물하기 연령', 0.799)   \n",
       "135               미납가능일     ('SKT 미납센터 연락처', 0.927)   \n",
       "131              말일납부가능     ('요금 납부일 변경 방법', 0.892)   \n",
       "165              데이터 속도            ('속도 관련', 0.984)   \n",
       "\n",
       "                            n_rank2                          n_rank3  count  \\\n",
       "0                ('미납 이용정지', 0.874)                    ('과납', 0.858)  49194   \n",
       "1                ('미납 이용정지', 0.935)                    ('과납', 0.881)  27234   \n",
       "2                ('미납 이용정지', 0.903)                      ('과납', 0.9)   1616   \n",
       "3      ('자동연결 유료 서비스 신청 방법', 0.988)  ('가족 간 데이터 자동 선물 발송 시점', 0.988)   1315   \n",
       "4                  ('요금제문의', 0.932)            ('유선 인터넷 요금제', 0.931)   1125   \n",
       "..                              ...                              ...    ...   \n",
       "125               ('요금제 추천', 0.936)             ('요금약정 할인제도', 0.931)      8   \n",
       "108      ('T끼리 데이터 선물하기 대상', 0.769)       ('T끼리 데이터 선물하기 알림', 0.757)      8   \n",
       "135              ('미납 이용정지', 0.909)                    ('과납', 0.866)      7   \n",
       "131         ('요금 납부일 확인 방법', 0.877)       ('유선 요금 납부일 변경 방법', 0.849)      7   \n",
       "165  ('휴대폰 데이터 속도 저하 조치 방법', 0.942)    ('유선 인터넷 속도 저하 조치 방법', 0.933)      6   \n",
       "\n",
       "                             p_rank1                      p_rank2  \\\n",
       "0              SKT미납센터연락처(0.4809759)          미납이용정지(0.457217725)   \n",
       "1               SKT해지미납센터연락처(0.4995)        SKT미납센터연락처(0.4940547)   \n",
       "2             SKT미납센터연락처(0.49495625)          미납직권해지(0.463400065)   \n",
       "3           가족간데이터자동선물하기(0.48386545)     T끼리데이터선물하기비용(0.48172125)   \n",
       "4               로밍요금확인시점(0.49537815)           로밍통화요금(0.49452138)   \n",
       "..                               ...                          ...   \n",
       "125                   과납(0.42699795)         부가사용금액(0.41011563)\\n   \n",
       "108  T끼리데이터선물하기받은데이터사용방법(0.42342803)     T끼리데이터선물하기연령(0.42330955)   \n",
       "135           SKT미납센터연락처(0.48734835)            미납이용정지(0.4625415)   \n",
       "131           요금납부일확인방법(0.9039121)\\n                          NaN   \n",
       "165          Wavve속도제어해제(0.45605165)  Wavve속도제어해제신청방법(0.44695762)   \n",
       "\n",
       "                      p_rank3                      f_rank1  \\\n",
       "0          미납직권해지(0.43127817)      ('요금 납부일 확인 방법', 0.754)   \n",
       "1           미납직권해지(0.4642235)      ('SKT 미납센터 연락처', 0.734)   \n",
       "2           미납이용정지(0.4573068)      ('SKT 미납센터 연락처', 0.757)   \n",
       "3     T끼리데이터선물하기대상(0.4792024)  ('가족 간 데이터 자동 선물하기', 0.621)   \n",
       "4           로밍수신요금(0.4935397)       ('로밍 요금 확인 시점', 0.535)   \n",
       "..                        ...                          ...   \n",
       "125                       NaN             ('요금제문의', 0.648)   \n",
       "108    T끼리데이터선물하기대상(0.416208)       ('baro 1GB 충전', 0.403)   \n",
       "135        미납직권해지(0.43736097)      ('요금 납부일 확인 방법', 0.642)   \n",
       "131                       NaN      ('요금 납부일 변경 방법', 0.695)   \n",
       "165  유선인터넷속도저하조치방법(0.4294362)             ('속도 관련', 0.936)   \n",
       "\n",
       "                            f_rank2                          f_rank3  \n",
       "0           ('요금 납부일 변경 방법', 0.607)          ('SKT 미납센터 연락처', 0.508)  \n",
       "1                     ('과납', 0.672)               ('미납 이용정지', 0.664)  \n",
       "2                ('미납 이용정지', 0.654)                    ('과납', 0.634)  \n",
       "3      ('T끼리 데이터 선물 조르기 방법', 0.574)  ('가족 간 데이터 자동 선물 발송 시점', 0.544)  \n",
       "4            ('T로밍 Biz 요금제', 0.512)             ('원패스 제공 국가', 0.405)  \n",
       "..                              ...                              ...  \n",
       "125         ('VIP 요금제 프로그램', 0.438)            ('유선 인터넷 요금제', 0.428)  \n",
       "108                             NaN                              NaN  \n",
       "135                    ('가산금', 0.6)          ('SKT 미납센터 연락처', 0.579)  \n",
       "131         ('요금 납부일 확인 방법', 0.656)      ('단말기 할부금 중도 납부 방법', 0.532)  \n",
       "165  ('휴대폰 데이터 속도 저하 조치 방법', 0.597)             ('데이터 문의 관련', 0.476)  \n",
       "\n",
       "[100 rows x 11 columns]"
      ]
     },
     "execution_count": 130,
     "metadata": {},
     "output_type": "execute_result"
    }
   ],
   "source": [
    "weighted_sample.head(100)"
   ]
  },
  {
   "cell_type": "code",
   "execution_count": 133,
   "id": "285fe4b6-c6be-4033-81bc-31c6cdcb4b16",
   "metadata": {
    "execution": {
     "iopub.execute_input": "2023-12-09T09:10:48.830402Z",
     "iopub.status.busy": "2023-12-09T09:10:48.829669Z",
     "iopub.status.idle": "2023-12-09T09:10:48.855110Z",
     "shell.execute_reply": "2023-12-09T09:10:48.854459Z",
     "shell.execute_reply.started": "2023-12-09T09:10:48.830344Z"
    },
    "tags": []
   },
   "outputs": [],
   "source": [
    "weighted_sample.to_csv('../result/final_reulst.csv', encoding='utf-8-sig', index=False)"
   ]
  },
  {
   "cell_type": "code",
   "execution_count": 147,
   "id": "680ae711-ee3f-4525-a5ab-fcc40ec67235",
   "metadata": {
    "execution": {
     "iopub.execute_input": "2023-12-09T09:14:43.017491Z",
     "iopub.status.busy": "2023-12-09T09:14:43.017061Z",
     "iopub.status.idle": "2023-12-09T09:14:43.031307Z",
     "shell.execute_reply": "2023-12-09T09:14:43.030666Z",
     "shell.execute_reply.started": "2023-12-09T09:14:43.017466Z"
    },
    "tags": []
   },
   "outputs": [],
   "source": [
    "dd = pd.read_csv('../result/result_tbl.csv', index_col=False)\n",
    "dd.drop('Unnamed: 0', axis=1, inplace=True)\n",
    "dd.drop('index', axis=1, inplace=True)"
   ]
  },
  {
   "cell_type": "code",
   "execution_count": 135,
   "id": "af4724b0-76be-4a84-acba-4127ae5c1b45",
   "metadata": {
    "execution": {
     "iopub.execute_input": "2023-12-09T09:12:25.055529Z",
     "iopub.status.busy": "2023-12-09T09:12:25.054798Z",
     "iopub.status.idle": "2023-12-09T09:12:25.062965Z",
     "shell.execute_reply": "2023-12-09T09:12:25.061970Z",
     "shell.execute_reply.started": "2023-12-09T09:12:25.055471Z"
    },
    "tags": []
   },
   "outputs": [
    {
     "data": {
      "text/plain": [
       "1274"
      ]
     },
     "execution_count": 135,
     "metadata": {},
     "output_type": "execute_result"
    }
   ],
   "source": [
    "pd.merge(dd, "
   ]
  },
  {
   "cell_type": "code",
   "execution_count": 139,
   "id": "99abbda4-2314-40d7-a8a7-a8b2fba3051a",
   "metadata": {
    "execution": {
     "iopub.execute_input": "2023-12-09T09:13:09.220238Z",
     "iopub.status.busy": "2023-12-09T09:13:09.219525Z",
     "iopub.status.idle": "2023-12-09T09:13:09.228328Z",
     "shell.execute_reply": "2023-12-09T09:13:09.227393Z",
     "shell.execute_reply.started": "2023-12-09T09:13:09.220180Z"
    },
    "tags": []
   },
   "outputs": [],
   "source": [
    "result_1 = result_1[['query', 'n_rank1', 'n_rank2', 'n_rank3']]"
   ]
  },
  {
   "cell_type": "code",
   "execution_count": 149,
   "id": "68399ed7-83f2-4f0c-9e6d-8f99f58ce44c",
   "metadata": {
    "execution": {
     "iopub.execute_input": "2023-12-09T09:14:56.241913Z",
     "iopub.status.busy": "2023-12-09T09:14:56.241084Z",
     "iopub.status.idle": "2023-12-09T09:14:56.254990Z",
     "shell.execute_reply": "2023-12-09T09:14:56.254363Z",
     "shell.execute_reply.started": "2023-12-09T09:14:56.241855Z"
    },
    "tags": []
   },
   "outputs": [
    {
     "data": {
      "text/html": [
       "<div>\n",
       "<style scoped>\n",
       "    .dataframe tbody tr th:only-of-type {\n",
       "        vertical-align: middle;\n",
       "    }\n",
       "\n",
       "    .dataframe tbody tr th {\n",
       "        vertical-align: top;\n",
       "    }\n",
       "\n",
       "    .dataframe thead th {\n",
       "        text-align: right;\n",
       "    }\n",
       "</style>\n",
       "<table border=\"1\" class=\"dataframe\">\n",
       "  <thead>\n",
       "    <tr style=\"text-align: right;\">\n",
       "      <th></th>\n",
       "      <th>query</th>\n",
       "      <th>f_rank1</th>\n",
       "      <th>f_rank2</th>\n",
       "      <th>f_rank3</th>\n",
       "    </tr>\n",
       "  </thead>\n",
       "  <tbody>\n",
       "    <tr>\n",
       "      <th>0</th>\n",
       "      <td>미납요금 납부 가능일 문의</td>\n",
       "      <td>('요금 납부일 확인 방법', 0.754)</td>\n",
       "      <td>('요금 납부일 변경 방법', 0.607)</td>\n",
       "      <td>('SKT 미납센터 연락처', 0.508)</td>\n",
       "    </tr>\n",
       "    <tr>\n",
       "      <th>1</th>\n",
       "      <td>미납 문의할게</td>\n",
       "      <td>('SKT 미납센터 연락처', 0.734)</td>\n",
       "      <td>('과납', 0.672)</td>\n",
       "      <td>('미납 이용정지', 0.664)</td>\n",
       "    </tr>\n",
       "    <tr>\n",
       "      <th>2</th>\n",
       "      <td>미납문의할게</td>\n",
       "      <td>('SKT 미납센터 연락처', 0.757)</td>\n",
       "      <td>('미납 이용정지', 0.654)</td>\n",
       "      <td>('과납', 0.634)</td>\n",
       "    </tr>\n",
       "  </tbody>\n",
       "</table>\n",
       "</div>"
      ],
      "text/plain": [
       "            query                  f_rank1                  f_rank2  \\\n",
       "0  미납요금 납부 가능일 문의  ('요금 납부일 확인 방법', 0.754)  ('요금 납부일 변경 방법', 0.607)   \n",
       "1         미납 문의할게  ('SKT 미납센터 연락처', 0.734)            ('과납', 0.672)   \n",
       "2          미납문의할게  ('SKT 미납센터 연락처', 0.757)       ('미납 이용정지', 0.654)   \n",
       "\n",
       "                   f_rank3  \n",
       "0  ('SKT 미납센터 연락처', 0.508)  \n",
       "1       ('미납 이용정지', 0.664)  \n",
       "2            ('과납', 0.634)  "
      ]
     },
     "execution_count": 149,
     "metadata": {},
     "output_type": "execute_result"
    }
   ],
   "source": [
    "pd.merge(dd, result_1, how = on"
   ]
  },
  {
   "cell_type": "code",
   "execution_count": null,
   "id": "5e4725ed-025c-41d4-ab2b-de8e3be5d740",
   "metadata": {},
   "outputs": [],
   "source": []
  },
  {
   "cell_type": "code",
   "execution_count": 148,
   "id": "9fad88a0-5ad1-466b-8498-40c71a7b4c65",
   "metadata": {
    "execution": {
     "iopub.execute_input": "2023-12-09T09:14:44.684659Z",
     "iopub.status.busy": "2023-12-09T09:14:44.683753Z",
     "iopub.status.idle": "2023-12-09T09:14:44.698585Z",
     "shell.execute_reply": "2023-12-09T09:14:44.697729Z",
     "shell.execute_reply.started": "2023-12-09T09:14:44.684570Z"
    },
    "tags": []
   },
   "outputs": [
    {
     "data": {
      "text/html": [
       "<div>\n",
       "<style scoped>\n",
       "    .dataframe tbody tr th:only-of-type {\n",
       "        vertical-align: middle;\n",
       "    }\n",
       "\n",
       "    .dataframe tbody tr th {\n",
       "        vertical-align: top;\n",
       "    }\n",
       "\n",
       "    .dataframe thead th {\n",
       "        text-align: right;\n",
       "    }\n",
       "</style>\n",
       "<table border=\"1\" class=\"dataframe\">\n",
       "  <thead>\n",
       "    <tr style=\"text-align: right;\">\n",
       "      <th></th>\n",
       "      <th>query</th>\n",
       "      <th>query_cnt</th>\n",
       "      <th>p_rank1</th>\n",
       "      <th>p_rank2</th>\n",
       "      <th>p_rank3</th>\n",
       "      <th>n_rank_1</th>\n",
       "      <th>n_rank2</th>\n",
       "      <th>n_rank3</th>\n",
       "    </tr>\n",
       "  </thead>\n",
       "  <tbody>\n",
       "    <tr>\n",
       "      <th>0</th>\n",
       "      <td>미납요금 납부 가능일 문의</td>\n",
       "      <td>49194</td>\n",
       "      <td>SKT미납센터연락처</td>\n",
       "      <td>미납이용정지</td>\n",
       "      <td>미납직권해지</td>\n",
       "      <td>요금납부일확인방법</td>\n",
       "      <td>SKT미납센터연락처</td>\n",
       "      <td>미납이용정지</td>\n",
       "    </tr>\n",
       "    <tr>\n",
       "      <th>1</th>\n",
       "      <td>미납 문의할게</td>\n",
       "      <td>27234</td>\n",
       "      <td>SKT해지미납센터연락처</td>\n",
       "      <td>SKT미납센터연락처</td>\n",
       "      <td>미납직권해지</td>\n",
       "      <td>SKT미납센터연락처</td>\n",
       "      <td>미납이용정지</td>\n",
       "      <td>과납</td>\n",
       "    </tr>\n",
       "    <tr>\n",
       "      <th>2</th>\n",
       "      <td>로밍 요금제 한눈에 보기</td>\n",
       "      <td>1125</td>\n",
       "      <td>로밍요금확인시점</td>\n",
       "      <td>로밍통화요금</td>\n",
       "      <td>로밍수신요금</td>\n",
       "      <td>NaN</td>\n",
       "      <td>NaN</td>\n",
       "      <td>NaN</td>\n",
       "    </tr>\n",
       "  </tbody>\n",
       "</table>\n",
       "</div>"
      ],
      "text/plain": [
       "            query  query_cnt       p_rank1     p_rank2 p_rank3    n_rank_1  \\\n",
       "0  미납요금 납부 가능일 문의      49194    SKT미납센터연락처      미납이용정지  미납직권해지   요금납부일확인방법   \n",
       "1         미납 문의할게      27234  SKT해지미납센터연락처  SKT미납센터연락처  미납직권해지  SKT미납센터연락처   \n",
       "2   로밍 요금제 한눈에 보기       1125      로밍요금확인시점      로밍통화요금  로밍수신요금         NaN   \n",
       "\n",
       "      n_rank2 n_rank3  \n",
       "0  SKT미납센터연락처  미납이용정지  \n",
       "1      미납이용정지      과납  \n",
       "2         NaN     NaN  "
      ]
     },
     "execution_count": 148,
     "metadata": {},
     "output_type": "execute_result"
    }
   ],
   "source": [
    "dd.head(3)"
   ]
  },
  {
   "cell_type": "code",
   "execution_count": null,
   "id": "20a255a5-2abe-4fad-85c5-224a1e74710b",
   "metadata": {},
   "outputs": [],
   "source": []
  }
 ],
 "metadata": {
  "kernelspec": {
   "display_name": "Python 3 (ipykernel)",
   "language": "python",
   "name": "python3"
  },
  "language_info": {
   "codemirror_mode": {
    "name": "ipython",
    "version": 3
   },
   "file_extension": ".py",
   "mimetype": "text/x-python",
   "name": "python",
   "nbconvert_exporter": "python",
   "pygments_lexer": "ipython3",
   "version": "3.8.10"
  }
 },
 "nbformat": 4,
 "nbformat_minor": 5
}
