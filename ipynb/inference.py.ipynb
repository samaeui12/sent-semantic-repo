{
 "cells": [
  {
   "cell_type": "code",
   "execution_count": 1,
   "id": "0a4e6330-f1e7-496c-9cc4-05c15ec9a8ff",
   "metadata": {
    "execution": {
     "iopub.execute_input": "2023-12-14T06:08:19.180756Z",
     "iopub.status.busy": "2023-12-14T06:08:19.180107Z",
     "iopub.status.idle": "2023-12-14T06:08:22.067175Z",
     "shell.execute_reply": "2023-12-14T06:08:22.065667Z",
     "shell.execute_reply.started": "2023-12-14T06:08:19.180700Z"
    }
   },
   "outputs": [],
   "source": [
    "import torch\n",
    "from transformers import (\n",
    "    AdamW,\n",
    "    AutoModel,\n",
    "    get_linear_schedule_with_warmup,\n",
    "    AutoTokenizer,\n",
    "    AutoConfig\n",
    ")"
   ]
  },
  {
   "cell_type": "code",
   "execution_count": 2,
   "id": "75f4a305-6e24-4160-882a-898f830eef6c",
   "metadata": {
    "execution": {
     "iopub.execute_input": "2023-12-14T06:08:25.092465Z",
     "iopub.status.busy": "2023-12-14T06:08:25.091466Z",
     "iopub.status.idle": "2023-12-14T06:08:25.098450Z",
     "shell.execute_reply": "2023-12-14T06:08:25.097228Z",
     "shell.execute_reply.started": "2023-12-14T06:08:25.092402Z"
    },
    "tags": []
   },
   "outputs": [],
   "source": [
    "import os \n",
    "import numpy as np"
   ]
  },
  {
   "cell_type": "code",
   "execution_count": 5,
   "id": "5125af0c-f792-4c92-ab38-734e503631fa",
   "metadata": {
    "execution": {
     "iopub.execute_input": "2023-12-14T06:10:00.549287Z",
     "iopub.status.busy": "2023-12-14T06:10:00.547929Z",
     "iopub.status.idle": "2023-12-14T06:10:00.769431Z",
     "shell.execute_reply": "2023-12-14T06:10:00.768038Z",
     "shell.execute_reply.started": "2023-12-14T06:10:00.549223Z"
    },
    "tags": []
   },
   "outputs": [],
   "source": [
    "from transformers import RobertaConfig, RobertaModel, RobertaPreTrainedModel\n",
    "import torch.nn as nn\n",
    "import torch\n",
    "from typing import Any, Dict\n",
    "\n",
    "class SentRobertaModelConfig(RobertaConfig):\n",
    "    model_type = \"sent_roberta\"\n",
    "    \n",
    "    def __init__(self, pooling_option: str = 'mean', **kwargs):\n",
    "        super().__init__(**kwargs)\n",
    "        self.pooling_option = pooling_option\n",
    "\n",
    "\n",
    "class SentRobertaModel(RobertaPreTrainedModel):\n",
    "    config_class = SentRobertaModelConfig\n",
    "    POOLING_OPTIONS = ['mean', 'first']\n",
    "\n",
    "    def __init__(self, config, **kwargs):\n",
    "        super().__init__(config)\n",
    "        self.config = config\n",
    "        self.pooling_option = config.pooling_option\n",
    "        assert self.pooling_option in self.POOLING_OPTIONS, f'Check the pooling options [{\", \".join(self.POOLING_OPTIONS)}]'\n",
    "\n",
    "        self.roberta = RobertaModel(config)\n",
    "        classifier_dropout = (\n",
    "            config.classifier_dropout if config.classifier_dropout is not None else config.hidden_dropout_prob\n",
    "        )\n",
    "        self.dropout = nn.Dropout(classifier_dropout)\n",
    "\n",
    "        self.post_init()\n",
    "\n",
    "    def mean_pooling(self, last_hidden_state, attention_mask=None):\n",
    "        input_mask_expanded = attention_mask.unsqueeze(-1).expand(last_hidden_state.size()).float()\n",
    "        return torch.sum(last_hidden_state * input_mask_expanded, 1) / torch.clamp(input_mask_expanded.sum(1), min=1e-9)\n",
    "\n",
    "    def forward(self, input_ids: torch.Tensor = None, attention_mask: torch.Tensor = None, **kwargs):\n",
    "        model_outputs = self.roberta(input_ids=input_ids, attention_mask=attention_mask)\n",
    "\n",
    "        if isinstance(model_outputs, tuple):\n",
    "            last_hidden_state, _ = model_outputs\n",
    "        elif hasattr(model_outputs, 'last_hidden_state'):\n",
    "            last_hidden_state = model_outputs.last_hidden_state\n",
    "        else:\n",
    "            raise NotImplementedError(f'Cannot support model output type: {type(model_outputs)}')\n",
    "\n",
    "        if self.pooling_option == 'mean':\n",
    "            logits = self.mean_pooling(last_hidden_state, attention_mask)\n",
    "        else:\n",
    "            logits = model_outputs[1]\n",
    "\n",
    "        return logits\n"
   ]
  },
  {
   "cell_type": "markdown",
   "id": "91be6053-2125-428c-8f36-3810778492ea",
   "metadata": {},
   "source": [
    "# Model Load"
   ]
  },
  {
   "cell_type": "code",
   "execution_count": 6,
   "id": "4eebe583-da93-423e-8306-6587fbe56129",
   "metadata": {
    "execution": {
     "iopub.execute_input": "2023-12-14T06:10:34.288913Z",
     "iopub.status.busy": "2023-12-14T06:10:34.288099Z",
     "iopub.status.idle": "2023-12-14T06:10:34.294933Z",
     "shell.execute_reply": "2023-12-14T06:10:34.293710Z",
     "shell.execute_reply.started": "2023-12-14T06:10:34.288838Z"
    },
    "tags": []
   },
   "outputs": [],
   "source": [
    "model_path = '/home/x1112436/final_result/faq/klue-faq-large-sent_robert/train_MNR_Triple'"
   ]
  },
  {
   "cell_type": "code",
   "execution_count": 10,
   "id": "5305b7f7-d1fe-466d-b321-a6f0af96087a",
   "metadata": {
    "execution": {
     "iopub.execute_input": "2023-12-14T06:11:21.667645Z",
     "iopub.status.busy": "2023-12-14T06:11:21.666743Z",
     "iopub.status.idle": "2023-12-14T06:11:27.321535Z",
     "shell.execute_reply": "2023-12-14T06:11:27.320255Z",
     "shell.execute_reply.started": "2023-12-14T06:11:21.667583Z"
    },
    "tags": []
   },
   "outputs": [],
   "source": [
    "model = SentRobertaModel.from_pretrained(\n",
    "    model_path \n",
    ")\n",
    "tokenizer = AutoTokenizer.from_pretrained(model_path)"
   ]
  },
  {
   "cell_type": "markdown",
   "id": "b1acf270-f0a4-44dd-96f6-16a15959eafe",
   "metadata": {},
   "source": [
    "# device Setting"
   ]
  },
  {
   "cell_type": "code",
   "execution_count": 11,
   "id": "d4678575-1e47-4058-ba87-338c689d872c",
   "metadata": {
    "execution": {
     "iopub.execute_input": "2023-12-14T06:12:11.524489Z",
     "iopub.status.busy": "2023-12-14T06:12:11.523622Z",
     "iopub.status.idle": "2023-12-14T06:12:11.586254Z",
     "shell.execute_reply": "2023-12-14T06:12:11.585181Z",
     "shell.execute_reply.started": "2023-12-14T06:12:11.524421Z"
    },
    "tags": []
   },
   "outputs": [],
   "source": [
    "if torch.cuda.is_available():\n",
    "    device = 'cuda'\n",
    "else:\n",
    "    device = 'cpu'"
   ]
  },
  {
   "cell_type": "markdown",
   "id": "8409b335-60b2-4045-b1c4-d5defb1e68ff",
   "metadata": {},
   "source": [
    "# Inference Example"
   ]
  },
  {
   "cell_type": "code",
   "execution_count": 12,
   "id": "5d5dc737-3e3e-486c-a98c-8b2775a9c87d",
   "metadata": {
    "execution": {
     "iopub.execute_input": "2023-12-14T06:12:17.076283Z",
     "iopub.status.busy": "2023-12-14T06:12:17.075768Z",
     "iopub.status.idle": "2023-12-14T06:12:21.405142Z",
     "shell.execute_reply": "2023-12-14T06:12:21.403698Z",
     "shell.execute_reply.started": "2023-12-14T06:12:17.076250Z"
    },
    "tags": []
   },
   "outputs": [],
   "source": [
    "model = model.to(device)"
   ]
  },
  {
   "cell_type": "code",
   "execution_count": 13,
   "id": "2a729f1e-2e39-47b7-852f-26d074e80b72",
   "metadata": {
    "execution": {
     "iopub.execute_input": "2023-12-14T06:12:26.533595Z",
     "iopub.status.busy": "2023-12-14T06:12:26.532619Z",
     "iopub.status.idle": "2023-12-14T06:12:26.549806Z",
     "shell.execute_reply": "2023-12-14T06:12:26.547412Z",
     "shell.execute_reply.started": "2023-12-14T06:12:26.533531Z"
    },
    "tags": []
   },
   "outputs": [],
   "source": [
    "input = '이것은 테스트'"
   ]
  },
  {
   "cell_type": "code",
   "execution_count": 21,
   "id": "724c9ca7-e5b6-48ad-a4e1-8718a7519f5e",
   "metadata": {
    "execution": {
     "iopub.execute_input": "2023-12-14T06:17:08.758308Z",
     "iopub.status.busy": "2023-12-14T06:17:08.757397Z",
     "iopub.status.idle": "2023-12-14T06:17:08.765483Z",
     "shell.execute_reply": "2023-12-14T06:17:08.764261Z",
     "shell.execute_reply.started": "2023-12-14T06:17:08.758245Z"
    },
    "tags": []
   },
   "outputs": [],
   "source": [
    "model_inputs = tokenizer.encode_plus(input, return_tensors='pt')"
   ]
  },
  {
   "cell_type": "code",
   "execution_count": 24,
   "id": "d2ced017-ee6e-4b16-bd9c-75ce006e3c7a",
   "metadata": {
    "execution": {
     "iopub.execute_input": "2023-12-14T06:18:00.133724Z",
     "iopub.status.busy": "2023-12-14T06:18:00.132909Z",
     "iopub.status.idle": "2023-12-14T06:18:00.140668Z",
     "shell.execute_reply": "2023-12-14T06:18:00.139423Z",
     "shell.execute_reply.started": "2023-12-14T06:18:00.133663Z"
    },
    "tags": []
   },
   "outputs": [],
   "source": [
    "input_ids = model_inputs['input_ids'].to(device)\n",
    "attention_mask = model_inputs['attention_mask'].to(device)"
   ]
  },
  {
   "cell_type": "code",
   "execution_count": 30,
   "id": "97d5f33f-2a96-4109-9247-a1856192580c",
   "metadata": {
    "execution": {
     "iopub.execute_input": "2023-12-14T06:18:55.574099Z",
     "iopub.status.busy": "2023-12-14T06:18:55.573276Z",
     "iopub.status.idle": "2023-12-14T06:18:55.603390Z",
     "shell.execute_reply": "2023-12-14T06:18:55.602440Z",
     "shell.execute_reply.started": "2023-12-14T06:18:55.574041Z"
    },
    "tags": []
   },
   "outputs": [],
   "source": [
    "embedding = model.forward(input_ids = input_ids, attention_mask = attention_mask)"
   ]
  },
  {
   "cell_type": "code",
   "execution_count": 33,
   "id": "a55662cf-1373-4094-850a-d8fd38e1cbb1",
   "metadata": {
    "execution": {
     "iopub.execute_input": "2023-12-14T06:19:01.146460Z",
     "iopub.status.busy": "2023-12-14T06:19:01.145572Z",
     "iopub.status.idle": "2023-12-14T06:19:01.153127Z",
     "shell.execute_reply": "2023-12-14T06:19:01.151835Z",
     "shell.execute_reply.started": "2023-12-14T06:19:01.146399Z"
    },
    "tags": []
   },
   "outputs": [],
   "source": [
    "if device == 'cuda':\n",
    "    embedding = embedding.detach().cpu()"
   ]
  }
 ],
 "metadata": {
  "kernelspec": {
   "display_name": "Python 3 (ipykernel)",
   "language": "python",
   "name": "python3"
  },
  "language_info": {
   "codemirror_mode": {
    "name": "ipython",
    "version": 3
   },
   "file_extension": ".py",
   "mimetype": "text/x-python",
   "name": "python",
   "nbconvert_exporter": "python",
   "pygments_lexer": "ipython3",
   "version": "3.8.10"
  }
 },
 "nbformat": 4,
 "nbformat_minor": 5
}
