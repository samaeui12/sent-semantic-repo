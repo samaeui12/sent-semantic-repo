{
 "cells": [
  {
   "cell_type": "code",
   "execution_count": 1,
   "id": "d0af835e-6839-4640-b440-aa84c7b21b05",
   "metadata": {
    "execution": {
     "iopub.execute_input": "2023-12-10T14:26:54.919604Z",
     "iopub.status.busy": "2023-12-10T14:26:54.918828Z",
     "iopub.status.idle": "2023-12-10T14:26:57.375049Z",
     "shell.execute_reply": "2023-12-10T14:26:57.374279Z",
     "shell.execute_reply.started": "2023-12-10T14:26:54.919562Z"
    },
    "tags": []
   },
   "outputs": [],
   "source": [
    "import torch\n",
    "from transformers import (\n",
    "    AdamW,\n",
    "    AutoModel,\n",
    "    get_linear_schedule_with_warmup,\n",
    "    AutoTokenizer,\n",
    "    AutoConfig\n",
    ")"
   ]
  },
  {
   "cell_type": "code",
   "execution_count": 2,
   "id": "6a2d3601-bc1f-40b3-a8b6-0a67fbdf1573",
   "metadata": {
    "execution": {
     "iopub.execute_input": "2023-12-10T14:26:57.376950Z",
     "iopub.status.busy": "2023-12-10T14:26:57.376534Z",
     "iopub.status.idle": "2023-12-10T14:26:57.380457Z",
     "shell.execute_reply": "2023-12-10T14:26:57.379855Z",
     "shell.execute_reply.started": "2023-12-10T14:26:57.376928Z"
    },
    "tags": []
   },
   "outputs": [],
   "source": [
    "import sys\n",
    "module_path = '/home/x1112436/git/sent-semantic-repo'\n",
    "sys.path.append(module_path)"
   ]
  },
  {
   "cell_type": "code",
   "execution_count": 3,
   "id": "2f87d1cd-b311-4d0f-bc07-a1dce4f9e581",
   "metadata": {
    "execution": {
     "iopub.execute_input": "2023-12-10T14:26:57.381415Z",
     "iopub.status.busy": "2023-12-10T14:26:57.381143Z",
     "iopub.status.idle": "2023-12-10T14:26:57.972814Z",
     "shell.execute_reply": "2023-12-10T14:26:57.972060Z",
     "shell.execute_reply.started": "2023-12-10T14:26:57.381395Z"
    },
    "tags": []
   },
   "outputs": [],
   "source": [
    "from src.utils import set_seed\n",
    "from src.trainer import SimcseTrainer\n",
    "from src.dataset import DATASET_MAPPING_DICT\n",
    "from src.utils import PreprocessorFactory \n",
    "from src.utils import get_model_argparse\n",
    "from src.model import MODEL_MAPPING_DICT\n",
    "from src.model import CONFIG_MAPPING_DICT\n",
    "from src.logger import Experi_Logger\n",
    "from config.nli_config import nli_parser_model_args"
   ]
  },
  {
   "cell_type": "code",
   "execution_count": 4,
   "id": "917cacc8-555a-444f-b29c-9d3dc438842c",
   "metadata": {
    "execution": {
     "iopub.execute_input": "2023-12-10T14:26:57.974184Z",
     "iopub.status.busy": "2023-12-10T14:26:57.973943Z",
     "iopub.status.idle": "2023-12-10T14:26:57.979459Z",
     "shell.execute_reply": "2023-12-10T14:26:57.978862Z",
     "shell.execute_reply.started": "2023-12-10T14:26:57.974159Z"
    },
    "tags": []
   },
   "outputs": [],
   "source": [
    "args = nli_parser_model_args()"
   ]
  },
  {
   "cell_type": "code",
   "execution_count": 5,
   "id": "73ed324f-3952-4d5a-b296-e8826dbe7cd2",
   "metadata": {
    "execution": {
     "iopub.execute_input": "2023-12-10T14:26:57.980391Z",
     "iopub.status.busy": "2023-12-10T14:26:57.980197Z",
     "iopub.status.idle": "2023-12-10T14:26:58.019264Z",
     "shell.execute_reply": "2023-12-10T14:26:58.018567Z",
     "shell.execute_reply.started": "2023-12-10T14:26:57.980372Z"
    },
    "tags": []
   },
   "outputs": [],
   "source": [
    "#args.pretrained_model = '/home/x1112436/model_file/faq_sent_roberta/sent_roberta'\n",
    "#args.pretrained_model = f'/home/x1112436/result/faq/modelfile/{args.pretrained_model}'\n",
    "args.device = torch.device(\"cuda:0\" if torch.cuda.is_available() else \"cpu\")\n",
    "args.n_gpu = torch.cuda.device_count()\n",
    "args.model_max_len = 100\n",
    "args.is_preprocessed = True\n",
    "args.valid_first = False\n",
    "args.data_type='triple'\n",
    "args.loss= 'TripletLoss'\n",
    "args.margin = 1.0"
   ]
  },
  {
   "cell_type": "code",
   "execution_count": 6,
   "id": "f618432c-f921-4e22-a241-10d429f0e5e6",
   "metadata": {
    "execution": {
     "iopub.execute_input": "2023-12-10T14:26:58.023781Z",
     "iopub.status.busy": "2023-12-10T14:26:58.023510Z",
     "iopub.status.idle": "2023-12-10T14:26:58.029282Z",
     "shell.execute_reply": "2023-12-10T14:26:58.028474Z",
     "shell.execute_reply.started": "2023-12-10T14:26:58.023759Z"
    },
    "tags": []
   },
   "outputs": [],
   "source": [
    "#args.pretrained_model_final = '/home/x1112436/result/faq/modelfile/home/x1112436/model_file/sent_roberta'\n",
    "#args.pretrained_model = '/home/x1112436/result/faq/modelfile2/klue/roberta-large'\n",
    "args.pretrained_model = '/home/x1112436/final_result/faq/klue-faq-large-sent_robert/train_Triple_Triple'"
   ]
  },
  {
   "cell_type": "code",
   "execution_count": 7,
   "id": "be42d143-b66f-4604-8617-c5ab2961d767",
   "metadata": {
    "execution": {
     "iopub.execute_input": "2023-12-10T14:26:58.030341Z",
     "iopub.status.busy": "2023-12-10T14:26:58.030075Z",
     "iopub.status.idle": "2023-12-10T14:27:04.245207Z",
     "shell.execute_reply": "2023-12-10T14:27:04.244235Z",
     "shell.execute_reply.started": "2023-12-10T14:26:58.030321Z"
    },
    "tags": []
   },
   "outputs": [],
   "source": [
    "model = MODEL_MAPPING_DICT['sent_roberta'].from_pretrained(\n",
    "    args.pretrained_model, **vars(args), \n",
    ")\n",
    "tokenizer = AutoTokenizer.from_pretrained(args.pretrained_model)"
   ]
  },
  {
   "cell_type": "markdown",
   "id": "748d7f49-28cb-4318-a6e2-0fd3c6b03af1",
   "metadata": {},
   "source": [
    "# LOAD DATA"
   ]
  },
  {
   "cell_type": "code",
   "execution_count": 8,
   "id": "08a6d975-ae07-449b-9414-173ee9832acb",
   "metadata": {
    "execution": {
     "iopub.execute_input": "2023-12-10T14:27:05.390046Z",
     "iopub.status.busy": "2023-12-10T14:27:05.389542Z",
     "iopub.status.idle": "2023-12-10T14:27:05.932481Z",
     "shell.execute_reply": "2023-12-10T14:27:05.931757Z",
     "shell.execute_reply.started": "2023-12-10T14:27:05.390009Z"
    },
    "tags": []
   },
   "outputs": [],
   "source": [
    "from skt.gcp import load_bigquery_ipython_magic, \\\n",
    "                    bq_to_pandas, \\\n",
    "                    get_bigquery_client"
   ]
  },
  {
   "cell_type": "code",
   "execution_count": 9,
   "id": "5257d994-8295-48c9-a458-f17b985e1493",
   "metadata": {
    "execution": {
     "iopub.execute_input": "2023-12-10T14:27:05.934570Z",
     "iopub.status.busy": "2023-12-10T14:27:05.934041Z",
     "iopub.status.idle": "2023-12-10T14:27:05.938027Z",
     "shell.execute_reply": "2023-12-10T14:27:05.937487Z",
     "shell.execute_reply.started": "2023-12-10T14:27:05.934546Z"
    },
    "tags": []
   },
   "outputs": [],
   "source": [
    "dataset = 'x1112436'\n",
    "log_table = 'faq_table'\n",
    "query = f\"\"\"\n",
    "\n",
    "SELECT  TRIM(query) as query,\n",
    "        answer,\n",
    "        REPLACE(TRIM(intent_nm), \"'\", \"\") as intent_nm,\n",
    "        answer,\n",
    "        domain,\n",
    "        status\n",
    "FROM `skt-datahub.{dataset}.{log_table}`\n",
    "WHERE intent_nm !='' and intent_nm is not null\n",
    "\"\"\""
   ]
  },
  {
   "cell_type": "code",
   "execution_count": 10,
   "id": "2de75d2d-e9ed-4f52-8402-c6435e8dffce",
   "metadata": {
    "execution": {
     "iopub.execute_input": "2023-12-10T14:27:06.376631Z",
     "iopub.status.busy": "2023-12-10T14:27:06.375907Z",
     "iopub.status.idle": "2023-12-10T14:27:11.549597Z",
     "shell.execute_reply": "2023-12-10T14:27:11.548461Z",
     "shell.execute_reply.started": "2023-12-10T14:27:06.376576Z"
    },
    "tags": []
   },
   "outputs": [
    {
     "name": "stdout",
     "output_type": "stream",
     "text": [
      "Warning: exception on print statistics\n",
      "unsupported operand type(s) for /: 'NoneType' and 'int'\n",
      "Downloading: 100%|\u001b[32m██████████\u001b[0m|\n"
     ]
    }
   ],
   "source": [
    "faq_table = bq_to_pandas(query)"
   ]
  },
  {
   "cell_type": "code",
   "execution_count": 11,
   "id": "a8298b43-d510-4210-a4aa-1cdb30e91d6d",
   "metadata": {
    "execution": {
     "iopub.execute_input": "2023-12-10T14:27:11.552242Z",
     "iopub.status.busy": "2023-12-10T14:27:11.551702Z",
     "iopub.status.idle": "2023-12-10T14:27:11.566573Z",
     "shell.execute_reply": "2023-12-10T14:27:11.565984Z",
     "shell.execute_reply.started": "2023-12-10T14:27:11.552201Z"
    },
    "tags": []
   },
   "outputs": [
    {
     "data": {
      "text/html": [
       "<div>\n",
       "<style scoped>\n",
       "    .dataframe tbody tr th:only-of-type {\n",
       "        vertical-align: middle;\n",
       "    }\n",
       "\n",
       "    .dataframe tbody tr th {\n",
       "        vertical-align: top;\n",
       "    }\n",
       "\n",
       "    .dataframe thead th {\n",
       "        text-align: right;\n",
       "    }\n",
       "</style>\n",
       "<table border=\"1\" class=\"dataframe\">\n",
       "  <thead>\n",
       "    <tr style=\"text-align: right;\">\n",
       "      <th></th>\n",
       "      <th>query</th>\n",
       "      <th>answer</th>\n",
       "      <th>intent_nm</th>\n",
       "      <th>answer_1</th>\n",
       "      <th>domain</th>\n",
       "      <th>status</th>\n",
       "    </tr>\n",
       "  </thead>\n",
       "  <tbody>\n",
       "    <tr>\n",
       "      <th>0</th>\n",
       "      <td>T RING</td>\n",
       "      <td>'T Ring(티 링)'에 대해 안내해 드릴게요.\\nT Ring은 SK텔레콤의 상징...</td>\n",
       "      <td>T Ring</td>\n",
       "      <td>'T Ring(티 링)'에 대해 안내해 드릴게요.\\nT Ring은 SK텔레콤의 상징...</td>\n",
       "      <td>sms_customer_center</td>\n",
       "      <td>INSERT</td>\n",
       "    </tr>\n",
       "    <tr>\n",
       "      <th>1</th>\n",
       "      <td>슬림</td>\n",
       "      <td>'슬림 요금제'에 대해 안내해 드릴게요.\\n슬림 요금제는 5G 스마트폰을 사용하는 ...</td>\n",
       "      <td>슬림</td>\n",
       "      <td>'슬림 요금제'에 대해 안내해 드릴게요.\\n슬림 요금제는 5G 스마트폰을 사용하는 ...</td>\n",
       "      <td>sms_customer_center</td>\n",
       "      <td>INSERT</td>\n",
       "    </tr>\n",
       "  </tbody>\n",
       "</table>\n",
       "</div>"
      ],
      "text/plain": [
       "    query                                             answer intent_nm  \\\n",
       "0  T RING  'T Ring(티 링)'에 대해 안내해 드릴게요.\\nT Ring은 SK텔레콤의 상징...    T Ring   \n",
       "1      슬림  '슬림 요금제'에 대해 안내해 드릴게요.\\n슬림 요금제는 5G 스마트폰을 사용하는 ...        슬림   \n",
       "\n",
       "                                            answer_1               domain  \\\n",
       "0  'T Ring(티 링)'에 대해 안내해 드릴게요.\\nT Ring은 SK텔레콤의 상징...  sms_customer_center   \n",
       "1  '슬림 요금제'에 대해 안내해 드릴게요.\\n슬림 요금제는 5G 스마트폰을 사용하는 ...  sms_customer_center   \n",
       "\n",
       "   status  \n",
       "0  INSERT  \n",
       "1  INSERT  "
      ]
     },
     "execution_count": 11,
     "metadata": {},
     "output_type": "execute_result"
    }
   ],
   "source": [
    "faq_table.head(2)"
   ]
  },
  {
   "cell_type": "code",
   "execution_count": 21,
   "id": "6b5725c8-d079-457d-a7fa-58c3c19fa926",
   "metadata": {
    "execution": {
     "iopub.execute_input": "2023-12-09T08:37:57.719927Z",
     "iopub.status.busy": "2023-12-09T08:37:57.719105Z",
     "iopub.status.idle": "2023-12-09T08:37:57.725697Z",
     "shell.execute_reply": "2023-12-09T08:37:57.724394Z",
     "shell.execute_reply.started": "2023-12-09T08:37:57.719862Z"
    },
    "tags": []
   },
   "outputs": [],
   "source": [
    "# intent_nm_ans = faq_table[['intent_nm', 'answer']].drop_duplicates(keep='first')\n",
    "# intent_nm_ans.to_csv('./result/intent_nm.csv', encoding='utf-8-sig', index=False)"
   ]
  },
  {
   "cell_type": "code",
   "execution_count": 12,
   "id": "97ab9939-384f-4199-99a7-fc0fef593d0b",
   "metadata": {
    "execution": {
     "iopub.execute_input": "2023-12-10T14:27:13.854088Z",
     "iopub.status.busy": "2023-12-10T14:27:13.853414Z",
     "iopub.status.idle": "2023-12-10T14:27:13.984137Z",
     "shell.execute_reply": "2023-12-10T14:27:13.983355Z",
     "shell.execute_reply.started": "2023-12-10T14:27:13.854036Z"
    },
    "tags": []
   },
   "outputs": [],
   "source": [
    "idx2query = list(faq_table['query'].unique())\n",
    "idx2intent_nm = list(faq_table.intent_nm.unique())"
   ]
  },
  {
   "cell_type": "code",
   "execution_count": 13,
   "id": "065406bb-9176-4f3c-98cc-a97266e3ba0c",
   "metadata": {
    "execution": {
     "iopub.execute_input": "2023-12-10T14:27:14.740183Z",
     "iopub.status.busy": "2023-12-10T14:27:14.739479Z",
     "iopub.status.idle": "2023-12-10T14:27:14.939800Z",
     "shell.execute_reply": "2023-12-10T14:27:14.939073Z",
     "shell.execute_reply.started": "2023-12-10T14:27:14.740126Z"
    },
    "tags": []
   },
   "outputs": [],
   "source": [
    "faq_table = faq_table[['query', 'intent_nm']]\n",
    "query_to_intent = faq_table.set_index('query').to_dict()['intent_nm']"
   ]
  },
  {
   "cell_type": "markdown",
   "id": "b2cfbd73-0832-45ba-9f20-6954e1bcc03a",
   "metadata": {},
   "source": [
    "# INPUT for single embedding"
   ]
  },
  {
   "cell_type": "code",
   "execution_count": 14,
   "id": "14053629-0792-4cd8-95cc-abc64694c648",
   "metadata": {
    "execution": {
     "iopub.execute_input": "2023-12-10T14:27:17.567379Z",
     "iopub.status.busy": "2023-12-10T14:27:17.566655Z",
     "iopub.status.idle": "2023-12-10T14:27:17.572573Z",
     "shell.execute_reply": "2023-12-10T14:27:17.571512Z",
     "shell.execute_reply.started": "2023-12-10T14:27:17.567322Z"
    },
    "tags": []
   },
   "outputs": [],
   "source": [
    "from torch.utils.data import (\n",
    "    DataLoader, Dataset\n",
    ")"
   ]
  },
  {
   "cell_type": "code",
   "execution_count": 15,
   "id": "eaa37b61-7089-4aff-99b0-c45172691be0",
   "metadata": {
    "execution": {
     "iopub.execute_input": "2023-12-10T14:27:17.817478Z",
     "iopub.status.busy": "2023-12-10T14:27:17.816786Z",
     "iopub.status.idle": "2023-12-10T14:27:17.823400Z",
     "shell.execute_reply": "2023-12-10T14:27:17.822141Z",
     "shell.execute_reply.started": "2023-12-10T14:27:17.817421Z"
    },
    "tags": []
   },
   "outputs": [],
   "source": [
    "from dataclasses import dataclass\n",
    "from typing import List, Any, Union, Dict"
   ]
  },
  {
   "cell_type": "code",
   "execution_count": 16,
   "id": "480be143-6480-4e00-bbf0-f839d2ddc838",
   "metadata": {
    "execution": {
     "iopub.execute_input": "2023-12-10T14:27:18.049274Z",
     "iopub.status.busy": "2023-12-10T14:27:18.047914Z",
     "iopub.status.idle": "2023-12-10T14:27:18.056925Z",
     "shell.execute_reply": "2023-12-10T14:27:18.055651Z",
     "shell.execute_reply.started": "2023-12-10T14:27:18.049200Z"
    },
    "tags": []
   },
   "outputs": [],
   "source": [
    "@dataclass\n",
    "class SingleSentenceInput:\n",
    "    sentence_a: str = None\n",
    "    a_input_ids: List[int] = None\n",
    "    a_attention_mask: List[int] = None"
   ]
  },
  {
   "cell_type": "code",
   "execution_count": 17,
   "id": "6bd912de-6fd3-4abb-9d56-2d9070dcc309",
   "metadata": {
    "execution": {
     "iopub.execute_input": "2023-12-10T14:27:19.276774Z",
     "iopub.status.busy": "2023-12-10T14:27:19.276023Z",
     "iopub.status.idle": "2023-12-10T14:27:19.297497Z",
     "shell.execute_reply": "2023-12-10T14:27:19.296614Z",
     "shell.execute_reply.started": "2023-12-10T14:27:19.276716Z"
    },
    "tags": []
   },
   "outputs": [],
   "source": [
    "class EmbeddingDataset(Dataset):\n",
    "    def __init__(\n",
    "            self,\n",
    "            args,\n",
    "            features:List[SingleSentenceInput],\n",
    "            max_length,\n",
    "            tokenizer,\n",
    "            **kwargs\n",
    "    ):\n",
    "        super(EmbeddingDataset, self).__init__()\n",
    "        self.args = args\n",
    "        self.features = features\n",
    "        self.max_length = max_length\n",
    "        self.pad_token_id = tokenizer.pad_token_id\n",
    "        self.sep_token_id = tokenizer.sep_token_id if tokenizer.sep_token_id else tokenizer.eos_token_id\n",
    "\n",
    "    def __getitem__(self, index) -> Dict[str, Any]:\n",
    "        feature = self.features[index]\n",
    "        return {\n",
    "            'a_sentence': feature.sentence_a,\n",
    "            'a_input_ids': torch.tensor(feature.a_input_ids, dtype=torch.long),\n",
    "            'a_attention_mask': torch.tensor(feature.a_attention_mask, dtype=torch.long)\n",
    "        }\n",
    "    def __len__(self):\n",
    "        return len(self.features)\n",
    "    \n",
    "    def loader(self, shuffle:bool=True, batch_size:int=64):\n",
    "        return DataLoader(self, shuffle=shuffle, batch_size=batch_size, collate_fn=self.collater)\n",
    "\n",
    "    def collater(self, batch: List[Dict[str, Any]]) -> Dict[str, Any]:\n",
    "\n",
    "        a_sentence = [data['a_sentence'] for data in batch]\n",
    "        a_input_ids = [data['a_input_ids'] for data in batch]\n",
    "        a_attention_mask = [data['a_attention_mask'] for data in batch]\n",
    "        ##  token level encoding\n",
    "        batch_size = len(batch)\n",
    "        sizes = [len(s) for s in a_input_ids]\n",
    "        target_size = min(max(sizes), self.max_length)\n",
    "        \"\"\" torch.full -> creates a tensor of a given shape and fills it with a scalar value self.pad_token_id here\"\"\"\n",
    "        a_collated_ids = torch.full((batch_size, target_size), self.pad_token_id, dtype=torch.long)\n",
    "        a_collated_attention_masks = torch.zeros((batch_size, target_size), dtype=torch.long)\n",
    "\n",
    "        \"\"\" cut data if size > target_size else: fill by self.pad_token_id \"\"\"\n",
    "        for i, (input_id, attention_m, size) in enumerate(\n",
    "                zip(a_input_ids, a_attention_mask, sizes)):\n",
    "            diff = target_size - size\n",
    "            if diff < 0:\n",
    "                a_collated_ids[i, :target_size] = input_id[:target_size]\n",
    "                a_collated_ids[i, -1] = self.sep_token_id\n",
    "                a_collated_attention_masks[i, :target_size] = attention_m[:target_size]\n",
    "\n",
    "            else:\n",
    "                a_collated_ids[i, :size] = input_id\n",
    "                a_collated_attention_masks[i, :size] = attention_m\n",
    "\n",
    "        return {\n",
    "            'a_sentence': a_sentence,\n",
    "            'a_input_ids': a_collated_ids,\n",
    "            'a_attention_mask': a_collated_attention_masks\n",
    "        }"
   ]
  },
  {
   "cell_type": "code",
   "execution_count": 18,
   "id": "6f6a956f-1b7a-421d-a9ae-2d5522da748c",
   "metadata": {
    "execution": {
     "iopub.execute_input": "2023-12-10T14:27:20.446275Z",
     "iopub.status.busy": "2023-12-10T14:27:20.445542Z",
     "iopub.status.idle": "2023-12-10T14:27:20.456908Z",
     "shell.execute_reply": "2023-12-10T14:27:20.455654Z",
     "shell.execute_reply.started": "2023-12-10T14:27:20.446219Z"
    },
    "tags": []
   },
   "outputs": [],
   "source": [
    "from src.utils.abs_preprocess import AbsPreprocessor\n",
    "\n",
    "class Testprocessor(AbsPreprocessor):\n",
    "\n",
    "    @classmethod\n",
    "    def preprocess(cls, tokenizer,  input_list:List) -> None:\n",
    "        \"\"\" try read tsv file using pandas first if [memory or parse] error catched use other reading method  \"\"\"\n",
    "    \n",
    "        feature_list = list()\n",
    "        skipped_line = 0\n",
    "\n",
    "        for i, line in enumerate(input_list):\n",
    "            try:\n",
    "                a_encoded_sentence = cls.tokenizing(input=line, tokenizer=tokenizer, tokenizer_input=None)\n",
    "                feature_list.append(\n",
    "                    SingleSentenceInput(\n",
    "                        sentence_a = line,\n",
    "                        a_input_ids = a_encoded_sentence.input_ids,\n",
    "                        a_attention_mask=a_encoded_sentence.attention_mask,\n",
    "                    )\n",
    "                )\n",
    "            except Exception as e:\n",
    "                print(f'Error occurs in {i} lines in preprocessing')\n",
    "                print(line)\n",
    "                print(e)\n",
    "                break\n",
    "\n",
    "        return feature_list"
   ]
  },
  {
   "cell_type": "code",
   "execution_count": 19,
   "id": "6e342500-a493-4218-a6c7-13e85a0636f6",
   "metadata": {
    "execution": {
     "iopub.execute_input": "2023-12-10T14:27:22.860008Z",
     "iopub.status.busy": "2023-12-10T14:27:22.858431Z",
     "iopub.status.idle": "2023-12-10T14:27:37.610757Z",
     "shell.execute_reply": "2023-12-10T14:27:37.609898Z",
     "shell.execute_reply.started": "2023-12-10T14:27:22.859919Z"
    },
    "tags": []
   },
   "outputs": [],
   "source": [
    "query_input = Testprocessor.preprocess(tokenizer = tokenizer ,input_list = idx2query)"
   ]
  },
  {
   "cell_type": "code",
   "execution_count": 20,
   "id": "d2bc5292-6b5d-47ac-ab97-73f7979e39f7",
   "metadata": {
    "execution": {
     "iopub.execute_input": "2023-12-10T14:27:37.612778Z",
     "iopub.status.busy": "2023-12-10T14:27:37.612413Z",
     "iopub.status.idle": "2023-12-10T14:27:37.694904Z",
     "shell.execute_reply": "2023-12-10T14:27:37.694188Z",
     "shell.execute_reply.started": "2023-12-10T14:27:37.612756Z"
    },
    "tags": []
   },
   "outputs": [],
   "source": [
    "intent_input = Testprocessor.preprocess(tokenizer = tokenizer ,input_list = idx2intent_nm)"
   ]
  },
  {
   "cell_type": "code",
   "execution_count": 21,
   "id": "7a760ae8-0084-497b-bca5-114fcc675d21",
   "metadata": {
    "execution": {
     "iopub.execute_input": "2023-12-10T14:27:37.696000Z",
     "iopub.status.busy": "2023-12-10T14:27:37.695799Z",
     "iopub.status.idle": "2023-12-10T14:27:37.699654Z",
     "shell.execute_reply": "2023-12-10T14:27:37.699083Z",
     "shell.execute_reply.started": "2023-12-10T14:27:37.695979Z"
    },
    "tags": []
   },
   "outputs": [],
   "source": [
    "queryDataset = EmbeddingDataset(args=args, features=query_input, max_length=args.model_max_len, tokenizer=tokenizer)"
   ]
  },
  {
   "cell_type": "code",
   "execution_count": 22,
   "id": "4e47e2f9-9cda-4a84-9d0f-844cd9836f97",
   "metadata": {
    "execution": {
     "iopub.execute_input": "2023-12-10T14:27:37.701451Z",
     "iopub.status.busy": "2023-12-10T14:27:37.701134Z",
     "iopub.status.idle": "2023-12-10T14:27:37.709914Z",
     "shell.execute_reply": "2023-12-10T14:27:37.709387Z",
     "shell.execute_reply.started": "2023-12-10T14:27:37.701431Z"
    },
    "tags": []
   },
   "outputs": [],
   "source": [
    "intentDataset = EmbeddingDataset(args=args, features=intent_input, max_length=args.model_max_len, tokenizer=tokenizer)"
   ]
  },
  {
   "cell_type": "markdown",
   "id": "1644df85-2159-4193-968e-048f1401bdbd",
   "metadata": {},
   "source": [
    "# DataLoader"
   ]
  },
  {
   "cell_type": "code",
   "execution_count": 23,
   "id": "ae488fb4-b133-4688-a9f6-e0fdc4b5e476",
   "metadata": {
    "execution": {
     "iopub.execute_input": "2023-12-10T14:27:39.243983Z",
     "iopub.status.busy": "2023-12-10T14:27:39.243264Z",
     "iopub.status.idle": "2023-12-10T14:27:39.250484Z",
     "shell.execute_reply": "2023-12-10T14:27:39.249185Z",
     "shell.execute_reply.started": "2023-12-10T14:27:39.243927Z"
    },
    "tags": []
   },
   "outputs": [],
   "source": [
    "queryDataloader = queryDataset.loader(\n",
    "            shuffle=False, batch_size=400 )"
   ]
  },
  {
   "cell_type": "code",
   "execution_count": 24,
   "id": "af7b0c53-b574-4bf4-9288-83ee5545f4c8",
   "metadata": {
    "execution": {
     "iopub.execute_input": "2023-12-10T14:27:39.723872Z",
     "iopub.status.busy": "2023-12-10T14:27:39.723149Z",
     "iopub.status.idle": "2023-12-10T14:27:39.729323Z",
     "shell.execute_reply": "2023-12-10T14:27:39.728652Z",
     "shell.execute_reply.started": "2023-12-10T14:27:39.723816Z"
    },
    "tags": []
   },
   "outputs": [],
   "source": [
    "intentDataloader = intentDataset.loader(\n",
    "            shuffle=False, batch_size=400 )"
   ]
  },
  {
   "cell_type": "markdown",
   "id": "db69171e-b3a3-4cd2-b355-55755f0b8b04",
   "metadata": {},
   "source": [
    "# embed query and intent"
   ]
  },
  {
   "cell_type": "code",
   "execution_count": 25,
   "id": "e67505a2-43d2-4433-b530-5b333989e076",
   "metadata": {
    "execution": {
     "iopub.execute_input": "2023-12-10T14:27:45.131226Z",
     "iopub.status.busy": "2023-12-10T14:27:45.130507Z",
     "iopub.status.idle": "2023-12-10T14:27:45.137044Z",
     "shell.execute_reply": "2023-12-10T14:27:45.135767Z",
     "shell.execute_reply.started": "2023-12-10T14:27:45.131170Z"
    },
    "tags": []
   },
   "outputs": [],
   "source": [
    "from tqdm.notebook import tqdm"
   ]
  },
  {
   "cell_type": "code",
   "execution_count": 26,
   "id": "c7737560-8a5a-4d54-8692-03c298c57bae",
   "metadata": {
    "execution": {
     "iopub.execute_input": "2023-12-10T14:27:46.128307Z",
     "iopub.status.busy": "2023-12-10T14:27:46.127583Z",
     "iopub.status.idle": "2023-12-10T14:27:53.097005Z",
     "shell.execute_reply": "2023-12-10T14:27:53.094540Z",
     "shell.execute_reply.started": "2023-12-10T14:27:46.128251Z"
    },
    "tags": []
   },
   "outputs": [],
   "source": [
    "model = model.to(args.device)"
   ]
  },
  {
   "cell_type": "code",
   "execution_count": 27,
   "id": "08c0db23-c3c6-47aa-abdb-e22fc9ac3f36",
   "metadata": {
    "execution": {
     "iopub.execute_input": "2023-12-10T14:27:53.101426Z",
     "iopub.status.busy": "2023-12-10T14:27:53.100644Z",
     "iopub.status.idle": "2023-12-10T14:27:53.111098Z",
     "shell.execute_reply": "2023-12-10T14:27:53.110499Z",
     "shell.execute_reply.started": "2023-12-10T14:27:53.101358Z"
    },
    "tags": []
   },
   "outputs": [],
   "source": [
    "def embedding(model, dataloader):\n",
    "    input_list = []\n",
    "    embedding_result = []\n",
    "    model.eval()\n",
    "    with torch.no_grad():   \n",
    "        for batch_idx, batch in enumerate(tqdm(dataloader)): \n",
    "            batch = {key: (item.to(args.device) if type(item) == torch.Tensor else item) for key, item in batch.items()}\n",
    "            a_embedding = model(batch['a_input_ids'], batch['a_attention_mask'])\n",
    "            a_sentence = batch['a_sentence']\n",
    "            input_list.extend(a_sentence)\n",
    "            embedding_result.append(a_embedding)\n",
    "    embedding_result = torch.cat(embedding_result, 0) \n",
    "    return embedding_result, input_list\n"
   ]
  },
  {
   "cell_type": "code",
   "execution_count": 28,
   "id": "d0636cef-9e3f-4fd3-aefc-81bea0847892",
   "metadata": {
    "execution": {
     "iopub.execute_input": "2023-12-10T14:27:53.111992Z",
     "iopub.status.busy": "2023-12-10T14:27:53.111788Z",
     "iopub.status.idle": "2023-12-10T14:32:02.167082Z",
     "shell.execute_reply": "2023-12-10T14:32:02.165824Z",
     "shell.execute_reply.started": "2023-12-10T14:27:53.111970Z"
    },
    "tags": []
   },
   "outputs": [
    {
     "data": {
      "application/vnd.jupyter.widget-view+json": {
       "model_id": "4abc6879e66b4b75a2a8494d71d1851e",
       "version_major": 2,
       "version_minor": 0
      },
      "text/plain": [
       "  0%|          | 0/613 [00:00<?, ?it/s]"
      ]
     },
     "metadata": {},
     "output_type": "display_data"
    }
   ],
   "source": [
    "query_embedding, query_list = embedding(model=model, dataloader=queryDataloader)"
   ]
  },
  {
   "cell_type": "code",
   "execution_count": 29,
   "id": "08ea1eea-e809-4416-b598-d7f74140f78b",
   "metadata": {
    "execution": {
     "iopub.execute_input": "2023-12-10T14:32:04.754616Z",
     "iopub.status.busy": "2023-12-10T14:32:04.753911Z",
     "iopub.status.idle": "2023-12-10T14:32:05.982235Z",
     "shell.execute_reply": "2023-12-10T14:32:05.981581Z",
     "shell.execute_reply.started": "2023-12-10T14:32:04.754557Z"
    },
    "tags": []
   },
   "outputs": [
    {
     "data": {
      "application/vnd.jupyter.widget-view+json": {
       "model_id": "f0ef08394e3a44a7a79a20c1e83c25b5",
       "version_major": 2,
       "version_minor": 0
      },
      "text/plain": [
       "  0%|          | 0/5 [00:00<?, ?it/s]"
      ]
     },
     "metadata": {},
     "output_type": "display_data"
    }
   ],
   "source": [
    "intent_embedding, intent_list = embedding(model=model, dataloader=intentDataloader)"
   ]
  },
  {
   "cell_type": "code",
   "execution_count": 30,
   "id": "9897cdbe-207b-4090-a2b5-81ebc230255a",
   "metadata": {
    "execution": {
     "iopub.execute_input": "2023-12-10T14:32:06.713701Z",
     "iopub.status.busy": "2023-12-10T14:32:06.712969Z",
     "iopub.status.idle": "2023-12-10T14:32:06.728864Z",
     "shell.execute_reply": "2023-12-10T14:32:06.727584Z",
     "shell.execute_reply.started": "2023-12-10T14:32:06.713646Z"
    },
    "tags": []
   },
   "outputs": [],
   "source": [
    "import torch.nn.functional as F\n",
    "k = 3\n",
    "_, indices = torch.topk(F.normalize(query_embedding, dim =1) @ F.normalize(intent_embedding, dim=1).T, k)"
   ]
  },
  {
   "cell_type": "markdown",
   "id": "a5f032ae-23ff-4749-b133-58c75216b11c",
   "metadata": {},
   "source": [
    "# TOP K HIT RATIO"
   ]
  },
  {
   "cell_type": "code",
   "execution_count": 41,
   "id": "55d52b86-5e49-46e1-9779-868dc3c17956",
   "metadata": {
    "execution": {
     "iopub.execute_input": "2023-12-10T14:34:20.353983Z",
     "iopub.status.busy": "2023-12-10T14:34:20.353247Z",
     "iopub.status.idle": "2023-12-10T14:34:24.072608Z",
     "shell.execute_reply": "2023-12-10T14:34:24.071483Z",
     "shell.execute_reply.started": "2023-12-10T14:34:20.353925Z"
    },
    "tags": []
   },
   "outputs": [],
   "source": [
    "correct_cnt = 0\n",
    "for i in range(indices.shape[0]):\n",
    "    query = idx2query[i]\n",
    "    answer = query_to_intent[query]\n",
    "    for j in range(1):\n",
    "        if idx2intent_nm[indices[i][j]] == answer:\n",
    "            correct_cnt += 1\n",
    "    "
   ]
  }
 ],
 "metadata": {
  "kernelspec": {
   "display_name": "Python 3 (ipykernel)",
   "language": "python",
   "name": "python3"
  },
  "language_info": {
   "codemirror_mode": {
    "name": "ipython",
    "version": 3
   },
   "file_extension": ".py",
   "mimetype": "text/x-python",
   "name": "python",
   "nbconvert_exporter": "python",
   "pygments_lexer": "ipython3",
   "version": "3.8.10"
  }
 },
 "nbformat": 4,
 "nbformat_minor": 5
}
