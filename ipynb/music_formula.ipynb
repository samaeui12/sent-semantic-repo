{
 "cells": [
  {
   "cell_type": "code",
   "execution_count": 9,
   "id": "14a0fd46-6d5c-4057-b4d5-00a93abe5beb",
   "metadata": {
    "execution": {
     "iopub.execute_input": "2023-12-06T10:20:13.497156Z",
     "iopub.status.busy": "2023-12-06T10:20:13.496701Z",
     "iopub.status.idle": "2023-12-06T10:20:13.577093Z",
     "shell.execute_reply": "2023-12-06T10:20:13.576268Z",
     "shell.execute_reply.started": "2023-12-06T10:20:13.497122Z"
    },
    "tags": []
   },
   "outputs": [],
   "source": [
    "from skt.vault_utils import get_secrets\n",
    "from skt.ye import get_spark\n",
    "proxies = get_secrets('proxies')"
   ]
  },
  {
   "cell_type": "code",
   "execution_count": 10,
   "id": "c5e9af9c-9d4c-43b2-b09d-02d77255ded2",
   "metadata": {
    "execution": {
     "iopub.execute_input": "2023-12-06T10:20:13.967618Z",
     "iopub.status.busy": "2023-12-06T10:20:13.967174Z",
     "iopub.status.idle": "2023-12-06T10:20:13.971281Z",
     "shell.execute_reply": "2023-12-06T10:20:13.970557Z",
     "shell.execute_reply.started": "2023-12-06T10:20:13.967586Z"
    },
    "tags": []
   },
   "outputs": [],
   "source": [
    "import pyspark.sql.functions as F"
   ]
  },
  {
   "cell_type": "code",
   "execution_count": 11,
   "id": "b53867ad-c896-49ee-99d3-fabe5c334baa",
   "metadata": {
    "execution": {
     "iopub.execute_input": "2023-12-06T10:20:14.377778Z",
     "iopub.status.busy": "2023-12-06T10:20:14.377330Z",
     "iopub.status.idle": "2023-12-06T10:20:14.381415Z",
     "shell.execute_reply": "2023-12-06T10:20:14.380684Z",
     "shell.execute_reply.started": "2023-12-06T10:20:14.377745Z"
    },
    "tags": []
   },
   "outputs": [],
   "source": [
    "import os"
   ]
  },
  {
   "cell_type": "code",
   "execution_count": 12,
   "id": "fdbf5942-58bd-458a-8fbc-856932e5435b",
   "metadata": {
    "execution": {
     "iopub.execute_input": "2023-12-06T10:20:14.759656Z",
     "iopub.status.busy": "2023-12-06T10:20:14.759214Z",
     "iopub.status.idle": "2023-12-06T10:20:14.763499Z",
     "shell.execute_reply": "2023-12-06T10:20:14.762790Z",
     "shell.execute_reply.started": "2023-12-06T10:20:14.759624Z"
    },
    "tags": []
   },
   "outputs": [],
   "source": [
    "os.environ['http_proxy'] = proxies['http']\n",
    "os.environ['https_proxy'] = proxies['https']"
   ]
  },
  {
   "cell_type": "code",
   "execution_count": 13,
   "id": "d9d30f36-c23c-496f-b71b-508488aa6d66",
   "metadata": {
    "execution": {
     "iopub.execute_input": "2023-12-06T10:20:15.394022Z",
     "iopub.status.busy": "2023-12-06T10:20:15.393576Z",
     "iopub.status.idle": "2023-12-06T10:20:47.434409Z",
     "shell.execute_reply": "2023-12-06T10:20:47.433576Z",
     "shell.execute_reply.started": "2023-12-06T10:20:15.393988Z"
    },
    "tags": []
   },
   "outputs": [
    {
     "name": "stderr",
     "output_type": "stream",
     "text": [
      "Setting default log level to \"WARN\".\n",
      "To adjust logging level use sc.setLogLevel(newLevel). For SparkR, use setLogLevel(newLevel).\n",
      "23/12/06 19:20:23 WARN Client: Neither spark.yarn.jars nor spark.yarn.archive is set, falling back to uploading libraries under SPARK_HOME.\n"
     ]
    }
   ],
   "source": [
    "spark = get_spark()"
   ]
  },
  {
   "cell_type": "code",
   "execution_count": 8,
   "id": "3d33f8e0-4383-4641-be02-05db6e31cad6",
   "metadata": {
    "execution": {
     "iopub.execute_input": "2023-12-06T10:20:11.809679Z",
     "iopub.status.busy": "2023-12-06T10:20:11.809219Z",
     "iopub.status.idle": "2023-12-06T10:20:11.813429Z",
     "shell.execute_reply": "2023-12-06T10:20:11.812655Z",
     "shell.execute_reply.started": "2023-12-06T10:20:11.809647Z"
    },
    "tags": []
   },
   "outputs": [],
   "source": [
    "tidc_hadoop_ip = \"hdfs://172.27.23.141:8020\""
   ]
  },
  {
   "cell_type": "code",
   "execution_count": 15,
   "id": "0db83101-f7c5-4bba-9af1-97df2394007d",
   "metadata": {
    "execution": {
     "iopub.execute_input": "2023-12-06T07:29:12.194493Z",
     "iopub.status.busy": "2023-12-06T07:29:12.193945Z",
     "iopub.status.idle": "2023-12-06T07:29:12.198531Z",
     "shell.execute_reply": "2023-12-06T07:29:12.197626Z",
     "shell.execute_reply.started": "2023-12-06T07:29:12.194457Z"
    },
    "tags": []
   },
   "outputs": [],
   "source": [
    "tag_hadoop_path = f'{tidc_hadoop_ip}/recommendation/apollo/music/plugin/knowledge_vocab/*'"
   ]
  },
  {
   "cell_type": "code",
   "execution_count": 16,
   "id": "e2a2c8f2-4594-4952-bd78-757ce85ea974",
   "metadata": {
    "execution": {
     "iopub.execute_input": "2023-12-06T07:29:18.785724Z",
     "iopub.status.busy": "2023-12-06T07:29:18.785247Z",
     "iopub.status.idle": "2023-12-06T07:29:30.810948Z",
     "shell.execute_reply": "2023-12-06T07:29:30.810241Z",
     "shell.execute_reply.started": "2023-12-06T07:29:18.785690Z"
    },
    "tags": []
   },
   "outputs": [
    {
     "name": "stderr",
     "output_type": "stream",
     "text": [
      "                                                                                \r"
     ]
    }
   ],
   "source": [
    "music_df = spark.read.json(tag_hadoop_path)"
   ]
  },
  {
   "cell_type": "code",
   "execution_count": 21,
   "id": "0dec07fc-a6cf-450a-b629-4731e2abf564",
   "metadata": {
    "execution": {
     "iopub.execute_input": "2023-12-06T07:36:43.263702Z",
     "iopub.status.busy": "2023-12-06T07:36:43.263214Z",
     "iopub.status.idle": "2023-12-06T07:36:43.267283Z",
     "shell.execute_reply": "2023-12-06T07:36:43.266639Z",
     "shell.execute_reply.started": "2023-12-06T07:36:43.263668Z"
    },
    "tags": []
   },
   "outputs": [],
   "source": [
    "from skt.gcp import load_bigquery_ipython_magic, \\\n",
    "                    bq_to_pandas, \\\n",
    "                    get_bigquery_client"
   ]
  },
  {
   "cell_type": "code",
   "execution_count": 27,
   "id": "d4d0140b-5fea-41ed-a548-a15df3233740",
   "metadata": {
    "execution": {
     "iopub.execute_input": "2023-12-06T10:34:46.232460Z",
     "iopub.status.busy": "2023-12-06T10:34:46.231905Z",
     "iopub.status.idle": "2023-12-06T10:34:46.236199Z",
     "shell.execute_reply": "2023-12-06T10:34:46.235492Z",
     "shell.execute_reply.started": "2023-12-06T10:34:46.232418Z"
    },
    "tags": []
   },
   "outputs": [],
   "source": [
    "from skt.gcp import df_to_bq_table\n",
    "from pyspark.sql.types import DateType\n",
    "import time"
   ]
  },
  {
   "cell_type": "code",
   "execution_count": 22,
   "id": "b615dd27-82a3-4ac0-97e9-6c1a251733a1",
   "metadata": {
    "execution": {
     "iopub.execute_input": "2023-12-06T07:36:44.554603Z",
     "iopub.status.busy": "2023-12-06T07:36:44.554120Z",
     "iopub.status.idle": "2023-12-06T07:36:47.390073Z",
     "shell.execute_reply": "2023-12-06T07:36:47.389256Z",
     "shell.execute_reply.started": "2023-12-06T07:36:44.554569Z"
    },
    "tags": []
   },
   "outputs": [
    {
     "name": "stdout",
     "output_type": "stream",
     "text": [
      "생성된 테이블 : x1112436.music_formula\n"
     ]
    }
   ],
   "source": [
    "dest_dataset = \"x1112436\"\n",
    "partitioned_dest_table = f\"music_formula\"\n",
    "\n",
    "get_bigquery_client().query(f\"\"\"\n",
    "    CREATE TABLE IF NOT EXISTS {dest_dataset}.{partitioned_dest_table}\n",
    "    (\n",
    "        id  STRING,\n",
    "        name STRING,\n",
    "        type STRING    \n",
    "    )\n",
    "\"\"\").result()\n",
    "\n",
    "print(f\"생성된 테이블 : {dest_dataset}.{partitioned_dest_table}\")"
   ]
  },
  {
   "cell_type": "code",
   "execution_count": 24,
   "id": "e6ff87f2-b8b6-47e1-92b1-fa7986b0a734",
   "metadata": {
    "execution": {
     "iopub.execute_input": "2023-12-06T07:37:03.446697Z",
     "iopub.status.busy": "2023-12-06T07:37:03.446250Z",
     "iopub.status.idle": "2023-12-06T07:37:16.621456Z",
     "shell.execute_reply": "2023-12-06T07:37:16.620563Z",
     "shell.execute_reply.started": "2023-12-06T07:37:03.446664Z"
    },
    "tags": []
   },
   "outputs": [
    {
     "name": "stderr",
     "output_type": "stream",
     "text": [
      "                                                                                \r"
     ]
    }
   ],
   "source": [
    "df_to_bq_table(df=music_df,\n",
    "               dataset=dest_dataset,\n",
    "               table_name=partitioned_dest_table,\n",
    "               mode=\"overwrite\")"
   ]
  },
  {
   "cell_type": "markdown",
   "id": "e0b05ef5-71de-4a8b-9358-be0fc6b21961",
   "metadata": {},
   "source": [
    "# LOAD"
   ]
  },
  {
   "cell_type": "code",
   "execution_count": 25,
   "id": "d4dd3548-6b33-40dc-8c69-fb01b61920a7",
   "metadata": {
    "execution": {
     "iopub.execute_input": "2023-12-06T10:34:24.614989Z",
     "iopub.status.busy": "2023-12-06T10:34:24.614190Z",
     "iopub.status.idle": "2023-12-06T10:34:25.877242Z",
     "shell.execute_reply": "2023-12-06T10:34:25.876370Z",
     "shell.execute_reply.started": "2023-12-06T10:34:24.614954Z"
    },
    "tags": []
   },
   "outputs": [],
   "source": [
    "from skt.gcp import load_bigquery_ipython_magic, \\\n",
    "                    bq_to_pandas, \\\n",
    "                    get_bigquery_client"
   ]
  },
  {
   "cell_type": "code",
   "execution_count": 2,
   "id": "bf912a2b-e2ca-4f18-b8ce-be392ba44010",
   "metadata": {
    "execution": {
     "iopub.execute_input": "2023-12-06T07:55:08.432626Z",
     "iopub.status.busy": "2023-12-06T07:55:08.431336Z",
     "iopub.status.idle": "2023-12-06T07:55:08.440423Z",
     "shell.execute_reply": "2023-12-06T07:55:08.439617Z",
     "shell.execute_reply.started": "2023-12-06T07:55:08.432564Z"
    },
    "tags": []
   },
   "outputs": [],
   "source": [
    "dest_dataset = \"x1112436\"\n",
    "partitioned_dest_table = f\"music_formula\"\n",
    "\n",
    "query = f\"\"\"\n",
    "\n",
    "SELECT  *\n",
    "FROM `skt-datahub.{dest_dataset}.{partitioned_dest_table}`\n",
    "\"\"\""
   ]
  },
  {
   "cell_type": "code",
   "execution_count": 3,
   "id": "4df2af81-b4bf-4ee7-88db-f64158218b99",
   "metadata": {
    "execution": {
     "iopub.execute_input": "2023-12-06T07:55:08.441620Z",
     "iopub.status.busy": "2023-12-06T07:55:08.441359Z",
     "iopub.status.idle": "2023-12-06T07:55:11.827446Z",
     "shell.execute_reply": "2023-12-06T07:55:11.826781Z",
     "shell.execute_reply.started": "2023-12-06T07:55:08.441591Z"
    },
    "tags": []
   },
   "outputs": [
    {
     "name": "stdout",
     "output_type": "stream",
     "text": [
      "Warning: exception on print statistics\n",
      "unsupported operand type(s) for /: 'NoneType' and 'int'\n",
      "Downloading: 100%|\u001b[32m██████████\u001b[0m|\n"
     ]
    }
   ],
   "source": [
    "formula_table = bq_to_pandas(query)"
   ]
  },
  {
   "cell_type": "code",
   "execution_count": 5,
   "id": "34e9bb73-ba96-4f76-83ae-f7d0f0c6d004",
   "metadata": {
    "execution": {
     "iopub.execute_input": "2023-12-06T07:55:31.263113Z",
     "iopub.status.busy": "2023-12-06T07:55:31.262376Z",
     "iopub.status.idle": "2023-12-06T07:55:31.270293Z",
     "shell.execute_reply": "2023-12-06T07:55:31.269105Z",
     "shell.execute_reply.started": "2023-12-06T07:55:31.263054Z"
    },
    "tags": []
   },
   "outputs": [],
   "source": [
    "formula_keywords = list(formula_table.name.unique())"
   ]
  },
  {
   "cell_type": "markdown",
   "id": "b4a29d12-5c65-4219-bce8-e2c892dbb598",
   "metadata": {},
   "source": [
    "# load alias"
   ]
  },
  {
   "cell_type": "code",
   "execution_count": 75,
   "id": "a63695ca-7e9c-4b40-bcab-83447b7fe1e6",
   "metadata": {
    "execution": {
     "iopub.execute_input": "2023-12-06T11:42:31.734130Z",
     "iopub.status.busy": "2023-12-06T11:42:31.733706Z",
     "iopub.status.idle": "2023-12-06T11:42:31.737445Z",
     "shell.execute_reply": "2023-12-06T11:42:31.736792Z",
     "shell.execute_reply.started": "2023-12-06T11:42:31.734099Z"
    },
    "tags": []
   },
   "outputs": [],
   "source": [
    "tidc_hadoop_ip = 'hdfs://172.27.1.237:8020//'"
   ]
  },
  {
   "cell_type": "code",
   "execution_count": 17,
   "id": "b3220378-8fab-4bd8-b5c1-21fb3ea12a41",
   "metadata": {
    "execution": {
     "iopub.execute_input": "2023-12-06T10:31:59.740047Z",
     "iopub.status.busy": "2023-12-06T10:31:59.739539Z",
     "iopub.status.idle": "2023-12-06T10:31:59.743819Z",
     "shell.execute_reply": "2023-12-06T10:31:59.743115Z",
     "shell.execute_reply.started": "2023-12-06T10:31:59.740012Z"
    },
    "tags": []
   },
   "outputs": [],
   "source": [
    "alias_file = f'{tidc_hadoop_ip}/data/music/source/knowledge/alias/*'"
   ]
  },
  {
   "cell_type": "code",
   "execution_count": 66,
   "id": "7d82dfbe-d10b-4e3d-8742-e7a0895a6fe8",
   "metadata": {
    "execution": {
     "iopub.execute_input": "2023-12-06T10:49:07.409980Z",
     "iopub.status.busy": "2023-12-06T10:49:07.409568Z",
     "iopub.status.idle": "2023-12-06T10:49:07.771829Z",
     "shell.execute_reply": "2023-12-06T10:49:07.771104Z",
     "shell.execute_reply.started": "2023-12-06T10:49:07.409948Z"
    },
    "tags": []
   },
   "outputs": [],
   "source": [
    "alias = spark.read.json(alias_file)"
   ]
  },
  {
   "cell_type": "code",
   "execution_count": 61,
   "id": "eb3232f2-262b-434f-a426-d6590cae594b",
   "metadata": {
    "execution": {
     "iopub.execute_input": "2023-12-06T10:48:00.583345Z",
     "iopub.status.busy": "2023-12-06T10:48:00.582932Z",
     "iopub.status.idle": "2023-12-06T10:48:00.586452Z",
     "shell.execute_reply": "2023-12-06T10:48:00.585803Z",
     "shell.execute_reply.started": "2023-12-06T10:48:00.583314Z"
    },
    "tags": []
   },
   "outputs": [],
   "source": [
    "#alias.printSchema()"
   ]
  },
  {
   "cell_type": "code",
   "execution_count": 67,
   "id": "9a31cba5-0924-46e6-a9aa-9019461d90e4",
   "metadata": {
    "execution": {
     "iopub.execute_input": "2023-12-06T10:49:08.994282Z",
     "iopub.status.busy": "2023-12-06T10:49:08.993870Z",
     "iopub.status.idle": "2023-12-06T10:49:09.005189Z",
     "shell.execute_reply": "2023-12-06T10:49:09.004534Z",
     "shell.execute_reply.started": "2023-12-06T10:49:08.994251Z"
    },
    "tags": []
   },
   "outputs": [],
   "source": [
    "alias = alias.select(\n",
    "    F.col('alias.name').alias('alias_nms'),\n",
    "    F.col('name')\n",
    ")"
   ]
  },
  {
   "cell_type": "code",
   "execution_count": 70,
   "id": "b491f8fb-4c2f-4336-bd5c-088308e6a449",
   "metadata": {
    "execution": {
     "iopub.execute_input": "2023-12-06T10:50:00.335940Z",
     "iopub.status.busy": "2023-12-06T10:50:00.335532Z",
     "iopub.status.idle": "2023-12-06T10:50:00.354716Z",
     "shell.execute_reply": "2023-12-06T10:50:00.354029Z",
     "shell.execute_reply.started": "2023-12-06T10:50:00.335908Z"
    },
    "tags": []
   },
   "outputs": [],
   "source": [
    "alias = alias.withColumn('alias_nm', F.explode('alias_nms')).select('alias_nm', 'name')"
   ]
  },
  {
   "cell_type": "code",
   "execution_count": 72,
   "id": "ca2e82d7-be48-4371-ac22-0dc9912fa22a",
   "metadata": {
    "execution": {
     "iopub.execute_input": "2023-12-06T10:50:46.781791Z",
     "iopub.status.busy": "2023-12-06T10:50:46.781360Z",
     "iopub.status.idle": "2023-12-06T10:50:46.790552Z",
     "shell.execute_reply": "2023-12-06T10:50:46.789875Z",
     "shell.execute_reply.started": "2023-12-06T10:50:46.781740Z"
    },
    "tags": []
   },
   "outputs": [],
   "source": [
    "alias = alias.distinct()"
   ]
  },
  {
   "cell_type": "code",
   "execution_count": 55,
   "id": "a6372443-c66c-42a7-8481-a01f65eaee90",
   "metadata": {
    "execution": {
     "iopub.execute_input": "2023-12-06T10:47:32.728319Z",
     "iopub.status.busy": "2023-12-06T10:47:32.727895Z",
     "iopub.status.idle": "2023-12-06T10:47:32.731499Z",
     "shell.execute_reply": "2023-12-06T10:47:32.730836Z",
     "shell.execute_reply.started": "2023-12-06T10:47:32.728289Z"
    },
    "tags": []
   },
   "outputs": [],
   "source": [
    "# dest_dataset = \"x1112436\"\n",
    "# table_nm = f\"music_formula_alias\"\n",
    "# get_bigquery_client().query(f\"\"\"\n",
    "#     DROP TABLE IF EXISTS {dest_dataset}.{table_nm}\"\"\"\n",
    "# )"
   ]
  },
  {
   "cell_type": "code",
   "execution_count": 73,
   "id": "4e366981-0972-4590-a516-fbbe9892fe1f",
   "metadata": {
    "execution": {
     "iopub.execute_input": "2023-12-06T10:50:48.154868Z",
     "iopub.status.busy": "2023-12-06T10:50:48.154464Z",
     "iopub.status.idle": "2023-12-06T10:50:54.743840Z",
     "shell.execute_reply": "2023-12-06T10:50:54.743002Z",
     "shell.execute_reply.started": "2023-12-06T10:50:48.154838Z"
    },
    "tags": []
   },
   "outputs": [
    {
     "name": "stderr",
     "output_type": "stream",
     "text": [
      "                                                                                \r"
     ]
    }
   ],
   "source": [
    "df_to_bq_table(df=alias,\n",
    "               dataset=dest_dataset,\n",
    "               table_name=partitioned_dest_table,\n",
    "               mode=\"overwrite\")"
   ]
  },
  {
   "cell_type": "markdown",
   "id": "820593c8-d8cb-46dd-9d1c-e0322645290f",
   "metadata": {},
   "source": [
    "# Load artist"
   ]
  },
  {
   "cell_type": "code",
   "execution_count": 85,
   "id": "caa78f03-7278-4551-aced-8f7a33b77dee",
   "metadata": {
    "execution": {
     "iopub.execute_input": "2023-12-06T11:43:53.148811Z",
     "iopub.status.busy": "2023-12-06T11:43:53.148349Z",
     "iopub.status.idle": "2023-12-06T11:43:54.120238Z",
     "shell.execute_reply": "2023-12-06T11:43:54.119558Z",
     "shell.execute_reply.started": "2023-12-06T11:43:53.148780Z"
    },
    "tags": []
   },
   "outputs": [
    {
     "name": "stderr",
     "output_type": "stream",
     "text": [
      "                                                                                \r"
     ]
    }
   ],
   "source": [
    "artist = spark.read.json(f'{tidc_hadoop_ip}/recommendation/workspace/jaehwan/music_interact/artist_word.json')"
   ]
  },
  {
   "cell_type": "code",
   "execution_count": 86,
   "id": "ada7d916-d805-4abe-99fd-ffd074b938bb",
   "metadata": {
    "execution": {
     "iopub.execute_input": "2023-12-06T11:44:18.038459Z",
     "iopub.status.busy": "2023-12-06T11:44:18.038002Z",
     "iopub.status.idle": "2023-12-06T11:44:18.041825Z",
     "shell.execute_reply": "2023-12-06T11:44:18.041212Z",
     "shell.execute_reply.started": "2023-12-06T11:44:18.038429Z"
    },
    "tags": []
   },
   "outputs": [],
   "source": [
    "dest_dataset = \"x1112436\"\n",
    "table_nm = f\"music_artist\""
   ]
  },
  {
   "cell_type": "code",
   "execution_count": 88,
   "id": "e6f8e9f1-bdb8-406e-9820-6cffad74f6eb",
   "metadata": {
    "execution": {
     "iopub.execute_input": "2023-12-06T11:44:29.972101Z",
     "iopub.status.busy": "2023-12-06T11:44:29.971682Z",
     "iopub.status.idle": "2023-12-06T11:44:40.652783Z",
     "shell.execute_reply": "2023-12-06T11:44:40.652058Z",
     "shell.execute_reply.started": "2023-12-06T11:44:29.972059Z"
    },
    "tags": []
   },
   "outputs": [
    {
     "name": "stderr",
     "output_type": "stream",
     "text": [
      "                                                                                \r"
     ]
    }
   ],
   "source": [
    "df_to_bq_table(df=artist,\n",
    "               dataset=dest_dataset,\n",
    "               table_name=table_nm,\n",
    "               mode=\"overwrite\")"
   ]
  },
  {
   "cell_type": "code",
   "execution_count": 89,
   "id": "628bc352-d686-4592-acec-02dab3db94df",
   "metadata": {
    "execution": {
     "iopub.execute_input": "2023-12-06T11:45:36.360956Z",
     "iopub.status.busy": "2023-12-06T11:45:36.360542Z",
     "iopub.status.idle": "2023-12-06T11:45:37.547826Z",
     "shell.execute_reply": "2023-12-06T11:45:37.547132Z",
     "shell.execute_reply.started": "2023-12-06T11:45:36.360924Z"
    },
    "tags": []
   },
   "outputs": [
    {
     "name": "stderr",
     "output_type": "stream",
     "text": [
      "                                                                                \r"
     ]
    },
    {
     "data": {
      "text/plain": [
       "4663248"
      ]
     },
     "execution_count": 89,
     "metadata": {},
     "output_type": "execute_result"
    }
   ],
   "source": [
    "artist.count()"
   ]
  },
  {
   "cell_type": "code",
   "execution_count": null,
   "id": "3a76091d-9052-4706-a4ae-cff9e2304d88",
   "metadata": {},
   "outputs": [],
   "source": []
  }
 ],
 "metadata": {
  "kernelspec": {
   "display_name": "Python 3 (ipykernel)",
   "language": "python",
   "name": "python3"
  },
  "language_info": {
   "codemirror_mode": {
    "name": "ipython",
    "version": 3
   },
   "file_extension": ".py",
   "mimetype": "text/x-python",
   "name": "python",
   "nbconvert_exporter": "python",
   "pygments_lexer": "ipython3",
   "version": "3.8.18"
  }
 },
 "nbformat": 4,
 "nbformat_minor": 5
}
