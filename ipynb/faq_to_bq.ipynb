{
 "cells": [
  {
   "cell_type": "code",
   "execution_count": 16,
   "id": "29c4a8ef-b6b5-4525-ab5b-c17031c9661d",
   "metadata": {
    "execution": {
     "iopub.execute_input": "2023-12-06T07:00:34.835112Z",
     "iopub.status.busy": "2023-12-06T07:00:34.834545Z",
     "iopub.status.idle": "2023-12-06T07:00:34.845388Z",
     "shell.execute_reply": "2023-12-06T07:00:34.844725Z",
     "shell.execute_reply.started": "2023-12-06T07:00:34.835074Z"
    },
    "tags": []
   },
   "outputs": [],
   "source": [
    "from skt.vault_utils import get_secrets\n",
    "proxies = get_secrets('proxies')"
   ]
  },
  {
   "cell_type": "code",
   "execution_count": 17,
   "id": "a6a983d6-1941-4241-9d14-4818cf0fe3c4",
   "metadata": {
    "execution": {
     "iopub.execute_input": "2023-12-06T07:00:35.008929Z",
     "iopub.status.busy": "2023-12-06T07:00:35.008419Z",
     "iopub.status.idle": "2023-12-06T07:00:35.191849Z",
     "shell.execute_reply": "2023-12-06T07:00:35.191047Z",
     "shell.execute_reply.started": "2023-12-06T07:00:35.008890Z"
    },
    "tags": []
   },
   "outputs": [],
   "source": [
    "from skt.ye import get_spark\n",
    "import pyspark.sql.functions as F"
   ]
  },
  {
   "cell_type": "code",
   "execution_count": 18,
   "id": "a06c1963-0464-4062-8aa7-3d074d9fd9bc",
   "metadata": {
    "execution": {
     "iopub.execute_input": "2023-12-06T07:00:35.193556Z",
     "iopub.status.busy": "2023-12-06T07:00:35.193123Z",
     "iopub.status.idle": "2023-12-06T07:00:35.404803Z",
     "shell.execute_reply": "2023-12-06T07:00:35.404047Z",
     "shell.execute_reply.started": "2023-12-06T07:00:35.193524Z"
    },
    "tags": []
   },
   "outputs": [],
   "source": [
    "spark = get_spark()"
   ]
  },
  {
   "cell_type": "code",
   "execution_count": 19,
   "id": "e313a251-4ef3-4a42-a0fd-ead8b97f4d4c",
   "metadata": {
    "execution": {
     "iopub.execute_input": "2023-12-06T07:00:35.406596Z",
     "iopub.status.busy": "2023-12-06T07:00:35.406164Z",
     "iopub.status.idle": "2023-12-06T07:00:35.671900Z",
     "shell.execute_reply": "2023-12-06T07:00:35.671139Z",
     "shell.execute_reply.started": "2023-12-06T07:00:35.406563Z"
    },
    "tags": []
   },
   "outputs": [],
   "source": [
    "faq_hadoop_path = '/data/adot/temp/jaehwan/faq/raw_data/mno_faq.json'\n",
    "#intent_nm_table_path = '"
   ]
  },
  {
   "cell_type": "code",
   "execution_count": 20,
   "id": "81b594b1-66c8-4d70-9ba3-449a22c2c1fc",
   "metadata": {
    "execution": {
     "iopub.execute_input": "2023-12-06T07:00:35.673298Z",
     "iopub.status.busy": "2023-12-06T07:00:35.672936Z",
     "iopub.status.idle": "2023-12-06T07:00:40.051830Z",
     "shell.execute_reply": "2023-12-06T07:00:40.051007Z",
     "shell.execute_reply.started": "2023-12-06T07:00:35.673267Z"
    },
    "tags": []
   },
   "outputs": [
    {
     "name": "stderr",
     "output_type": "stream",
     "text": [
      "                                                                                \r"
     ]
    }
   ],
   "source": [
    "faq_data = spark.read.json(faq_hadoop_path)"
   ]
  },
  {
   "cell_type": "code",
   "execution_count": 21,
   "id": "0ad6a8d1-d063-443c-b9ae-e8619498047a",
   "metadata": {
    "execution": {
     "iopub.execute_input": "2023-12-06T07:00:40.053893Z",
     "iopub.status.busy": "2023-12-06T07:00:40.053530Z",
     "iopub.status.idle": "2023-12-06T07:00:40.057099Z",
     "shell.execute_reply": "2023-12-06T07:00:40.056478Z",
     "shell.execute_reply.started": "2023-12-06T07:00:40.053861Z"
    },
    "tags": []
   },
   "outputs": [],
   "source": [
    "#intent_nm_path = 'hdfs://172.27.1.237:8020/recommendation/stg/data/faq/intent_nm.csv'"
   ]
  },
  {
   "cell_type": "code",
   "execution_count": 22,
   "id": "37593ef4-e15b-4c62-a40b-7c4b8d18ab53",
   "metadata": {
    "execution": {
     "iopub.execute_input": "2023-12-06T07:00:40.058354Z",
     "iopub.status.busy": "2023-12-06T07:00:40.058042Z",
     "iopub.status.idle": "2023-12-06T07:00:40.445848Z",
     "shell.execute_reply": "2023-12-06T07:00:40.445080Z",
     "shell.execute_reply.started": "2023-12-06T07:00:40.058325Z"
    },
    "tags": []
   },
   "outputs": [],
   "source": [
    "import pandas as pd\n",
    "intent_nm = pd.read_csv('/home/x1112436/intent_nm.csv')"
   ]
  },
  {
   "cell_type": "code",
   "execution_count": 23,
   "id": "f7a79d88-029a-4876-a4b3-351c54ae97f7",
   "metadata": {
    "execution": {
     "iopub.execute_input": "2023-12-06T07:00:40.447218Z",
     "iopub.status.busy": "2023-12-06T07:00:40.446867Z",
     "iopub.status.idle": "2023-12-06T07:00:40.598410Z",
     "shell.execute_reply": "2023-12-06T07:00:40.597576Z",
     "shell.execute_reply.started": "2023-12-06T07:00:40.447186Z"
    },
    "tags": []
   },
   "outputs": [],
   "source": [
    "intent_nm = intent_nm[['intent_nm', 'intent_nm_space', 'ans_cont']]"
   ]
  },
  {
   "cell_type": "code",
   "execution_count": 24,
   "id": "ff50a11f-0949-4d11-a3d7-bb344829d6b9",
   "metadata": {
    "execution": {
     "iopub.execute_input": "2023-12-06T07:00:40.599931Z",
     "iopub.status.busy": "2023-12-06T07:00:40.599538Z",
     "iopub.status.idle": "2023-12-06T07:00:40.879414Z",
     "shell.execute_reply": "2023-12-06T07:00:40.878665Z",
     "shell.execute_reply.started": "2023-12-06T07:00:40.599895Z"
    },
    "tags": []
   },
   "outputs": [
    {
     "name": "stderr",
     "output_type": "stream",
     "text": [
      "/opt/spark/python/lib/pyspark.zip/pyspark/sql/pandas/conversion.py:471: FutureWarning: iteritems is deprecated and will be removed in a future version. Use .items instead.\n"
     ]
    }
   ],
   "source": [
    "intent_nm = spark.createDataFrame(intent_nm)"
   ]
  },
  {
   "cell_type": "code",
   "execution_count": 25,
   "id": "69a513da-0705-4849-987e-c66963eab504",
   "metadata": {
    "execution": {
     "iopub.execute_input": "2023-12-06T07:00:40.880906Z",
     "iopub.status.busy": "2023-12-06T07:00:40.880515Z",
     "iopub.status.idle": "2023-12-06T07:00:41.167792Z",
     "shell.execute_reply": "2023-12-06T07:00:41.166813Z",
     "shell.execute_reply.started": "2023-12-06T07:00:40.880874Z"
    },
    "tags": []
   },
   "outputs": [],
   "source": [
    "join_faq = faq_data.join(intent_nm, on ='intent_nm', how='left')\\\n",
    "        .select(faq_data[\"*\"], intent_nm[\"intent_nm_space\"])\\\n",
    "        .filter(F.col('type')=='faq')"
   ]
  },
  {
   "cell_type": "code",
   "execution_count": 26,
   "id": "576270da-ce11-4fc3-b882-4aef0571d9aa",
   "metadata": {
    "execution": {
     "iopub.execute_input": "2023-12-06T07:00:41.171454Z",
     "iopub.status.busy": "2023-12-06T07:00:41.170942Z",
     "iopub.status.idle": "2023-12-06T07:00:41.382300Z",
     "shell.execute_reply": "2023-12-06T07:00:41.381504Z",
     "shell.execute_reply.started": "2023-12-06T07:00:41.171401Z"
    },
    "tags": []
   },
   "outputs": [],
   "source": [
    "join_faq = join_faq.select(\n",
    "                F.col('qry_txt_cont').alias('query'),\n",
    "                F.col('intent_nm_space').alias('intent_nm'),\n",
    "                F.col('ans_cont').alias('answer'),\n",
    "                F.col('doamin_nm').alias('domain'),\n",
    "                F.col('status'))\n",
    "                \n",
    "    "
   ]
  },
  {
   "cell_type": "code",
   "execution_count": 27,
   "id": "c6c528fe-f648-4d75-b3bc-0d78dec6eae0",
   "metadata": {
    "execution": {
     "iopub.execute_input": "2023-12-06T07:00:41.383704Z",
     "iopub.status.busy": "2023-12-06T07:00:41.383340Z",
     "iopub.status.idle": "2023-12-06T07:00:41.649010Z",
     "shell.execute_reply": "2023-12-06T07:00:41.648219Z",
     "shell.execute_reply.started": "2023-12-06T07:00:41.383672Z"
    },
    "tags": []
   },
   "outputs": [],
   "source": [
    "join_faq = join_faq.withColumn('dt', F.lit('2023-12-05'))"
   ]
  },
  {
   "cell_type": "code",
   "execution_count": 28,
   "id": "35f387b3-d0f4-401a-907b-657c9174218f",
   "metadata": {
    "execution": {
     "iopub.execute_input": "2023-12-06T07:00:41.650380Z",
     "iopub.status.busy": "2023-12-06T07:00:41.650019Z",
     "iopub.status.idle": "2023-12-06T07:00:41.877787Z",
     "shell.execute_reply": "2023-12-06T07:00:41.877013Z",
     "shell.execute_reply.started": "2023-12-06T07:00:41.650348Z"
    },
    "tags": []
   },
   "outputs": [],
   "source": [
    "dest_dataset = 'x1112436'\n",
    "dest_table = 'faq_table'"
   ]
  },
  {
   "cell_type": "code",
   "execution_count": 29,
   "id": "105d953e-05fc-4d76-8f88-b445fbff6000",
   "metadata": {
    "execution": {
     "iopub.execute_input": "2023-12-06T07:00:50.566933Z",
     "iopub.status.busy": "2023-12-06T07:00:50.566490Z",
     "iopub.status.idle": "2023-12-06T07:00:50.570446Z",
     "shell.execute_reply": "2023-12-06T07:00:50.569792Z",
     "shell.execute_reply.started": "2023-12-06T07:00:50.566898Z"
    },
    "tags": []
   },
   "outputs": [],
   "source": [
    "from skt.gcp import df_to_bq_table"
   ]
  },
  {
   "cell_type": "code",
   "execution_count": 33,
   "id": "91276ac0-7db1-4869-a973-9f3adde6ae74",
   "metadata": {
    "execution": {
     "iopub.execute_input": "2023-12-06T07:02:53.667276Z",
     "iopub.status.busy": "2023-12-06T07:02:53.666827Z",
     "iopub.status.idle": "2023-12-06T07:03:07.639604Z",
     "shell.execute_reply": "2023-12-06T07:03:07.638696Z",
     "shell.execute_reply.started": "2023-12-06T07:02:53.667241Z"
    },
    "tags": []
   },
   "outputs": [
    {
     "name": "stderr",
     "output_type": "stream",
     "text": [
      "                                                                                \r"
     ]
    }
   ],
   "source": [
    "df_to_bq_table(df=join_faq,\n",
    "               dataset=dest_dataset,\n",
    "               table_name=dest_table,\n",
    "               mode=\"overwrite\")"
   ]
  },
  {
   "cell_type": "code",
   "execution_count": 37,
   "id": "9ebb5712-19cb-4149-8a30-d7e63690786f",
   "metadata": {
    "execution": {
     "iopub.execute_input": "2023-12-06T07:18:00.999789Z",
     "iopub.status.busy": "2023-12-06T07:18:00.999248Z",
     "iopub.status.idle": "2023-12-06T07:18:05.554030Z",
     "shell.execute_reply": "2023-12-06T07:18:05.553066Z",
     "shell.execute_reply.started": "2023-12-06T07:18:00.999751Z"
    },
    "tags": []
   },
   "outputs": [
    {
     "name": "stderr",
     "output_type": "stream",
     "text": [
      "[Stage 49:====================================>                     (5 + 3) / 8]\r"
     ]
    },
    {
     "name": "stdout",
     "output_type": "stream",
     "text": [
      "+-------------------------------+\n",
      "|intent_nm                      |\n",
      "+-------------------------------+\n",
      "|0청년다이렉트 62               |\n",
      "|5G 시니어 C형                  |\n",
      "|0청년다이렉트 30               |\n",
      "|가족 로밍                      |\n",
      "|0청년다이렉트 48               |\n",
      "|0 청년 다이렉트 요금제         |\n",
      "|마인드케어 해지 방법           |\n",
      "|0청년다이렉트 42               |\n",
      "|null                           |\n",
      "|0청년59 60GB업                 |\n",
      "|0청년59 100GB업                |\n",
      "|다이렉트5G 62                  |\n",
      "|0청년다이렉트 55               |\n",
      "|0청년 59 15GB업                |\n",
      "|5G 시니어 요금제               |\n",
      "|eSIM 개통 방법                 |\n",
      "|0청년59 36GB업                 |\n",
      "|baro 3GB                       |\n",
      "|Wavve 콘텐츠팩 플러스 신청 방법|\n",
      "|Wavve콘텐츠팩 플러스 연간      |\n",
      "|마이데이터 신청 방법           |\n",
      "|0청년 59                       |\n",
      "|baroYT 25GB                    |\n",
      "|베이직플러스50GB업             |\n",
      "|0청년 요금제                   |\n",
      "|T멤버십 0day 혜택              |\n",
      "|baroYT 13GB                    |\n",
      "|다이렉트 플랜 요금제           |\n",
      "|baro YT 8GB                    |\n",
      "|마인드케어                     |\n",
      "|0청년 49                       |\n",
      "|베이직플러스30GB업             |\n",
      "|baro YT 5GB                    |\n",
      "|baro 12GB                      |\n",
      "|eSIM T전화 사용 방법           |\n",
      "|마인드케어 신청 방법           |\n",
      "|다이렉트플랜5G LTE 요금제      |\n",
      "|마이데이터                     |\n",
      "|baro YT 4GB                    |\n",
      "|5G시니어 A형                   |\n",
      "|0청년 89                       |\n",
      "|0청년다이렉트 34               |\n",
      "|Wavve콘텐츠팩 연간 신청 방법   |\n",
      "|T우주패스 플러스 구독          |\n",
      "|baro 7GB                       |\n",
      "|다이렉트5G 69                  |\n",
      "|eSIM 해지 방법                 |\n",
      "|Wavve콘텐츠팩 연간             |\n",
      "|다이렉트LTE 30                 |\n",
      "|0청년 69                       |\n",
      "|다이렉트5G 55                  |\n",
      "|T우주 정기배송 서비스          |\n",
      "|0청년다이렉트 69               |\n",
      "|베이직플러스13GB업             |\n",
      "|베이직플러스75GB업             |\n",
      "|Wavve콘텐츠팩 프리미엄 연간    |\n",
      "|마이데이터 해지 방법           |\n",
      "|0청년 99                       |\n",
      "|0청년 79                       |\n",
      "|다이렉트5G 48                  |\n",
      "|0청년 43                       |\n",
      "|baro 6GB                       |\n",
      "|baro 24GB                      |\n",
      "|5G 시니어 B형                  |\n",
      "|baroYT 7GB                     |\n",
      "+-------------------------------+\n",
      "\n"
     ]
    },
    {
     "name": "stderr",
     "output_type": "stream",
     "text": [
      "                                                                                \r"
     ]
    }
   ],
   "source": [
    "join_faq.filter(F.col('answer') =='').select('intent_nm').distinct().show(65,False)"
   ]
  },
  {
   "cell_type": "code",
   "execution_count": null,
   "id": "074f515b-0b34-4729-a155-d466d2fdc322",
   "metadata": {},
   "outputs": [],
   "source": []
  }
 ],
 "metadata": {
  "kernelspec": {
   "display_name": "Python 3 (ipykernel)",
   "language": "python",
   "name": "python3"
  },
  "language_info": {
   "codemirror_mode": {
    "name": "ipython",
    "version": 3
   },
   "file_extension": ".py",
   "mimetype": "text/x-python",
   "name": "python",
   "nbconvert_exporter": "python",
   "pygments_lexer": "ipython3",
   "version": "3.8.10"
  }
 },
 "nbformat": 4,
 "nbformat_minor": 5
}
