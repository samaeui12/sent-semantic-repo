{
 "cells": [
  {
   "cell_type": "code",
   "execution_count": 5,
   "id": "d7b9683e-07d8-4082-8b82-f4fb239c9598",
   "metadata": {
    "execution": {
     "iopub.execute_input": "2023-11-21T03:54:34.479920Z",
     "iopub.status.busy": "2023-11-21T03:54:34.479107Z",
     "iopub.status.idle": "2023-11-21T03:54:34.484649Z",
     "shell.execute_reply": "2023-11-21T03:54:34.483527Z",
     "shell.execute_reply.started": "2023-11-21T03:54:34.479870Z"
    }
   },
   "outputs": [],
   "source": [
    "# pip install sentence_transformers\n",
    "# pip install -U scikit-learn\n",
    "# pip install rank_bm25"
   ]
  },
  {
   "cell_type": "code",
   "execution_count": 1,
   "id": "e189cc55-ec40-4a6d-87e0-85399b069152",
   "metadata": {
    "execution": {
     "iopub.execute_input": "2023-12-09T10:45:04.796656Z",
     "iopub.status.busy": "2023-12-09T10:45:04.795881Z",
     "iopub.status.idle": "2023-12-09T10:45:07.009013Z",
     "shell.execute_reply": "2023-12-09T10:45:07.007486Z",
     "shell.execute_reply.started": "2023-12-09T10:45:04.796597Z"
    },
    "tags": []
   },
   "outputs": [],
   "source": [
    "import torch\n",
    "from transformers import (\n",
    "    AdamW,\n",
    "    AutoModel,\n",
    "    get_linear_schedule_with_warmup,\n",
    "    AutoTokenizer,\n",
    "    AutoConfig\n",
    ")"
   ]
  },
  {
   "cell_type": "code",
   "execution_count": 2,
   "id": "d93ea1fc-4ab1-43b8-960f-b36cea7ee4a9",
   "metadata": {
    "execution": {
     "iopub.execute_input": "2023-12-09T10:45:07.012356Z",
     "iopub.status.busy": "2023-12-09T10:45:07.011593Z",
     "iopub.status.idle": "2023-12-09T10:45:07.017532Z",
     "shell.execute_reply": "2023-12-09T10:45:07.016692Z",
     "shell.execute_reply.started": "2023-12-09T10:45:07.012283Z"
    },
    "tags": []
   },
   "outputs": [],
   "source": [
    "import sys\n",
    "module_path = '/home/x1112436/git/sent-semantic-repo'\n",
    "sys.path.append(module_path)"
   ]
  },
  {
   "cell_type": "code",
   "execution_count": 3,
   "id": "d05cf082-189d-47d5-b7ec-003436798604",
   "metadata": {
    "execution": {
     "iopub.execute_input": "2023-12-09T10:45:07.018952Z",
     "iopub.status.busy": "2023-12-09T10:45:07.018575Z",
     "iopub.status.idle": "2023-12-09T10:45:07.051266Z",
     "shell.execute_reply": "2023-12-09T10:45:07.049906Z",
     "shell.execute_reply.started": "2023-12-09T10:45:07.018919Z"
    },
    "tags": []
   },
   "outputs": [],
   "source": [
    "from skt.vault_utils import get_secrets\n",
    "proxies = get_secrets('proxies')"
   ]
  },
  {
   "cell_type": "code",
   "execution_count": 4,
   "id": "114ce9e7-365c-4e1a-86d9-058547c7544a",
   "metadata": {
    "execution": {
     "iopub.execute_input": "2023-12-09T10:45:07.055196Z",
     "iopub.status.busy": "2023-12-09T10:45:07.054156Z",
     "iopub.status.idle": "2023-12-09T10:45:07.059158Z",
     "shell.execute_reply": "2023-12-09T10:45:07.058479Z",
     "shell.execute_reply.started": "2023-12-09T10:45:07.055140Z"
    },
    "tags": []
   },
   "outputs": [],
   "source": [
    "import os \n",
    "import numpy as np\n",
    "import torch"
   ]
  },
  {
   "cell_type": "code",
   "execution_count": 5,
   "id": "c94d28ca-650b-468f-a68d-bb9f58c72e61",
   "metadata": {
    "execution": {
     "iopub.execute_input": "2023-12-09T10:45:07.060596Z",
     "iopub.status.busy": "2023-12-09T10:45:07.060224Z",
     "iopub.status.idle": "2023-12-09T10:45:07.070074Z",
     "shell.execute_reply": "2023-12-09T10:45:07.069094Z",
     "shell.execute_reply.started": "2023-12-09T10:45:07.060566Z"
    },
    "tags": []
   },
   "outputs": [],
   "source": [
    "os.environ['http_proxy'] = proxies['http']\n",
    "os.environ['https_proxy'] = proxies['https']"
   ]
  },
  {
   "cell_type": "code",
   "execution_count": 6,
   "id": "fb5d6d8b-61a2-49ea-8fe4-8c668a84e51b",
   "metadata": {
    "execution": {
     "iopub.execute_input": "2023-12-09T10:45:07.071695Z",
     "iopub.status.busy": "2023-12-09T10:45:07.071265Z",
     "iopub.status.idle": "2023-12-09T10:45:07.124395Z",
     "shell.execute_reply": "2023-12-09T10:45:07.123453Z",
     "shell.execute_reply.started": "2023-12-09T10:45:07.071661Z"
    },
    "tags": []
   },
   "outputs": [],
   "source": [
    "if torch.cuda.is_available():\n",
    "    device = 'cuda'\n",
    "else:\n",
    "    device = 'cpu'"
   ]
  },
  {
   "cell_type": "code",
   "execution_count": 7,
   "id": "2d420980-d384-4d50-998c-aefeac65e0b0",
   "metadata": {
    "execution": {
     "iopub.execute_input": "2023-12-09T10:45:07.326101Z",
     "iopub.status.busy": "2023-12-09T10:45:07.325429Z",
     "iopub.status.idle": "2023-12-09T10:45:07.934690Z",
     "shell.execute_reply": "2023-12-09T10:45:07.933507Z",
     "shell.execute_reply.started": "2023-12-09T10:45:07.326046Z"
    },
    "tags": []
   },
   "outputs": [],
   "source": [
    "from src.utils import set_seed\n",
    "from src.trainer import SimcseTrainer\n",
    "from src.dataset import DATASET_MAPPING_DICT\n",
    "from src.utils import PreprocessorFactory \n",
    "from src.utils import get_model_argparse\n",
    "from src.model import MODEL_MAPPING_DICT\n",
    "from src.model import CONFIG_MAPPING_DICT\n",
    "from src.logger import Experi_Logger\n",
    "from config.nli_config import nli_parser_model_args"
   ]
  },
  {
   "cell_type": "code",
   "execution_count": 8,
   "id": "7fdf353e-6167-45a9-b999-ab98226347a6",
   "metadata": {
    "execution": {
     "iopub.execute_input": "2023-12-09T10:45:08.833942Z",
     "iopub.status.busy": "2023-12-09T10:45:08.833206Z",
     "iopub.status.idle": "2023-12-09T10:45:08.838091Z",
     "shell.execute_reply": "2023-12-09T10:45:08.837239Z",
     "shell.execute_reply.started": "2023-12-09T10:45:08.833884Z"
    },
    "tags": []
   },
   "outputs": [],
   "source": [
    "#base_model_url = \"jhlee3421/faq-semantic-klue-roberta-large\"\n",
    "#base_model_url= 'klue/roberta-large'"
   ]
  },
  {
   "cell_type": "code",
   "execution_count": 9,
   "id": "38ed2b4b-8e8b-4d46-a132-a004dd63c6b2",
   "metadata": {
    "execution": {
     "iopub.execute_input": "2023-12-09T10:45:09.025098Z",
     "iopub.status.busy": "2023-12-09T10:45:09.024449Z",
     "iopub.status.idle": "2023-12-09T10:45:09.034052Z",
     "shell.execute_reply": "2023-12-09T10:45:09.032808Z",
     "shell.execute_reply.started": "2023-12-09T10:45:09.025044Z"
    },
    "tags": []
   },
   "outputs": [],
   "source": [
    "args = nli_parser_model_args()"
   ]
  },
  {
   "cell_type": "code",
   "execution_count": 10,
   "id": "c4e89adf-1b1d-4385-af44-5b743c761f94",
   "metadata": {
    "execution": {
     "iopub.execute_input": "2023-12-09T10:45:10.865088Z",
     "iopub.status.busy": "2023-12-09T10:45:10.864643Z",
     "iopub.status.idle": "2023-12-09T10:45:10.871530Z",
     "shell.execute_reply": "2023-12-09T10:45:10.870283Z",
     "shell.execute_reply.started": "2023-12-09T10:45:10.865060Z"
    },
    "tags": []
   },
   "outputs": [],
   "source": [
    "args.device = torch.device(\"cuda:0\" if torch.cuda.is_available() else \"cpu\")\n",
    "args.n_gpu = torch.cuda.device_count()\n",
    "args.output_dir = f'/home/x1112436/result/faq/modelfile/{args.pretrained_model}'\n",
    "args.log_dir = f'/home/x1112436/result/faq/log/{args.pretrained_model}'\n",
    "args.experiments_path = f'/home/x1112436/result/faq/experiment/{args.pretrained_model}/experiment.csv'\n",
    "args.is_preprocessed = True\n",
    "args.valid_first = False\n",
    "args.data_type='triple'\n",
    "args.loss= 'TripletLoss'\n",
    "args.margin = 0.7\n",
    "args.num_train_epochs = 20\n",
    "args.model_max_len = 50\n",
    "args.valid_first = True"
   ]
  },
  {
   "cell_type": "markdown",
   "id": "d66b4aaa-683b-4ff7-9eb6-c2dd936558ab",
   "metadata": {},
   "source": [
    "# Load model"
   ]
  },
  {
   "cell_type": "code",
   "execution_count": 11,
   "id": "18eac3f9-724c-4193-afab-a26522ac691f",
   "metadata": {
    "execution": {
     "iopub.execute_input": "2023-12-09T10:45:13.896689Z",
     "iopub.status.busy": "2023-12-09T10:45:13.895983Z",
     "iopub.status.idle": "2023-12-09T10:45:13.902396Z",
     "shell.execute_reply": "2023-12-09T10:45:13.901258Z",
     "shell.execute_reply.started": "2023-12-09T10:45:13.896642Z"
    },
    "tags": []
   },
   "outputs": [],
   "source": [
    "#args.pretrained_model = '/home/x1112436/model_file/faq_sent_roberta/sent_roberta'\n",
    "#args.pretrained_model = '/home/x1112436/model_file/sent_roberta'\n",
    "args.pretrained_model = '/home/x1112436/result/faq/modelfile_20231209/home/x1112436/model_file/sent_roberta'"
   ]
  },
  {
   "cell_type": "code",
   "execution_count": 12,
   "id": "32590930-7ca9-475d-921b-486f05b95a21",
   "metadata": {
    "execution": {
     "iopub.execute_input": "2023-12-09T10:45:14.695480Z",
     "iopub.status.busy": "2023-12-09T10:45:14.694736Z",
     "iopub.status.idle": "2023-12-09T10:45:20.173809Z",
     "shell.execute_reply": "2023-12-09T10:45:20.172495Z",
     "shell.execute_reply.started": "2023-12-09T10:45:14.695434Z"
    },
    "tags": []
   },
   "outputs": [],
   "source": [
    "model = MODEL_MAPPING_DICT['sent_roberta'].from_pretrained(\n",
    "    args.pretrained_model, **vars(args), \n",
    ")\n",
    "tokenizer = AutoTokenizer.from_pretrained(args.pretrained_model)"
   ]
  },
  {
   "cell_type": "markdown",
   "id": "f9dd2404-7c18-4f57-b29e-e9cb66b9ad67",
   "metadata": {},
   "source": [
    "# define function"
   ]
  },
  {
   "cell_type": "code",
   "execution_count": 13,
   "id": "ccffd5ff-60b4-42a4-a40f-315703f67cb2",
   "metadata": {
    "execution": {
     "iopub.execute_input": "2023-12-09T10:45:20.175978Z",
     "iopub.status.busy": "2023-12-09T10:45:20.175752Z",
     "iopub.status.idle": "2023-12-09T10:45:20.182483Z",
     "shell.execute_reply": "2023-12-09T10:45:20.181631Z",
     "shell.execute_reply.started": "2023-12-09T10:45:20.175954Z"
    },
    "tags": []
   },
   "outputs": [],
   "source": [
    "# chunking inetent\n",
    "def chunking(input_list, chunk_size=200):\n",
    "    if len(input_list) < 200:\n",
    "        return [input_list]\n",
    "    \n",
    "    result = []\n",
    "    chunk_length = int(len(input_list) / chunk_size)\n",
    "    chunk_rest = len(input_list) % chunk_size\n",
    "\n",
    "    start = 0\n",
    "    for i in range(0, chunk_length):\n",
    "        result.append(input_list[start: start + chunk_size])\n",
    "        start = start + chunk_size\n",
    "                      \n",
    "    if chunk_rest > 0 :\n",
    "        result.append(input_list[start:])\n",
    "    return result"
   ]
  },
  {
   "cell_type": "code",
   "execution_count": 14,
   "id": "30233fb7-da9f-47f5-9547-6226587f56f1",
   "metadata": {
    "execution": {
     "iopub.execute_input": "2023-12-09T10:45:20.183469Z",
     "iopub.status.busy": "2023-12-09T10:45:20.183280Z",
     "iopub.status.idle": "2023-12-09T10:45:20.195337Z",
     "shell.execute_reply": "2023-12-09T10:45:20.194511Z",
     "shell.execute_reply.started": "2023-12-09T10:45:20.183450Z"
    },
    "tags": []
   },
   "outputs": [
    {
     "name": "stdout",
     "output_type": "stream",
     "text": [
      "cuda\n"
     ]
    }
   ],
   "source": [
    "print(device)"
   ]
  },
  {
   "cell_type": "markdown",
   "id": "05b20c0d-fdd9-4ee4-a9e8-0f0e02e08aef",
   "metadata": {
    "execution": {
     "iopub.execute_input": "2023-11-16T10:59:05.837621Z",
     "iopub.status.busy": "2023-11-16T10:59:05.836824Z",
     "iopub.status.idle": "2023-11-16T10:59:05.842929Z",
     "shell.execute_reply": "2023-11-16T10:59:05.841723Z",
     "shell.execute_reply.started": "2023-11-16T10:59:05.837569Z"
    }
   },
   "source": [
    "# Load DATA"
   ]
  },
  {
   "cell_type": "code",
   "execution_count": 15,
   "id": "3a3059a1-2183-419b-89a3-66f806efd2e6",
   "metadata": {
    "execution": {
     "iopub.execute_input": "2023-12-09T10:45:20.197024Z",
     "iopub.status.busy": "2023-12-09T10:45:20.196681Z",
     "iopub.status.idle": "2023-12-09T10:45:20.608560Z",
     "shell.execute_reply": "2023-12-09T10:45:20.607599Z",
     "shell.execute_reply.started": "2023-12-09T10:45:20.196998Z"
    },
    "tags": []
   },
   "outputs": [],
   "source": [
    "from skt.gcp import load_bigquery_ipython_magic, \\\n",
    "                    bq_to_pandas, \\\n",
    "                    get_bigquery_client"
   ]
  },
  {
   "cell_type": "code",
   "execution_count": 16,
   "id": "05899313-e578-4a92-b607-4c036faa2f72",
   "metadata": {
    "execution": {
     "iopub.execute_input": "2023-12-09T10:45:20.609850Z",
     "iopub.status.busy": "2023-12-09T10:45:20.609505Z",
     "iopub.status.idle": "2023-12-09T10:45:20.614546Z",
     "shell.execute_reply": "2023-12-09T10:45:20.613728Z",
     "shell.execute_reply.started": "2023-12-09T10:45:20.609828Z"
    },
    "tags": []
   },
   "outputs": [],
   "source": [
    "dataset = 'x1112436'\n",
    "log_table = 'faq_table'\n",
    "query = f\"\"\"\n",
    "\n",
    "SELECT  TRIM(query) as query,\n",
    "        answer,\n",
    "        REPLACE(TRIM(intent_nm), \"'\", \"\") as intent_nm,\n",
    "        answer,\n",
    "        domain,\n",
    "        status\n",
    "FROM `skt-datahub.{dataset}.{log_table}`\n",
    "WHERE intent_nm !='' and intent_nm is not null\n",
    "\"\"\""
   ]
  },
  {
   "cell_type": "code",
   "execution_count": 17,
   "id": "998a9154-ce6a-4eca-b933-a09ac023a5d3",
   "metadata": {
    "execution": {
     "iopub.execute_input": "2023-12-09T10:45:20.719053Z",
     "iopub.status.busy": "2023-12-09T10:45:20.717874Z",
     "iopub.status.idle": "2023-12-09T10:45:26.723727Z",
     "shell.execute_reply": "2023-12-09T10:45:26.722551Z",
     "shell.execute_reply.started": "2023-12-09T10:45:20.718998Z"
    },
    "tags": []
   },
   "outputs": [
    {
     "name": "stdout",
     "output_type": "stream",
     "text": [
      "Warning: exception on print statistics\n",
      "unsupported operand type(s) for /: 'NoneType' and 'int'\n",
      "Downloading: 100%|\u001b[32m██████████\u001b[0m|\n"
     ]
    }
   ],
   "source": [
    "faq_table = bq_to_pandas(query)"
   ]
  },
  {
   "cell_type": "code",
   "execution_count": 18,
   "id": "84a8b7cf-0211-460d-b1ac-a1a45a29520c",
   "metadata": {
    "execution": {
     "iopub.execute_input": "2023-12-09T10:45:26.725922Z",
     "iopub.status.busy": "2023-12-09T10:45:26.725544Z",
     "iopub.status.idle": "2023-12-09T10:45:26.796332Z",
     "shell.execute_reply": "2023-12-09T10:45:26.795348Z",
     "shell.execute_reply.started": "2023-12-09T10:45:26.725888Z"
    },
    "tags": []
   },
   "outputs": [],
   "source": [
    "faq_table['intent_nm'] = faq_table['intent_nm'].apply(lambda x: x.replace(\"'\", \"\"))"
   ]
  },
  {
   "cell_type": "markdown",
   "id": "5580513a-5171-4367-a6cc-ea3fa232e4cf",
   "metadata": {},
   "source": [
    "# make corpus"
   ]
  },
  {
   "cell_type": "code",
   "execution_count": 19,
   "id": "4d50eeec-3384-4646-9d7e-6078dab153eb",
   "metadata": {
    "execution": {
     "iopub.execute_input": "2023-12-09T10:45:26.797379Z",
     "iopub.status.busy": "2023-12-09T10:45:26.797165Z",
     "iopub.status.idle": "2023-12-09T10:45:26.901924Z",
     "shell.execute_reply": "2023-12-09T10:45:26.900858Z",
     "shell.execute_reply.started": "2023-12-09T10:45:26.797358Z"
    },
    "tags": []
   },
   "outputs": [],
   "source": [
    "idx2query = list(faq_table['query'].unique())\n",
    "idx2intent_nm = list(faq_table.intent_nm.unique())"
   ]
  },
  {
   "cell_type": "code",
   "execution_count": 296,
   "id": "34f96dbe-b9fe-406d-9c5a-64c88ecab10e",
   "metadata": {
    "execution": {
     "iopub.execute_input": "2023-12-09T10:09:59.564592Z",
     "iopub.status.busy": "2023-12-09T10:09:59.563850Z",
     "iopub.status.idle": "2023-12-09T10:09:59.570222Z",
     "shell.execute_reply": "2023-12-09T10:09:59.568973Z",
     "shell.execute_reply.started": "2023-12-09T10:09:59.564533Z"
    },
    "tags": []
   },
   "outputs": [],
   "source": [
    "# with open('intent_nm.csv', 'a') as f:\n",
    "#     for intent in idx2intent_nm):\n",
    "#         f.write(intent + '\\t' + origin + '\\n')"
   ]
  },
  {
   "cell_type": "code",
   "execution_count": 243,
   "id": "8ee43d1c-5bff-4b00-b11b-f65723011991",
   "metadata": {
    "execution": {
     "iopub.execute_input": "2023-12-08T13:02:08.018002Z",
     "iopub.status.busy": "2023-12-08T13:02:08.017308Z",
     "iopub.status.idle": "2023-12-08T13:02:08.207542Z",
     "shell.execute_reply": "2023-12-08T13:02:08.206792Z",
     "shell.execute_reply.started": "2023-12-08T13:02:08.017946Z"
    },
    "tags": []
   },
   "outputs": [],
   "source": [
    "faq_table_q_a = faq_table[['query', 'intent_nm']]\n",
    "query_to_answer = faq_table_q_a.set_index('query').to_dict()['intent_nm']"
   ]
  },
  {
   "cell_type": "markdown",
   "id": "ad947d51-4bbd-4089-8f20-fac731057c71",
   "metadata": {},
   "source": [
    "# Token Count"
   ]
  },
  {
   "cell_type": "code",
   "execution_count": 244,
   "id": "4a2b943d-2e0c-4c58-94e3-fd4d11a00373",
   "metadata": {
    "execution": {
     "iopub.execute_input": "2023-12-08T13:02:09.587035Z",
     "iopub.status.busy": "2023-12-08T13:02:09.586252Z",
     "iopub.status.idle": "2023-12-08T13:02:09.592437Z",
     "shell.execute_reply": "2023-12-08T13:02:09.591357Z",
     "shell.execute_reply.started": "2023-12-08T13:02:09.586978Z"
    },
    "tags": []
   },
   "outputs": [],
   "source": [
    "from collections import Counter, OrderedDict"
   ]
  },
  {
   "cell_type": "code",
   "execution_count": 245,
   "id": "eaf4b8de-c660-44bc-b59f-eb7a8f499a83",
   "metadata": {
    "execution": {
     "iopub.execute_input": "2023-12-08T13:02:09.789473Z",
     "iopub.status.busy": "2023-12-08T13:02:09.788987Z",
     "iopub.status.idle": "2023-12-08T13:02:09.863713Z",
     "shell.execute_reply": "2023-12-08T13:02:09.862984Z",
     "shell.execute_reply.started": "2023-12-08T13:02:09.789443Z"
    },
    "tags": []
   },
   "outputs": [],
   "source": [
    "intent_list = list(faq_table.intent_nm.unique())\n",
    "query_list = list(faq_table['query'].unique())"
   ]
  },
  {
   "cell_type": "code",
   "execution_count": 246,
   "id": "d5305d5e-653c-4941-a5e9-7e058f02a007",
   "metadata": {
    "execution": {
     "iopub.execute_input": "2023-12-08T13:02:09.885988Z",
     "iopub.status.busy": "2023-12-08T13:02:09.885626Z",
     "iopub.status.idle": "2023-12-08T13:02:10.063546Z",
     "shell.execute_reply": "2023-12-08T13:02:10.062651Z",
     "shell.execute_reply.started": "2023-12-08T13:02:09.885951Z"
    },
    "tags": []
   },
   "outputs": [],
   "source": [
    "query_token_list = []\n",
    "for query in query_list:\n",
    "    query_token_list.extend(query.split())"
   ]
  },
  {
   "cell_type": "code",
   "execution_count": 247,
   "id": "c16c3b28-7519-4330-acc6-43551dfc224c",
   "metadata": {
    "execution": {
     "iopub.execute_input": "2023-12-08T13:02:10.065271Z",
     "iopub.status.busy": "2023-12-08T13:02:10.064949Z",
     "iopub.status.idle": "2023-12-08T13:02:10.069678Z",
     "shell.execute_reply": "2023-12-08T13:02:10.069084Z",
     "shell.execute_reply.started": "2023-12-08T13:02:10.065250Z"
    },
    "tags": []
   },
   "outputs": [],
   "source": [
    "intent_token_list = []\n",
    "for intent in intent_list:\n",
    "    intent_token_list.extend(intent.split())"
   ]
  },
  {
   "cell_type": "code",
   "execution_count": 248,
   "id": "855a45ce-de2a-4156-9539-f7ac4a756801",
   "metadata": {
    "execution": {
     "iopub.execute_input": "2023-12-08T13:02:10.204077Z",
     "iopub.status.busy": "2023-12-08T13:02:10.203441Z",
     "iopub.status.idle": "2023-12-08T13:02:10.212048Z",
     "shell.execute_reply": "2023-12-08T13:02:10.210969Z",
     "shell.execute_reply.started": "2023-12-08T13:02:10.204021Z"
    },
    "tags": []
   },
   "outputs": [],
   "source": [
    "intent_token_list = OrderedDict(Counter(intent_token_list).most_common())"
   ]
  },
  {
   "cell_type": "code",
   "execution_count": 249,
   "id": "6ed58948-150e-4db5-a46b-0841c080059c",
   "metadata": {
    "execution": {
     "iopub.execute_input": "2023-12-08T13:02:10.283928Z",
     "iopub.status.busy": "2023-12-08T13:02:10.283427Z",
     "iopub.status.idle": "2023-12-08T13:02:10.509243Z",
     "shell.execute_reply": "2023-12-08T13:02:10.508489Z",
     "shell.execute_reply.started": "2023-12-08T13:02:10.283875Z"
    },
    "tags": []
   },
   "outputs": [],
   "source": [
    "query_token_list = OrderedDict(Counter(query_token_list).most_common())"
   ]
  },
  {
   "cell_type": "markdown",
   "id": "52171090-00df-4783-8bbd-04ee74b1dcdb",
   "metadata": {
    "execution": {
     "iopub.execute_input": "2023-11-26T04:41:42.582716Z",
     "iopub.status.busy": "2023-11-26T04:41:42.582001Z",
     "iopub.status.idle": "2023-11-26T04:41:42.587650Z",
     "shell.execute_reply": "2023-11-26T04:41:42.586458Z",
     "shell.execute_reply.started": "2023-11-26T04:41:42.582669Z"
    }
   },
   "source": [
    "# SAVE DATA FOR EACH LABEL (INTENT_NM)"
   ]
  },
  {
   "cell_type": "code",
   "execution_count": null,
   "id": "6b2cbc43-b4c4-49e4-820c-136b35221fec",
   "metadata": {
    "execution": {
     "iopub.execute_input": "2023-12-07T01:23:23.486525Z",
     "iopub.status.busy": "2023-12-07T01:23:23.485635Z"
    },
    "tags": []
   },
   "outputs": [],
   "source": [
    "for i, intent in enumerate(intent_list):\n",
    "    file_name = f'../data/label_data/{i}.csv'\n",
    "    queries = list(faq_table.loc[faq_table.intent_nm == intent]['query'].unique())\n",
    "    intent = intent.replace(\"'\", \"\")\n",
    "    with open(file_name, 'a+') as f:\n",
    "        f.write(intent + '\\n')\n",
    "        for query in queries:\n",
    "            f.write(query + '\\n')"
   ]
  },
  {
   "cell_type": "markdown",
   "id": "153e549b-21d9-4d9c-8a57-4f85c5df0c78",
   "metadata": {},
   "source": [
    "# one sentence embedding setting"
   ]
  },
  {
   "cell_type": "code",
   "execution_count": 20,
   "id": "8a71aee6-f49d-4580-a547-f31898ef1aa5",
   "metadata": {
    "execution": {
     "iopub.execute_input": "2023-12-09T10:45:30.325430Z",
     "iopub.status.busy": "2023-12-09T10:45:30.324650Z",
     "iopub.status.idle": "2023-12-09T10:45:30.331438Z",
     "shell.execute_reply": "2023-12-09T10:45:30.330100Z",
     "shell.execute_reply.started": "2023-12-09T10:45:30.325374Z"
    },
    "tags": []
   },
   "outputs": [],
   "source": [
    "from torch.utils.data import (\n",
    "    DataLoader, Dataset\n",
    ")"
   ]
  },
  {
   "cell_type": "code",
   "execution_count": 21,
   "id": "6d58b91f-c502-4531-9e2c-d817445f96b5",
   "metadata": {
    "execution": {
     "iopub.execute_input": "2023-12-09T10:45:30.470815Z",
     "iopub.status.busy": "2023-12-09T10:45:30.469288Z",
     "iopub.status.idle": "2023-12-09T10:45:30.476726Z",
     "shell.execute_reply": "2023-12-09T10:45:30.475444Z",
     "shell.execute_reply.started": "2023-12-09T10:45:30.470752Z"
    },
    "tags": []
   },
   "outputs": [],
   "source": [
    "from dataclasses import dataclass\n",
    "from typing import List, Any, Union, Dict"
   ]
  },
  {
   "cell_type": "code",
   "execution_count": 22,
   "id": "e688fde8-3900-40c3-8c62-71ed4bee735b",
   "metadata": {
    "execution": {
     "iopub.execute_input": "2023-12-09T10:45:30.588130Z",
     "iopub.status.busy": "2023-12-09T10:45:30.587425Z",
     "iopub.status.idle": "2023-12-09T10:45:30.595705Z",
     "shell.execute_reply": "2023-12-09T10:45:30.594461Z",
     "shell.execute_reply.started": "2023-12-09T10:45:30.588074Z"
    },
    "tags": []
   },
   "outputs": [],
   "source": [
    "@dataclass\n",
    "class SingleSentenceInput:\n",
    "    sentence_a: str = None\n",
    "    a_input_ids: List[int] = None\n",
    "    a_attention_mask: List[int] = None"
   ]
  },
  {
   "cell_type": "code",
   "execution_count": 23,
   "id": "dd945f61-3753-4aea-8754-df0c72303a4f",
   "metadata": {
    "execution": {
     "iopub.execute_input": "2023-12-09T10:45:30.699248Z",
     "iopub.status.busy": "2023-12-09T10:45:30.698129Z",
     "iopub.status.idle": "2023-12-09T10:45:30.718129Z",
     "shell.execute_reply": "2023-12-09T10:45:30.717266Z",
     "shell.execute_reply.started": "2023-12-09T10:45:30.699194Z"
    },
    "tags": []
   },
   "outputs": [],
   "source": [
    "class EmbeddingDataset(Dataset):\n",
    "    def __init__(\n",
    "            self,\n",
    "            args,\n",
    "            features:List[SingleSentenceInput],\n",
    "            max_length,\n",
    "            tokenizer,\n",
    "            **kwargs\n",
    "    ):\n",
    "        super(EmbeddingDataset, self).__init__()\n",
    "        self.args = args\n",
    "        self.features = features\n",
    "        self.max_length = max_length\n",
    "        self.pad_token_id = tokenizer.pad_token_id\n",
    "        self.sep_token_id = tokenizer.sep_token_id if tokenizer.sep_token_id else tokenizer.eos_token_id\n",
    "\n",
    "    def __getitem__(self, index) -> Dict[str, Any]:\n",
    "        feature = self.features[index]\n",
    "        return {\n",
    "            'a_sentence': feature.sentence_a,\n",
    "            'a_input_ids': torch.tensor(feature.a_input_ids, dtype=torch.long),\n",
    "            'a_attention_mask': torch.tensor(feature.a_attention_mask, dtype=torch.long)\n",
    "        }\n",
    "    def __len__(self):\n",
    "        return len(self.features)\n",
    "    \n",
    "    def loader(self, shuffle:bool=True, batch_size:int=64):\n",
    "        return DataLoader(self, shuffle=shuffle, batch_size=batch_size, collate_fn=self.collater)\n",
    "\n",
    "    def collater(self, batch: List[Dict[str, Any]]) -> Dict[str, Any]:\n",
    "\n",
    "        a_sentence = [data['a_sentence'] for data in batch]\n",
    "        a_input_ids = [data['a_input_ids'] for data in batch]\n",
    "        a_attention_mask = [data['a_attention_mask'] for data in batch]\n",
    "        ##  token level encoding\n",
    "        batch_size = len(batch)\n",
    "        sizes = [len(s) for s in a_input_ids]\n",
    "        target_size = min(max(sizes), self.max_length)\n",
    "        \"\"\" torch.full -> creates a tensor of a given shape and fills it with a scalar value self.pad_token_id here\"\"\"\n",
    "        a_collated_ids = torch.full((batch_size, target_size), self.pad_token_id, dtype=torch.long)\n",
    "        a_collated_attention_masks = torch.zeros((batch_size, target_size), dtype=torch.long)\n",
    "\n",
    "        \"\"\" cut data if size > target_size else: fill by self.pad_token_id \"\"\"\n",
    "        for i, (input_id, attention_m, size) in enumerate(\n",
    "                zip(a_input_ids, a_attention_mask, sizes)):\n",
    "            diff = target_size - size\n",
    "            if diff < 0:\n",
    "                a_collated_ids[i, :target_size] = input_id[:target_size]\n",
    "                a_collated_ids[i, -1] = self.sep_token_id\n",
    "                a_collated_attention_masks[i, :target_size] = attention_m[:target_size]\n",
    "\n",
    "            else:\n",
    "                a_collated_ids[i, :size] = input_id\n",
    "                a_collated_attention_masks[i, :size] = attention_m\n",
    "\n",
    "        return {\n",
    "            'a_sentence': a_sentence,\n",
    "            'a_input_ids': a_collated_ids,\n",
    "            'a_attention_mask': a_collated_attention_masks\n",
    "        }"
   ]
  },
  {
   "cell_type": "code",
   "execution_count": 24,
   "id": "95734eb5-8ff7-4410-a4f7-6c3a9690025c",
   "metadata": {
    "execution": {
     "iopub.execute_input": "2023-12-09T10:45:31.627604Z",
     "iopub.status.busy": "2023-12-09T10:45:31.626873Z",
     "iopub.status.idle": "2023-12-09T10:45:31.638148Z",
     "shell.execute_reply": "2023-12-09T10:45:31.637255Z",
     "shell.execute_reply.started": "2023-12-09T10:45:31.627549Z"
    },
    "tags": []
   },
   "outputs": [],
   "source": [
    "from src.utils.abs_preprocess import AbsPreprocessor\n",
    "\n",
    "class Testprocessor(AbsPreprocessor):\n",
    "\n",
    "    @classmethod\n",
    "    def preprocess(cls, tokenizer,  input_list:List) -> None:\n",
    "        \"\"\" try read tsv file using pandas first if [memory or parse] error catched use other reading method  \"\"\"\n",
    "    \n",
    "        feature_list = list()\n",
    "        skipped_line = 0\n",
    "\n",
    "        for i, line in enumerate(input_list):\n",
    "            try:\n",
    "                a_encoded_sentence = cls.tokenizing(input=line, tokenizer=tokenizer, tokenizer_input=None)\n",
    "                feature_list.append(\n",
    "                    SingleSentenceInput(\n",
    "                        sentence_a = line,\n",
    "                        a_input_ids = a_encoded_sentence.input_ids,\n",
    "                        a_attention_mask=a_encoded_sentence.attention_mask,\n",
    "                    )\n",
    "                )\n",
    "            except Exception as e:\n",
    "                print(f'Error occurs in {i} lines in preprocessing')\n",
    "                print(line)\n",
    "                print(e)\n",
    "                break\n",
    "\n",
    "        return feature_list\n"
   ]
  },
  {
   "cell_type": "markdown",
   "id": "4b796044-508e-4d52-9b68-6e936107d8f3",
   "metadata": {},
   "source": [
    "# Kmeans sampling for Representative query for each intent_nm"
   ]
  },
  {
   "cell_type": "code",
   "execution_count": 25,
   "id": "2d058188-f92c-4206-9a3c-40fb86d57230",
   "metadata": {
    "execution": {
     "iopub.execute_input": "2023-12-09T10:45:32.976859Z",
     "iopub.status.busy": "2023-12-09T10:45:32.975945Z",
     "iopub.status.idle": "2023-12-09T10:45:40.086882Z",
     "shell.execute_reply": "2023-12-09T10:45:40.085403Z",
     "shell.execute_reply.started": "2023-12-09T10:45:32.976772Z"
    },
    "tags": []
   },
   "outputs": [],
   "source": [
    "model = model.to(device)"
   ]
  },
  {
   "cell_type": "code",
   "execution_count": 26,
   "id": "2f0f4b43-7aaf-4fcd-8814-16bf66f450e1",
   "metadata": {
    "execution": {
     "iopub.execute_input": "2023-12-09T10:45:40.089083Z",
     "iopub.status.busy": "2023-12-09T10:45:40.088852Z",
     "iopub.status.idle": "2023-12-09T10:45:40.096541Z",
     "shell.execute_reply": "2023-12-09T10:45:40.095714Z",
     "shell.execute_reply.started": "2023-12-09T10:45:40.089060Z"
    },
    "tags": []
   },
   "outputs": [],
   "source": [
    "def encode(chunk_list):\n",
    "    emedding_dict = dict()\n",
    "    embedding_list = []\n",
    "    query_list = []\n",
    "    for chunk in chunk_list:\n",
    "        chunk_process = Testprocessor.preprocess(tokenizer = tokenizer, input_list = chunk)\n",
    "        chunk_dataset = EmbeddingDataset(args=args, features=chunk_process, max_length=args.model_max_len, tokenizer=tokenizer)\n",
    "        chunk_dataloader = chunk_dataset.loader(shuffle=False, batch_size=400)\n",
    "        model.eval()\n",
    "        with torch.no_grad():   \n",
    "            for batch_idx, batch in enumerate(chunk_dataloader): \n",
    "                batch = {key: (item.to(args.device) if type(item) == torch.Tensor else item) for key, item in batch.items()}\n",
    "                a_embedding = model(batch['a_input_ids'], batch['a_attention_mask'])\n",
    "                a_sentence = batch['a_sentence']\n",
    "                query_list.extend(a_sentence)\n",
    "                embedding_list.append(a_embedding)\n",
    "            \n",
    "    embeddings = torch.cat(embedding_list, 0) \n",
    "    return embeddings, query_list\n"
   ]
  },
  {
   "cell_type": "code",
   "execution_count": 28,
   "id": "5084c7cd-62f7-4233-9b99-cf4c0d94941c",
   "metadata": {
    "execution": {
     "iopub.execute_input": "2023-12-09T10:45:58.214072Z",
     "iopub.status.busy": "2023-12-09T10:45:58.213079Z",
     "iopub.status.idle": "2023-12-09T10:50:34.834039Z",
     "shell.execute_reply": "2023-12-09T10:50:34.832788Z",
     "shell.execute_reply.started": "2023-12-09T10:45:58.214012Z"
    },
    "tags": []
   },
   "outputs": [
    {
     "name": "stdout",
     "output_type": "stream",
     "text": [
      "0\n",
      "400\n",
      "800\n",
      "1200\n",
      "1600\n"
     ]
    }
   ],
   "source": [
    "embedding_dict = {}\n",
    "query_dict = {}\n",
    "for i, intent in enumerate(idx2intent_nm):\n",
    "    if i % 400 ==0:\n",
    "        print(i)\n",
    "\n",
    "    unique_query = faq_table[faq_table.intent_nm == intent]\n",
    "    candidate_query = list(unique_query['query'].unique())\n",
    "    model_input_list = chunking(candidate_query, chunk_size=300)\n",
    "    embeddings, queries = encode(model_input_list)    \n",
    "    intent = intent.strip()\n",
    "    embedding_dict[intent] = embeddings.cpu().numpy()\n",
    "    query_dict[intent] = queries"
   ]
  },
  {
   "cell_type": "code",
   "execution_count": 258,
   "id": "cfebd3ae-7389-486b-be9c-fda8cf502910",
   "metadata": {
    "execution": {
     "iopub.execute_input": "2023-12-08T13:07:08.508860Z",
     "iopub.status.busy": "2023-12-08T13:07:08.508173Z",
     "iopub.status.idle": "2023-12-08T13:07:12.056209Z",
     "shell.execute_reply": "2023-12-08T13:07:12.055368Z",
     "shell.execute_reply.started": "2023-12-08T13:07:08.508834Z"
    },
    "tags": []
   },
   "outputs": [],
   "source": [
    "import pickle\n",
    "embedding_file = '../embedding_result/intent_query_embedding_klue_roberta_large.pkl'\n",
    "if os.path.exists(embedding_file):\n",
    "    os.remove(embedding_file)\n",
    "    \n",
    "with open(embedding_file, 'wb') as f:\n",
    "    pickle.dump({\n",
    "        'query_dict': query_dict,\n",
    "        'embedding_dict': embedding_dict\n",
    "    }, f)"
   ]
  },
  {
   "cell_type": "markdown",
   "id": "b2796627-40c5-4861-bd4b-029ab82e50ee",
   "metadata": {},
   "source": [
    "# after embedding"
   ]
  },
  {
   "cell_type": "code",
   "execution_count": 40,
   "id": "b3266183-85c6-4867-ac12-d7d4df8bdf30",
   "metadata": {
    "execution": {
     "iopub.execute_input": "2023-12-08T02:28:50.095370Z",
     "iopub.status.busy": "2023-12-08T02:28:50.094735Z",
     "iopub.status.idle": "2023-12-08T02:28:51.177563Z",
     "shell.execute_reply": "2023-12-08T02:28:51.174217Z",
     "shell.execute_reply.started": "2023-12-08T02:28:50.095332Z"
    },
    "tags": []
   },
   "outputs": [],
   "source": [
    "import pickle\n",
    "with open('../embedding_result/intent_query_embedding_klue_roberta_large.pkl', 'rb') as f:\n",
    "    test = pickle.load(f)\n",
    " "
   ]
  },
  {
   "cell_type": "code",
   "execution_count": 41,
   "id": "a6992236-a420-463d-9816-e4e65efb2472",
   "metadata": {
    "execution": {
     "iopub.execute_input": "2023-12-08T02:28:51.181678Z",
     "iopub.status.busy": "2023-12-08T02:28:51.181032Z",
     "iopub.status.idle": "2023-12-08T02:28:51.207751Z",
     "shell.execute_reply": "2023-12-08T02:28:51.206756Z",
     "shell.execute_reply.started": "2023-12-08T02:28:51.181622Z"
    },
    "tags": []
   },
   "outputs": [],
   "source": [
    "query_dict = test['query_dict']\n",
    "embedding_dict = test['embedding_dict']"
   ]
  },
  {
   "cell_type": "code",
   "execution_count": null,
   "id": "e191bcf5-1243-4028-9299-2cb83ca2b7f5",
   "metadata": {
    "execution": {
     "iopub.status.busy": "2023-12-09T10:44:01.877473Z",
     "iopub.status.idle": "2023-12-09T10:44:01.878182Z",
     "shell.execute_reply": "2023-12-09T10:44:01.877883Z",
     "shell.execute_reply.started": "2023-12-09T10:44:01.877848Z"
    },
    "tags": []
   },
   "outputs": [],
   "source": [
    "import sklearn\n",
    "from sklearn.cluster import KMeans\n",
    "import numpy as np"
   ]
  },
  {
   "cell_type": "code",
   "execution_count": 29,
   "id": "7ab15637-af32-470e-8957-8b6e1f9a92b9",
   "metadata": {
    "execution": {
     "iopub.execute_input": "2023-12-09T10:50:34.837423Z",
     "iopub.status.busy": "2023-12-09T10:50:34.836678Z",
     "iopub.status.idle": "2023-12-09T10:50:34.843010Z",
     "shell.execute_reply": "2023-12-09T10:50:34.842330Z",
     "shell.execute_reply.started": "2023-12-09T10:50:34.837390Z"
    },
    "tags": []
   },
   "outputs": [],
   "source": [
    "def get_cluster_size(data_size):\n",
    "    if data_size >= 100:\n",
    "        cluster_size = 5\n",
    "    elif (data_size < 100) and (data_size > 30) :\n",
    "        cluster_size = 3\n",
    "    else:\n",
    "        cluster_size = 1\n",
    "    return cluster_size  "
   ]
  },
  {
   "cell_type": "code",
   "execution_count": null,
   "id": "7e1bbd41-d3ec-466e-b380-5e6cab4c9c47",
   "metadata": {
    "execution": {
     "iopub.status.busy": "2023-12-08T04:03:57.934936Z",
     "iopub.status.idle": "2023-12-08T04:03:57.935296Z",
     "shell.execute_reply": "2023-12-08T04:03:57.935174Z",
     "shell.execute_reply.started": "2023-12-08T04:03:57.935160Z"
    },
    "tags": []
   },
   "outputs": [],
   "source": [
    "# pip install -U scikit-learn"
   ]
  },
  {
   "cell_type": "code",
   "execution_count": 30,
   "id": "20861f96-43fd-49bf-8030-3626cfbd0cc1",
   "metadata": {
    "execution": {
     "iopub.execute_input": "2023-12-09T10:50:34.844037Z",
     "iopub.status.busy": "2023-12-09T10:50:34.843851Z",
     "iopub.status.idle": "2023-12-09T10:50:34.994923Z",
     "shell.execute_reply": "2023-12-09T10:50:34.993826Z",
     "shell.execute_reply.started": "2023-12-09T10:50:34.844017Z"
    },
    "tags": []
   },
   "outputs": [],
   "source": [
    "from sklearn.cluster import KMeans"
   ]
  },
  {
   "cell_type": "code",
   "execution_count": 31,
   "id": "a8ba4c57-004d-4093-ae40-5d3691d15ace",
   "metadata": {
    "execution": {
     "iopub.execute_input": "2023-12-09T10:50:34.997753Z",
     "iopub.status.busy": "2023-12-09T10:50:34.996888Z",
     "iopub.status.idle": "2023-12-09T10:50:35.001928Z",
     "shell.execute_reply": "2023-12-09T10:50:35.001153Z",
     "shell.execute_reply.started": "2023-12-09T10:50:34.997723Z"
    },
    "tags": []
   },
   "outputs": [],
   "source": [
    "from tqdm.notebook import tqdm"
   ]
  },
  {
   "cell_type": "code",
   "execution_count": 32,
   "id": "a8a3182f-144b-4deb-9c39-2da8b4fd07bb",
   "metadata": {
    "execution": {
     "iopub.execute_input": "2023-12-09T10:50:35.002972Z",
     "iopub.status.busy": "2023-12-09T10:50:35.002767Z",
     "iopub.status.idle": "2023-12-09T10:52:15.572389Z",
     "shell.execute_reply": "2023-12-09T10:52:15.571580Z",
     "shell.execute_reply.started": "2023-12-09T10:50:35.002949Z"
    },
    "tags": []
   },
   "outputs": [
    {
     "data": {
      "application/vnd.jupyter.widget-view+json": {
       "model_id": "e181643832a4458fa90168c9bc7d789a",
       "version_major": 2,
       "version_minor": 0
      },
      "text/plain": [
       "  0%|          | 0/1606 [00:00<?, ?it/s]"
      ]
     },
     "metadata": {},
     "output_type": "display_data"
    },
    {
     "name": "stderr",
     "output_type": "stream",
     "text": [
      "huggingface/tokenizers: The current process just got forked, after parallelism has already been used. Disabling parallelism to avoid deadlocks...\n",
      "To disable this warning, you can either:\n",
      "\t- Avoid using `tokenizers` before the fork if possible\n",
      "\t- Explicitly set the environment variable TOKENIZERS_PARALLELISM=(true | false)\n"
     ]
    }
   ],
   "source": [
    "from collections import defaultdict\n",
    "sample_prop = 0.7\n",
    "train_rep_queries = defaultdict(list)\n",
    "test_rep_queries = defaultdict(list)\n",
    "\n",
    "for key, value in tqdm(list(embedding_dict.items())):\n",
    "    intent_nm = key\n",
    "    query = query_dict[intent_nm]\n",
    "    #query = [j for sub in query for j in sub]\n",
    "    data_size = value.shape[0]\n",
    "    cluster_size = get_cluster_size(data_size)\n",
    "    sampled_q = []\n",
    "    neg_sampled_q = []\n",
    "    if cluster_size > 1:\n",
    "        kmeans_label = KMeans(n_clusters=cluster_size, random_state=0, n_init=\"auto\", max_iter=1000, init='k-means++').fit_predict(value)\n",
    "        for i in range(cluster_size):\n",
    "            c_i = np.where(kmeans_label == i)[0].tolist() \n",
    "            n_i = len(c_i)\n",
    "            sample_i = np.random.choice(c_i, max(int(sample_prop * n_i), 1), replace=False)\n",
    "            train_sample = sample_i[: int(0.8 * len(sample_i))]\n",
    "            val_sample = sample_i[int(0.8 * len(sample_i)):]\n",
    "            sampled_q.extend([query[ind] for ind in train_sample])\n",
    "            neg_sampled_q.extend([query[ind] for ind in val_sample])\n",
    "        train_rep_queries[intent_nm] = sampled_q\n",
    "        test_rep_queries[intent_nm] = neg_sampled_q\n",
    "    else:\n",
    "        if len(query) > 10:\n",
    "            ind = int(np.ceil(1/2 * len(query)))\n",
    "            train_rep_queries[intent_nm] = query[:ind]\n",
    "            test_rep_queries[intent_nm] = query[ind:]\n",
    "        else:\n",
    "            train_rep_queries[intent_nm] = query\n",
    "            test_rep_queries[intent_nm] = []"
   ]
  },
  {
   "cell_type": "markdown",
   "id": "b25321d7-f4c0-49ed-87a2-50e7554f99d1",
   "metadata": {},
   "source": [
    "# SAVE KMEANS "
   ]
  },
  {
   "cell_type": "code",
   "execution_count": 264,
   "id": "187bb5ec-8a5d-49f0-a582-7835975aeb36",
   "metadata": {
    "execution": {
     "iopub.execute_input": "2023-12-08T13:12:43.823562Z",
     "iopub.status.busy": "2023-12-08T13:12:43.822714Z",
     "iopub.status.idle": "2023-12-08T13:12:43.917492Z",
     "shell.execute_reply": "2023-12-08T13:12:43.914442Z",
     "shell.execute_reply.started": "2023-12-08T13:12:43.823492Z"
    },
    "tags": []
   },
   "outputs": [],
   "source": [
    "import pickle\n",
    "kmeans_file = '../embedding_result/kmeans_train_test_dataset.pkl'\n",
    "if os.path.exists(kmeans_file):\n",
    "    os.remove(kmeans_file)\n",
    "    \n",
    "with open(kmeans_file, 'wb') as f:\n",
    "    pickle.dump({\n",
    "        'train': train_rep_queries,\n",
    "        'test': test_rep_queries\n",
    "    }, f)"
   ]
  },
  {
   "cell_type": "markdown",
   "id": "52cadf3b-d0ff-4712-a79b-d74db1ded1f1",
   "metadata": {},
   "source": [
    "# Hard negative sampling based on BM25"
   ]
  },
  {
   "cell_type": "code",
   "execution_count": 34,
   "id": "7c06fcb9-0cfe-4e2a-93e6-b75b614dd878",
   "metadata": {
    "execution": {
     "iopub.execute_input": "2023-12-09T10:54:01.580021Z",
     "iopub.status.busy": "2023-12-09T10:54:01.579033Z",
     "iopub.status.idle": "2023-12-09T10:54:01.587865Z",
     "shell.execute_reply": "2023-12-09T10:54:01.586423Z",
     "shell.execute_reply.started": "2023-12-09T10:54:01.579907Z"
    },
    "tags": []
   },
   "outputs": [],
   "source": [
    "train_query_list = []\n",
    "for key, val in train_rep_queries.items():\n",
    "    train_query_list.append(val)"
   ]
  },
  {
   "cell_type": "code",
   "execution_count": 266,
   "id": "5ac44f3d-25af-4dd4-9468-dc4d62c366f2",
   "metadata": {
    "execution": {
     "iopub.execute_input": "2023-12-08T13:12:45.638199Z",
     "iopub.status.busy": "2023-12-08T13:12:45.637534Z",
     "iopub.status.idle": "2023-12-08T13:12:45.644386Z",
     "shell.execute_reply": "2023-12-08T13:12:45.643240Z",
     "shell.execute_reply.started": "2023-12-08T13:12:45.638143Z"
    },
    "tags": []
   },
   "outputs": [],
   "source": [
    "#train_query_list[:5]"
   ]
  },
  {
   "cell_type": "code",
   "execution_count": 267,
   "id": "4ed18a19-b3d0-4356-806d-aa82ad9a2492",
   "metadata": {
    "execution": {
     "iopub.execute_input": "2023-12-08T13:12:45.769749Z",
     "iopub.status.busy": "2023-12-08T13:12:45.769101Z",
     "iopub.status.idle": "2023-12-08T13:12:45.775183Z",
     "shell.execute_reply": "2023-12-08T13:12:45.773724Z",
     "shell.execute_reply.started": "2023-12-08T13:12:45.769692Z"
    },
    "tags": []
   },
   "outputs": [],
   "source": [
    "#!pip install rank_bm25"
   ]
  },
  {
   "cell_type": "code",
   "execution_count": 35,
   "id": "495cc589-a837-400d-aa09-c4e343fdb1a2",
   "metadata": {
    "execution": {
     "iopub.execute_input": "2023-12-09T10:54:04.001932Z",
     "iopub.status.busy": "2023-12-09T10:54:04.000948Z",
     "iopub.status.idle": "2023-12-09T10:54:04.016434Z",
     "shell.execute_reply": "2023-12-09T10:54:04.015474Z",
     "shell.execute_reply.started": "2023-12-09T10:54:04.001834Z"
    },
    "tags": []
   },
   "outputs": [],
   "source": [
    "from rank_bm25 import BM25Okapi"
   ]
  },
  {
   "cell_type": "code",
   "execution_count": 36,
   "id": "2b1da69f-31a4-4722-a9e6-2932fc36a22d",
   "metadata": {
    "execution": {
     "iopub.execute_input": "2023-12-09T10:54:04.101519Z",
     "iopub.status.busy": "2023-12-09T10:54:04.100852Z",
     "iopub.status.idle": "2023-12-09T10:54:04.107175Z",
     "shell.execute_reply": "2023-12-09T10:54:04.106142Z",
     "shell.execute_reply.started": "2023-12-09T10:54:04.101465Z"
    },
    "tags": []
   },
   "outputs": [],
   "source": [
    "black_list_words = ['관련', '방법', '서비스']"
   ]
  },
  {
   "cell_type": "code",
   "execution_count": 37,
   "id": "c5a15b43-ef5c-4dc0-b346-c3e06b6c6cc1",
   "metadata": {
    "execution": {
     "iopub.execute_input": "2023-12-09T10:54:04.266988Z",
     "iopub.status.busy": "2023-12-09T10:54:04.266268Z",
     "iopub.status.idle": "2023-12-09T10:54:04.276291Z",
     "shell.execute_reply": "2023-12-09T10:54:04.275042Z",
     "shell.execute_reply.started": "2023-12-09T10:54:04.266932Z"
    },
    "tags": []
   },
   "outputs": [],
   "source": [
    "intent_list = []\n",
    "for key in query_dict.keys():\n",
    "    for blacklist in black_list_words:\n",
    "        key = key.replace(blacklist, '')\n",
    "    intent_list.append(key)"
   ]
  },
  {
   "cell_type": "code",
   "execution_count": 38,
   "id": "360024a0-81a9-4eda-89ee-7cc85939e71c",
   "metadata": {
    "execution": {
     "iopub.execute_input": "2023-12-09T10:54:04.386844Z",
     "iopub.status.busy": "2023-12-09T10:54:04.386192Z",
     "iopub.status.idle": "2023-12-09T10:54:04.392738Z",
     "shell.execute_reply": "2023-12-09T10:54:04.391297Z",
     "shell.execute_reply.started": "2023-12-09T10:54:04.386789Z"
    },
    "tags": []
   },
   "outputs": [],
   "source": [
    "def tokenizer_white(sent):\n",
    "  sent = sent.replace(\"'\", \"\")\n",
    "  return sent.split(\" \")"
   ]
  },
  {
   "cell_type": "code",
   "execution_count": 39,
   "id": "9b005dc3-94d3-4914-9206-30f02aceac46",
   "metadata": {
    "execution": {
     "iopub.execute_input": "2023-12-09T10:54:04.519119Z",
     "iopub.status.busy": "2023-12-09T10:54:04.518477Z",
     "iopub.status.idle": "2023-12-09T10:54:04.528037Z",
     "shell.execute_reply": "2023-12-09T10:54:04.526758Z",
     "shell.execute_reply.started": "2023-12-09T10:54:04.519065Z"
    },
    "tags": []
   },
   "outputs": [],
   "source": [
    "tokenized_corpus = [tokenizer_white(intent) for intent in intent_list]"
   ]
  },
  {
   "cell_type": "code",
   "execution_count": 40,
   "id": "66624c55-17a6-47ed-8a94-d3867403cb6b",
   "metadata": {
    "execution": {
     "iopub.execute_input": "2023-12-09T10:54:04.644568Z",
     "iopub.status.busy": "2023-12-09T10:54:04.643043Z",
     "iopub.status.idle": "2023-12-09T10:54:04.659581Z",
     "shell.execute_reply": "2023-12-09T10:54:04.658860Z",
     "shell.execute_reply.started": "2023-12-09T10:54:04.644485Z"
    },
    "tags": []
   },
   "outputs": [],
   "source": [
    "bm25 = BM25Okapi(tokenized_corpus)"
   ]
  },
  {
   "cell_type": "code",
   "execution_count": 41,
   "id": "7ce0c6d2-8dee-48a2-aa35-1e9342d12938",
   "metadata": {
    "execution": {
     "iopub.execute_input": "2023-12-09T10:54:05.818251Z",
     "iopub.status.busy": "2023-12-09T10:54:05.817594Z",
     "iopub.status.idle": "2023-12-09T10:54:05.825530Z",
     "shell.execute_reply": "2023-12-09T10:54:05.824343Z",
     "shell.execute_reply.started": "2023-12-09T10:54:05.818203Z"
    },
    "tags": []
   },
   "outputs": [
    {
     "data": {
      "text/plain": [
       "1606"
      ]
     },
     "execution_count": 41,
     "metadata": {},
     "output_type": "execute_result"
    }
   ],
   "source": [
    "len(train_rep_queries)"
   ]
  },
  {
   "cell_type": "code",
   "execution_count": 42,
   "id": "facfd66f-8b23-4311-b985-28c6f73b7dca",
   "metadata": {
    "execution": {
     "iopub.execute_input": "2023-12-09T10:54:06.817247Z",
     "iopub.status.busy": "2023-12-09T10:54:06.816600Z",
     "iopub.status.idle": "2023-12-09T10:54:09.880290Z",
     "shell.execute_reply": "2023-12-09T10:54:09.878828Z",
     "shell.execute_reply.started": "2023-12-09T10:54:06.817191Z"
    },
    "tags": []
   },
   "outputs": [],
   "source": [
    "negative_dict = dict()\n",
    "negative_count = 5\n",
    "bm25_thres = 6\n",
    "\n",
    "for intent in train_rep_queries.keys():\n",
    "    intent = intent.strip()\n",
    "    neg_list = []\n",
    "    try:\n",
    "        neg_candidate = bm25.get_top_n(tokenizer_white(intent), intent_list, n = negative_count * 20 )\n",
    "        ## get result_top_k_threshold\n",
    "        scores = bm25.get_scores(tokenizer_white(intent))\n",
    "        result_topk = len(scores[np.nonzero(scores > bm25_thres)])\n",
    "        #topk_neg = neg_candidate[1: 1 + result_topk]\n",
    "        negatives = neg_candidate[result_topk: result_topk + negative_count]\n",
    "        if not negatives:\n",
    "            print(result_topk)\n",
    "            \n",
    "    except Exception as e:\n",
    "        print(intent)\n",
    "        print(e)\n",
    "        break\n",
    "        \n",
    "    for neg in negatives:\n",
    "        if (neg in intent) or (intent in neg):\n",
    "            pass\n",
    "        else:\n",
    "            neg_list.append(neg)\n",
    "            \n",
    "    negative_dict[intent] = neg_list"
   ]
  },
  {
   "cell_type": "markdown",
   "id": "f52c1426-199c-4c2f-a545-5e6953c2275e",
   "metadata": {},
   "source": [
    "# SAVE negative dict and intent_list"
   ]
  },
  {
   "cell_type": "code",
   "execution_count": 43,
   "id": "cb1b1695-bc1b-4787-8aaf-5c5dbd2b9495",
   "metadata": {
    "execution": {
     "iopub.execute_input": "2023-12-09T10:54:13.559366Z",
     "iopub.status.busy": "2023-12-09T10:54:13.558844Z",
     "iopub.status.idle": "2023-12-09T10:54:13.568831Z",
     "shell.execute_reply": "2023-12-09T10:54:13.567861Z",
     "shell.execute_reply.started": "2023-12-09T10:54:13.559340Z"
    },
    "tags": []
   },
   "outputs": [],
   "source": [
    "import pickle\n",
    "neg_file = '../data/negative_dict_bm25_large.pkl'\n",
    "if os.path.exists(neg_file):\n",
    "    os.remove(neg_file)\n",
    "    \n",
    "with open(neg_file, 'wb') as f:\n",
    "    pickle.dump(negative_dict, f)"
   ]
  },
  {
   "cell_type": "code",
   "execution_count": 44,
   "id": "2efbdc19-2506-468e-897a-3445ecc90443",
   "metadata": {
    "execution": {
     "iopub.execute_input": "2023-12-09T10:54:14.558510Z",
     "iopub.status.busy": "2023-12-09T10:54:14.557895Z",
     "iopub.status.idle": "2023-12-09T10:54:14.569510Z",
     "shell.execute_reply": "2023-12-09T10:54:14.568255Z",
     "shell.execute_reply.started": "2023-12-09T10:54:14.558461Z"
    },
    "tags": []
   },
   "outputs": [],
   "source": [
    "import pickle\n",
    "intent_file = '../data/intent_list_large.pkl'\n",
    "if os.path.exists(intent_file):\n",
    "    os.remove(intent_file)\n",
    "    \n",
    "with open(intent_file, 'wb') as f:\n",
    "    pickle.dump(intent_list, f)"
   ]
  },
  {
   "cell_type": "markdown",
   "id": "11d8a342-9a4a-453e-b634-622bc1a1d638",
   "metadata": {},
   "source": [
    "# Add vocab based on frequency count"
   ]
  },
  {
   "cell_type": "code",
   "execution_count": 22,
   "id": "752620fd-62c6-4690-9a54-e357db8bc404",
   "metadata": {
    "execution": {
     "iopub.execute_input": "2023-11-25T06:21:22.369127Z",
     "iopub.status.busy": "2023-11-25T06:21:22.368247Z",
     "iopub.status.idle": "2023-11-25T06:21:22.374898Z",
     "shell.execute_reply": "2023-11-25T06:21:22.373793Z",
     "shell.execute_reply.started": "2023-11-25T06:21:22.369072Z"
    }
   },
   "outputs": [],
   "source": [
    "candidate_add_intent_token_list = []\n",
    "candidate_add_query_token_list = []\n",
    "add_token_count = 20"
   ]
  },
  {
   "cell_type": "code",
   "execution_count": 97,
   "id": "7387b6d0-ceeb-4a6d-87e3-607552a80ac9",
   "metadata": {
    "execution": {
     "iopub.execute_input": "2023-12-08T03:53:24.616368Z",
     "iopub.status.busy": "2023-12-08T03:53:24.615398Z",
     "iopub.status.idle": "2023-12-08T03:53:24.620877Z",
     "shell.execute_reply": "2023-12-08T03:53:24.619843Z",
     "shell.execute_reply.started": "2023-12-08T03:53:24.616325Z"
    },
    "tags": []
   },
   "outputs": [],
   "source": [
    "for key, val in intent_token_list.items():\n",
    "    if key not in tokenizer.vocab and len(key) > 1:\n",
    "        #candidate_add_intent_token_list.append(\"[\"+ key + \"]\")\n",
    "        candidate_add_intent_token_list.append(key)\n",
    "    if len(candidate_add_intent_token_list) == add_token_count:\n",
    "        break   "
   ]
  },
  {
   "cell_type": "code",
   "execution_count": 50,
   "id": "3f88c5ae-ed4a-47f3-86ef-a1fec7eaa8d8",
   "metadata": {
    "execution": {
     "iopub.execute_input": "2023-11-22T11:38:23.388566Z",
     "iopub.status.busy": "2023-11-22T11:38:23.387772Z",
     "iopub.status.idle": "2023-11-22T11:38:23.452417Z",
     "shell.execute_reply": "2023-11-22T11:38:23.451113Z",
     "shell.execute_reply.started": "2023-11-22T11:38:23.388508Z"
    }
   },
   "outputs": [],
   "source": [
    "save_path = './data/add_tokens.csv'\n",
    "with open(save_path, 'a') as f:\n",
    "    for data in candidate_add_intent_token_list:\n",
    "        f.write(data + '\\n')"
   ]
  },
  {
   "cell_type": "code",
   "execution_count": 50,
   "id": "4a17aa02-54ac-46cf-8805-be7f897e466c",
   "metadata": {
    "execution": {
     "iopub.execute_input": "2023-11-21T06:24:28.878863Z",
     "iopub.status.busy": "2023-11-21T06:24:28.878198Z",
     "iopub.status.idle": "2023-11-21T06:24:35.793898Z",
     "shell.execute_reply": "2023-11-21T06:24:35.792590Z",
     "shell.execute_reply.started": "2023-11-21T06:24:28.878815Z"
    }
   },
   "outputs": [],
   "source": [
    "word_embedding_model = models.Transformer(base_model_url)"
   ]
  },
  {
   "cell_type": "code",
   "execution_count": 51,
   "id": "65306059-6b61-4a03-8f92-a80712d050e4",
   "metadata": {
    "execution": {
     "iopub.execute_input": "2023-11-21T06:24:35.796160Z",
     "iopub.status.busy": "2023-11-21T06:24:35.795738Z",
     "iopub.status.idle": "2023-11-21T06:24:35.803745Z",
     "shell.execute_reply": "2023-11-21T06:24:35.802180Z",
     "shell.execute_reply.started": "2023-11-21T06:24:35.796135Z"
    }
   },
   "outputs": [
    {
     "data": {
      "text/plain": [
       "20"
      ]
     },
     "execution_count": 51,
     "metadata": {},
     "output_type": "execute_result"
    }
   ],
   "source": [
    "word_embedding_model.tokenizer.add_tokens(candidate_add_intent_token_list, special_tokens=True)"
   ]
  },
  {
   "cell_type": "code",
   "execution_count": 56,
   "id": "485405e2-d048-483e-84c5-8c75b6958c2b",
   "metadata": {
    "execution": {
     "iopub.execute_input": "2023-11-21T06:26:02.056337Z",
     "iopub.status.busy": "2023-11-21T06:26:02.055515Z",
     "iopub.status.idle": "2023-11-21T06:26:02.062134Z",
     "shell.execute_reply": "2023-11-21T06:26:02.060903Z",
     "shell.execute_reply.started": "2023-11-21T06:26:02.056260Z"
    }
   },
   "outputs": [],
   "source": [
    "word_embedding_model.tokenizer.model_max_length=128"
   ]
  },
  {
   "cell_type": "code",
   "execution_count": 57,
   "id": "eae096e2-e875-4be5-bcd8-15f90e15d45e",
   "metadata": {
    "execution": {
     "iopub.execute_input": "2023-11-21T06:26:04.192469Z",
     "iopub.status.busy": "2023-11-21T06:26:04.191723Z",
     "iopub.status.idle": "2023-11-21T06:26:04.211528Z",
     "shell.execute_reply": "2023-11-21T06:26:04.210720Z",
     "shell.execute_reply.started": "2023-11-21T06:26:04.192419Z"
    }
   },
   "outputs": [],
   "source": [
    "word_embedding_model.auto_model.resize_token_embeddings(len(word_embedding_model.tokenizer))\n",
    "pooling_model = models.Pooling(word_embedding_model.get_word_embedding_dimension())"
   ]
  },
  {
   "cell_type": "code",
   "execution_count": 58,
   "id": "235a2bff-3a73-461e-aa64-ba5c2916648a",
   "metadata": {
    "execution": {
     "iopub.execute_input": "2023-11-21T06:26:05.161172Z",
     "iopub.status.busy": "2023-11-21T06:26:05.160431Z",
     "iopub.status.idle": "2023-11-21T06:26:05.167289Z",
     "shell.execute_reply": "2023-11-21T06:26:05.166141Z",
     "shell.execute_reply.started": "2023-11-21T06:26:05.161121Z"
    }
   },
   "outputs": [],
   "source": [
    "model = SentenceTransformer(modules=[word_embedding_model, pooling_model])"
   ]
  },
  {
   "cell_type": "code",
   "execution_count": 59,
   "id": "07937796-2e83-4a8d-b3ad-7334078a5c28",
   "metadata": {
    "execution": {
     "iopub.execute_input": "2023-11-21T06:26:05.629391Z",
     "iopub.status.busy": "2023-11-21T06:26:05.628715Z",
     "iopub.status.idle": "2023-11-21T06:26:05.927994Z",
     "shell.execute_reply": "2023-11-21T06:26:05.926760Z",
     "shell.execute_reply.started": "2023-11-21T06:26:05.629343Z"
    }
   },
   "outputs": [],
   "source": [
    "model.max_seq_length = 128"
   ]
  },
  {
   "cell_type": "markdown",
   "id": "84e3eb8f-ae22-4868-9be7-e9a13fed1029",
   "metadata": {},
   "source": [
    "# DATASET FOR TRAIN"
   ]
  },
  {
   "cell_type": "code",
   "execution_count": 278,
   "id": "ffbf1a47-1777-4684-b477-e72f5e1dfa40",
   "metadata": {
    "execution": {
     "iopub.execute_input": "2023-12-08T13:13:01.268099Z",
     "iopub.status.busy": "2023-12-08T13:13:01.267228Z",
     "iopub.status.idle": "2023-12-08T13:13:01.273078Z",
     "shell.execute_reply": "2023-12-08T13:13:01.271785Z",
     "shell.execute_reply.started": "2023-12-08T13:13:01.268040Z"
    },
    "tags": []
   },
   "outputs": [],
   "source": [
    "# from sentence_transformers import SentenceTransformer, SentencesDataset, losses\n",
    "# from sentence_transformers.readers import InputExample"
   ]
  },
  {
   "cell_type": "code",
   "execution_count": 45,
   "id": "f8178212-e325-47bd-8e46-a3787d4a0a55",
   "metadata": {
    "execution": {
     "iopub.execute_input": "2023-12-09T10:54:17.869700Z",
     "iopub.status.busy": "2023-12-09T10:54:17.869000Z",
     "iopub.status.idle": "2023-12-09T10:54:19.018137Z",
     "shell.execute_reply": "2023-12-09T10:54:19.016406Z",
     "shell.execute_reply.started": "2023-12-09T10:54:17.869648Z"
    },
    "tags": []
   },
   "outputs": [
    {
     "name": "stdout",
     "output_type": "stream",
     "text": [
      "638318\n"
     ]
    }
   ],
   "source": [
    "train_dataset = []\n",
    "for intent, queries in train_rep_queries.items():\n",
    "    for query in queries:\n",
    "        for negative in negative_dict[intent]:\n",
    "            train_dataset.append([query, intent, negative])\n",
    "            \n",
    "print(len(train_dataset))"
   ]
  },
  {
   "cell_type": "code",
   "execution_count": 46,
   "id": "00b86a11-8ab2-409e-9ecd-16d9298c2857",
   "metadata": {
    "execution": {
     "iopub.execute_input": "2023-12-09T10:54:20.501471Z",
     "iopub.status.busy": "2023-12-09T10:54:20.500634Z",
     "iopub.status.idle": "2023-12-09T10:54:20.984225Z",
     "shell.execute_reply": "2023-12-09T10:54:20.983060Z",
     "shell.execute_reply.started": "2023-12-09T10:54:20.501410Z"
    },
    "tags": []
   },
   "outputs": [],
   "source": [
    "save_path = '../data/train_large.csv'\n",
    "if os.path.exists(save_path):\n",
    "    os.remove(save_path)\n",
    "\n",
    "with open(save_path, 'a') as f:\n",
    "    for data in train_dataset:\n",
    "        line = '\\t'.join(data)\n",
    "        f.write(line + '\\n')\n"
   ]
  },
  {
   "cell_type": "code",
   "execution_count": 47,
   "id": "d3163cac-e2bd-4017-93db-14560a25d9af",
   "metadata": {
    "execution": {
     "iopub.execute_input": "2023-12-09T10:54:22.183724Z",
     "iopub.status.busy": "2023-12-09T10:54:22.182992Z",
     "iopub.status.idle": "2023-12-09T10:54:22.189022Z",
     "shell.execute_reply": "2023-12-09T10:54:22.188387Z",
     "shell.execute_reply.started": "2023-12-09T10:54:22.183668Z"
    },
    "tags": []
   },
   "outputs": [
    {
     "data": {
      "text/plain": [
       "1606"
      ]
     },
     "execution_count": 47,
     "metadata": {},
     "output_type": "execute_result"
    }
   ],
   "source": [
    "len(test_rep_queries.keys())"
   ]
  },
  {
   "cell_type": "code",
   "execution_count": 48,
   "id": "92bfb617-3943-443e-8807-fc73d185e655",
   "metadata": {
    "execution": {
     "iopub.execute_input": "2023-12-09T10:54:23.647523Z",
     "iopub.status.busy": "2023-12-09T10:54:23.646698Z",
     "iopub.status.idle": "2023-12-09T10:54:24.162757Z",
     "shell.execute_reply": "2023-12-09T10:54:24.161521Z",
     "shell.execute_reply.started": "2023-12-09T10:54:23.647463Z"
    },
    "tags": []
   },
   "outputs": [
    {
     "name": "stdout",
     "output_type": "stream",
     "text": [
      "179171\n"
     ]
    }
   ],
   "source": [
    "val_dataset = []\n",
    "for intent, queries in test_rep_queries.items():\n",
    "    if queries:\n",
    "        for query in queries:\n",
    "            for negative in negative_dict[intent]:\n",
    "                val_dataset.append([query, intent, negative])\n",
    "\n",
    "print(len(val_dataset))\n",
    "\n",
    "save_path = '../data/val_large.csv'\n",
    "if os.path.exists(save_path):\n",
    "    os.remove(save_path)\n",
    "            \n",
    "with open(save_path, 'a') as f:\n",
    "    for data in val_dataset:\n",
    "        line = '\\t'.join(data)\n",
    "        f.write(line + '\\n')"
   ]
  }
 ],
 "metadata": {
  "kernelspec": {
   "display_name": "Python 3 (ipykernel)",
   "language": "python",
   "name": "python3"
  },
  "language_info": {
   "codemirror_mode": {
    "name": "ipython",
    "version": 3
   },
   "file_extension": ".py",
   "mimetype": "text/x-python",
   "name": "python",
   "nbconvert_exporter": "python",
   "pygments_lexer": "ipython3",
   "version": "3.8.10"
  }
 },
 "nbformat": 4,
 "nbformat_minor": 5
}
