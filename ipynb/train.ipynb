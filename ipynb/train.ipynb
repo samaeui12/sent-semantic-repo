{
 "cells": [
  {
   "cell_type": "code",
   "execution_count": 15,
   "id": "ed94eb33-680f-482c-876a-0b708557f385",
   "metadata": {
    "execution": {
     "iopub.execute_input": "2023-11-21T07:04:03.692097Z",
     "iopub.status.busy": "2023-11-21T07:04:03.691370Z",
     "iopub.status.idle": "2023-11-21T07:04:03.697040Z",
     "shell.execute_reply": "2023-11-21T07:04:03.695871Z",
     "shell.execute_reply.started": "2023-11-21T07:04:03.692044Z"
    }
   },
   "outputs": [],
   "source": [
    "#pip install torch==1.10.1+cu111 torchvision==0.11.2+cu111 torchaudio==0.10.1 -f https://download.pytorch.org/whl/torch_stable.html"
   ]
  },
  {
   "cell_type": "code",
   "execution_count": null,
   "id": "aaa60025-efa6-40a1-b245-e460762cdde5",
   "metadata": {},
   "outputs": [],
   "source": [
    "# pip install pip install transformers"
   ]
  },
  {
   "cell_type": "code",
   "execution_count": 1,
   "id": "d57c1fc8-2fb9-4891-aced-0ca5a730d4b7",
   "metadata": {
    "execution": {
     "iopub.execute_input": "2023-12-08T16:27:36.668086Z",
     "iopub.status.busy": "2023-12-08T16:27:36.667443Z",
     "iopub.status.idle": "2023-12-08T16:27:38.959862Z",
     "shell.execute_reply": "2023-12-08T16:27:38.959089Z",
     "shell.execute_reply.started": "2023-12-08T16:27:36.668027Z"
    },
    "tags": []
   },
   "outputs": [],
   "source": [
    "import torch\n",
    "from transformers import (\n",
    "    AdamW,\n",
    "    AutoModel,\n",
    "    get_linear_schedule_with_warmup,\n",
    "    AutoTokenizer,\n",
    "    AutoConfig\n",
    ")"
   ]
  },
  {
   "cell_type": "code",
   "execution_count": 2,
   "id": "42714487-a967-43ea-9caa-8212fd04b9f0",
   "metadata": {
    "execution": {
     "iopub.execute_input": "2023-12-08T16:27:38.963842Z",
     "iopub.status.busy": "2023-12-08T16:27:38.963099Z",
     "iopub.status.idle": "2023-12-08T16:27:38.970781Z",
     "shell.execute_reply": "2023-12-08T16:27:38.968810Z",
     "shell.execute_reply.started": "2023-12-08T16:27:38.963780Z"
    },
    "tags": []
   },
   "outputs": [],
   "source": [
    "import sys\n",
    "module_path = '/home/x1112436/git/sent-semantic-repo'\n",
    "sys.path.append(module_path)"
   ]
  },
  {
   "cell_type": "code",
   "execution_count": 3,
   "id": "fa115836-d584-4273-8e8d-3acbd6d249b2",
   "metadata": {
    "execution": {
     "iopub.execute_input": "2023-12-08T16:27:38.973577Z",
     "iopub.status.busy": "2023-12-08T16:27:38.972657Z",
     "iopub.status.idle": "2023-12-08T16:27:38.982281Z",
     "shell.execute_reply": "2023-12-08T16:27:38.980810Z",
     "shell.execute_reply.started": "2023-12-08T16:27:38.973517Z"
    },
    "tags": []
   },
   "outputs": [],
   "source": [
    "import os \n",
    "import numpy as np"
   ]
  },
  {
   "cell_type": "code",
   "execution_count": 4,
   "id": "e41e989a-8348-4be7-bfaa-973a033a105f",
   "metadata": {
    "execution": {
     "iopub.execute_input": "2023-12-08T16:27:38.984867Z",
     "iopub.status.busy": "2023-12-08T16:27:38.983981Z",
     "iopub.status.idle": "2023-12-08T16:27:39.642168Z",
     "shell.execute_reply": "2023-12-08T16:27:39.641427Z",
     "shell.execute_reply.started": "2023-12-08T16:27:38.984811Z"
    },
    "tags": []
   },
   "outputs": [],
   "source": [
    "from src.utils import set_seed\n",
    "from src.trainer import SimcseTrainer\n",
    "from src.dataset import DATASET_MAPPING_DICT\n",
    "from src.utils import PreprocessorFactory \n",
    "from src.utils import get_model_argparse\n",
    "from src.model import MODEL_MAPPING_DICT\n",
    "from src.model import CONFIG_MAPPING_DICT\n",
    "from src.logger import Experi_Logger\n",
    "from config.nli_config import nli_parser_model_args"
   ]
  },
  {
   "cell_type": "code",
   "execution_count": 5,
   "id": "17864d25-2b05-4ad3-880e-1d1a0be99d85",
   "metadata": {
    "execution": {
     "iopub.execute_input": "2023-12-08T16:27:39.643981Z",
     "iopub.status.busy": "2023-12-08T16:27:39.643595Z",
     "iopub.status.idle": "2023-12-08T16:27:39.647080Z",
     "shell.execute_reply": "2023-12-08T16:27:39.646465Z",
     "shell.execute_reply.started": "2023-12-08T16:27:39.643952Z"
    },
    "tags": []
   },
   "outputs": [],
   "source": [
    "import logging"
   ]
  },
  {
   "cell_type": "code",
   "execution_count": 6,
   "id": "81b08c78-e00d-486c-a340-2867abd97b04",
   "metadata": {
    "execution": {
     "iopub.execute_input": "2023-12-08T16:27:39.648197Z",
     "iopub.status.busy": "2023-12-08T16:27:39.647981Z",
     "iopub.status.idle": "2023-12-08T16:27:39.675925Z",
     "shell.execute_reply": "2023-12-08T16:27:39.674749Z",
     "shell.execute_reply.started": "2023-12-08T16:27:39.648174Z"
    },
    "tags": []
   },
   "outputs": [],
   "source": [
    "from skt.vault_utils import get_secrets\n",
    "proxies = get_secrets('proxies')"
   ]
  },
  {
   "cell_type": "code",
   "execution_count": 7,
   "id": "61bf7ffe-c610-40b2-bdb1-3989844549d6",
   "metadata": {
    "execution": {
     "iopub.execute_input": "2023-12-08T16:27:39.680950Z",
     "iopub.status.busy": "2023-12-08T16:27:39.680520Z",
     "iopub.status.idle": "2023-12-08T16:27:39.684655Z",
     "shell.execute_reply": "2023-12-08T16:27:39.684006Z",
     "shell.execute_reply.started": "2023-12-08T16:27:39.680921Z"
    },
    "tags": []
   },
   "outputs": [],
   "source": [
    "os.environ['http_proxy'] = proxies['http']\n",
    "os.environ['https_proxy'] = proxies['https']"
   ]
  },
  {
   "cell_type": "code",
   "execution_count": 8,
   "id": "b336e877-af1b-4da3-ac8e-4be2f9aecc3a",
   "metadata": {
    "execution": {
     "iopub.execute_input": "2023-12-08T16:27:39.686125Z",
     "iopub.status.busy": "2023-12-08T16:27:39.685791Z",
     "iopub.status.idle": "2023-12-08T16:27:39.718864Z",
     "shell.execute_reply": "2023-12-08T16:27:39.718275Z",
     "shell.execute_reply.started": "2023-12-08T16:27:39.686097Z"
    },
    "tags": []
   },
   "outputs": [],
   "source": [
    "if torch.cuda.is_available():\n",
    "    device = 'cuda'\n",
    "else:\n",
    "    device = 'cpu'"
   ]
  },
  {
   "cell_type": "code",
   "execution_count": 9,
   "id": "26cc0e60-eb07-4e64-8471-b06c3e5bc706",
   "metadata": {
    "execution": {
     "iopub.execute_input": "2023-12-08T16:27:39.719876Z",
     "iopub.status.busy": "2023-12-08T16:27:39.719689Z",
     "iopub.status.idle": "2023-12-08T16:27:39.731365Z",
     "shell.execute_reply": "2023-12-08T16:27:39.730825Z",
     "shell.execute_reply.started": "2023-12-08T16:27:39.719856Z"
    },
    "tags": []
   },
   "outputs": [
    {
     "data": {
      "text/plain": [
       "'cuda'"
      ]
     },
     "execution_count": 9,
     "metadata": {},
     "output_type": "execute_result"
    }
   ],
   "source": [
    "device"
   ]
  },
  {
   "cell_type": "markdown",
   "id": "39840c8f-1817-49de-8de1-ba69d2980305",
   "metadata": {},
   "source": [
    "# LOAD ARGS FOR EXPERI SETTING"
   ]
  },
  {
   "cell_type": "code",
   "execution_count": 10,
   "id": "d52eca24-fa68-4c14-a83a-9dc3b568d7a3",
   "metadata": {
    "execution": {
     "iopub.execute_input": "2023-12-08T16:27:39.732354Z",
     "iopub.status.busy": "2023-12-08T16:27:39.732164Z",
     "iopub.status.idle": "2023-12-08T16:27:39.741929Z",
     "shell.execute_reply": "2023-12-08T16:27:39.741384Z",
     "shell.execute_reply.started": "2023-12-08T16:27:39.732335Z"
    },
    "tags": []
   },
   "outputs": [],
   "source": [
    "args = nli_parser_model_args()"
   ]
  },
  {
   "cell_type": "code",
   "execution_count": 44,
   "id": "c6fab14c-24a4-4202-99a6-2c014556c73a",
   "metadata": {
    "execution": {
     "iopub.execute_input": "2023-12-08T16:29:13.077028Z",
     "iopub.status.busy": "2023-12-08T16:29:13.076635Z",
     "iopub.status.idle": "2023-12-08T16:29:13.082970Z",
     "shell.execute_reply": "2023-12-08T16:29:13.082389Z",
     "shell.execute_reply.started": "2023-12-08T16:29:13.077004Z"
    },
    "tags": []
   },
   "outputs": [],
   "source": [
    "args.device = torch.device(\"cuda:0\" if torch.cuda.is_available() else \"cpu\")\n",
    "args.n_gpu = torch.cuda.device_count()\n",
    "args.output_dir = f'/home/x1112436/result/faq/modelfile/{args.pretrained_model}'\n",
    "args.log_dir = f'/home/x1112436/result/faq/log/{args.pretrained_model}'\n",
    "args.experiments_path = f'/home/x1112436/result/faq/experiment/{args.pretrained_model}/experiment.csv'\n",
    "args.is_preprocessed = True\n",
    "args.valid_first = False\n",
    "args.data_type='triple'\n",
    "args.loss= 'MultipleNegativesRankingLoss'\n",
    "args.margin = 0.5\n",
    "args.num_train_epochs = 20\n",
    "args.model_max_len = 50\n",
    "args.valid_first = True\n",
    "args.val_loss_nm = 'TripletLoss'\n",
    "args.patience_limit = 5"
   ]
  },
  {
   "cell_type": "code",
   "execution_count": 12,
   "id": "559af2c0-82e4-44bd-b22a-7eabca77f224",
   "metadata": {
    "execution": {
     "iopub.execute_input": "2023-12-08T16:27:39.754863Z",
     "iopub.status.busy": "2023-12-08T16:27:39.754662Z",
     "iopub.status.idle": "2023-12-08T16:27:39.764844Z",
     "shell.execute_reply": "2023-12-08T16:27:39.763987Z",
     "shell.execute_reply.started": "2023-12-08T16:27:39.754844Z"
    },
    "tags": []
   },
   "outputs": [
    {
     "name": "stdout",
     "output_type": "stream",
     "text": [
      "/home/x1112436/result/faq/log/klue/roberta-large\n"
     ]
    }
   ],
   "source": [
    "print(args.log_dir)"
   ]
  },
  {
   "cell_type": "code",
   "execution_count": 13,
   "id": "0a351438-0a9d-4b27-b345-37e8ab51f879",
   "metadata": {
    "execution": {
     "iopub.execute_input": "2023-12-08T16:27:39.766097Z",
     "iopub.status.busy": "2023-12-08T16:27:39.765772Z",
     "iopub.status.idle": "2023-12-08T16:27:39.774677Z",
     "shell.execute_reply": "2023-12-08T16:27:39.773778Z",
     "shell.execute_reply.started": "2023-12-08T16:27:39.766070Z"
    },
    "tags": []
   },
   "outputs": [],
   "source": [
    "#args.pretrained_model = '/home/x1112436/model_file/faq_sent_roberta/sent_roberta'\n",
    "args.pretrained_model = '/home/x1112436/model_file/sent_roberta'"
   ]
  },
  {
   "cell_type": "code",
   "execution_count": 14,
   "id": "a9078792-cf51-48bf-a4f7-6756e950d7c8",
   "metadata": {
    "execution": {
     "iopub.execute_input": "2023-12-08T16:27:39.776139Z",
     "iopub.status.busy": "2023-12-08T16:27:39.775760Z",
     "iopub.status.idle": "2023-12-08T16:27:43.799375Z",
     "shell.execute_reply": "2023-12-08T16:27:43.797704Z",
     "shell.execute_reply.started": "2023-12-08T16:27:39.776106Z"
    },
    "tags": []
   },
   "outputs": [],
   "source": [
    "model = MODEL_MAPPING_DICT['sent_roberta'].from_pretrained(\n",
    "    args.pretrained_model, **vars(args), \n",
    ")\n",
    "tokenizer = AutoTokenizer.from_pretrained(args.pretrained_model)"
   ]
  },
  {
   "cell_type": "markdown",
   "id": "7a64fb20-a510-47bb-bb5a-e9908f8237f3",
   "metadata": {},
   "source": [
    "# LOAD RESOURCE"
   ]
  },
  {
   "cell_type": "code",
   "execution_count": 15,
   "id": "e03eb376-6f58-4404-8f43-83162fbb1c17",
   "metadata": {
    "execution": {
     "iopub.execute_input": "2023-12-08T16:27:43.801714Z",
     "iopub.status.busy": "2023-12-08T16:27:43.801435Z",
     "iopub.status.idle": "2023-12-08T16:27:43.806872Z",
     "shell.execute_reply": "2023-12-08T16:27:43.805974Z",
     "shell.execute_reply.started": "2023-12-08T16:27:43.801688Z"
    },
    "tags": []
   },
   "outputs": [],
   "source": [
    "# added_tokens = []\n",
    "# with open('./data/add_tokens.csv', 'r') as f:\n",
    "#     for data in f:\n",
    "#         added_tokens.append(data.strip())"
   ]
  },
  {
   "cell_type": "code",
   "execution_count": 16,
   "id": "876e8c34-bdb2-43ac-8da1-c8cb93deed5a",
   "metadata": {
    "execution": {
     "iopub.execute_input": "2023-12-08T16:27:43.807941Z",
     "iopub.status.busy": "2023-12-08T16:27:43.807750Z",
     "iopub.status.idle": "2023-12-08T16:27:43.817725Z",
     "shell.execute_reply": "2023-12-08T16:27:43.816594Z",
     "shell.execute_reply.started": "2023-12-08T16:27:43.807920Z"
    },
    "tags": []
   },
   "outputs": [],
   "source": [
    "# added_tokens = [\n",
    "#  'NUGU',\n",
    "#  'wavve',\n",
    "#  'All케어플러스3',\n",
    "#  '컬러링',\n",
    "#  'T플랜',\n",
    "#  'baro',\n",
    "#  '5G',\n",
    "#  'SMS',\n",
    "#  'T파이',\n",
    "#  '티파이'\n",
    "# ]"
   ]
  },
  {
   "cell_type": "code",
   "execution_count": 17,
   "id": "36bc533f-0f2c-428c-9923-b2560687baa9",
   "metadata": {
    "execution": {
     "iopub.execute_input": "2023-12-08T16:27:43.819166Z",
     "iopub.status.busy": "2023-12-08T16:27:43.818874Z",
     "iopub.status.idle": "2023-12-08T16:27:43.828265Z",
     "shell.execute_reply": "2023-12-08T16:27:43.827059Z",
     "shell.execute_reply.started": "2023-12-08T16:27:43.819143Z"
    },
    "tags": []
   },
   "outputs": [],
   "source": [
    "# add tokens to tokenizer and resize embeddings"
   ]
  },
  {
   "cell_type": "code",
   "execution_count": 18,
   "id": "1090fab8-6fdc-49d8-b78f-4db497250278",
   "metadata": {
    "execution": {
     "iopub.execute_input": "2023-12-08T16:27:43.832003Z",
     "iopub.status.busy": "2023-12-08T16:27:43.831804Z",
     "iopub.status.idle": "2023-12-08T16:27:43.838290Z",
     "shell.execute_reply": "2023-12-08T16:27:43.837579Z",
     "shell.execute_reply.started": "2023-12-08T16:27:43.831982Z"
    },
    "tags": []
   },
   "outputs": [],
   "source": [
    "#new_tokens = set(added_tokens) - set(tokenizer.vocab.keys())"
   ]
  },
  {
   "cell_type": "code",
   "execution_count": 19,
   "id": "f1ffa96b-e6da-4232-94f8-73e4ae13f395",
   "metadata": {
    "execution": {
     "iopub.execute_input": "2023-12-08T16:27:43.839375Z",
     "iopub.status.busy": "2023-12-08T16:27:43.839158Z",
     "iopub.status.idle": "2023-12-08T16:27:43.848570Z",
     "shell.execute_reply": "2023-12-08T16:27:43.847745Z",
     "shell.execute_reply.started": "2023-12-08T16:27:43.839354Z"
    },
    "tags": []
   },
   "outputs": [],
   "source": [
    "#tokenizer.add_tokens(list(new_tokens), special_tokens=False)"
   ]
  },
  {
   "cell_type": "code",
   "execution_count": 20,
   "id": "018e0a75-82d4-4087-87ec-5bb46aee3988",
   "metadata": {
    "execution": {
     "iopub.execute_input": "2023-12-08T16:27:43.849976Z",
     "iopub.status.busy": "2023-12-08T16:27:43.849606Z",
     "iopub.status.idle": "2023-12-08T16:27:43.858010Z",
     "shell.execute_reply": "2023-12-08T16:27:43.857138Z",
     "shell.execute_reply.started": "2023-12-08T16:27:43.849946Z"
    },
    "tags": []
   },
   "outputs": [],
   "source": [
    "#model.resize_token_embeddings(len(tokenizer))"
   ]
  },
  {
   "cell_type": "code",
   "execution_count": 21,
   "id": "29736ed4-dbe9-4ad6-be20-19e00a050a4f",
   "metadata": {
    "execution": {
     "iopub.execute_input": "2023-12-08T16:27:43.863346Z",
     "iopub.status.busy": "2023-12-08T16:27:43.862915Z",
     "iopub.status.idle": "2023-12-08T16:27:43.868362Z",
     "shell.execute_reply": "2023-12-08T16:27:43.867188Z",
     "shell.execute_reply.started": "2023-12-08T16:27:43.863300Z"
    },
    "tags": []
   },
   "outputs": [],
   "source": [
    "# train_dataset = []\n",
    "# with open('../data/train.csv', 'r') as f:\n",
    "#     for data in f:\n",
    "#         line = data.strip().split('\\t')\n",
    "#         train_dataset.append(line)"
   ]
  },
  {
   "cell_type": "code",
   "execution_count": 22,
   "id": "61f04f1f-2745-4112-8af1-f27d2dd9fcbf",
   "metadata": {
    "execution": {
     "iopub.execute_input": "2023-12-08T16:27:43.870060Z",
     "iopub.status.busy": "2023-12-08T16:27:43.869622Z",
     "iopub.status.idle": "2023-12-08T16:27:43.879627Z",
     "shell.execute_reply": "2023-12-08T16:27:43.878651Z",
     "shell.execute_reply.started": "2023-12-08T16:27:43.870022Z"
    },
    "tags": []
   },
   "outputs": [],
   "source": [
    "preprocessor = PreprocessorFactory(data_type=args.data_type)"
   ]
  },
  {
   "cell_type": "code",
   "execution_count": 23,
   "id": "281f6234-6de5-40e9-a8d4-0e60426114f1",
   "metadata": {
    "execution": {
     "iopub.execute_input": "2023-12-08T16:27:43.881163Z",
     "iopub.status.busy": "2023-12-08T16:27:43.880763Z",
     "iopub.status.idle": "2023-12-08T16:28:42.093492Z",
     "shell.execute_reply": "2023-12-08T16:28:42.092299Z",
     "shell.execute_reply.started": "2023-12-08T16:27:43.881130Z"
    },
    "tags": []
   },
   "outputs": [],
   "source": [
    "faq_data = preprocessor.preprocess(\n",
    "                  data_path='../data/train.csv',\n",
    "                  tokenizer=tokenizer, \n",
    "                  save_path=None,\n",
    "                  header=False\n",
    ")"
   ]
  },
  {
   "cell_type": "code",
   "execution_count": 24,
   "id": "657543f0-3e99-4883-b738-6396d927c7e6",
   "metadata": {
    "execution": {
     "iopub.execute_input": "2023-12-08T16:28:42.095347Z",
     "iopub.status.busy": "2023-12-08T16:28:42.095087Z",
     "iopub.status.idle": "2023-12-08T16:28:42.101724Z",
     "shell.execute_reply": "2023-12-08T16:28:42.101161Z",
     "shell.execute_reply.started": "2023-12-08T16:28:42.095303Z"
    },
    "tags": []
   },
   "outputs": [
    {
     "data": {
      "text/plain": [
       "NLIInput(sentence_a='티 링 서비스', sentence_b='T Ring', sentence_c='T All케어플러스3', a_input_ids=[0, 1819, 1035, 3838, 2], a_attention_mask=[1, 1, 1, 1, 1], b_input_ids=[0, 56, 54, 4586, 2], b_attention_mask=[1, 1, 1, 1, 1], c_input_ids=[0, 56, 17924, 18713, 11127, 2195, 2], c_attention_mask=[1, 1, 1, 1, 1, 1, 1], label=1180)"
      ]
     },
     "execution_count": 24,
     "metadata": {},
     "output_type": "execute_result"
    }
   ],
   "source": [
    "faq_data[0]"
   ]
  },
  {
   "cell_type": "code",
   "execution_count": 25,
   "id": "b28f8f96-c388-4252-bfc1-09a6aba61958",
   "metadata": {
    "execution": {
     "iopub.execute_input": "2023-12-08T16:28:42.102739Z",
     "iopub.status.busy": "2023-12-08T16:28:42.102536Z",
     "iopub.status.idle": "2023-12-08T16:28:42.114200Z",
     "shell.execute_reply": "2023-12-08T16:28:42.113689Z",
     "shell.execute_reply.started": "2023-12-08T16:28:42.102719Z"
    },
    "tags": []
   },
   "outputs": [],
   "source": [
    "#num_classes = len(preprocessor.__idx2positive__)"
   ]
  },
  {
   "cell_type": "code",
   "execution_count": 26,
   "id": "b9f0e7a7-bdf5-481d-bf9c-60f2dcffc5c9",
   "metadata": {
    "execution": {
     "iopub.execute_input": "2023-12-08T16:28:42.115915Z",
     "iopub.status.busy": "2023-12-08T16:28:42.115420Z",
     "iopub.status.idle": "2023-12-08T16:28:42.124208Z",
     "shell.execute_reply": "2023-12-08T16:28:42.123592Z",
     "shell.execute_reply.started": "2023-12-08T16:28:42.115888Z"
    },
    "tags": []
   },
   "outputs": [],
   "source": [
    "train_dataset = DATASET_MAPPING_DICT['Unsup_simcse']\n",
    "train_dataset = train_dataset(args=args, features=faq_data, max_length=args.model_max_len, tokenizer=tokenizer)"
   ]
  },
  {
   "cell_type": "code",
   "execution_count": 27,
   "id": "9c06792a-1e53-48f3-86b4-a216fb885231",
   "metadata": {
    "execution": {
     "iopub.execute_input": "2023-12-08T16:28:42.125823Z",
     "iopub.status.busy": "2023-12-08T16:28:42.125449Z",
     "iopub.status.idle": "2023-12-08T16:28:42.135853Z",
     "shell.execute_reply": "2023-12-08T16:28:42.134844Z",
     "shell.execute_reply.started": "2023-12-08T16:28:42.125795Z"
    },
    "tags": []
   },
   "outputs": [],
   "source": [
    "from src.dataset import RandomClassSampler, BalancedClassSampler, RandomClassBatchSampler"
   ]
  },
  {
   "cell_type": "code",
   "execution_count": 28,
   "id": "4e559fc8-240a-40f4-ba8f-716b1a0fd9e6",
   "metadata": {
    "execution": {
     "iopub.execute_input": "2023-12-08T16:28:42.137575Z",
     "iopub.status.busy": "2023-12-08T16:28:42.137132Z",
     "iopub.status.idle": "2023-12-08T16:28:42.149276Z",
     "shell.execute_reply": "2023-12-08T16:28:42.148301Z",
     "shell.execute_reply.started": "2023-12-08T16:28:42.137537Z"
    },
    "tags": []
   },
   "outputs": [
    {
     "data": {
      "text/plain": [
       "357388"
      ]
     },
     "execution_count": 28,
     "metadata": {},
     "output_type": "execute_result"
    }
   ],
   "source": [
    "len(train_dataset)"
   ]
  },
  {
   "cell_type": "markdown",
   "id": "9a189a5e-bbc4-4f53-a763-40dc5b4d0735",
   "metadata": {},
   "source": [
    "# validation set"
   ]
  },
  {
   "cell_type": "code",
   "execution_count": 29,
   "id": "997b2399-6038-4a1c-a52a-6c9650922190",
   "metadata": {
    "execution": {
     "iopub.execute_input": "2023-12-08T16:28:42.151650Z",
     "iopub.status.busy": "2023-12-08T16:28:42.150706Z",
     "iopub.status.idle": "2023-12-08T16:28:43.196697Z",
     "shell.execute_reply": "2023-12-08T16:28:43.194701Z",
     "shell.execute_reply.started": "2023-12-08T16:28:42.151612Z"
    },
    "tags": []
   },
   "outputs": [],
   "source": [
    "val_dataset = []\n",
    "with open('../data/val.csv', 'r') as f:\n",
    "    for data in f:\n",
    "        line = data.strip().split('\\t')\n",
    "        val_dataset.append(line)"
   ]
  },
  {
   "cell_type": "code",
   "execution_count": 30,
   "id": "b24c9a2e-4269-4a14-930e-06648b226a6c",
   "metadata": {
    "execution": {
     "iopub.execute_input": "2023-12-08T16:28:43.200560Z",
     "iopub.status.busy": "2023-12-08T16:28:43.199602Z",
     "iopub.status.idle": "2023-12-08T16:28:43.207248Z",
     "shell.execute_reply": "2023-12-08T16:28:43.206135Z",
     "shell.execute_reply.started": "2023-12-08T16:28:43.200491Z"
    },
    "tags": []
   },
   "outputs": [],
   "source": [
    "#val_dataset[1:50]"
   ]
  },
  {
   "cell_type": "code",
   "execution_count": 31,
   "id": "ca806189-c460-4b0a-97d4-5ca239198603",
   "metadata": {
    "execution": {
     "iopub.execute_input": "2023-12-08T16:28:43.210619Z",
     "iopub.status.busy": "2023-12-08T16:28:43.209984Z",
     "iopub.status.idle": "2023-12-08T16:28:43.221072Z",
     "shell.execute_reply": "2023-12-08T16:28:43.220209Z",
     "shell.execute_reply.started": "2023-12-08T16:28:43.210558Z"
    },
    "tags": []
   },
   "outputs": [],
   "source": [
    "preprocessor.reset_class_var()"
   ]
  },
  {
   "cell_type": "code",
   "execution_count": 32,
   "id": "34434cd8-5c0c-4885-a39f-15dbd3685205",
   "metadata": {
    "execution": {
     "iopub.execute_input": "2023-12-08T16:28:43.222485Z",
     "iopub.status.busy": "2023-12-08T16:28:43.222056Z",
     "iopub.status.idle": "2023-12-08T16:29:00.681937Z",
     "shell.execute_reply": "2023-12-08T16:29:00.680759Z",
     "shell.execute_reply.started": "2023-12-08T16:28:43.222458Z"
    },
    "tags": []
   },
   "outputs": [],
   "source": [
    "faq_val_data = preprocessor.preprocess(\n",
    "                  data_path='../data/val.csv',\n",
    "                  tokenizer=tokenizer, \n",
    "                  save_path=None,\n",
    "                  header=False\n",
    ")"
   ]
  },
  {
   "cell_type": "code",
   "execution_count": 33,
   "id": "2407910a-9145-472b-99f3-a76f585dd1e5",
   "metadata": {
    "execution": {
     "iopub.execute_input": "2023-12-08T16:29:00.683690Z",
     "iopub.status.busy": "2023-12-08T16:29:00.683466Z",
     "iopub.status.idle": "2023-12-08T16:29:00.689758Z",
     "shell.execute_reply": "2023-12-08T16:29:00.689227Z",
     "shell.execute_reply.started": "2023-12-08T16:29:00.683667Z"
    },
    "tags": []
   },
   "outputs": [
    {
     "data": {
      "text/plain": [
       "NLIInput(sentence_a='티 링 부가서비스', sentence_b='T Ring', sentence_c='T All케어플러스3', a_input_ids=[0, 1819, 1035, 8073, 28930, 2], a_attention_mask=[1, 1, 1, 1, 1, 1], b_input_ids=[0, 56, 54, 4586, 2], b_attention_mask=[1, 1, 1, 1, 1], c_input_ids=[0, 56, 17924, 18713, 11127, 2195, 2], c_attention_mask=[1, 1, 1, 1, 1, 1, 1], label=1157)"
      ]
     },
     "execution_count": 33,
     "metadata": {},
     "output_type": "execute_result"
    }
   ],
   "source": [
    "faq_val_data[0]"
   ]
  },
  {
   "cell_type": "code",
   "execution_count": 34,
   "id": "e6e14f02-b5ca-4cdc-81d1-c2f406c2be56",
   "metadata": {
    "execution": {
     "iopub.execute_input": "2023-12-08T16:29:00.690898Z",
     "iopub.status.busy": "2023-12-08T16:29:00.690714Z",
     "iopub.status.idle": "2023-12-08T16:29:00.734410Z",
     "shell.execute_reply": "2023-12-08T16:29:00.733633Z",
     "shell.execute_reply.started": "2023-12-08T16:29:00.690879Z"
    },
    "tags": []
   },
   "outputs": [],
   "source": [
    "val_dataset = DATASET_MAPPING_DICT['Unsup_simcse']\n",
    "val_dataset = val_dataset(args=args, features=faq_val_data, max_length=args.model_max_len, tokenizer=tokenizer)"
   ]
  },
  {
   "cell_type": "code",
   "execution_count": 35,
   "id": "87359da4-5b34-4772-adfb-87c926579e72",
   "metadata": {
    "execution": {
     "iopub.execute_input": "2023-12-08T16:29:00.735468Z",
     "iopub.status.busy": "2023-12-08T16:29:00.735271Z",
     "iopub.status.idle": "2023-12-08T16:29:00.748133Z",
     "shell.execute_reply": "2023-12-08T16:29:00.747577Z",
     "shell.execute_reply.started": "2023-12-08T16:29:00.735448Z"
    },
    "tags": []
   },
   "outputs": [
    {
     "data": {
      "text/plain": [
       "{'a_input_ids': tensor([    0,  1819,  1035,  8073, 28930,     2]),\n",
       " 'a_attention_mask': tensor([1, 1, 1, 1, 1, 1]),\n",
       " 'b_input_ids': tensor([   0,   56,   54, 4586,    2]),\n",
       " 'b_attention_mask': tensor([1, 1, 1, 1, 1]),\n",
       " 'c_input_ids': tensor([    0,    56, 17924, 18713, 11127,  2195,     2]),\n",
       " 'c_attention_mask': tensor([1, 1, 1, 1, 1, 1, 1]),\n",
       " 'label': 1157}"
      ]
     },
     "execution_count": 35,
     "metadata": {},
     "output_type": "execute_result"
    }
   ],
   "source": [
    "val_dataset[0]"
   ]
  },
  {
   "cell_type": "code",
   "execution_count": 36,
   "id": "17f4b817-bac9-4cb3-95f1-eddf78dd7e65",
   "metadata": {
    "execution": {
     "iopub.execute_input": "2023-12-08T16:29:00.750081Z",
     "iopub.status.busy": "2023-12-08T16:29:00.749525Z",
     "iopub.status.idle": "2023-12-08T16:29:00.758606Z",
     "shell.execute_reply": "2023-12-08T16:29:00.757937Z",
     "shell.execute_reply.started": "2023-12-08T16:29:00.750057Z"
    },
    "tags": []
   },
   "outputs": [],
   "source": [
    "#test_val_loader =val_dataset.loader(shuffle=False, batch_size=10)"
   ]
  },
  {
   "cell_type": "code",
   "execution_count": 37,
   "id": "dd6abbfd-2bf9-413b-a2d4-612469e906d5",
   "metadata": {
    "execution": {
     "iopub.execute_input": "2023-12-08T16:29:00.760055Z",
     "iopub.status.busy": "2023-12-08T16:29:00.759316Z",
     "iopub.status.idle": "2023-12-08T16:29:00.769217Z",
     "shell.execute_reply": "2023-12-08T16:29:00.768662Z",
     "shell.execute_reply.started": "2023-12-08T16:29:00.760018Z"
    },
    "tags": []
   },
   "outputs": [],
   "source": [
    "#next(iter(test_val_loader))"
   ]
  },
  {
   "cell_type": "markdown",
   "id": "8b2e5abb-e88c-4be6-af76-72b7c405f45f",
   "metadata": {},
   "source": [
    "# Dataloader test"
   ]
  },
  {
   "cell_type": "code",
   "execution_count": 38,
   "id": "4c4b929f-596a-468f-949f-d9050ed15548",
   "metadata": {
    "execution": {
     "iopub.execute_input": "2023-12-08T16:29:00.770754Z",
     "iopub.status.busy": "2023-12-08T16:29:00.770107Z",
     "iopub.status.idle": "2023-12-08T16:29:05.870062Z",
     "shell.execute_reply": "2023-12-08T16:29:05.868778Z",
     "shell.execute_reply.started": "2023-12-08T16:29:00.770729Z"
    },
    "tags": []
   },
   "outputs": [],
   "source": [
    "# class_to_idx = {'class1': 0, 'class2': 1, ...} # Define your class to index mapping\n",
    "batch_size = args.train_batch_size + 64\n",
    "balanced_sampler = BalancedClassSampler(train_dataset, preprocessor.__positive2idx__, batch_size)\n",
    "batch_sampler = RandomClassBatchSampler(balanced_sampler, batch_size=batch_size, drop_last=False)"
   ]
  },
  {
   "cell_type": "code",
   "execution_count": 39,
   "id": "1b7d2f27-bd39-49ee-a3cd-70fe79fe2bea",
   "metadata": {
    "execution": {
     "iopub.execute_input": "2023-12-08T16:29:05.874168Z",
     "iopub.status.busy": "2023-12-08T16:29:05.873862Z",
     "iopub.status.idle": "2023-12-08T16:29:05.878804Z",
     "shell.execute_reply": "2023-12-08T16:29:05.878213Z",
     "shell.execute_reply.started": "2023-12-08T16:29:05.874143Z"
    },
    "tags": []
   },
   "outputs": [],
   "source": [
    "dataloader = train_dataset.loader(batch_sampler = batch_sampler)"
   ]
  },
  {
   "cell_type": "code",
   "execution_count": 40,
   "id": "cf08838d-489a-4452-baff-630c6cecd96d",
   "metadata": {
    "execution": {
     "iopub.execute_input": "2023-12-08T16:29:05.879793Z",
     "iopub.status.busy": "2023-12-08T16:29:05.879611Z",
     "iopub.status.idle": "2023-12-08T16:29:05.891663Z",
     "shell.execute_reply": "2023-12-08T16:29:05.890859Z",
     "shell.execute_reply.started": "2023-12-08T16:29:05.879774Z"
    },
    "tags": []
   },
   "outputs": [
    {
     "data": {
      "text/plain": [
       "1862"
      ]
     },
     "execution_count": 40,
     "metadata": {},
     "output_type": "execute_result"
    }
   ],
   "source": [
    "len(dataloader)"
   ]
  },
  {
   "cell_type": "code",
   "execution_count": 41,
   "id": "39951141-4d33-4bfb-ab76-de9d25513bf9",
   "metadata": {
    "execution": {
     "iopub.execute_input": "2023-12-08T16:29:05.892904Z",
     "iopub.status.busy": "2023-12-08T16:29:05.892596Z",
     "iopub.status.idle": "2023-12-08T16:29:05.901204Z",
     "shell.execute_reply": "2023-12-08T16:29:05.900416Z",
     "shell.execute_reply.started": "2023-12-08T16:29:05.892878Z"
    },
    "tags": []
   },
   "outputs": [],
   "source": [
    "#next(iter(dataloader))"
   ]
  },
  {
   "cell_type": "markdown",
   "id": "c8c2ebdf-71f2-4be6-b1b2-862b9e7af887",
   "metadata": {},
   "source": [
    "# Trainer"
   ]
  },
  {
   "cell_type": "code",
   "execution_count": 51,
   "id": "7eb1baaf-e99e-4c4a-8468-de00963b6588",
   "metadata": {
    "execution": {
     "iopub.execute_input": "2023-12-08T16:30:09.472248Z",
     "iopub.status.busy": "2023-12-08T16:30:09.471507Z",
     "iopub.status.idle": "2023-12-08T16:30:09.486677Z",
     "shell.execute_reply": "2023-12-08T16:30:09.485519Z",
     "shell.execute_reply.started": "2023-12-08T16:30:09.472188Z"
    },
    "tags": []
   },
   "outputs": [],
   "source": [
    "trainer = SimcseTrainer(args=args, logger=logging)"
   ]
  },
  {
   "cell_type": "code",
   "execution_count": 52,
   "id": "8782af62-d1bd-4af7-8e26-7839ede9057e",
   "metadata": {
    "execution": {
     "iopub.execute_input": "2023-12-08T16:30:10.941728Z",
     "iopub.status.busy": "2023-12-08T16:30:10.940966Z",
     "iopub.status.idle": "2023-12-08T16:30:10.969045Z",
     "shell.execute_reply": "2023-12-08T16:30:10.968342Z",
     "shell.execute_reply.started": "2023-12-08T16:30:10.941669Z"
    },
    "tags": []
   },
   "outputs": [
    {
     "name": "stdout",
     "output_type": "stream",
     "text": [
      "loss: MultipleNegativesRankingLoss\n"
     ]
    }
   ],
   "source": [
    "trainer.model_setting(model_type=args.model_type, train_dataset=train_dataset, model=model, tokenizer=tokenizer, batch_sampler=batch_sampler )"
   ]
  },
  {
   "cell_type": "code",
   "execution_count": 53,
   "id": "d9458c6c-53b1-4295-8246-881d4688be31",
   "metadata": {
    "execution": {
     "iopub.execute_input": "2023-12-08T16:30:16.891930Z",
     "iopub.status.busy": "2023-12-08T16:30:16.891149Z",
     "iopub.status.idle": "2023-12-09T04:34:03.464425Z",
     "shell.execute_reply": "2023-12-09T04:34:03.463545Z",
     "shell.execute_reply.started": "2023-12-08T16:30:16.891870Z"
    },
    "tags": []
   },
   "outputs": [
    {
     "data": {
      "application/vnd.jupyter.widget-view+json": {
       "model_id": "0ac3c55bf3944867b2bc57c7706356c7",
       "version_major": 2,
       "version_minor": 0
      },
      "text/plain": [
       "  0%|          | 0/20 [00:00<?, ?it/s]"
      ]
     },
     "metadata": {},
     "output_type": "display_data"
    },
    {
     "data": {
      "application/vnd.jupyter.widget-view+json": {
       "model_id": "d053ea383dcc46e9a20dc3a9d18ba4d0",
       "version_major": 2,
       "version_minor": 0
      },
      "text/plain": [
       "  0%|          | 0/1862 [00:00<?, ?it/s]"
      ]
     },
     "metadata": {},
     "output_type": "display_data"
    },
    {
     "name": "stdout",
     "output_type": "stream",
     "text": [
      "best_train_loss: 2.035730988163276, epoch: 0\n"
     ]
    },
    {
     "data": {
      "application/vnd.jupyter.widget-view+json": {
       "model_id": "",
       "version_major": 2,
       "version_minor": 0
      },
      "text/plain": [
       "Evaluating:   0%|          | 0/106 [00:00<?, ?it/s]"
      ]
     },
     "metadata": {},
     "output_type": "display_data"
    },
    {
     "name": "stdout",
     "output_type": "stream",
     "text": [
      "best valid metic: 0.22212980202627633\n"
     ]
    },
    {
     "data": {
      "application/vnd.jupyter.widget-view+json": {
       "model_id": "a651797953a64ad99d25c83d7efd106c",
       "version_major": 2,
       "version_minor": 0
      },
      "text/plain": [
       "  0%|          | 0/1862 [00:00<?, ?it/s]"
      ]
     },
     "metadata": {},
     "output_type": "display_data"
    },
    {
     "name": "stdout",
     "output_type": "stream",
     "text": [
      "best_train_loss: 1.0233370154736026, epoch: 1\n"
     ]
    },
    {
     "data": {
      "application/vnd.jupyter.widget-view+json": {
       "model_id": "",
       "version_major": 2,
       "version_minor": 0
      },
      "text/plain": [
       "Evaluating:   0%|          | 0/106 [00:00<?, ?it/s]"
      ]
     },
     "metadata": {},
     "output_type": "display_data"
    },
    {
     "name": "stderr",
     "output_type": "stream",
     "text": [
      "/home/x1112436/git/sent-semantic-repo/src/utils/util.py:60: FutureWarning: The frame.append method is deprecated and will be removed from pandas in a future version. Use pandas.concat instead.\n",
      "  self.hparams = self.hparams.append(self.writer, ignore_index=True)\n"
     ]
    },
    {
     "name": "stdout",
     "output_type": "stream",
     "text": [
      "best valid metic: 0.09968127292703907\n"
     ]
    },
    {
     "data": {
      "application/vnd.jupyter.widget-view+json": {
       "model_id": "a41aaab142ca4d089feedf3fad2de6e0",
       "version_major": 2,
       "version_minor": 0
      },
      "text/plain": [
       "  0%|          | 0/1862 [00:00<?, ?it/s]"
      ]
     },
     "metadata": {},
     "output_type": "display_data"
    },
    {
     "name": "stdout",
     "output_type": "stream",
     "text": [
      "best_train_loss: 0.5208712638904585, epoch: 2\n"
     ]
    },
    {
     "data": {
      "application/vnd.jupyter.widget-view+json": {
       "model_id": "",
       "version_major": 2,
       "version_minor": 0
      },
      "text/plain": [
       "Evaluating:   0%|          | 0/106 [00:00<?, ?it/s]"
      ]
     },
     "metadata": {},
     "output_type": "display_data"
    },
    {
     "name": "stderr",
     "output_type": "stream",
     "text": [
      "/home/x1112436/git/sent-semantic-repo/src/utils/util.py:60: FutureWarning: The frame.append method is deprecated and will be removed from pandas in a future version. Use pandas.concat instead.\n",
      "  self.hparams = self.hparams.append(self.writer, ignore_index=True)\n"
     ]
    },
    {
     "name": "stdout",
     "output_type": "stream",
     "text": [
      "best valid metic: 0.07140459324988835\n"
     ]
    },
    {
     "data": {
      "application/vnd.jupyter.widget-view+json": {
       "model_id": "583cdaf4a80f444ab679f0870a70f25f",
       "version_major": 2,
       "version_minor": 0
      },
      "text/plain": [
       "  0%|          | 0/1862 [00:00<?, ?it/s]"
      ]
     },
     "metadata": {},
     "output_type": "display_data"
    },
    {
     "name": "stdout",
     "output_type": "stream",
     "text": [
      "best_train_loss: 0.3640772386045264, epoch: 3\n"
     ]
    },
    {
     "data": {
      "application/vnd.jupyter.widget-view+json": {
       "model_id": "",
       "version_major": 2,
       "version_minor": 0
      },
      "text/plain": [
       "Evaluating:   0%|          | 0/106 [00:00<?, ?it/s]"
      ]
     },
     "metadata": {},
     "output_type": "display_data"
    },
    {
     "name": "stderr",
     "output_type": "stream",
     "text": [
      "/home/x1112436/git/sent-semantic-repo/src/utils/util.py:60: FutureWarning: The frame.append method is deprecated and will be removed from pandas in a future version. Use pandas.concat instead.\n",
      "  self.hparams = self.hparams.append(self.writer, ignore_index=True)\n"
     ]
    },
    {
     "name": "stdout",
     "output_type": "stream",
     "text": [
      "best valid metic: 0.054419755777519827\n"
     ]
    },
    {
     "data": {
      "application/vnd.jupyter.widget-view+json": {
       "model_id": "d7c9470b823b496686e418397a0be327",
       "version_major": 2,
       "version_minor": 0
      },
      "text/plain": [
       "  0%|          | 0/1862 [00:00<?, ?it/s]"
      ]
     },
     "metadata": {},
     "output_type": "display_data"
    },
    {
     "name": "stdout",
     "output_type": "stream",
     "text": [
      "best_train_loss: 0.2664978393872312, epoch: 4\n"
     ]
    },
    {
     "data": {
      "application/vnd.jupyter.widget-view+json": {
       "model_id": "",
       "version_major": 2,
       "version_minor": 0
      },
      "text/plain": [
       "Evaluating:   0%|          | 0/106 [00:00<?, ?it/s]"
      ]
     },
     "metadata": {},
     "output_type": "display_data"
    },
    {
     "name": "stderr",
     "output_type": "stream",
     "text": [
      "/home/x1112436/git/sent-semantic-repo/src/utils/util.py:60: FutureWarning: The frame.append method is deprecated and will be removed from pandas in a future version. Use pandas.concat instead.\n",
      "  self.hparams = self.hparams.append(self.writer, ignore_index=True)\n"
     ]
    },
    {
     "name": "stdout",
     "output_type": "stream",
     "text": [
      "best valid metic: 0.04308287764653423\n"
     ]
    },
    {
     "data": {
      "application/vnd.jupyter.widget-view+json": {
       "model_id": "acf66e4d9ca34762848aa59d101e2f7b",
       "version_major": 2,
       "version_minor": 0
      },
      "text/plain": [
       "  0%|          | 0/1862 [00:00<?, ?it/s]"
      ]
     },
     "metadata": {},
     "output_type": "display_data"
    },
    {
     "name": "stdout",
     "output_type": "stream",
     "text": [
      "best_train_loss: 0.20441791652433025, epoch: 5\n"
     ]
    },
    {
     "data": {
      "application/vnd.jupyter.widget-view+json": {
       "model_id": "",
       "version_major": 2,
       "version_minor": 0
      },
      "text/plain": [
       "Evaluating:   0%|          | 0/106 [00:00<?, ?it/s]"
      ]
     },
     "metadata": {},
     "output_type": "display_data"
    },
    {
     "name": "stderr",
     "output_type": "stream",
     "text": [
      "/home/x1112436/git/sent-semantic-repo/src/utils/util.py:60: FutureWarning: The frame.append method is deprecated and will be removed from pandas in a future version. Use pandas.concat instead.\n",
      "  self.hparams = self.hparams.append(self.writer, ignore_index=True)\n"
     ]
    },
    {
     "name": "stdout",
     "output_type": "stream",
     "text": [
      "best valid metic: 0.032110536730198085\n"
     ]
    },
    {
     "data": {
      "application/vnd.jupyter.widget-view+json": {
       "model_id": "7fd492691006492fb442cec61f4106ab",
       "version_major": 2,
       "version_minor": 0
      },
      "text/plain": [
       "  0%|          | 0/1862 [00:00<?, ?it/s]"
      ]
     },
     "metadata": {},
     "output_type": "display_data"
    },
    {
     "name": "stdout",
     "output_type": "stream",
     "text": [
      "best_train_loss: 0.1585703858063125, epoch: 6\n"
     ]
    },
    {
     "data": {
      "application/vnd.jupyter.widget-view+json": {
       "model_id": "",
       "version_major": 2,
       "version_minor": 0
      },
      "text/plain": [
       "Evaluating:   0%|          | 0/106 [00:00<?, ?it/s]"
      ]
     },
     "metadata": {},
     "output_type": "display_data"
    },
    {
     "name": "stderr",
     "output_type": "stream",
     "text": [
      "/home/x1112436/git/sent-semantic-repo/src/utils/util.py:60: FutureWarning: The frame.append method is deprecated and will be removed from pandas in a future version. Use pandas.concat instead.\n",
      "  self.hparams = self.hparams.append(self.writer, ignore_index=True)\n"
     ]
    },
    {
     "name": "stdout",
     "output_type": "stream",
     "text": [
      "best valid metic: 0.02514042953503722\n"
     ]
    },
    {
     "data": {
      "application/vnd.jupyter.widget-view+json": {
       "model_id": "fdb7b86d38ca4bb18aa532108fe4883d",
       "version_major": 2,
       "version_minor": 0
      },
      "text/plain": [
       "  0%|          | 0/1862 [00:00<?, ?it/s]"
      ]
     },
     "metadata": {},
     "output_type": "display_data"
    },
    {
     "name": "stdout",
     "output_type": "stream",
     "text": [
      "best_train_loss: 0.1286646660272307, epoch: 7\n"
     ]
    },
    {
     "data": {
      "application/vnd.jupyter.widget-view+json": {
       "model_id": "",
       "version_major": 2,
       "version_minor": 0
      },
      "text/plain": [
       "Evaluating:   0%|          | 0/106 [00:00<?, ?it/s]"
      ]
     },
     "metadata": {},
     "output_type": "display_data"
    },
    {
     "name": "stderr",
     "output_type": "stream",
     "text": [
      "/home/x1112436/git/sent-semantic-repo/src/utils/util.py:60: FutureWarning: The frame.append method is deprecated and will be removed from pandas in a future version. Use pandas.concat instead.\n",
      "  self.hparams = self.hparams.append(self.writer, ignore_index=True)\n"
     ]
    },
    {
     "name": "stdout",
     "output_type": "stream",
     "text": [
      "best valid metic: 0.0204000240718981\n"
     ]
    },
    {
     "data": {
      "application/vnd.jupyter.widget-view+json": {
       "model_id": "2d8d4683ea5845c3b841a2150422bb63",
       "version_major": 2,
       "version_minor": 0
      },
      "text/plain": [
       "  0%|          | 0/1862 [00:00<?, ?it/s]"
      ]
     },
     "metadata": {},
     "output_type": "display_data"
    },
    {
     "name": "stdout",
     "output_type": "stream",
     "text": [
      "best_train_loss: 0.1089316283736453, epoch: 8\n"
     ]
    },
    {
     "data": {
      "application/vnd.jupyter.widget-view+json": {
       "model_id": "",
       "version_major": 2,
       "version_minor": 0
      },
      "text/plain": [
       "Evaluating:   0%|          | 0/106 [00:00<?, ?it/s]"
      ]
     },
     "metadata": {},
     "output_type": "display_data"
    },
    {
     "name": "stderr",
     "output_type": "stream",
     "text": [
      "/home/x1112436/git/sent-semantic-repo/src/utils/util.py:60: FutureWarning: The frame.append method is deprecated and will be removed from pandas in a future version. Use pandas.concat instead.\n",
      "  self.hparams = self.hparams.append(self.writer, ignore_index=True)\n"
     ]
    },
    {
     "name": "stdout",
     "output_type": "stream",
     "text": [
      "best valid metic: 0.017065119428806147\n"
     ]
    },
    {
     "data": {
      "application/vnd.jupyter.widget-view+json": {
       "model_id": "c985245966d14254ada66a27be89eea1",
       "version_major": 2,
       "version_minor": 0
      },
      "text/plain": [
       "  0%|          | 0/1862 [00:00<?, ?it/s]"
      ]
     },
     "metadata": {},
     "output_type": "display_data"
    },
    {
     "name": "stdout",
     "output_type": "stream",
     "text": [
      "best_train_loss: 0.09631766520390575, epoch: 9\n"
     ]
    },
    {
     "data": {
      "application/vnd.jupyter.widget-view+json": {
       "model_id": "",
       "version_major": 2,
       "version_minor": 0
      },
      "text/plain": [
       "Evaluating:   0%|          | 0/106 [00:00<?, ?it/s]"
      ]
     },
     "metadata": {},
     "output_type": "display_data"
    },
    {
     "name": "stderr",
     "output_type": "stream",
     "text": [
      "/home/x1112436/git/sent-semantic-repo/src/utils/util.py:60: FutureWarning: The frame.append method is deprecated and will be removed from pandas in a future version. Use pandas.concat instead.\n",
      "  self.hparams = self.hparams.append(self.writer, ignore_index=True)\n"
     ]
    },
    {
     "name": "stdout",
     "output_type": "stream",
     "text": [
      "best valid metic: 0.015457492826928227\n"
     ]
    },
    {
     "data": {
      "application/vnd.jupyter.widget-view+json": {
       "model_id": "83dc21cf1d86417f810aa166a634e14b",
       "version_major": 2,
       "version_minor": 0
      },
      "text/plain": [
       "  0%|          | 0/1862 [00:00<?, ?it/s]"
      ]
     },
     "metadata": {},
     "output_type": "display_data"
    },
    {
     "name": "stdout",
     "output_type": "stream",
     "text": [
      "best_train_loss: 0.08995313939632185, epoch: 10\n"
     ]
    },
    {
     "data": {
      "application/vnd.jupyter.widget-view+json": {
       "model_id": "85b3d799024642ecad61aed2623d363f",
       "version_major": 2,
       "version_minor": 0
      },
      "text/plain": [
       "Evaluating:   0%|          | 0/106 [00:00<?, ?it/s]"
      ]
     },
     "metadata": {},
     "output_type": "display_data"
    },
    {
     "name": "stderr",
     "output_type": "stream",
     "text": [
      "/home/x1112436/git/sent-semantic-repo/src/utils/util.py:60: FutureWarning: The frame.append method is deprecated and will be removed from pandas in a future version. Use pandas.concat instead.\n",
      "  self.hparams = self.hparams.append(self.writer, ignore_index=True)\n"
     ]
    },
    {
     "name": "stdout",
     "output_type": "stream",
     "text": [
      "best valid metic: 0.013889469409510845\n"
     ]
    },
    {
     "data": {
      "application/vnd.jupyter.widget-view+json": {
       "model_id": "972bc911383144778a7de9621a41a4f5",
       "version_major": 2,
       "version_minor": 0
      },
      "text/plain": [
       "  0%|          | 0/1862 [00:00<?, ?it/s]"
      ]
     },
     "metadata": {},
     "output_type": "display_data"
    },
    {
     "name": "stdout",
     "output_type": "stream",
     "text": [
      "best_train_loss: 0.08124925036258346, epoch: 11\n"
     ]
    },
    {
     "data": {
      "application/vnd.jupyter.widget-view+json": {
       "model_id": "50c86110535a46bdbc22546ae39c6d5f",
       "version_major": 2,
       "version_minor": 0
      },
      "text/plain": [
       "Evaluating:   0%|          | 0/106 [00:00<?, ?it/s]"
      ]
     },
     "metadata": {},
     "output_type": "display_data"
    },
    {
     "name": "stderr",
     "output_type": "stream",
     "text": [
      "/home/x1112436/git/sent-semantic-repo/src/utils/util.py:60: FutureWarning: The frame.append method is deprecated and will be removed from pandas in a future version. Use pandas.concat instead.\n",
      "  self.hparams = self.hparams.append(self.writer, ignore_index=True)\n"
     ]
    },
    {
     "name": "stdout",
     "output_type": "stream",
     "text": [
      "best valid metic: 0.012036744966435264\n"
     ]
    },
    {
     "data": {
      "application/vnd.jupyter.widget-view+json": {
       "model_id": "aeca1450f11246e5a0fce728cc12a6fc",
       "version_major": 2,
       "version_minor": 0
      },
      "text/plain": [
       "  0%|          | 0/1862 [00:00<?, ?it/s]"
      ]
     },
     "metadata": {},
     "output_type": "display_data"
    },
    {
     "name": "stdout",
     "output_type": "stream",
     "text": [
      "best_train_loss: 0.07356875214200692, epoch: 12\n"
     ]
    },
    {
     "data": {
      "application/vnd.jupyter.widget-view+json": {
       "model_id": "4020cd729fca426694ec55444b234843",
       "version_major": 2,
       "version_minor": 0
      },
      "text/plain": [
       "Evaluating:   0%|          | 0/106 [00:00<?, ?it/s]"
      ]
     },
     "metadata": {},
     "output_type": "display_data"
    },
    {
     "name": "stderr",
     "output_type": "stream",
     "text": [
      "/home/x1112436/git/sent-semantic-repo/src/utils/util.py:60: FutureWarning: The frame.append method is deprecated and will be removed from pandas in a future version. Use pandas.concat instead.\n",
      "  self.hparams = self.hparams.append(self.writer, ignore_index=True)\n"
     ]
    },
    {
     "name": "stdout",
     "output_type": "stream",
     "text": [
      "best valid metic: 0.010368171540629294\n"
     ]
    },
    {
     "data": {
      "application/vnd.jupyter.widget-view+json": {
       "model_id": "6e28775dba224892a4e0982c8f474281",
       "version_major": 2,
       "version_minor": 0
      },
      "text/plain": [
       "  0%|          | 0/1862 [00:00<?, ?it/s]"
      ]
     },
     "metadata": {},
     "output_type": "display_data"
    },
    {
     "name": "stdout",
     "output_type": "stream",
     "text": [
      "best_train_loss: 0.06860627242082717, epoch: 13\n"
     ]
    },
    {
     "data": {
      "application/vnd.jupyter.widget-view+json": {
       "model_id": "21f7ce4b015346fdb04fbb752f3d7955",
       "version_major": 2,
       "version_minor": 0
      },
      "text/plain": [
       "Evaluating:   0%|          | 0/106 [00:00<?, ?it/s]"
      ]
     },
     "metadata": {},
     "output_type": "display_data"
    },
    {
     "name": "stderr",
     "output_type": "stream",
     "text": [
      "/home/x1112436/git/sent-semantic-repo/src/utils/util.py:60: FutureWarning: The frame.append method is deprecated and will be removed from pandas in a future version. Use pandas.concat instead.\n",
      "  self.hparams = self.hparams.append(self.writer, ignore_index=True)\n"
     ]
    },
    {
     "name": "stdout",
     "output_type": "stream",
     "text": [
      "best valid metic: 0.009197884975638206\n"
     ]
    },
    {
     "data": {
      "application/vnd.jupyter.widget-view+json": {
       "model_id": "1a5c2a46767d4c5993e5a4442b688ccd",
       "version_major": 2,
       "version_minor": 0
      },
      "text/plain": [
       "  0%|          | 0/1862 [00:00<?, ?it/s]"
      ]
     },
     "metadata": {},
     "output_type": "display_data"
    },
    {
     "name": "stdout",
     "output_type": "stream",
     "text": [
      "best_train_loss: 0.06334943382807026, epoch: 14\n"
     ]
    },
    {
     "data": {
      "application/vnd.jupyter.widget-view+json": {
       "model_id": "158a51841177415c9fb979119ea82fa5",
       "version_major": 2,
       "version_minor": 0
      },
      "text/plain": [
       "Evaluating:   0%|          | 0/106 [00:00<?, ?it/s]"
      ]
     },
     "metadata": {},
     "output_type": "display_data"
    },
    {
     "name": "stderr",
     "output_type": "stream",
     "text": [
      "/home/x1112436/git/sent-semantic-repo/src/utils/util.py:60: FutureWarning: The frame.append method is deprecated and will be removed from pandas in a future version. Use pandas.concat instead.\n",
      "  self.hparams = self.hparams.append(self.writer, ignore_index=True)\n"
     ]
    },
    {
     "name": "stdout",
     "output_type": "stream",
     "text": [
      "best valid metic: 0.008187288490073528\n"
     ]
    },
    {
     "data": {
      "application/vnd.jupyter.widget-view+json": {
       "model_id": "77c1d8d1f9b34d6fa2668aa33f871ea5",
       "version_major": 2,
       "version_minor": 0
      },
      "text/plain": [
       "  0%|          | 0/1862 [00:00<?, ?it/s]"
      ]
     },
     "metadata": {},
     "output_type": "display_data"
    },
    {
     "name": "stdout",
     "output_type": "stream",
     "text": [
      "best_train_loss: 0.06022611199259358, epoch: 15\n"
     ]
    },
    {
     "data": {
      "application/vnd.jupyter.widget-view+json": {
       "model_id": "2bd744a313c54b8fbb367135ef06a842",
       "version_major": 2,
       "version_minor": 0
      },
      "text/plain": [
       "Evaluating:   0%|          | 0/106 [00:00<?, ?it/s]"
      ]
     },
     "metadata": {},
     "output_type": "display_data"
    },
    {
     "name": "stderr",
     "output_type": "stream",
     "text": [
      "/home/x1112436/git/sent-semantic-repo/src/utils/util.py:60: FutureWarning: The frame.append method is deprecated and will be removed from pandas in a future version. Use pandas.concat instead.\n",
      "  self.hparams = self.hparams.append(self.writer, ignore_index=True)\n"
     ]
    },
    {
     "name": "stdout",
     "output_type": "stream",
     "text": [
      "best valid metic: 0.007722469537084008\n"
     ]
    },
    {
     "data": {
      "application/vnd.jupyter.widget-view+json": {
       "model_id": "0db82b0074c54d7ea4fcf19901649420",
       "version_major": 2,
       "version_minor": 0
      },
      "text/plain": [
       "  0%|          | 0/1862 [00:00<?, ?it/s]"
      ]
     },
     "metadata": {},
     "output_type": "display_data"
    },
    {
     "name": "stdout",
     "output_type": "stream",
     "text": [
      "best_train_loss: 0.059191632841607465, epoch: 16\n"
     ]
    },
    {
     "data": {
      "application/vnd.jupyter.widget-view+json": {
       "model_id": "868a3471a0da43b9b0538f5c64dcb512",
       "version_major": 2,
       "version_minor": 0
      },
      "text/plain": [
       "Evaluating:   0%|          | 0/106 [00:00<?, ?it/s]"
      ]
     },
     "metadata": {},
     "output_type": "display_data"
    },
    {
     "name": "stderr",
     "output_type": "stream",
     "text": [
      "/home/x1112436/git/sent-semantic-repo/src/utils/util.py:60: FutureWarning: The frame.append method is deprecated and will be removed from pandas in a future version. Use pandas.concat instead.\n",
      "  self.hparams = self.hparams.append(self.writer, ignore_index=True)\n"
     ]
    },
    {
     "name": "stdout",
     "output_type": "stream",
     "text": [
      "best valid metic: 0.007319211069151829\n"
     ]
    },
    {
     "data": {
      "application/vnd.jupyter.widget-view+json": {
       "model_id": "260d193d47e7433bb60eebc6597afc8b",
       "version_major": 2,
       "version_minor": 0
      },
      "text/plain": [
       "  0%|          | 0/1862 [00:00<?, ?it/s]"
      ]
     },
     "metadata": {},
     "output_type": "display_data"
    },
    {
     "name": "stdout",
     "output_type": "stream",
     "text": [
      "best_train_loss: 0.05760027043221381, epoch: 17\n"
     ]
    },
    {
     "data": {
      "application/vnd.jupyter.widget-view+json": {
       "model_id": "810fae7d5faf4fcab599efbf9a2bde16",
       "version_major": 2,
       "version_minor": 0
      },
      "text/plain": [
       "Evaluating:   0%|          | 0/106 [00:00<?, ?it/s]"
      ]
     },
     "metadata": {},
     "output_type": "display_data"
    },
    {
     "name": "stderr",
     "output_type": "stream",
     "text": [
      "/home/x1112436/git/sent-semantic-repo/src/utils/util.py:60: FutureWarning: The frame.append method is deprecated and will be removed from pandas in a future version. Use pandas.concat instead.\n",
      "  self.hparams = self.hparams.append(self.writer, ignore_index=True)\n"
     ]
    },
    {
     "name": "stdout",
     "output_type": "stream",
     "text": [
      "best valid metic: 0.007025530764158763\n"
     ]
    },
    {
     "data": {
      "application/vnd.jupyter.widget-view+json": {
       "model_id": "5316ae24cc1147b386e516acc1abd5a9",
       "version_major": 2,
       "version_minor": 0
      },
      "text/plain": [
       "  0%|          | 0/1862 [00:00<?, ?it/s]"
      ]
     },
     "metadata": {},
     "output_type": "display_data"
    },
    {
     "name": "stdout",
     "output_type": "stream",
     "text": [
      "best_train_loss: 0.05594709873324473, epoch: 18\n"
     ]
    },
    {
     "data": {
      "application/vnd.jupyter.widget-view+json": {
       "model_id": "ee825cf36c15421387e4bcddb8270c9e",
       "version_major": 2,
       "version_minor": 0
      },
      "text/plain": [
       "Evaluating:   0%|          | 0/106 [00:00<?, ?it/s]"
      ]
     },
     "metadata": {},
     "output_type": "display_data"
    },
    {
     "name": "stderr",
     "output_type": "stream",
     "text": [
      "/home/x1112436/git/sent-semantic-repo/src/utils/util.py:60: FutureWarning: The frame.append method is deprecated and will be removed from pandas in a future version. Use pandas.concat instead.\n",
      "  self.hparams = self.hparams.append(self.writer, ignore_index=True)\n"
     ]
    },
    {
     "name": "stdout",
     "output_type": "stream",
     "text": [
      "best valid metic: 0.006739934988458254\n"
     ]
    },
    {
     "data": {
      "application/vnd.jupyter.widget-view+json": {
       "model_id": "2d15c089200f4c5e911e1fe75faa5f2c",
       "version_major": 2,
       "version_minor": 0
      },
      "text/plain": [
       "  0%|          | 0/1862 [00:00<?, ?it/s]"
      ]
     },
     "metadata": {},
     "output_type": "display_data"
    },
    {
     "name": "stdout",
     "output_type": "stream",
     "text": [
      "best_train_loss: 0.05473255221025656, epoch: 19\n"
     ]
    },
    {
     "data": {
      "application/vnd.jupyter.widget-view+json": {
       "model_id": "f8cefa2a79454893ae2f27bebfbe08f0",
       "version_major": 2,
       "version_minor": 0
      },
      "text/plain": [
       "Evaluating:   0%|          | 0/106 [00:00<?, ?it/s]"
      ]
     },
     "metadata": {},
     "output_type": "display_data"
    },
    {
     "name": "stderr",
     "output_type": "stream",
     "text": [
      "/home/x1112436/git/sent-semantic-repo/src/utils/util.py:60: FutureWarning: The frame.append method is deprecated and will be removed from pandas in a future version. Use pandas.concat instead.\n",
      "  self.hparams = self.hparams.append(self.writer, ignore_index=True)\n"
     ]
    },
    {
     "name": "stdout",
     "output_type": "stream",
     "text": [
      "best valid metic: 0.0064877562446163895\n"
     ]
    }
   ],
   "source": [
    "trainer.train(model=model, tokenizer=tokenizer, train_dataset=train_dataset, val_dataset=val_dataset, model_type=args.model_type)"
   ]
  },
  {
   "cell_type": "markdown",
   "id": "a86116ed-a8f8-4bcb-be62-2e1a3d768df1",
   "metadata": {},
   "source": [
    "# TEST"
   ]
  },
  {
   "cell_type": "code",
   "execution_count": 40,
   "id": "063287c3-2c79-42f8-88eb-0c48a4b17ca0",
   "metadata": {
    "execution": {
     "iopub.execute_input": "2023-12-08T15:46:48.069391Z",
     "iopub.status.busy": "2023-12-08T15:46:48.068951Z",
     "iopub.status.idle": "2023-12-08T15:49:15.373727Z",
     "shell.execute_reply": "2023-12-08T15:49:15.372873Z",
     "shell.execute_reply.started": "2023-12-08T15:46:48.069354Z"
    },
    "tags": []
   },
   "outputs": [
    {
     "data": {
      "application/vnd.jupyter.widget-view+json": {
       "model_id": "",
       "version_major": 2,
       "version_minor": 0
      },
      "text/plain": [
       "Evaluating:   0%|          | 0/106 [00:00<?, ?it/s]"
      ]
     },
     "metadata": {},
     "output_type": "display_data"
    }
   ],
   "source": [
    "val_result, val_losses = trainer.validate_faq(val_dataset, epoch=0)"
   ]
  },
  {
   "cell_type": "code",
   "execution_count": 46,
   "id": "0c4fb18a-9f9c-42ed-a7f2-fd231480ffd9",
   "metadata": {
    "execution": {
     "iopub.execute_input": "2023-12-08T15:50:47.349909Z",
     "iopub.status.busy": "2023-12-08T15:50:47.349175Z",
     "iopub.status.idle": "2023-12-08T15:50:52.100451Z",
     "shell.execute_reply": "2023-12-08T15:50:52.099598Z",
     "shell.execute_reply.started": "2023-12-08T15:50:47.349853Z"
    },
    "tags": []
   },
   "outputs": [
    {
     "name": "stderr",
     "output_type": "stream",
     "text": [
      "/home/x1112436/git/sent-semantic-repo/src/utils/util.py:60: FutureWarning: The frame.append method is deprecated and will be removed from pandas in a future version. Use pandas.concat instead.\n",
      "  self.hparams = self.hparams.append(self.writer, ignore_index=True)\n"
     ]
    },
    {
     "name": "stdout",
     "output_type": "stream",
     "text": [
      "best valid metic: inf\n"
     ]
    },
    {
     "data": {
      "text/plain": [
       "False"
      ]
     },
     "execution_count": 46,
     "metadata": {},
     "output_type": "execute_result"
    }
   ],
   "source": [
    "trainer.early_stop(val_result, criterias=['val_loss'], epoch=0, key=args.early_stop_metric)"
   ]
  },
  {
   "cell_type": "code",
   "execution_count": 48,
   "id": "ea1416db-550d-486e-a1c6-4da38da79101",
   "metadata": {
    "execution": {
     "iopub.execute_input": "2023-12-08T15:53:00.251355Z",
     "iopub.status.busy": "2023-12-08T15:53:00.250591Z",
     "iopub.status.idle": "2023-12-08T15:53:00.259747Z",
     "shell.execute_reply": "2023-12-08T15:53:00.258562Z",
     "shell.execute_reply.started": "2023-12-08T15:53:00.251274Z"
    },
    "tags": []
   },
   "outputs": [
    {
     "data": {
      "text/plain": [
       "0.41550699523035084"
      ]
     },
     "execution_count": 48,
     "metadata": {},
     "output_type": "execute_result"
    }
   ],
   "source": [
    "val_result[args.early_stop_metric]"
   ]
  },
  {
   "cell_type": "code",
   "execution_count": 50,
   "id": "f4d76ccb-1b3f-4b91-ade3-96e74fe0fbd9",
   "metadata": {
    "execution": {
     "iopub.execute_input": "2023-12-08T15:53:41.893993Z",
     "iopub.status.busy": "2023-12-08T15:53:41.893227Z",
     "iopub.status.idle": "2023-12-08T15:53:41.902290Z",
     "shell.execute_reply": "2023-12-08T15:53:41.901407Z",
     "shell.execute_reply.started": "2023-12-08T15:53:41.893935Z"
    },
    "tags": []
   },
   "outputs": [
    {
     "data": {
      "text/plain": [
       "0.41550699523035084"
      ]
     },
     "execution_count": 50,
     "metadata": {},
     "output_type": "execute_result"
    }
   ],
   "source": [
    "trainer.metrics[args.early_stop_metric]"
   ]
  },
  {
   "cell_type": "code",
   "execution_count": 52,
   "id": "a9905b15-2bda-43d3-bda4-63d378f4167e",
   "metadata": {
    "execution": {
     "iopub.execute_input": "2023-12-08T15:55:32.591630Z",
     "iopub.status.busy": "2023-12-08T15:55:32.590879Z",
     "iopub.status.idle": "2023-12-08T15:55:32.599815Z",
     "shell.execute_reply": "2023-12-08T15:55:32.598583Z",
     "shell.execute_reply.started": "2023-12-08T15:55:32.591572Z"
    },
    "tags": []
   },
   "outputs": [
    {
     "data": {
      "text/plain": [
       "{'val_loss': 0.41550699523035084, 'epoch': 0}"
      ]
     },
     "execution_count": 52,
     "metadata": {},
     "output_type": "execute_result"
    }
   ],
   "source": [
    "trainer.metrics"
   ]
  },
  {
   "cell_type": "code",
   "execution_count": 44,
   "id": "f2d04bbe-1a74-4515-acf1-ca9b45a9666e",
   "metadata": {
    "execution": {
     "iopub.execute_input": "2023-12-08T15:49:56.083063Z",
     "iopub.status.busy": "2023-12-08T15:49:56.082026Z",
     "iopub.status.idle": "2023-12-08T15:49:56.090132Z",
     "shell.execute_reply": "2023-12-08T15:49:56.088998Z",
     "shell.execute_reply.started": "2023-12-08T15:49:56.083003Z"
    },
    "tags": []
   },
   "outputs": [
    {
     "data": {
      "text/plain": [
       "{'val_loss': 0.41550699523035084, 'epoch': 0}"
      ]
     },
     "execution_count": 44,
     "metadata": {},
     "output_type": "execute_result"
    }
   ],
   "source": [
    "val_result"
   ]
  },
  {
   "cell_type": "code",
   "execution_count": 72,
   "id": "8373e908-02a4-4c40-aba5-cefe941540c7",
   "metadata": {
    "execution": {
     "iopub.execute_input": "2023-12-08T15:36:38.347115Z",
     "iopub.status.busy": "2023-12-08T15:36:38.346385Z",
     "iopub.status.idle": "2023-12-08T15:36:38.354837Z",
     "shell.execute_reply": "2023-12-08T15:36:38.353805Z",
     "shell.execute_reply.started": "2023-12-08T15:36:38.347057Z"
    },
    "tags": []
   },
   "outputs": [
    {
     "data": {
      "text/plain": [
       "MultipleNegativesRankingLoss(\n",
       "  (cross_entropy_loss): CrossEntropyLoss()\n",
       ")"
      ]
     },
     "execution_count": 72,
     "metadata": {},
     "output_type": "execute_result"
    }
   ],
   "source": [
    "trainer.loss_fct"
   ]
  },
  {
   "cell_type": "code",
   "execution_count": 79,
   "id": "58516001-e73a-4b30-83c8-0301b26e2c8b",
   "metadata": {
    "execution": {
     "iopub.execute_input": "2023-12-08T15:39:47.140233Z",
     "iopub.status.busy": "2023-12-08T15:39:47.139377Z",
     "iopub.status.idle": "2023-12-08T15:39:47.147779Z",
     "shell.execute_reply": "2023-12-08T15:39:47.146826Z",
     "shell.execute_reply.started": "2023-12-08T15:39:47.140151Z"
    },
    "tags": []
   },
   "outputs": [],
   "source": [
    "import torch.nn.functional as F\n"
   ]
  },
  {
   "cell_type": "code",
   "execution_count": 74,
   "id": "cd92a2f2-d739-460b-b33b-547519743552",
   "metadata": {
    "execution": {
     "iopub.execute_input": "2023-12-08T15:38:05.731344Z",
     "iopub.status.busy": "2023-12-08T15:38:05.730618Z",
     "iopub.status.idle": "2023-12-08T15:38:05.739726Z",
     "shell.execute_reply": "2023-12-08T15:38:05.738754Z",
     "shell.execute_reply.started": "2023-12-08T15:38:05.731266Z"
    },
    "tags": []
   },
   "outputs": [],
   "source": [
    "batch = next(iter(test_val_loader))\n",
    "batch = {key: (item.to(args.device) if type(item) == torch.Tensor else item) for key, item in batch.items()}"
   ]
  },
  {
   "cell_type": "code",
   "execution_count": 80,
   "id": "45424d40-067b-4bce-a1f9-f7d5a340f590",
   "metadata": {
    "execution": {
     "iopub.execute_input": "2023-12-08T15:39:49.253289Z",
     "iopub.status.busy": "2023-12-08T15:39:49.252557Z",
     "iopub.status.idle": "2023-12-08T15:39:49.379433Z",
     "shell.execute_reply": "2023-12-08T15:39:49.378717Z",
     "shell.execute_reply.started": "2023-12-08T15:39:49.253233Z"
    },
    "tags": []
   },
   "outputs": [],
   "source": [
    "a_embedding = model(batch['a_input_ids'], batch['a_attention_mask'])\n",
    "b_embedding = model(batch['b_input_ids'], batch['b_attention_mask'])\n",
    "c_embedding = model(batch['c_input_ids'], batch['c_attention_mask'])\n",
    "\n",
    "a_norm = F.normalize(a_embedding, p=2, dim=1)\n",
    "b_norm = F.normalize(b_embedding, p=2, dim=1)\n",
    "c_norm = F.normalize(c_embedding, p=2, dim=1)"
   ]
  },
  {
   "cell_type": "code",
   "execution_count": 82,
   "id": "89b925b1-91ca-413a-a95f-6f9687efd8bc",
   "metadata": {
    "execution": {
     "iopub.execute_input": "2023-12-08T15:40:54.179699Z",
     "iopub.status.busy": "2023-12-08T15:40:54.179249Z",
     "iopub.status.idle": "2023-12-08T15:40:54.186805Z",
     "shell.execute_reply": "2023-12-08T15:40:54.186208Z",
     "shell.execute_reply.started": "2023-12-08T15:40:54.179668Z"
    },
    "tags": []
   },
   "outputs": [
    {
     "data": {
      "text/plain": [
       "tensor(9.5576, device='cuda:0', grad_fn=<NllLossBackward0>)"
      ]
     },
     "execution_count": 82,
     "metadata": {},
     "output_type": "execute_result"
    }
   ],
   "source": [
    "trainer.loss_fct(a_norm, b_norm, c_norm, label=batch['labels'])"
   ]
  },
  {
   "cell_type": "code",
   "execution_count": null,
   "id": "6eff7d35-1a9b-4fb5-8208-f9cc9b5ec3aa",
   "metadata": {},
   "outputs": [],
   "source": [
    "trainer.validate(val_dataset, epoch=i)"
   ]
  },
  {
   "cell_type": "code",
   "execution_count": null,
   "id": "8f1b2a2e-2538-445d-a838-d474e18e155c",
   "metadata": {
    "execution": {
     "iopub.execute_input": "2023-12-08T14:53:33.863154Z",
     "iopub.status.busy": "2023-12-08T14:53:33.862560Z"
    },
    "tags": []
   },
   "outputs": [
    {
     "data": {
      "application/vnd.jupyter.widget-view+json": {
       "model_id": "fb32b6a651d542e7bc976accc0331c0e",
       "version_major": 2,
       "version_minor": 0
      },
      "text/plain": [
       "  0%|          | 0/20 [00:00<?, ?it/s]"
      ]
     },
     "metadata": {},
     "output_type": "display_data"
    },
    {
     "data": {
      "application/vnd.jupyter.widget-view+json": {
       "model_id": "9b1b242bcfa948e58c1f187a70760c77",
       "version_major": 2,
       "version_minor": 0
      },
      "text/plain": [
       "  0%|          | 0/1862 [00:00<?, ?it/s]"
      ]
     },
     "metadata": {},
     "output_type": "display_data"
    },
    {
     "name": "stdout",
     "output_type": "stream",
     "text": [
      "best_train_loss: 2.0301048674381232, epoch: 0\n"
     ]
    },
    {
     "data": {
      "application/vnd.jupyter.widget-view+json": {
       "model_id": "",
       "version_major": 2,
       "version_minor": 0
      },
      "text/plain": [
       "Evaluating:   0%|          | 0/106 [00:00<?, ?it/s]"
      ]
     },
     "metadata": {},
     "output_type": "display_data"
    },
    {
     "name": "stderr",
     "output_type": "stream",
     "text": [
      "/home/x1112436/git/sent-semantic-repo/src/utils/util.py:60: FutureWarning: The frame.append method is deprecated and will be removed from pandas in a future version. Use pandas.concat instead.\n",
      "  self.hparams = self.hparams.append(self.writer, ignore_index=True)\n"
     ]
    },
    {
     "name": "stdout",
     "output_type": "stream",
     "text": [
      "best valid metic: inf\n"
     ]
    },
    {
     "data": {
      "application/vnd.jupyter.widget-view+json": {
       "model_id": "501ccaf0fc27421591cf74e54a85c67d",
       "version_major": 2,
       "version_minor": 0
      },
      "text/plain": [
       "  0%|          | 0/1862 [00:00<?, ?it/s]"
      ]
     },
     "metadata": {},
     "output_type": "display_data"
    }
   ],
   "source": [
    "trainer.train(model=model, tokenizer=tokenizer, train_dataset=train_dataset, val_dataset=val_dataset, model_type=args.model_type)"
   ]
  },
  {
   "cell_type": "code",
   "execution_count": null,
   "id": "d2ae834f-c92f-47f5-a2c5-88d0efe917b6",
   "metadata": {},
   "outputs": [],
   "source": [
    "import time\n",
    "time.sleep(21600)"
   ]
  },
  {
   "cell_type": "code",
   "execution_count": 84,
   "id": "6d266ff0-a9e2-48dc-9e73-3bd1d2a7973a",
   "metadata": {
    "execution": {
     "iopub.execute_input": "2023-12-08T15:42:40.581903Z",
     "iopub.status.busy": "2023-12-08T15:42:40.581145Z",
     "iopub.status.idle": "2023-12-08T15:42:40.587562Z",
     "shell.execute_reply": "2023-12-08T15:42:40.586354Z",
     "shell.execute_reply.started": "2023-12-08T15:42:40.581845Z"
    },
    "tags": []
   },
   "outputs": [],
   "source": [
    "torch.cuda.empty_cache()"
   ]
  },
  {
   "cell_type": "code",
   "execution_count": null,
   "id": "565ac414-7424-4c6c-a8c5-737a64cd8787",
   "metadata": {},
   "outputs": [],
   "source": []
  }
 ],
 "metadata": {
  "kernelspec": {
   "display_name": "Python 3 (ipykernel)",
   "language": "python",
   "name": "python3"
  },
  "language_info": {
   "codemirror_mode": {
    "name": "ipython",
    "version": 3
   },
   "file_extension": ".py",
   "mimetype": "text/x-python",
   "name": "python",
   "nbconvert_exporter": "python",
   "pygments_lexer": "ipython3",
   "version": "3.8.10"
  }
 },
 "nbformat": 4,
 "nbformat_minor": 5
}
