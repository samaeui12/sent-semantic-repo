{
 "cells": [
  {
   "cell_type": "markdown",
   "id": "74f630ea-b572-4262-89ef-35b31f0aed45",
   "metadata": {},
   "source": [
    "# add module path"
   ]
  },
  {
   "cell_type": "code",
   "execution_count": 1,
   "id": "2293817b-3b68-4e80-92d0-63d8203540ed",
   "metadata": {
    "execution": {
     "iopub.execute_input": "2023-11-28T05:21:53.132849Z",
     "iopub.status.busy": "2023-11-28T05:21:53.132678Z",
     "iopub.status.idle": "2023-11-28T05:21:53.139538Z",
     "shell.execute_reply": "2023-11-28T05:21:53.138756Z",
     "shell.execute_reply.started": "2023-11-28T05:21:53.132826Z"
    }
   },
   "outputs": [],
   "source": [
    "import sys\n",
    "module_path = '/home/x1112436/git/sent-semantic-repo'\n",
    "sys.path.append(module_path)"
   ]
  },
  {
   "cell_type": "markdown",
   "id": "7b4661f7-ccb3-4972-8ffc-33fe6d775c94",
   "metadata": {},
   "source": [
    "# Read real data"
   ]
  },
  {
   "cell_type": "code",
   "execution_count": 10,
   "id": "9c773a7c-ebfc-4573-9f5a-b4f1f22563df",
   "metadata": {
    "execution": {
     "iopub.execute_input": "2023-11-28T05:22:18.073026Z",
     "iopub.status.busy": "2023-11-28T05:22:18.072187Z",
     "iopub.status.idle": "2023-11-28T05:22:18.078762Z",
     "shell.execute_reply": "2023-11-28T05:22:18.077476Z",
     "shell.execute_reply.started": "2023-11-28T05:22:18.072975Z"
    }
   },
   "outputs": [],
   "source": [
    "import pandas as pd\n",
    "import re"
   ]
  },
  {
   "cell_type": "code",
   "execution_count": 11,
   "id": "b21e969e-610c-430a-8bc8-f74ac02a2a49",
   "metadata": {
    "execution": {
     "iopub.execute_input": "2023-11-28T05:22:18.222064Z",
     "iopub.status.busy": "2023-11-28T05:22:18.220969Z",
     "iopub.status.idle": "2023-11-28T05:22:18.549057Z",
     "shell.execute_reply": "2023-11-28T05:22:18.547663Z",
     "shell.execute_reply.started": "2023-11-28T05:22:18.222014Z"
    }
   },
   "outputs": [],
   "source": [
    "root_data = '../data/service_query/query.csv'"
   ]
  },
  {
   "cell_type": "code",
   "execution_count": 99,
   "id": "a2d79504-da82-4837-87e8-1fc152e243c1",
   "metadata": {
    "execution": {
     "iopub.execute_input": "2023-11-28T08:12:54.392464Z",
     "iopub.status.busy": "2023-11-28T08:12:54.391740Z",
     "iopub.status.idle": "2023-11-28T08:12:54.398709Z",
     "shell.execute_reply": "2023-11-28T08:12:54.397613Z",
     "shell.execute_reply.started": "2023-11-28T08:12:54.392414Z"
    }
   },
   "outputs": [],
   "source": [
    "def parse(input):\n",
    "    res = re.search(r'^(.*)(?=\\([^()]*\\)$)', input)\n",
    "    if res is None:\n",
    "        return ''\n",
    "    return res.group(1)"
   ]
  },
  {
   "cell_type": "code",
   "execution_count": 109,
   "id": "102a2981-6352-4610-81fa-e9f9d52533ae",
   "metadata": {
    "execution": {
     "iopub.execute_input": "2023-11-28T08:15:36.700690Z",
     "iopub.status.busy": "2023-11-28T08:15:36.699930Z",
     "iopub.status.idle": "2023-11-28T08:15:36.831804Z",
     "shell.execute_reply": "2023-11-28T08:15:36.830707Z",
     "shell.execute_reply.started": "2023-11-28T08:15:36.700638Z"
    }
   },
   "outputs": [],
   "source": [
    "query_list = []\n",
    "with open(root_data, 'r') as f:\n",
    "    for line in f:\n",
    "        data = line.strip().split('|')\n",
    "        if (5 - len(data)) > 0:\n",
    "            for i in range(5- len(data)):\n",
    "                data.append('')\n",
    "\n",
    "        if len(data) <5:\n",
    "            print(data)\n",
    "            break\n",
    "\n",
    "        query_list.append({'query': data[0], 'query_cnt': data[1], 'p_rank1': parse(data[2]), 'p_rank2': parse(data[3]), 'p_rank3': parse(data[4])})"
   ]
  },
  {
   "cell_type": "code",
   "execution_count": 110,
   "id": "dac6a7e9-1dde-4292-974e-122c257e373f",
   "metadata": {
    "execution": {
     "iopub.execute_input": "2023-11-28T08:15:38.267665Z",
     "iopub.status.busy": "2023-11-28T08:15:38.266907Z",
     "iopub.status.idle": "2023-11-28T08:15:38.285113Z",
     "shell.execute_reply": "2023-11-28T08:15:38.284167Z",
     "shell.execute_reply.started": "2023-11-28T08:15:38.267615Z"
    }
   },
   "outputs": [],
   "source": [
    "query_pd = pd.DataFrame(query_list)"
   ]
  },
  {
   "cell_type": "code",
   "execution_count": 14,
   "id": "d96ce616-7005-4787-8dfc-d71bd6af7feb",
   "metadata": {
    "execution": {
     "iopub.execute_input": "2023-11-28T05:22:19.291843Z",
     "iopub.status.busy": "2023-11-28T05:22:19.291608Z",
     "iopub.status.idle": "2023-11-28T05:22:19.560979Z",
     "shell.execute_reply": "2023-11-28T05:22:19.559875Z",
     "shell.execute_reply.started": "2023-11-28T05:22:19.291823Z"
    }
   },
   "outputs": [],
   "source": [
    "queries = list(query_pd['query'].unique())"
   ]
  },
  {
   "cell_type": "markdown",
   "id": "67e72690-fc4d-4477-a6c6-cb966cb078bc",
   "metadata": {},
   "source": [
    "# LOAD MODEL"
   ]
  },
  {
   "cell_type": "code",
   "execution_count": 2,
   "id": "5059ea57-5065-4bac-adc8-bc178e05730e",
   "metadata": {
    "execution": {
     "iopub.execute_input": "2023-11-28T05:21:56.424236Z",
     "iopub.status.busy": "2023-11-28T05:21:56.423348Z",
     "iopub.status.idle": "2023-11-28T05:22:05.533572Z",
     "shell.execute_reply": "2023-11-28T05:22:05.532298Z",
     "shell.execute_reply.started": "2023-11-28T05:21:56.424177Z"
    }
   },
   "outputs": [],
   "source": [
    "import torch\n",
    "from transformers import (\n",
    "    AdamW,\n",
    "    AutoModel,\n",
    "    get_linear_schedule_with_warmup,\n",
    "    AutoTokenizer,\n",
    "    AutoConfig\n",
    ")"
   ]
  },
  {
   "cell_type": "code",
   "execution_count": 3,
   "id": "e1e29fc2-31f9-4bcb-8200-24e6afc23860",
   "metadata": {
    "execution": {
     "iopub.execute_input": "2023-11-28T05:22:05.535906Z",
     "iopub.status.busy": "2023-11-28T05:22:05.535517Z",
     "iopub.status.idle": "2023-11-28T05:22:08.305275Z",
     "shell.execute_reply": "2023-11-28T05:22:08.303846Z",
     "shell.execute_reply.started": "2023-11-28T05:22:05.535885Z"
    }
   },
   "outputs": [],
   "source": [
    "from src.utils import set_seed\n",
    "from src.trainer import SimcseTrainer\n",
    "from src.dataset import DATASET_MAPPING_DICT\n",
    "from src.utils import PreprocessorFactory \n",
    "from src.utils import get_model_argparse\n",
    "from src.model import MODEL_MAPPING_DICT\n",
    "from src.model import CONFIG_MAPPING_DICT\n",
    "from src.logger import Experi_Logger\n",
    "from config.nli_config import nli_parser_model_args"
   ]
  },
  {
   "cell_type": "code",
   "execution_count": 4,
   "id": "7368d224-2d0c-4c78-b349-b93dac187077",
   "metadata": {
    "execution": {
     "iopub.execute_input": "2023-11-28T05:22:08.307854Z",
     "iopub.status.busy": "2023-11-28T05:22:08.307046Z",
     "iopub.status.idle": "2023-11-28T05:22:08.316230Z",
     "shell.execute_reply": "2023-11-28T05:22:08.315082Z",
     "shell.execute_reply.started": "2023-11-28T05:22:08.307805Z"
    }
   },
   "outputs": [],
   "source": [
    "args = nli_parser_model_args()"
   ]
  },
  {
   "cell_type": "code",
   "execution_count": 5,
   "id": "719b14c8-ee96-4457-8287-54168666e211",
   "metadata": {
    "execution": {
     "iopub.execute_input": "2023-11-28T05:22:08.319397Z",
     "iopub.status.busy": "2023-11-28T05:22:08.319093Z",
     "iopub.status.idle": "2023-11-28T05:22:08.606151Z",
     "shell.execute_reply": "2023-11-28T05:22:08.605423Z",
     "shell.execute_reply.started": "2023-11-28T05:22:08.319375Z"
    }
   },
   "outputs": [],
   "source": [
    "args.pretrained_model = '/home/x1112436/model_file/faq_sent_roberta/sent_roberta'\n",
    "args.device = torch.device(\"cuda:0\" if torch.cuda.is_available() else \"cpu\")\n",
    "args.n_gpu = torch.cuda.device_count()\n",
    "args.output_dir = f'/home/x1112436/result/faq/modelfile/{args.pretrained_model}'\n",
    "args.log_dir = f'/home/x1112436/result/faq/log/{args.pretrained_model}'\n",
    "args.experiments_path = f'/home/x1112436/result/faq/experiment/{args.pretrained_model}/experiment.csv'\n",
    "args.model_max_len = 100\n",
    "args.is_preprocessed = True\n",
    "args.valid_first = False\n",
    "args.data_type='triple'\n",
    "args.loss= 'TripletLoss'\n",
    "args.margin = 1.0"
   ]
  },
  {
   "cell_type": "code",
   "execution_count": 6,
   "id": "97599861-8f4b-476b-b6ef-fcc6ce6b4e62",
   "metadata": {
    "execution": {
     "iopub.execute_input": "2023-11-28T05:22:08.607858Z",
     "iopub.status.busy": "2023-11-28T05:22:08.607490Z",
     "iopub.status.idle": "2023-11-28T05:22:14.134240Z",
     "shell.execute_reply": "2023-11-28T05:22:14.133059Z",
     "shell.execute_reply.started": "2023-11-28T05:22:08.607836Z"
    }
   },
   "outputs": [],
   "source": [
    "model = MODEL_MAPPING_DICT['sent_roberta'].from_pretrained(\n",
    "    args.pretrained_model, **vars(args), \n",
    ")\n",
    "tokenizer = AutoTokenizer.from_pretrained(args.pretrained_model)"
   ]
  },
  {
   "cell_type": "markdown",
   "id": "1dbbf6c2-2937-4f8d-b192-f93c54ef8a22",
   "metadata": {},
   "source": [
    "# load data"
   ]
  },
  {
   "cell_type": "code",
   "execution_count": 7,
   "id": "523c35a4-d7d9-4f77-a72d-b42323da0768",
   "metadata": {
    "execution": {
     "iopub.execute_input": "2023-11-28T05:22:14.135848Z",
     "iopub.status.busy": "2023-11-28T05:22:14.135609Z",
     "iopub.status.idle": "2023-11-28T05:22:14.140251Z",
     "shell.execute_reply": "2023-11-28T05:22:14.139488Z",
     "shell.execute_reply.started": "2023-11-28T05:22:14.135826Z"
    }
   },
   "outputs": [],
   "source": [
    "from torch.utils.data import (\n",
    "    DataLoader, Dataset\n",
    ")"
   ]
  },
  {
   "cell_type": "code",
   "execution_count": 8,
   "id": "d205ec65-a3cb-47e9-a34f-fcdb01a8d12a",
   "metadata": {
    "execution": {
     "iopub.execute_input": "2023-11-28T05:22:14.141144Z",
     "iopub.status.busy": "2023-11-28T05:22:14.140972Z",
     "iopub.status.idle": "2023-11-28T05:22:14.408816Z",
     "shell.execute_reply": "2023-11-28T05:22:14.407488Z",
     "shell.execute_reply.started": "2023-11-28T05:22:14.141127Z"
    }
   },
   "outputs": [],
   "source": [
    "dataprocessor = PreprocessorFactory('test')"
   ]
  },
  {
   "cell_type": "code",
   "execution_count": 15,
   "id": "715bd45d-d33c-4349-bf35-76bbeaff8494",
   "metadata": {
    "execution": {
     "iopub.execute_input": "2023-11-28T05:22:22.844719Z",
     "iopub.status.busy": "2023-11-28T05:22:22.843474Z",
     "iopub.status.idle": "2023-11-28T05:22:23.227564Z",
     "shell.execute_reply": "2023-11-28T05:22:23.226171Z",
     "shell.execute_reply.started": "2023-11-28T05:22:22.844634Z"
    }
   },
   "outputs": [],
   "source": [
    "query_test_input = dataprocessor.preprocess(tokenizer = tokenizer, input_list = queries)"
   ]
  },
  {
   "cell_type": "code",
   "execution_count": 16,
   "id": "be05f6d7-4fca-48eb-bc2b-866093091127",
   "metadata": {
    "execution": {
     "iopub.execute_input": "2023-11-28T05:22:23.397576Z",
     "iopub.status.busy": "2023-11-28T05:22:23.396860Z",
     "iopub.status.idle": "2023-11-28T05:22:23.702248Z",
     "shell.execute_reply": "2023-11-28T05:22:23.701292Z",
     "shell.execute_reply.started": "2023-11-28T05:22:23.397528Z"
    }
   },
   "outputs": [],
   "source": [
    "InferenceDataset = DATASET_MAPPING_DICT['InferenceDataset']"
   ]
  },
  {
   "cell_type": "code",
   "execution_count": 17,
   "id": "a6b9ad20-93eb-4dae-b2fe-e569ae6897eb",
   "metadata": {
    "execution": {
     "iopub.execute_input": "2023-11-28T05:22:23.704827Z",
     "iopub.status.busy": "2023-11-28T05:22:23.704183Z",
     "iopub.status.idle": "2023-11-28T05:22:23.917919Z",
     "shell.execute_reply": "2023-11-28T05:22:23.916662Z",
     "shell.execute_reply.started": "2023-11-28T05:22:23.704782Z"
    }
   },
   "outputs": [],
   "source": [
    "squery_dataset = InferenceDataset(args=args, features=query_test_input, max_length=args.model_max_len, tokenizer=tokenizer)"
   ]
  },
  {
   "cell_type": "code",
   "execution_count": 18,
   "id": "917582c7-103e-4423-b4ab-b2fa07de9009",
   "metadata": {
    "execution": {
     "iopub.execute_input": "2023-11-28T05:22:23.920854Z",
     "iopub.status.busy": "2023-11-28T05:22:23.920038Z",
     "iopub.status.idle": "2023-11-28T05:22:24.114496Z",
     "shell.execute_reply": "2023-11-28T05:22:24.113236Z",
     "shell.execute_reply.started": "2023-11-28T05:22:23.920807Z"
    }
   },
   "outputs": [],
   "source": [
    "squery_dataloader = squery_dataset.loader(shuffle=False, batch_size=400 )"
   ]
  },
  {
   "cell_type": "code",
   "execution_count": 20,
   "id": "4a9ea7a4-c9b3-4db0-b55e-06afe84bb99c",
   "metadata": {
    "execution": {
     "iopub.execute_input": "2023-11-28T05:22:51.879332Z",
     "iopub.status.busy": "2023-11-28T05:22:51.878567Z",
     "iopub.status.idle": "2023-11-28T05:22:51.884514Z",
     "shell.execute_reply": "2023-11-28T05:22:51.883271Z",
     "shell.execute_reply.started": "2023-11-28T05:22:51.879269Z"
    }
   },
   "outputs": [],
   "source": [
    "#next(iter(squery_dataloader))"
   ]
  },
  {
   "cell_type": "code",
   "execution_count": 21,
   "id": "273715cb-1bc0-479d-b1c7-aca8dc51f8d6",
   "metadata": {
    "execution": {
     "iopub.execute_input": "2023-11-28T05:23:07.591752Z",
     "iopub.status.busy": "2023-11-28T05:23:07.590980Z",
     "iopub.status.idle": "2023-11-28T05:23:32.896148Z",
     "shell.execute_reply": "2023-11-28T05:23:32.895131Z",
     "shell.execute_reply.started": "2023-11-28T05:23:07.591703Z"
    }
   },
   "outputs": [],
   "source": [
    "from skt.gcp import load_bigquery_ipython_magic, \\\n",
    "                    bq_to_pandas, \\\n",
    "                    get_bigquery_client"
   ]
  },
  {
   "cell_type": "code",
   "execution_count": 22,
   "id": "d9f76236-7577-444f-a73a-279957784e35",
   "metadata": {
    "execution": {
     "iopub.execute_input": "2023-11-28T05:23:32.897815Z",
     "iopub.status.busy": "2023-11-28T05:23:32.897489Z",
     "iopub.status.idle": "2023-11-28T05:23:32.901631Z",
     "shell.execute_reply": "2023-11-28T05:23:32.900849Z",
     "shell.execute_reply.started": "2023-11-28T05:23:32.897795Z"
    }
   },
   "outputs": [],
   "source": [
    "dataset = 'x1112436'\n",
    "log_table = 'faq_table'\n",
    "query = f\"\"\"\n",
    "        SELECT  qry_txt_cont,\n",
    "                ans_cont,\n",
    "                intent_nm,\n",
    "                type\n",
    "        FROM `skt-datahub.{dataset}.{log_table}`\n",
    "        WHERE type = 'faq'\n",
    "    \"\"\""
   ]
  },
  {
   "cell_type": "code",
   "execution_count": 23,
   "id": "eec467df-8601-4f4d-9d50-07d9733012fe",
   "metadata": {
    "execution": {
     "iopub.execute_input": "2023-11-28T05:23:32.902550Z",
     "iopub.status.busy": "2023-11-28T05:23:32.902376Z",
     "iopub.status.idle": "2023-11-28T05:24:02.151566Z",
     "shell.execute_reply": "2023-11-28T05:24:02.150117Z",
     "shell.execute_reply.started": "2023-11-28T05:23:32.902534Z"
    }
   },
   "outputs": [
    {
     "name": "stdout",
     "output_type": "stream",
     "text": [
      "query: \n",
      "        SELECT  qry_txt_cont,\n",
      "                ans_cont,\n",
      "                intent_nm,\n",
      "                type\n",
      "        FROM `skt-datahub.x1112436.faq_table`\n",
      "        WHERE type = 'faq'\n",
      "    \n",
      "destination: skt-datahub._775c5ccab1096b3cccd7ac34a5db11c0a354fb07.anon72064c4d9aea8277a8e33f4640e22f213697ace283466db5904aa8d444d33a3d\n",
      "total_rows: 245417\n",
      "slot_secs: 1.169\n",
      "\n",
      "Downloading: 100%|\u001b[32m██████████\u001b[0m|\n"
     ]
    }
   ],
   "source": [
    "faq_table = bq_to_pandas(query)"
   ]
  },
  {
   "cell_type": "code",
   "execution_count": 65,
   "id": "60167b1e-9c35-4100-9179-3abf71272f60",
   "metadata": {
    "execution": {
     "iopub.execute_input": "2023-11-28T07:18:20.842036Z",
     "iopub.status.busy": "2023-11-28T07:18:20.841333Z",
     "iopub.status.idle": "2023-11-28T07:18:21.063193Z",
     "shell.execute_reply": "2023-11-28T07:18:21.062146Z",
     "shell.execute_reply.started": "2023-11-28T07:18:20.841986Z"
    }
   },
   "outputs": [],
   "source": [
    "faq_table[['intent_nm', 'ans_cont']].drop_duplicates(keep='first').to_csv('../data/label_data/intent_table.csv', encoding='utf-8-sig')"
   ]
  },
  {
   "cell_type": "code",
   "execution_count": 26,
   "id": "7b79d06b-31a4-46f4-9326-5814f7ee2f42",
   "metadata": {
    "execution": {
     "iopub.execute_input": "2023-11-28T05:24:25.406253Z",
     "iopub.status.busy": "2023-11-28T05:24:25.405404Z",
     "iopub.status.idle": "2023-11-28T05:24:25.430806Z",
     "shell.execute_reply": "2023-11-28T05:24:25.429873Z",
     "shell.execute_reply.started": "2023-11-28T05:24:25.406199Z"
    }
   },
   "outputs": [],
   "source": [
    "idx2intent_nm = list(faq_table.intent_nm.unique())"
   ]
  },
  {
   "cell_type": "code",
   "execution_count": 27,
   "id": "f75d3f4c-0465-4e52-a471-6ebcff5509a6",
   "metadata": {
    "execution": {
     "iopub.execute_input": "2023-11-28T05:24:29.943470Z",
     "iopub.status.busy": "2023-11-28T05:24:29.942706Z",
     "iopub.status.idle": "2023-11-28T05:24:30.036120Z",
     "shell.execute_reply": "2023-11-28T05:24:30.035485Z",
     "shell.execute_reply.started": "2023-11-28T05:24:29.943420Z"
    }
   },
   "outputs": [],
   "source": [
    "intent_nm_input = dataprocessor.preprocess(tokenizer = tokenizer, input_list = idx2intent_nm)"
   ]
  },
  {
   "cell_type": "code",
   "execution_count": 28,
   "id": "51822b57-cd78-430a-a141-bae3fb790dd9",
   "metadata": {
    "execution": {
     "iopub.execute_input": "2023-11-28T05:24:32.323897Z",
     "iopub.status.busy": "2023-11-28T05:24:32.323062Z",
     "iopub.status.idle": "2023-11-28T05:24:32.330386Z",
     "shell.execute_reply": "2023-11-28T05:24:32.329142Z",
     "shell.execute_reply.started": "2023-11-28T05:24:32.323846Z"
    }
   },
   "outputs": [],
   "source": [
    "intent_dataset = InferenceDataset(args=args, features=intent_nm_input, max_length=args.model_max_len, tokenizer=tokenizer)"
   ]
  },
  {
   "cell_type": "code",
   "execution_count": 29,
   "id": "a97c748d-197f-4e7a-b567-d2de4b758f68",
   "metadata": {
    "execution": {
     "iopub.execute_input": "2023-11-28T05:25:02.703850Z",
     "iopub.status.busy": "2023-11-28T05:25:02.703069Z",
     "iopub.status.idle": "2023-11-28T05:25:02.708701Z",
     "shell.execute_reply": "2023-11-28T05:25:02.708010Z",
     "shell.execute_reply.started": "2023-11-28T05:25:02.703800Z"
    }
   },
   "outputs": [],
   "source": [
    "intent_dataloader = intent_dataset.loader(shuffle=False, batch_size=400 )"
   ]
  },
  {
   "cell_type": "markdown",
   "id": "e2a7cdcc-2163-48b7-89ad-8855a65d2c7b",
   "metadata": {},
   "source": [
    "# Inference"
   ]
  },
  {
   "cell_type": "code",
   "execution_count": 30,
   "id": "9da4d3d2-6797-42eb-b339-be94c51d98a9",
   "metadata": {
    "execution": {
     "iopub.execute_input": "2023-11-28T05:33:37.357283Z",
     "iopub.status.busy": "2023-11-28T05:33:37.356558Z",
     "iopub.status.idle": "2023-11-28T05:33:41.835646Z",
     "shell.execute_reply": "2023-11-28T05:33:41.834798Z",
     "shell.execute_reply.started": "2023-11-28T05:33:37.357233Z"
    }
   },
   "outputs": [],
   "source": [
    "model = model.to(args.device)"
   ]
  },
  {
   "cell_type": "code",
   "execution_count": 31,
   "id": "f2a05c84-8a1a-4feb-a458-917a57536d08",
   "metadata": {
    "execution": {
     "iopub.execute_input": "2023-11-28T05:33:45.053401Z",
     "iopub.status.busy": "2023-11-28T05:33:45.052574Z",
     "iopub.status.idle": "2023-11-28T05:33:45.061284Z",
     "shell.execute_reply": "2023-11-28T05:33:45.060059Z",
     "shell.execute_reply.started": "2023-11-28T05:33:45.053339Z"
    }
   },
   "outputs": [],
   "source": [
    "from tqdm.notebook import tqdm"
   ]
  },
  {
   "cell_type": "code",
   "execution_count": 33,
   "id": "235c21ed-208f-45c1-b1fc-1d7c6dff58f8",
   "metadata": {
    "execution": {
     "iopub.execute_input": "2023-11-28T05:54:25.380176Z",
     "iopub.status.busy": "2023-11-28T05:54:25.379440Z",
     "iopub.status.idle": "2023-11-28T05:54:36.522286Z",
     "shell.execute_reply": "2023-11-28T05:54:36.521256Z",
     "shell.execute_reply.started": "2023-11-28T05:54:25.380125Z"
    }
   },
   "outputs": [
    {
     "data": {
      "application/vnd.jupyter.widget-view+json": {
       "model_id": "8856a13276bf4ab0a2581f2ede09d7f5",
       "version_major": 2,
       "version_minor": 0
      },
      "text/plain": [
       "  0%|          | 0/17 [00:00<?, ?it/s]"
      ]
     },
     "metadata": {},
     "output_type": "display_data"
    }
   ],
   "source": [
    "model.eval()\n",
    "squery_list = []\n",
    "squery_embedding = []\n",
    "with torch.no_grad():   \n",
    "    for batch_idx, batch in enumerate(tqdm(squery_dataloader)): \n",
    "        batch = {key: (item.to(args.device) if type(item) == torch.Tensor else item) for key, item in batch.items()}\n",
    "        a_embedding = model(batch['a_input_ids'], batch['a_attention_mask'])\n",
    "        a_sentence = batch['a_sentence']\n",
    "        squery_list.extend(a_sentence)\n",
    "        squery_embedding.append(a_embedding)\n",
    "    squery_embedding = torch.cat(squery_embedding, 0) "
   ]
  },
  {
   "cell_type": "code",
   "execution_count": 35,
   "id": "c1bbb479-2ad1-4fd4-aad0-4528c543daa0",
   "metadata": {
    "execution": {
     "iopub.execute_input": "2023-11-28T05:56:57.364586Z",
     "iopub.status.busy": "2023-11-28T05:56:57.363800Z",
     "iopub.status.idle": "2023-11-28T05:56:59.142466Z",
     "shell.execute_reply": "2023-11-28T05:56:59.141637Z",
     "shell.execute_reply.started": "2023-11-28T05:56:57.364533Z"
    }
   },
   "outputs": [
    {
     "data": {
      "application/vnd.jupyter.widget-view+json": {
       "model_id": "46e0c19821ca44fba86730b1c4f4015b",
       "version_major": 2,
       "version_minor": 0
      },
      "text/plain": [
       "  0%|          | 0/5 [00:00<?, ?it/s]"
      ]
     },
     "metadata": {},
     "output_type": "display_data"
    }
   ],
   "source": [
    "model.eval()\n",
    "intent_list = []\n",
    "intent_embedding = []\n",
    "with torch.no_grad():   \n",
    "    for batch_idx, batch in enumerate(tqdm(intent_dataloader)): \n",
    "        batch = {key: (item.to(args.device) if type(item) == torch.Tensor else item) for key, item in batch.items()}\n",
    "        a_embedding = model(batch['a_input_ids'], batch['a_attention_mask'])\n",
    "        a_sentence = batch['a_sentence']\n",
    "        intent_list.extend(a_sentence)\n",
    "        intent_embedding.append(a_embedding)\n",
    "    intent_embedding = torch.cat(intent_embedding, 0) "
   ]
  },
  {
   "cell_type": "code",
   "execution_count": 52,
   "id": "aee57e4e-aaf3-4dab-a19b-1476ecd2567e",
   "metadata": {
    "execution": {
     "iopub.execute_input": "2023-11-28T06:00:42.795532Z",
     "iopub.status.busy": "2023-11-28T06:00:42.794840Z",
     "iopub.status.idle": "2023-11-28T06:00:42.802332Z",
     "shell.execute_reply": "2023-11-28T06:00:42.801155Z",
     "shell.execute_reply.started": "2023-11-28T06:00:42.795482Z"
    }
   },
   "outputs": [],
   "source": [
    "import torch.nn.functional as F\n",
    "values, indices = torch.topk(F.normalize(squery_embedding, dim =1) @ F.normalize(intent_embedding.T, dim=1), 3)"
   ]
  },
  {
   "cell_type": "code",
   "execution_count": 53,
   "id": "52e850e3-2d96-47a4-9430-72a7fc6259ea",
   "metadata": {
    "execution": {
     "iopub.execute_input": "2023-11-28T06:00:42.804173Z",
     "iopub.status.busy": "2023-11-28T06:00:42.803837Z",
     "iopub.status.idle": "2023-11-28T06:00:43.410906Z",
     "shell.execute_reply": "2023-11-28T06:00:43.409614Z",
     "shell.execute_reply.started": "2023-11-28T06:00:42.804148Z"
    }
   },
   "outputs": [],
   "source": [
    "values = values.cpu().numpy()\n",
    "indices = indices.cpu().numpy()"
   ]
  },
  {
   "cell_type": "code",
   "execution_count": 54,
   "id": "a76bae5a-5ce9-4b34-9a82-1b99381f1a8e",
   "metadata": {
    "execution": {
     "iopub.execute_input": "2023-11-28T06:00:43.413165Z",
     "iopub.status.busy": "2023-11-28T06:00:43.412575Z",
     "iopub.status.idle": "2023-11-28T06:00:43.749488Z",
     "shell.execute_reply": "2023-11-28T06:00:43.748208Z",
     "shell.execute_reply.started": "2023-11-28T06:00:43.413120Z"
    }
   },
   "outputs": [],
   "source": [
    "thres_value = 0.45"
   ]
  },
  {
   "cell_type": "code",
   "execution_count": 55,
   "id": "d27b3177-6dbb-489c-acac-5ecd2c7f4c8e",
   "metadata": {
    "execution": {
     "iopub.execute_input": "2023-11-28T06:00:45.583294Z",
     "iopub.status.busy": "2023-11-28T06:00:45.582532Z",
     "iopub.status.idle": "2023-11-28T06:00:45.589160Z",
     "shell.execute_reply": "2023-11-28T06:00:45.587985Z",
     "shell.execute_reply.started": "2023-11-28T06:00:45.583241Z"
    }
   },
   "outputs": [],
   "source": [
    "indices[values< thres_value] = -1"
   ]
  },
  {
   "cell_type": "code",
   "execution_count": 57,
   "id": "4b6bccca-b987-400b-8b9a-3ed69ec2133a",
   "metadata": {
    "execution": {
     "iopub.execute_input": "2023-11-28T07:14:55.853349Z",
     "iopub.status.busy": "2023-11-28T07:14:55.852593Z",
     "iopub.status.idle": "2023-11-28T07:14:55.861266Z",
     "shell.execute_reply": "2023-11-28T07:14:55.860020Z",
     "shell.execute_reply.started": "2023-11-28T07:14:55.853274Z"
    }
   },
   "outputs": [
    {
     "data": {
      "text/plain": [
       "(6756, 3)"
      ]
     },
     "execution_count": 57,
     "metadata": {},
     "output_type": "execute_result"
    }
   ],
   "source": [
    "indices.shape"
   ]
  },
  {
   "cell_type": "code",
   "execution_count": 79,
   "id": "1f6551b1-664b-499b-915b-3b42ca813168",
   "metadata": {
    "execution": {
     "iopub.execute_input": "2023-11-28T08:06:19.958992Z",
     "iopub.status.busy": "2023-11-28T08:06:19.958295Z",
     "iopub.status.idle": "2023-11-28T08:06:19.986687Z",
     "shell.execute_reply": "2023-11-28T08:06:19.986144Z",
     "shell.execute_reply.started": "2023-11-28T08:06:19.958943Z"
    }
   },
   "outputs": [],
   "source": [
    "predict_result = []\n",
    "for i in range(indices.shape[0]):\n",
    "    query = squery_list[i]\n",
    "    answer_list = []\n",
    "    for j in range(3):\n",
    "        if indices[i, j] != -1:\n",
    "            answer_list.append(idx2intent_nm[indices[i,j]])\n",
    "        else:\n",
    "            answer_list.append('')\n",
    "    predict_result.append({'query': query, 'n_rank_1':answer_list[0], 'n_rank2':answer_list[1], 'n_rank3':answer_list[2]})\n",
    "                    \n",
    "    \n",
    "    "
   ]
  },
  {
   "cell_type": "code",
   "execution_count": 81,
   "id": "f5acde2d-6b52-4ae6-bcb5-8f3c5e1935aa",
   "metadata": {
    "execution": {
     "iopub.execute_input": "2023-11-28T08:06:36.168380Z",
     "iopub.status.busy": "2023-11-28T08:06:36.167664Z",
     "iopub.status.idle": "2023-11-28T08:06:36.182790Z",
     "shell.execute_reply": "2023-11-28T08:06:36.181883Z",
     "shell.execute_reply.started": "2023-11-28T08:06:36.168330Z"
    }
   },
   "outputs": [],
   "source": [
    "predict_result_pd = pd.DataFrame(predict_result)"
   ]
  },
  {
   "cell_type": "code",
   "execution_count": 111,
   "id": "2e8c1b27-7ab3-41fe-9700-fa2f07749252",
   "metadata": {
    "execution": {
     "iopub.execute_input": "2023-11-28T08:15:43.434145Z",
     "iopub.status.busy": "2023-11-28T08:15:43.433464Z",
     "iopub.status.idle": "2023-11-28T08:15:43.448844Z",
     "shell.execute_reply": "2023-11-28T08:15:43.447939Z",
     "shell.execute_reply.started": "2023-11-28T08:15:43.434097Z"
    }
   },
   "outputs": [],
   "source": [
    "data = pd.merge(query_pd, predict_result_pd, on ='query')"
   ]
  },
  {
   "cell_type": "code",
   "execution_count": 112,
   "id": "25ea0be7-2882-4bbd-94bc-78eb2bd41c15",
   "metadata": {
    "execution": {
     "iopub.execute_input": "2023-11-28T08:15:43.628186Z",
     "iopub.status.busy": "2023-11-28T08:15:43.627554Z",
     "iopub.status.idle": "2023-11-28T08:15:44.113107Z",
     "shell.execute_reply": "2023-11-28T08:15:44.111814Z",
     "shell.execute_reply.started": "2023-11-28T08:15:43.628140Z"
    }
   },
   "outputs": [
    {
     "data": {
      "text/html": [
       "<div>\n",
       "<style scoped>\n",
       "    .dataframe tbody tr th:only-of-type {\n",
       "        vertical-align: middle;\n",
       "    }\n",
       "\n",
       "    .dataframe tbody tr th {\n",
       "        vertical-align: top;\n",
       "    }\n",
       "\n",
       "    .dataframe thead th {\n",
       "        text-align: right;\n",
       "    }\n",
       "</style>\n",
       "<table border=\"1\" class=\"dataframe\">\n",
       "  <thead>\n",
       "    <tr style=\"text-align: right;\">\n",
       "      <th></th>\n",
       "      <th>query</th>\n",
       "      <th>query_cnt</th>\n",
       "      <th>p_rank1</th>\n",
       "      <th>p_rank2</th>\n",
       "      <th>p_rank3</th>\n",
       "      <th>n_rank_1</th>\n",
       "      <th>n_rank2</th>\n",
       "      <th>n_rank3</th>\n",
       "    </tr>\n",
       "  </thead>\n",
       "  <tbody>\n",
       "    <tr>\n",
       "      <th>0</th>\n",
       "      <td>미납요금 납부 가능일 문의</td>\n",
       "      <td>49194</td>\n",
       "      <td>SKT미납센터연락처</td>\n",
       "      <td>미납이용정지</td>\n",
       "      <td>미납직권해지</td>\n",
       "      <td>요금납부일확인방법</td>\n",
       "      <td>SKT미납센터연락처</td>\n",
       "      <td>미납이용정지</td>\n",
       "    </tr>\n",
       "    <tr>\n",
       "      <th>1</th>\n",
       "      <td>미납 문의할게</td>\n",
       "      <td>27234</td>\n",
       "      <td>SKT해지미납센터연락처</td>\n",
       "      <td>SKT미납센터연락처</td>\n",
       "      <td>미납직권해지</td>\n",
       "      <td>SKT미납센터연락처</td>\n",
       "      <td>미납이용정지</td>\n",
       "      <td>과납</td>\n",
       "    </tr>\n",
       "  </tbody>\n",
       "</table>\n",
       "</div>"
      ],
      "text/plain": [
       "            query query_cnt       p_rank1     p_rank2 p_rank3    n_rank_1  \\\n",
       "0  미납요금 납부 가능일 문의     49194    SKT미납센터연락처      미납이용정지  미납직권해지   요금납부일확인방법   \n",
       "1         미납 문의할게     27234  SKT해지미납센터연락처  SKT미납센터연락처  미납직권해지  SKT미납센터연락처   \n",
       "\n",
       "      n_rank2 n_rank3  \n",
       "0  SKT미납센터연락처  미납이용정지  \n",
       "1      미납이용정지      과납  "
      ]
     },
     "execution_count": 112,
     "metadata": {},
     "output_type": "execute_result"
    }
   ],
   "source": [
    "data.head(2)"
   ]
  },
  {
   "cell_type": "code",
   "execution_count": 113,
   "id": "7ed70cd0-ae1c-4f9a-8e7f-e98163fea66f",
   "metadata": {
    "execution": {
     "iopub.execute_input": "2023-11-28T08:15:48.660724Z",
     "iopub.status.busy": "2023-11-28T08:15:48.659973Z",
     "iopub.status.idle": "2023-11-28T08:15:48.670383Z",
     "shell.execute_reply": "2023-11-28T08:15:48.669075Z",
     "shell.execute_reply.started": "2023-11-28T08:15:48.660675Z"
    }
   },
   "outputs": [],
   "source": [
    "data['query_cnt'] = data['query_cnt'].astype('int')\n",
    "data['query_len'] = data['query'].apply(lambda x: len(x))"
   ]
  },
  {
   "cell_type": "code",
   "execution_count": 128,
   "id": "667569c0-0e2d-49a6-b05f-ba5ffe41b016",
   "metadata": {
    "execution": {
     "iopub.execute_input": "2023-11-28T08:31:40.596530Z",
     "iopub.status.busy": "2023-11-28T08:31:40.596022Z",
     "iopub.status.idle": "2023-11-28T08:31:40.604354Z",
     "shell.execute_reply": "2023-11-28T08:31:40.603348Z",
     "shell.execute_reply.started": "2023-11-28T08:31:40.596502Z"
    }
   },
   "outputs": [],
   "source": [
    "sampling_df3 = data.loc[(data.p_rank1 != data.n_rank_1) & (data.query_cnt > 2)]"
   ]
  },
  {
   "cell_type": "code",
   "execution_count": 124,
   "id": "4b682eff-dc8b-4378-825c-7932c2275a6c",
   "metadata": {
    "execution": {
     "iopub.execute_input": "2023-11-28T08:30:50.893058Z",
     "iopub.status.busy": "2023-11-28T08:30:50.892376Z",
     "iopub.status.idle": "2023-11-28T08:30:50.904477Z",
     "shell.execute_reply": "2023-11-28T08:30:50.903666Z",
     "shell.execute_reply.started": "2023-11-28T08:30:50.893011Z"
    }
   },
   "outputs": [],
   "source": [
    "sampling_df = data.loc[(data.p_rank1 != data.n_rank_1) & (data.query_cnt <= 2) & (data.n_rank_1 !='')].sample(n=950)"
   ]
  },
  {
   "cell_type": "code",
   "execution_count": 126,
   "id": "c116d008-dbae-4c6b-a373-fb8eabc7269b",
   "metadata": {
    "execution": {
     "iopub.execute_input": "2023-11-28T08:31:10.599949Z",
     "iopub.status.busy": "2023-11-28T08:31:10.599198Z",
     "iopub.status.idle": "2023-11-28T08:31:10.612881Z",
     "shell.execute_reply": "2023-11-28T08:31:10.611976Z",
     "shell.execute_reply.started": "2023-11-28T08:31:10.599898Z"
    }
   },
   "outputs": [],
   "source": [
    "sampling_df2 = data.loc[(data.p_rank1 != data.n_rank_1) & (data.query_cnt <= 2) & (data.n_rank_1 =='')].sample(n=50)"
   ]
  },
  {
   "cell_type": "code",
   "execution_count": 132,
   "id": "0d61c606-265f-4014-9c73-7ef9f5ecfd08",
   "metadata": {
    "execution": {
     "iopub.execute_input": "2023-11-28T08:32:10.866713Z",
     "iopub.status.busy": "2023-11-28T08:32:10.865948Z",
     "iopub.status.idle": "2023-11-28T08:32:10.877456Z",
     "shell.execute_reply": "2023-11-28T08:32:10.876436Z",
     "shell.execute_reply.started": "2023-11-28T08:32:10.866663Z"
    }
   },
   "outputs": [],
   "source": [
    "result = pd.concat([sampling_df3, sampling_df, sampling_df2]).reset_index()"
   ]
  },
  {
   "cell_type": "code",
   "execution_count": 136,
   "id": "3d2b19e8-5ccb-41a7-96a3-f5ccc77726c1",
   "metadata": {
    "execution": {
     "iopub.execute_input": "2023-11-28T08:34:20.822028Z",
     "iopub.status.busy": "2023-11-28T08:34:20.821370Z",
     "iopub.status.idle": "2023-11-28T08:34:21.021890Z",
     "shell.execute_reply": "2023-11-28T08:34:21.020834Z",
     "shell.execute_reply.started": "2023-11-28T08:34:20.821981Z"
    }
   },
   "outputs": [],
   "source": [
    "result.to_csv('../result/result_tbl.csv', encoding='utf-8-sig')"
   ]
  }
 ],
 "metadata": {
  "kernelspec": {
   "display_name": "Python 3 (ipykernel)",
   "language": "python",
   "name": "python3"
  },
  "language_info": {
   "codemirror_mode": {
    "name": "ipython",
    "version": 3
   },
   "file_extension": ".py",
   "mimetype": "text/x-python",
   "name": "python",
   "nbconvert_exporter": "python",
   "pygments_lexer": "ipython3",
   "version": "3.8.18"
  }
 },
 "nbformat": 4,
 "nbformat_minor": 5
}
