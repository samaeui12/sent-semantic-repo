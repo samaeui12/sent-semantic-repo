{
 "cells": [
  {
   "cell_type": "code",
   "execution_count": 15,
   "id": "ed94eb33-680f-482c-876a-0b708557f385",
   "metadata": {
    "execution": {
     "iopub.execute_input": "2023-11-21T07:04:03.692097Z",
     "iopub.status.busy": "2023-11-21T07:04:03.691370Z",
     "iopub.status.idle": "2023-11-21T07:04:03.697040Z",
     "shell.execute_reply": "2023-11-21T07:04:03.695871Z",
     "shell.execute_reply.started": "2023-11-21T07:04:03.692044Z"
    }
   },
   "outputs": [],
   "source": [
    "#pip install torch==1.10.1+cu111 torchvision==0.11.2+cu111 torchaudio==0.10.1 -f https://download.pytorch.org/whl/torch_stable.html"
   ]
  },
  {
   "cell_type": "code",
   "execution_count": null,
   "id": "8ed35c5e-847b-41ab-9f74-6f4c39c07744",
   "metadata": {},
   "outputs": [],
   "source": []
  },
  {
   "cell_type": "code",
   "execution_count": null,
   "id": "aaa60025-efa6-40a1-b245-e460762cdde5",
   "metadata": {},
   "outputs": [],
   "source": [
    "# pip install pip install transformers"
   ]
  },
  {
   "cell_type": "code",
   "execution_count": 1,
   "id": "d57c1fc8-2fb9-4891-aced-0ca5a730d4b7",
   "metadata": {
    "execution": {
     "iopub.execute_input": "2023-11-24T03:37:08.619419Z",
     "iopub.status.busy": "2023-11-24T03:37:08.618674Z",
     "iopub.status.idle": "2023-11-24T03:37:10.758500Z",
     "shell.execute_reply": "2023-11-24T03:37:10.757521Z",
     "shell.execute_reply.started": "2023-11-24T03:37:08.619366Z"
    }
   },
   "outputs": [],
   "source": [
    "import torch\n",
    "from transformers import (\n",
    "    AdamW,\n",
    "    AutoModel,\n",
    "    get_linear_schedule_with_warmup,\n",
    "    AutoTokenizer,\n",
    "    AutoConfig\n",
    ")"
   ]
  },
  {
   "cell_type": "code",
   "execution_count": 2,
   "id": "e41e989a-8348-4be7-bfaa-973a033a105f",
   "metadata": {
    "execution": {
     "iopub.execute_input": "2023-11-24T03:37:10.762072Z",
     "iopub.status.busy": "2023-11-24T03:37:10.761188Z",
     "iopub.status.idle": "2023-11-24T03:37:11.337891Z",
     "shell.execute_reply": "2023-11-24T03:37:11.336108Z",
     "shell.execute_reply.started": "2023-11-24T03:37:10.762010Z"
    }
   },
   "outputs": [],
   "source": [
    "from src.utils import set_seed\n",
    "from src.trainer import SimcseTrainer\n",
    "from src.dataset import DATASET_MAPPING_DICT\n",
    "from src.utils import PreprocessorFactory \n",
    "from src.utils import get_model_argparse\n",
    "from src.model import MODEL_MAPPING_DICT\n",
    "from src.model import CONFIG_MAPPING_DICT\n",
    "from src.logger import Experi_Logger\n",
    "from config.nli_config import nli_parser_model_args"
   ]
  },
  {
   "cell_type": "code",
   "execution_count": 3,
   "id": "17864d25-2b05-4ad3-880e-1d1a0be99d85",
   "metadata": {
    "execution": {
     "iopub.execute_input": "2023-11-24T03:37:11.340426Z",
     "iopub.status.busy": "2023-11-24T03:37:11.339906Z",
     "iopub.status.idle": "2023-11-24T03:37:11.345665Z",
     "shell.execute_reply": "2023-11-24T03:37:11.344642Z",
     "shell.execute_reply.started": "2023-11-24T03:37:11.340374Z"
    }
   },
   "outputs": [],
   "source": [
    "import os\n",
    "import logging"
   ]
  },
  {
   "cell_type": "code",
   "execution_count": 4,
   "id": "81b08c78-e00d-486c-a340-2867abd97b04",
   "metadata": {
    "execution": {
     "iopub.execute_input": "2023-11-24T03:37:11.348347Z",
     "iopub.status.busy": "2023-11-24T03:37:11.347851Z",
     "iopub.status.idle": "2023-11-24T03:37:11.384658Z",
     "shell.execute_reply": "2023-11-24T03:37:11.383209Z",
     "shell.execute_reply.started": "2023-11-24T03:37:11.348292Z"
    }
   },
   "outputs": [],
   "source": [
    "from skt.vault_utils import get_secrets\n",
    "proxies = get_secrets('proxies')"
   ]
  },
  {
   "cell_type": "code",
   "execution_count": 5,
   "id": "b0f12465-b34b-4720-9399-ace3301ae8cf",
   "metadata": {
    "execution": {
     "iopub.execute_input": "2023-11-24T03:37:11.387238Z",
     "iopub.status.busy": "2023-11-24T03:37:11.386614Z",
     "iopub.status.idle": "2023-11-24T03:37:11.392105Z",
     "shell.execute_reply": "2023-11-24T03:37:11.390989Z",
     "shell.execute_reply.started": "2023-11-24T03:37:11.387189Z"
    }
   },
   "outputs": [],
   "source": [
    "import os \n",
    "import numpy as np\n",
    "import torch"
   ]
  },
  {
   "cell_type": "code",
   "execution_count": 6,
   "id": "61bf7ffe-c610-40b2-bdb1-3989844549d6",
   "metadata": {
    "execution": {
     "iopub.execute_input": "2023-11-24T03:37:11.393827Z",
     "iopub.status.busy": "2023-11-24T03:37:11.393398Z",
     "iopub.status.idle": "2023-11-24T03:37:11.403478Z",
     "shell.execute_reply": "2023-11-24T03:37:11.402533Z",
     "shell.execute_reply.started": "2023-11-24T03:37:11.393792Z"
    }
   },
   "outputs": [],
   "source": [
    "os.environ['http_proxy'] = proxies['http']\n",
    "os.environ['https_proxy'] = proxies['https']"
   ]
  },
  {
   "cell_type": "code",
   "execution_count": 7,
   "id": "b336e877-af1b-4da3-ac8e-4be2f9aecc3a",
   "metadata": {
    "execution": {
     "iopub.execute_input": "2023-11-24T03:37:11.432639Z",
     "iopub.status.busy": "2023-11-24T03:37:11.432077Z",
     "iopub.status.idle": "2023-11-24T03:37:11.528808Z",
     "shell.execute_reply": "2023-11-24T03:37:11.528114Z",
     "shell.execute_reply.started": "2023-11-24T03:37:11.432594Z"
    }
   },
   "outputs": [],
   "source": [
    "if torch.cuda.is_available():\n",
    "    device = 'cuda'\n",
    "else:\n",
    "    device = 'cpu'"
   ]
  },
  {
   "cell_type": "markdown",
   "id": "39840c8f-1817-49de-8de1-ba69d2980305",
   "metadata": {},
   "source": [
    "# LOAD ARGS FOR EXPERI SETTING"
   ]
  },
  {
   "cell_type": "code",
   "execution_count": 8,
   "id": "d52eca24-fa68-4c14-a83a-9dc3b568d7a3",
   "metadata": {
    "execution": {
     "iopub.execute_input": "2023-11-24T03:37:13.028181Z",
     "iopub.status.busy": "2023-11-24T03:37:13.027383Z",
     "iopub.status.idle": "2023-11-24T03:37:13.037293Z",
     "shell.execute_reply": "2023-11-24T03:37:13.035991Z",
     "shell.execute_reply.started": "2023-11-24T03:37:13.028127Z"
    }
   },
   "outputs": [],
   "source": [
    "args = nli_parser_model_args()"
   ]
  },
  {
   "cell_type": "code",
   "execution_count": 9,
   "id": "c6fab14c-24a4-4202-99a6-2c014556c73a",
   "metadata": {
    "execution": {
     "iopub.execute_input": "2023-11-24T03:37:14.516892Z",
     "iopub.status.busy": "2023-11-24T03:37:14.516021Z",
     "iopub.status.idle": "2023-11-24T03:37:14.527254Z",
     "shell.execute_reply": "2023-11-24T03:37:14.526303Z",
     "shell.execute_reply.started": "2023-11-24T03:37:14.516832Z"
    }
   },
   "outputs": [],
   "source": [
    "args.device = torch.device(\"cuda:0\" if torch.cuda.is_available() else \"cpu\")\n",
    "args.n_gpu = torch.cuda.device_count()\n",
    "args.output_dir = f'/home/x1112436/result/faq/modelfile/{args.pretrained_model}'\n",
    "args.log_dir = f'/home/x1112436/result/faq/log/{args.pretrained_model}'\n",
    "args.experiments_path = f'/home/x1112436/result/faq/experiment/{args.pretrained_model}/experiment.csv'\n",
    "args.is_preprocessed = True\n",
    "args.valid_first = False\n",
    "args.data_type='triple'\n",
    "args.loss= 'TripletLoss'\n",
    "args.margin = 0.7\n",
    "args.num_train_epochs = 20\n",
    "args.model_max_len = 50\n",
    "args.valid_first = True"
   ]
  },
  {
   "cell_type": "code",
   "execution_count": 10,
   "id": "559af2c0-82e4-44bd-b22a-7eabca77f224",
   "metadata": {
    "execution": {
     "iopub.execute_input": "2023-11-24T03:37:16.676243Z",
     "iopub.status.busy": "2023-11-24T03:37:16.675484Z",
     "iopub.status.idle": "2023-11-24T03:37:16.681778Z",
     "shell.execute_reply": "2023-11-24T03:37:16.680790Z",
     "shell.execute_reply.started": "2023-11-24T03:37:16.676192Z"
    }
   },
   "outputs": [
    {
     "name": "stdout",
     "output_type": "stream",
     "text": [
      "/home/x1112436/result/faq/log/klue/roberta-large\n"
     ]
    }
   ],
   "source": [
    "print(args.log_dir)"
   ]
  },
  {
   "cell_type": "code",
   "execution_count": 11,
   "id": "0a351438-0a9d-4b27-b345-37e8ab51f879",
   "metadata": {
    "execution": {
     "iopub.execute_input": "2023-11-24T03:37:22.500814Z",
     "iopub.status.busy": "2023-11-24T03:37:22.499596Z",
     "iopub.status.idle": "2023-11-24T03:37:22.507660Z",
     "shell.execute_reply": "2023-11-24T03:37:22.506387Z",
     "shell.execute_reply.started": "2023-11-24T03:37:22.500720Z"
    }
   },
   "outputs": [],
   "source": [
    "args.pretrained_model = '/home/x1112436/model_file/faq_sent_roberta/sent_roberta'"
   ]
  },
  {
   "cell_type": "code",
   "execution_count": 12,
   "id": "a9078792-cf51-48bf-a4f7-6756e950d7c8",
   "metadata": {
    "execution": {
     "iopub.execute_input": "2023-11-24T03:37:25.218636Z",
     "iopub.status.busy": "2023-11-24T03:37:25.217799Z",
     "iopub.status.idle": "2023-11-24T03:37:31.157028Z",
     "shell.execute_reply": "2023-11-24T03:37:31.156025Z",
     "shell.execute_reply.started": "2023-11-24T03:37:25.218580Z"
    }
   },
   "outputs": [],
   "source": [
    "model = MODEL_MAPPING_DICT['sent_roberta'].from_pretrained(\n",
    "    args.pretrained_model, **vars(args), \n",
    ")\n",
    "tokenizer = AutoTokenizer.from_pretrained(args.pretrained_model)"
   ]
  },
  {
   "cell_type": "markdown",
   "id": "7a64fb20-a510-47bb-bb5a-e9908f8237f3",
   "metadata": {},
   "source": [
    "# LOAD RESOURCE"
   ]
  },
  {
   "cell_type": "code",
   "execution_count": 13,
   "id": "e03eb376-6f58-4404-8f43-83162fbb1c17",
   "metadata": {
    "execution": {
     "iopub.execute_input": "2023-11-23T01:16:28.534568Z",
     "iopub.status.busy": "2023-11-23T01:16:28.533872Z",
     "iopub.status.idle": "2023-11-23T01:16:28.539739Z",
     "shell.execute_reply": "2023-11-23T01:16:28.538625Z",
     "shell.execute_reply.started": "2023-11-23T01:16:28.534520Z"
    }
   },
   "outputs": [],
   "source": [
    "# added_tokens = []\n",
    "# with open('./data/add_tokens.csv', 'r') as f:\n",
    "#     for data in f:\n",
    "#         added_tokens.append(data.strip())"
   ]
  },
  {
   "cell_type": "code",
   "execution_count": 14,
   "id": "876e8c34-bdb2-43ac-8da1-c8cb93deed5a",
   "metadata": {
    "execution": {
     "iopub.execute_input": "2023-11-23T01:16:28.541918Z",
     "iopub.status.busy": "2023-11-23T01:16:28.541358Z",
     "iopub.status.idle": "2023-11-23T01:16:28.551175Z",
     "shell.execute_reply": "2023-11-23T01:16:28.550351Z",
     "shell.execute_reply.started": "2023-11-23T01:16:28.541876Z"
    }
   },
   "outputs": [],
   "source": [
    "added_tokens = [\n",
    " 'NUGU',\n",
    " 'wavve',\n",
    " 'All케어플러스3',\n",
    " '컬러링',\n",
    " 'T플랜',\n",
    " 'baro',\n",
    " '5G',\n",
    " 'SMS',\n",
    " 'T파이',\n",
    " '티파이'\n",
    "]"
   ]
  },
  {
   "cell_type": "code",
   "execution_count": 15,
   "id": "36bc533f-0f2c-428c-9923-b2560687baa9",
   "metadata": {
    "execution": {
     "iopub.execute_input": "2023-11-23T01:16:28.555445Z",
     "iopub.status.busy": "2023-11-23T01:16:28.555166Z",
     "iopub.status.idle": "2023-11-23T01:16:28.560734Z",
     "shell.execute_reply": "2023-11-23T01:16:28.559865Z",
     "shell.execute_reply.started": "2023-11-23T01:16:28.555421Z"
    }
   },
   "outputs": [],
   "source": [
    "# add tokens to tokenizer and resize embeddings"
   ]
  },
  {
   "cell_type": "code",
   "execution_count": 16,
   "id": "1090fab8-6fdc-49d8-b78f-4db497250278",
   "metadata": {
    "execution": {
     "iopub.execute_input": "2023-11-23T01:16:28.562068Z",
     "iopub.status.busy": "2023-11-23T01:16:28.561745Z",
     "iopub.status.idle": "2023-11-23T01:16:28.590160Z",
     "shell.execute_reply": "2023-11-23T01:16:28.589601Z",
     "shell.execute_reply.started": "2023-11-23T01:16:28.562043Z"
    }
   },
   "outputs": [],
   "source": [
    "new_tokens = set(added_tokens) - set(tokenizer.vocab.keys())"
   ]
  },
  {
   "cell_type": "code",
   "execution_count": 17,
   "id": "f1ffa96b-e6da-4232-94f8-73e4ae13f395",
   "metadata": {
    "execution": {
     "iopub.execute_input": "2023-11-23T01:16:28.592559Z",
     "iopub.status.busy": "2023-11-23T01:16:28.592243Z",
     "iopub.status.idle": "2023-11-23T01:16:28.608472Z",
     "shell.execute_reply": "2023-11-23T01:16:28.607677Z",
     "shell.execute_reply.started": "2023-11-23T01:16:28.592542Z"
    }
   },
   "outputs": [
    {
     "data": {
      "text/plain": [
       "10"
      ]
     },
     "execution_count": 17,
     "metadata": {},
     "output_type": "execute_result"
    }
   ],
   "source": [
    "tokenizer.add_tokens(list(new_tokens), special_tokens=False)"
   ]
  },
  {
   "cell_type": "code",
   "execution_count": 18,
   "id": "018e0a75-82d4-4087-87ec-5bb46aee3988",
   "metadata": {
    "execution": {
     "iopub.execute_input": "2023-11-23T01:16:39.850186Z",
     "iopub.status.busy": "2023-11-23T01:16:39.849275Z",
     "iopub.status.idle": "2023-11-23T01:16:40.350478Z",
     "shell.execute_reply": "2023-11-23T01:16:40.349904Z",
     "shell.execute_reply.started": "2023-11-23T01:16:39.850134Z"
    }
   },
   "outputs": [
    {
     "data": {
      "text/plain": [
       "Embedding(32010, 1024)"
      ]
     },
     "execution_count": 18,
     "metadata": {},
     "output_type": "execute_result"
    }
   ],
   "source": [
    "model.resize_token_embeddings(len(tokenizer))"
   ]
  },
  {
   "cell_type": "code",
   "execution_count": 19,
   "id": "29736ed4-dbe9-4ad6-be20-19e00a050a4f",
   "metadata": {
    "execution": {
     "iopub.execute_input": "2023-11-23T01:16:41.627022Z",
     "iopub.status.busy": "2023-11-23T01:16:41.626188Z",
     "iopub.status.idle": "2023-11-23T01:16:42.363748Z",
     "shell.execute_reply": "2023-11-23T01:16:42.362144Z",
     "shell.execute_reply.started": "2023-11-23T01:16:41.626974Z"
    }
   },
   "outputs": [],
   "source": [
    "train_dataset = []\n",
    "with open('./data/train.csv', 'r') as f:\n",
    "    for data in f:\n",
    "        line = data.strip().split('\\t')\n",
    "        train_dataset.append(line)"
   ]
  },
  {
   "cell_type": "code",
   "execution_count": 20,
   "id": "61f04f1f-2745-4112-8af1-f27d2dd9fcbf",
   "metadata": {
    "execution": {
     "iopub.execute_input": "2023-11-23T01:16:42.367024Z",
     "iopub.status.busy": "2023-11-23T01:16:42.366397Z",
     "iopub.status.idle": "2023-11-23T01:16:42.372505Z",
     "shell.execute_reply": "2023-11-23T01:16:42.371326Z",
     "shell.execute_reply.started": "2023-11-23T01:16:42.366973Z"
    }
   },
   "outputs": [],
   "source": [
    "preprocessor = PreprocessorFactory(data_type=args.data_type)"
   ]
  },
  {
   "cell_type": "code",
   "execution_count": 21,
   "id": "281f6234-6de5-40e9-a8d4-0e60426114f1",
   "metadata": {
    "execution": {
     "iopub.execute_input": "2023-11-23T01:16:42.664702Z",
     "iopub.status.busy": "2023-11-23T01:16:42.664035Z",
     "iopub.status.idle": "2023-11-23T01:17:27.288056Z",
     "shell.execute_reply": "2023-11-23T01:17:27.286923Z",
     "shell.execute_reply.started": "2023-11-23T01:16:42.664656Z"
    }
   },
   "outputs": [],
   "source": [
    "faq_data = preprocessor.preprocess(\n",
    "                  data_path='./data/train.csv',\n",
    "                  tokenizer=tokenizer, \n",
    "                  save_path=None,\n",
    "                  header=False\n",
    ")"
   ]
  },
  {
   "cell_type": "code",
   "execution_count": 22,
   "id": "b9f0e7a7-bdf5-481d-bf9c-60f2dcffc5c9",
   "metadata": {
    "execution": {
     "iopub.execute_input": "2023-11-23T01:17:27.290771Z",
     "iopub.status.busy": "2023-11-23T01:17:27.290063Z",
     "iopub.status.idle": "2023-11-23T01:17:27.349635Z",
     "shell.execute_reply": "2023-11-23T01:17:27.349033Z",
     "shell.execute_reply.started": "2023-11-23T01:17:27.290747Z"
    }
   },
   "outputs": [],
   "source": [
    "train_dataset = DATASET_MAPPING_DICT['Unsup_simcse']\n",
    "train_dataset = train_dataset(args=args, features=faq_data, max_length=args.model_max_len, tokenizer=tokenizer)"
   ]
  },
  {
   "cell_type": "markdown",
   "id": "9a189a5e-bbc4-4f53-a763-40dc5b4d0735",
   "metadata": {},
   "source": [
    "# validation set"
   ]
  },
  {
   "cell_type": "code",
   "execution_count": 23,
   "id": "34434cd8-5c0c-4885-a39f-15dbd3685205",
   "metadata": {
    "execution": {
     "iopub.execute_input": "2023-11-23T01:17:27.350675Z",
     "iopub.status.busy": "2023-11-23T01:17:27.350490Z",
     "iopub.status.idle": "2023-11-23T01:17:42.933922Z",
     "shell.execute_reply": "2023-11-23T01:17:42.933141Z",
     "shell.execute_reply.started": "2023-11-23T01:17:27.350659Z"
    }
   },
   "outputs": [],
   "source": [
    "faq_val_data = preprocessor.preprocess(\n",
    "                  data_path='./data/val.csv',\n",
    "                  tokenizer=tokenizer, \n",
    "                  save_path=None,\n",
    "                  header=False\n",
    ")"
   ]
  },
  {
   "cell_type": "code",
   "execution_count": 24,
   "id": "e6e14f02-b5ca-4cdc-81d1-c2f406c2be56",
   "metadata": {
    "execution": {
     "iopub.execute_input": "2023-11-23T01:17:42.936071Z",
     "iopub.status.busy": "2023-11-23T01:17:42.935732Z",
     "iopub.status.idle": "2023-11-23T01:17:42.939227Z",
     "shell.execute_reply": "2023-11-23T01:17:42.938688Z",
     "shell.execute_reply.started": "2023-11-23T01:17:42.936052Z"
    }
   },
   "outputs": [],
   "source": [
    "val_dataset = DATASET_MAPPING_DICT['Unsup_simcse']\n",
    "val_dataset = val_dataset(args=args, features=faq_val_data, max_length=args.model_max_len, tokenizer=tokenizer)"
   ]
  },
  {
   "cell_type": "markdown",
   "id": "c8c2ebdf-71f2-4be6-b1b2-862b9e7af887",
   "metadata": {},
   "source": [
    "# Trainer"
   ]
  },
  {
   "cell_type": "code",
   "execution_count": 25,
   "id": "7eb1baaf-e99e-4c4a-8468-de00963b6588",
   "metadata": {
    "execution": {
     "iopub.execute_input": "2023-11-23T01:17:42.940165Z",
     "iopub.status.busy": "2023-11-23T01:17:42.939994Z",
     "iopub.status.idle": "2023-11-23T01:17:42.955569Z",
     "shell.execute_reply": "2023-11-23T01:17:42.954777Z",
     "shell.execute_reply.started": "2023-11-23T01:17:42.940150Z"
    }
   },
   "outputs": [],
   "source": [
    "trainer = SimcseTrainer(args=args, logger=logging)"
   ]
  },
  {
   "cell_type": "code",
   "execution_count": 26,
   "id": "8782af62-d1bd-4af7-8e26-7839ede9057e",
   "metadata": {
    "execution": {
     "iopub.execute_input": "2023-11-23T01:17:42.956651Z",
     "iopub.status.busy": "2023-11-23T01:17:42.956430Z",
     "iopub.status.idle": "2023-11-23T01:17:47.914854Z",
     "shell.execute_reply": "2023-11-23T01:17:47.914193Z",
     "shell.execute_reply.started": "2023-11-23T01:17:42.956632Z"
    }
   },
   "outputs": [
    {
     "name": "stdout",
     "output_type": "stream",
     "text": [
      "loss: TripletLoss\n"
     ]
    },
    {
     "name": "stderr",
     "output_type": "stream",
     "text": [
      "/opt/conda/lib/python3.8/site-packages/transformers/optimization.py:411: FutureWarning: This implementation of AdamW is deprecated and will be removed in a future version. Use the PyTorch implementation torch.optim.AdamW instead, or set `no_deprecation_warning=True` to disable this warning\n",
      "  warnings.warn(\n"
     ]
    }
   ],
   "source": [
    "trainer.model_setting(model_type=args.model_type, train_dataset=train_dataset, model=model, tokenizer=tokenizer)"
   ]
  },
  {
   "cell_type": "code",
   "execution_count": null,
   "id": "8f1b2a2e-2538-445d-a838-d474e18e155c",
   "metadata": {
    "execution": {
     "iopub.execute_input": "2023-11-23T01:17:47.915982Z",
     "iopub.status.busy": "2023-11-23T01:17:47.915792Z"
    }
   },
   "outputs": [
    {
     "name": "stdout",
     "output_type": "stream",
     "text": [
      "loss: TripletLoss\n"
     ]
    },
    {
     "data": {
      "application/vnd.jupyter.widget-view+json": {
       "model_id": "57ab4c27010e42e9aa6a044beb0f6f18",
       "version_major": 2,
       "version_minor": 0
      },
      "text/plain": [
       "  0%|          | 0/20 [00:00<?, ?it/s]"
      ]
     },
     "metadata": {},
     "output_type": "display_data"
    },
    {
     "data": {
      "application/vnd.jupyter.widget-view+json": {
       "model_id": "c11d3e0e085a40e2aebb2277a64bff20",
       "version_major": 2,
       "version_minor": 0
      },
      "text/plain": [
       "  0%|          | 0/2200 [00:00<?, ?it/s]"
      ]
     },
     "metadata": {},
     "output_type": "display_data"
    },
    {
     "data": {
      "application/vnd.jupyter.widget-view+json": {
       "model_id": "",
       "version_major": 2,
       "version_minor": 0
      },
      "text/plain": [
       "Evaluating:   0%|          | 0/100 [00:00<?, ?it/s]"
      ]
     },
     "metadata": {},
     "output_type": "display_data"
    },
    {
     "data": {
      "application/vnd.jupyter.widget-view+json": {
       "model_id": "bdec655321a84ab98ca78b33c9c2cee6",
       "version_major": 2,
       "version_minor": 0
      },
      "text/plain": [
       "  0%|          | 0/2200 [00:00<?, ?it/s]"
      ]
     },
     "metadata": {},
     "output_type": "display_data"
    },
    {
     "data": {
      "application/vnd.jupyter.widget-view+json": {
       "model_id": "",
       "version_major": 2,
       "version_minor": 0
      },
      "text/plain": [
       "Evaluating:   0%|          | 0/100 [00:00<?, ?it/s]"
      ]
     },
     "metadata": {},
     "output_type": "display_data"
    },
    {
     "data": {
      "application/vnd.jupyter.widget-view+json": {
       "model_id": "4b93f99c38c5484c9ab3aa64295a39eb",
       "version_major": 2,
       "version_minor": 0
      },
      "text/plain": [
       "  0%|          | 0/2200 [00:00<?, ?it/s]"
      ]
     },
     "metadata": {},
     "output_type": "display_data"
    },
    {
     "data": {
      "application/vnd.jupyter.widget-view+json": {
       "model_id": "",
       "version_major": 2,
       "version_minor": 0
      },
      "text/plain": [
       "Evaluating:   0%|          | 0/100 [00:00<?, ?it/s]"
      ]
     },
     "metadata": {},
     "output_type": "display_data"
    },
    {
     "data": {
      "application/vnd.jupyter.widget-view+json": {
       "model_id": "3574cf563a6d4e298d6c487dca63e165",
       "version_major": 2,
       "version_minor": 0
      },
      "text/plain": [
       "  0%|          | 0/2200 [00:00<?, ?it/s]"
      ]
     },
     "metadata": {},
     "output_type": "display_data"
    }
   ],
   "source": [
    "trainer.train(model=model, tokenizer=tokenizer, train_dataset=train_dataset, val_dataset=val_dataset, model_type=args.model_type)"
   ]
  },
  {
   "cell_type": "code",
   "execution_count": null,
   "id": "d2ae834f-c92f-47f5-a2c5-88d0efe917b6",
   "metadata": {},
   "outputs": [],
   "source": [
    "import time\n",
    "time.sleep(21600)"
   ]
  },
  {
   "cell_type": "code",
   "execution_count": null,
   "id": "6d266ff0-a9e2-48dc-9e73-3bd1d2a7973a",
   "metadata": {},
   "outputs": [],
   "source": []
  }
 ],
 "metadata": {
  "kernelspec": {
   "display_name": "Python 3 (ipykernel)",
   "language": "python",
   "name": "python3"
  },
  "language_info": {
   "codemirror_mode": {
    "name": "ipython",
    "version": 3
   },
   "file_extension": ".py",
   "mimetype": "text/x-python",
   "name": "python",
   "nbconvert_exporter": "python",
   "pygments_lexer": "ipython3",
   "version": "3.8.12"
  }
 },
 "nbformat": 4,
 "nbformat_minor": 5
}
