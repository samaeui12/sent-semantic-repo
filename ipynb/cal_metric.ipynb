{
 "cells": [
  {
   "cell_type": "code",
   "execution_count": 2,
   "id": "d0af835e-6839-4640-b440-aa84c7b21b05",
   "metadata": {
    "execution": {
     "iopub.execute_input": "2023-11-27T01:31:49.249452Z",
     "iopub.status.busy": "2023-11-27T01:31:49.248763Z",
     "iopub.status.idle": "2023-11-27T01:31:49.987876Z",
     "shell.execute_reply": "2023-11-27T01:31:49.986932Z",
     "shell.execute_reply.started": "2023-11-27T01:31:49.249403Z"
    }
   },
   "outputs": [],
   "source": [
    "import torch\n",
    "from transformers import (\n",
    "    AdamW,\n",
    "    AutoModel,\n",
    "    get_linear_schedule_with_warmup,\n",
    "    AutoTokenizer,\n",
    "    AutoConfig\n",
    ")"
   ]
  },
  {
   "cell_type": "code",
   "execution_count": 3,
   "id": "2f87d1cd-b311-4d0f-bc07-a1dce4f9e581",
   "metadata": {
    "execution": {
     "iopub.execute_input": "2023-11-27T01:31:52.617569Z",
     "iopub.status.busy": "2023-11-27T01:31:52.616873Z",
     "iopub.status.idle": "2023-11-27T01:31:53.237739Z",
     "shell.execute_reply": "2023-11-27T01:31:53.236685Z",
     "shell.execute_reply.started": "2023-11-27T01:31:52.617520Z"
    }
   },
   "outputs": [],
   "source": [
    "from src.utils import set_seed\n",
    "from src.trainer import SimcseTrainera\n",
    "from src.dataset import DATASET_MAPPING_DICT\n",
    "from src.utils import PreprocessorFactory \n",
    "from src.utils import get_model_argparse\n",
    "from src.model import MODEL_MAPPING_DICT\n",
    "from src.model import CONFIG_MAPPING_DICT\n",
    "from src.logger import Experi_Logger\n",
    "from config.nli_config import nli_parser_model_args"
   ]
  },
  {
   "cell_type": "code",
   "execution_count": 4,
   "id": "917cacc8-555a-444f-b29c-9d3dc438842c",
   "metadata": {
    "execution": {
     "iopub.execute_input": "2023-11-27T01:31:53.807344Z",
     "iopub.status.busy": "2023-11-27T01:31:53.806644Z",
     "iopub.status.idle": "2023-11-27T01:31:53.816081Z",
     "shell.execute_reply": "2023-11-27T01:31:53.814927Z",
     "shell.execute_reply.started": "2023-11-27T01:31:53.807282Z"
    }
   },
   "outputs": [],
   "source": [
    "args = nli_parser_model_args()"
   ]
  },
  {
   "cell_type": "code",
   "execution_count": 5,
   "id": "73ed324f-3952-4d5a-b296-e8826dbe7cd2",
   "metadata": {
    "execution": {
     "iopub.execute_input": "2023-11-27T01:31:55.327160Z",
     "iopub.status.busy": "2023-11-27T01:31:55.326791Z",
     "iopub.status.idle": "2023-11-27T01:31:55.375568Z",
     "shell.execute_reply": "2023-11-27T01:31:55.374651Z",
     "shell.execute_reply.started": "2023-11-27T01:31:55.327138Z"
    }
   },
   "outputs": [],
   "source": [
    "args.pretrained_model = '/home/x1112436/model_file/faq_sent_roberta/sent_roberta'\n",
    "#args.pretrained_model = f'/home/x1112436/result/faq/modelfile/{args.pretrained_model}'\n",
    "args.device = torch.device(\"cuda:0\" if torch.cuda.is_available() else \"cpu\")\n",
    "args.n_gpu = torch.cuda.device_count()\n",
    "args.output_dir = f'/home/x1112436/result/faq/modelfile/{args.pretrained_model}'\n",
    "args.log_dir = f'/home/x1112436/result/faq/log/{args.pretrained_model}'\n",
    "args.experiments_path = f'/home/x1112436/result/faq/experiment/{args.pretrained_model}/experiment.csv'\n",
    "args.model_max_len = 100\n",
    "args.is_preprocessed = True\n",
    "args.valid_first = False\n",
    "args.data_type='triple'\n",
    "args.loss= 'TripletLoss'\n",
    "args.margin = 1.0"
   ]
  },
  {
   "cell_type": "code",
   "execution_count": 6,
   "id": "f618432c-f921-4e22-a241-10d429f0e5e6",
   "metadata": {
    "execution": {
     "iopub.execute_input": "2023-11-27T01:31:58.580494Z",
     "iopub.status.busy": "2023-11-27T01:31:58.579688Z",
     "iopub.status.idle": "2023-11-27T01:31:58.592073Z",
     "shell.execute_reply": "2023-11-27T01:31:58.591243Z",
     "shell.execute_reply.started": "2023-11-27T01:31:58.580444Z"
    }
   },
   "outputs": [
    {
     "data": {
      "text/plain": [
       "'/home/x1112436/model_file/faq_sent_roberta/sent_roberta'"
      ]
     },
     "execution_count": 6,
     "metadata": {},
     "output_type": "execute_result"
    }
   ],
   "source": [
    "args.pretrained_model"
   ]
  },
  {
   "cell_type": "code",
   "execution_count": 7,
   "id": "be42d143-b66f-4604-8617-c5ab2961d767",
   "metadata": {
    "execution": {
     "iopub.execute_input": "2023-11-27T01:31:58.968353Z",
     "iopub.status.busy": "2023-11-27T01:31:58.967664Z",
     "iopub.status.idle": "2023-11-27T01:32:04.095629Z",
     "shell.execute_reply": "2023-11-27T01:32:04.094101Z",
     "shell.execute_reply.started": "2023-11-27T01:31:58.968286Z"
    }
   },
   "outputs": [],
   "source": [
    "model = MODEL_MAPPING_DICT['sent_roberta'].from_pretrained(\n",
    "    args.pretrained_model, **vars(args), \n",
    ")\n",
    "tokenizer = AutoTokenizer.from_pretrained(args.pretrained_model)"
   ]
  },
  {
   "cell_type": "markdown",
   "id": "748d7f49-28cb-4318-a6e2-0fd3c6b03af1",
   "metadata": {},
   "source": [
    "# LOAD DATA"
   ]
  },
  {
   "cell_type": "code",
   "execution_count": 8,
   "id": "08a6d975-ae07-449b-9414-173ee9832acb",
   "metadata": {
    "execution": {
     "iopub.execute_input": "2023-11-27T01:32:04.098939Z",
     "iopub.status.busy": "2023-11-27T01:32:04.098221Z",
     "iopub.status.idle": "2023-11-27T01:32:04.889420Z",
     "shell.execute_reply": "2023-11-27T01:32:04.888002Z",
     "shell.execute_reply.started": "2023-11-27T01:32:04.098888Z"
    }
   },
   "outputs": [],
   "source": [
    "from skt.gcp import load_bigquery_ipython_magic, \\\n",
    "                    bq_to_pandas, \\\n",
    "                    get_bigquery_client"
   ]
  },
  {
   "cell_type": "code",
   "execution_count": 172,
   "id": "5257d994-8295-48c9-a458-f17b985e1493",
   "metadata": {
    "execution": {
     "iopub.execute_input": "2023-11-27T04:22:01.637918Z",
     "iopub.status.busy": "2023-11-27T04:22:01.637215Z",
     "iopub.status.idle": "2023-11-27T04:22:01.643878Z",
     "shell.execute_reply": "2023-11-27T04:22:01.642699Z",
     "shell.execute_reply.started": "2023-11-27T04:22:01.637869Z"
    }
   },
   "outputs": [],
   "source": [
    "dataset = 'x1112436'\n",
    "log_table = 'faq_table'\n",
    "query = f\"\"\"\n",
    "        SELECT  qry_txt_cont,\n",
    "                ans_cont,\n",
    "                intent_nm,\n",
    "                type\n",
    "        FROM `skt-datahub.{dataset}.{log_table}`\n",
    "        WHERE type = 'faq'\n",
    "    \"\"\"\n",
    "#COALESCE(REGEXP_EXTRACT(ans_cont, r\"'([^']*)'\"), intent_nm) AS intent_nm,"
   ]
  },
  {
   "cell_type": "code",
   "execution_count": 173,
   "id": "2de75d2d-e9ed-4f52-8402-c6435e8dffce",
   "metadata": {
    "execution": {
     "iopub.execute_input": "2023-11-27T04:22:02.772944Z",
     "iopub.status.busy": "2023-11-27T04:22:02.772253Z",
     "iopub.status.idle": "2023-11-27T04:22:08.318973Z",
     "shell.execute_reply": "2023-11-27T04:22:08.318283Z",
     "shell.execute_reply.started": "2023-11-27T04:22:02.772894Z"
    }
   },
   "outputs": [
    {
     "name": "stdout",
     "output_type": "stream",
     "text": [
      "query: \n",
      "        SELECT  qry_txt_cont,\n",
      "                ans_cont,\n",
      "                intent_nm,\n",
      "                type\n",
      "        FROM `skt-datahub.x1112436.faq_table`\n",
      "        WHERE type = 'faq'\n",
      "    \n",
      "destination: skt-datahub._775c5ccab1096b3cccd7ac34a5db11c0a354fb07.anon72064c4d9aea8277a8e33f4640e22f213697ace283466db5904aa8d444d33a3d\n",
      "total_rows: 245417\n",
      "slot_secs: 1.407\n",
      "\n",
      "Downloading: 100%|\u001b[32m██████████\u001b[0m|\n"
     ]
    }
   ],
   "source": [
    "faq_table = bq_to_pandas(query)"
   ]
  },
  {
   "cell_type": "code",
   "execution_count": 228,
   "id": "6b5725c8-d079-457d-a7fa-58c3c19fa926",
   "metadata": {
    "execution": {
     "iopub.execute_input": "2023-11-27T05:28:26.942957Z",
     "iopub.status.busy": "2023-11-27T05:28:26.942302Z",
     "iopub.status.idle": "2023-11-27T05:28:27.125958Z",
     "shell.execute_reply": "2023-11-27T05:28:27.125273Z",
     "shell.execute_reply.started": "2023-11-27T05:28:26.942906Z"
    }
   },
   "outputs": [],
   "source": [
    "intent_nm_ans = faq_table[['intent_nm', 'ans_cont']].drop_duplicates(keep='first')\n",
    "intent_nm_ans.to_csv('./result/intent_nm.csv', encoding='utf-8-sig', index=False)"
   ]
  },
  {
   "cell_type": "code",
   "execution_count": 174,
   "id": "97ab9939-384f-4199-99a7-fc0fef593d0b",
   "metadata": {
    "execution": {
     "iopub.execute_input": "2023-11-27T04:22:08.618751Z",
     "iopub.status.busy": "2023-11-27T04:22:08.618038Z",
     "iopub.status.idle": "2023-11-27T04:22:08.766335Z",
     "shell.execute_reply": "2023-11-27T04:22:08.765624Z",
     "shell.execute_reply.started": "2023-11-27T04:22:08.618698Z"
    }
   },
   "outputs": [],
   "source": [
    "idx2query = list(faq_table.qry_txt_cont.unique())\n",
    "idx2intent_nm = list(faq_table.intent_nm.unique())"
   ]
  },
  {
   "cell_type": "code",
   "execution_count": 222,
   "id": "9b64becd-581d-4e31-a798-6b3239a5f3cb",
   "metadata": {
    "execution": {
     "iopub.execute_input": "2023-11-27T05:12:04.955425Z",
     "iopub.status.busy": "2023-11-27T05:12:04.954696Z",
     "iopub.status.idle": "2023-11-27T05:12:05.514061Z",
     "shell.execute_reply": "2023-11-27T05:12:05.513260Z",
     "shell.execute_reply.started": "2023-11-27T05:12:04.955371Z"
    }
   },
   "outputs": [],
   "source": [
    "faq_table[['qry_txt_cont', 'intent_nm']].to_csv('./result/faq_labeled_data.csv', encoding='utf-8-sig')"
   ]
  },
  {
   "cell_type": "code",
   "execution_count": 176,
   "id": "065406bb-9176-4f3c-98cc-a97266e3ba0c",
   "metadata": {
    "execution": {
     "iopub.execute_input": "2023-11-27T04:22:10.796690Z",
     "iopub.status.busy": "2023-11-27T04:22:10.795957Z",
     "iopub.status.idle": "2023-11-27T04:22:10.929345Z",
     "shell.execute_reply": "2023-11-27T04:22:10.928510Z",
     "shell.execute_reply.started": "2023-11-27T04:22:10.796638Z"
    }
   },
   "outputs": [],
   "source": [
    "faq_table_q_a = faq_table[['qry_txt_cont', 'intent_nm']]\n",
    "query_to_answer = faq_table_q_a.set_index('qry_txt_cont').to_dict()['intent_nm']"
   ]
  },
  {
   "cell_type": "markdown",
   "id": "5af845f1-d2af-4819-9c6f-36af8865a507",
   "metadata": {},
   "source": [
    "# read real 인입 쿼리"
   ]
  },
  {
   "cell_type": "code",
   "execution_count": 177,
   "id": "899ad3ea-807a-42ab-899e-3bdee9118e69",
   "metadata": {
    "execution": {
     "iopub.execute_input": "2023-11-27T04:22:11.207035Z",
     "iopub.status.busy": "2023-11-27T04:22:11.206406Z",
     "iopub.status.idle": "2023-11-27T04:22:11.212250Z",
     "shell.execute_reply": "2023-11-27T04:22:11.211060Z",
     "shell.execute_reply.started": "2023-11-27T04:22:11.206987Z"
    }
   },
   "outputs": [],
   "source": [
    "service_query_file = '/home/x1112436/git/sent-semantic-repo/data/service_query/query.csv'"
   ]
  },
  {
   "cell_type": "code",
   "execution_count": 178,
   "id": "862f20d2-4288-47d7-80c4-40e72682ba40",
   "metadata": {
    "execution": {
     "iopub.execute_input": "2023-11-27T04:22:12.168110Z",
     "iopub.status.busy": "2023-11-27T04:22:12.167383Z",
     "iopub.status.idle": "2023-11-27T04:22:12.215053Z",
     "shell.execute_reply": "2023-11-27T04:22:12.214347Z",
     "shell.execute_reply.started": "2023-11-27T04:22:12.168059Z"
    }
   },
   "outputs": [],
   "source": [
    "service_queries = []\n",
    "with open(service_query_file, 'r') as f:\n",
    "    for data in f:\n",
    "        line = data.split('|')\n",
    "        for i in range(5- len(line)):\n",
    "            line.append('')\n",
    "        service_queries.append({'query': line[0], 'count': line[1], 'p_rank1': line[2], 'p_rank2': line[3], 'p_rank3': line[4]})\n",
    "    \n"
   ]
  },
  {
   "cell_type": "code",
   "execution_count": 179,
   "id": "48ea4a44-4d89-49c6-a899-85d222f17f24",
   "metadata": {
    "execution": {
     "iopub.execute_input": "2023-11-27T04:22:12.356575Z",
     "iopub.status.busy": "2023-11-27T04:22:12.355851Z",
     "iopub.status.idle": "2023-11-27T04:22:12.375466Z",
     "shell.execute_reply": "2023-11-27T04:22:12.374236Z",
     "shell.execute_reply.started": "2023-11-27T04:22:12.356508Z"
    }
   },
   "outputs": [],
   "source": [
    "import pandas as pd\n",
    "service_queries_pd = pd.DataFrame(service_queries)"
   ]
  },
  {
   "cell_type": "code",
   "execution_count": 180,
   "id": "8730accf-0f2f-4bfe-b610-376eb538eea9",
   "metadata": {
    "execution": {
     "iopub.execute_input": "2023-11-27T04:22:12.522347Z",
     "iopub.status.busy": "2023-11-27T04:22:12.521711Z",
     "iopub.status.idle": "2023-11-27T04:22:12.536501Z",
     "shell.execute_reply": "2023-11-27T04:22:12.535537Z",
     "shell.execute_reply.started": "2023-11-27T04:22:12.522286Z"
    }
   },
   "outputs": [
    {
     "data": {
      "text/html": [
       "<div>\n",
       "<style scoped>\n",
       "    .dataframe tbody tr th:only-of-type {\n",
       "        vertical-align: middle;\n",
       "    }\n",
       "\n",
       "    .dataframe tbody tr th {\n",
       "        vertical-align: top;\n",
       "    }\n",
       "\n",
       "    .dataframe thead th {\n",
       "        text-align: right;\n",
       "    }\n",
       "</style>\n",
       "<table border=\"1\" class=\"dataframe\">\n",
       "  <thead>\n",
       "    <tr style=\"text-align: right;\">\n",
       "      <th></th>\n",
       "      <th>query</th>\n",
       "      <th>count</th>\n",
       "      <th>p_rank1</th>\n",
       "      <th>p_rank2</th>\n",
       "      <th>p_rank3</th>\n",
       "    </tr>\n",
       "  </thead>\n",
       "  <tbody>\n",
       "    <tr>\n",
       "      <th>0</th>\n",
       "      <td>미납요금 납부 가능일 문의</td>\n",
       "      <td>49194</td>\n",
       "      <td>SKT미납센터연락처(0.4809759)</td>\n",
       "      <td>미납이용정지(0.457217725)</td>\n",
       "      <td>미납직권해지(0.43127817)</td>\n",
       "    </tr>\n",
       "    <tr>\n",
       "      <th>1</th>\n",
       "      <td>미납 문의할게</td>\n",
       "      <td>27234</td>\n",
       "      <td>SKT해지미납센터연락처(0.4995)</td>\n",
       "      <td>SKT미납센터연락처(0.4940547)</td>\n",
       "      <td>미납직권해지(0.4642235)</td>\n",
       "    </tr>\n",
       "    <tr>\n",
       "      <th>2</th>\n",
       "      <td>미납문의할게</td>\n",
       "      <td>1616</td>\n",
       "      <td>SKT미납센터연락처(0.49495625)</td>\n",
       "      <td>미납직권해지(0.463400065)</td>\n",
       "      <td>미납이용정지(0.4573068)</td>\n",
       "    </tr>\n",
       "  </tbody>\n",
       "</table>\n",
       "</div>"
      ],
      "text/plain": [
       "            query  count                 p_rank1                p_rank2  \\\n",
       "0  미납요금 납부 가능일 문의  49194   SKT미납센터연락처(0.4809759)    미납이용정지(0.457217725)   \n",
       "1         미납 문의할게  27234    SKT해지미납센터연락처(0.4995)  SKT미납센터연락처(0.4940547)   \n",
       "2          미납문의할게   1616  SKT미납센터연락처(0.49495625)    미납직권해지(0.463400065)   \n",
       "\n",
       "              p_rank3  \n",
       "0  미납직권해지(0.43127817)  \n",
       "1   미납직권해지(0.4642235)  \n",
       "2   미납이용정지(0.4573068)  "
      ]
     },
     "execution_count": 180,
     "metadata": {},
     "output_type": "execute_result"
    }
   ],
   "source": [
    "service_queries_pd.head(3)"
   ]
  },
  {
   "cell_type": "code",
   "execution_count": 181,
   "id": "c15d38e2-427c-48d2-b44e-2f20b81cdcf0",
   "metadata": {
    "execution": {
     "iopub.execute_input": "2023-11-27T04:22:12.805602Z",
     "iopub.status.busy": "2023-11-27T04:22:12.804924Z",
     "iopub.status.idle": "2023-11-27T04:22:12.817394Z",
     "shell.execute_reply": "2023-11-27T04:22:12.816292Z",
     "shell.execute_reply.started": "2023-11-27T04:22:12.805553Z"
    }
   },
   "outputs": [],
   "source": [
    "service_queries = list(service_queries_pd['query'].unique())"
   ]
  },
  {
   "cell_type": "code",
   "execution_count": 182,
   "id": "4786bcf0-bf90-4a15-8d1e-7b94bcaf3264",
   "metadata": {
    "execution": {
     "iopub.execute_input": "2023-11-27T04:22:13.708131Z",
     "iopub.status.busy": "2023-11-27T04:22:13.707448Z",
     "iopub.status.idle": "2023-11-27T04:22:13.715902Z",
     "shell.execute_reply": "2023-11-27T04:22:13.714728Z",
     "shell.execute_reply.started": "2023-11-27T04:22:13.708082Z"
    }
   },
   "outputs": [
    {
     "data": {
      "text/plain": [
       "6756"
      ]
     },
     "execution_count": 182,
     "metadata": {},
     "output_type": "execute_result"
    }
   ],
   "source": [
    "len(service_queries)"
   ]
  },
  {
   "cell_type": "markdown",
   "id": "b2cfbd73-0832-45ba-9f20-6954e1bcc03a",
   "metadata": {},
   "source": [
    "# INPUT for single embedding"
   ]
  },
  {
   "cell_type": "code",
   "execution_count": 183,
   "id": "14053629-0792-4cd8-95cc-abc64694c648",
   "metadata": {
    "execution": {
     "iopub.execute_input": "2023-11-27T04:22:14.023845Z",
     "iopub.status.busy": "2023-11-27T04:22:14.023160Z",
     "iopub.status.idle": "2023-11-27T04:22:14.029388Z",
     "shell.execute_reply": "2023-11-27T04:22:14.028131Z",
     "shell.execute_reply.started": "2023-11-27T04:22:14.023795Z"
    }
   },
   "outputs": [],
   "source": [
    "from torch.utils.data import (\n",
    "    DataLoader, Dataset\n",
    ")"
   ]
  },
  {
   "cell_type": "code",
   "execution_count": 184,
   "id": "eaa37b61-7089-4aff-99b0-c45172691be0",
   "metadata": {
    "execution": {
     "iopub.execute_input": "2023-11-27T04:22:14.855911Z",
     "iopub.status.busy": "2023-11-27T04:22:14.855093Z",
     "iopub.status.idle": "2023-11-27T04:22:14.861399Z",
     "shell.execute_reply": "2023-11-27T04:22:14.860199Z",
     "shell.execute_reply.started": "2023-11-27T04:22:14.855863Z"
    }
   },
   "outputs": [],
   "source": [
    "from dataclasses import dataclass\n",
    "from typing import List, Any, Union, Dict"
   ]
  },
  {
   "cell_type": "code",
   "execution_count": 185,
   "id": "480be143-6480-4e00-bbf0-f839d2ddc838",
   "metadata": {
    "execution": {
     "iopub.execute_input": "2023-11-27T04:22:15.004977Z",
     "iopub.status.busy": "2023-11-27T04:22:15.004327Z",
     "iopub.status.idle": "2023-11-27T04:22:15.011958Z",
     "shell.execute_reply": "2023-11-27T04:22:15.010967Z",
     "shell.execute_reply.started": "2023-11-27T04:22:15.004927Z"
    }
   },
   "outputs": [],
   "source": [
    "@dataclass\n",
    "class SingleSentenceInput:\n",
    "    sentence_a: str = None\n",
    "    a_input_ids: List[int] = None\n",
    "    a_attention_mask: List[int] = None"
   ]
  },
  {
   "cell_type": "code",
   "execution_count": 186,
   "id": "6bd912de-6fd3-4abb-9d56-2d9070dcc309",
   "metadata": {
    "execution": {
     "iopub.execute_input": "2023-11-27T04:22:15.128700Z",
     "iopub.status.busy": "2023-11-27T04:22:15.127755Z",
     "iopub.status.idle": "2023-11-27T04:22:15.145614Z",
     "shell.execute_reply": "2023-11-27T04:22:15.144799Z",
     "shell.execute_reply.started": "2023-11-27T04:22:15.128654Z"
    }
   },
   "outputs": [],
   "source": [
    "class EmbeddingDataset(Dataset):\n",
    "    def __init__(\n",
    "            self,\n",
    "            args,\n",
    "            features:List[SingleSentenceInput],\n",
    "            max_length,\n",
    "            tokenizer,\n",
    "            **kwargs\n",
    "    ):\n",
    "        super(EmbeddingDataset, self).__init__()\n",
    "        self.args = args\n",
    "        self.features = features\n",
    "        self.max_length = max_length\n",
    "        self.pad_token_id = tokenizer.pad_token_id\n",
    "        self.sep_token_id = tokenizer.sep_token_id if tokenizer.sep_token_id else tokenizer.eos_token_id\n",
    "\n",
    "    def __getitem__(self, index) -> Dict[str, Any]:\n",
    "        feature = self.features[index]\n",
    "        return {\n",
    "            'a_sentence': feature.sentence_a,\n",
    "            'a_input_ids': torch.tensor(feature.a_input_ids, dtype=torch.long),\n",
    "            'a_attention_mask': torch.tensor(feature.a_attention_mask, dtype=torch.long)\n",
    "        }\n",
    "    def __len__(self):\n",
    "        return len(self.features)\n",
    "    \n",
    "    def loader(self, shuffle:bool=True, batch_size:int=64):\n",
    "        return DataLoader(self, shuffle=shuffle, batch_size=batch_size, collate_fn=self.collater)\n",
    "\n",
    "    def collater(self, batch: List[Dict[str, Any]]) -> Dict[str, Any]:\n",
    "\n",
    "        a_sentence = [data['a_sentence'] for data in batch]\n",
    "        a_input_ids = [data['a_input_ids'] for data in batch]\n",
    "        a_attention_mask = [data['a_attention_mask'] for data in batch]\n",
    "        ##  token level encoding\n",
    "        batch_size = len(batch)\n",
    "        sizes = [len(s) for s in a_input_ids]\n",
    "        target_size = min(max(sizes), self.max_length)\n",
    "        \"\"\" torch.full -> creates a tensor of a given shape and fills it with a scalar value self.pad_token_id here\"\"\"\n",
    "        a_collated_ids = torch.full((batch_size, target_size), self.pad_token_id, dtype=torch.long)\n",
    "        a_collated_attention_masks = torch.zeros((batch_size, target_size), dtype=torch.long)\n",
    "\n",
    "        \"\"\" cut data if size > target_size else: fill by self.pad_token_id \"\"\"\n",
    "        for i, (input_id, attention_m, size) in enumerate(\n",
    "                zip(a_input_ids, a_attention_mask, sizes)):\n",
    "            diff = target_size - size\n",
    "            if diff < 0:\n",
    "                a_collated_ids[i, :target_size] = input_id[:target_size]\n",
    "                a_collated_ids[i, -1] = self.sep_token_id\n",
    "                a_collated_attention_masks[i, :target_size] = attention_m[:target_size]\n",
    "\n",
    "            else:\n",
    "                a_collated_ids[i, :size] = input_id\n",
    "                a_collated_attention_masks[i, :size] = attention_m\n",
    "\n",
    "        return {\n",
    "            'a_sentence': a_sentence,\n",
    "            'a_input_ids': a_collated_ids,\n",
    "            'a_attention_mask': a_collated_attention_masks\n",
    "        }"
   ]
  },
  {
   "cell_type": "code",
   "execution_count": 187,
   "id": "6f6a956f-1b7a-421d-a9ae-2d5522da748c",
   "metadata": {
    "execution": {
     "iopub.execute_input": "2023-11-27T04:22:15.875873Z",
     "iopub.status.busy": "2023-11-27T04:22:15.875139Z",
     "iopub.status.idle": "2023-11-27T04:22:15.886055Z",
     "shell.execute_reply": "2023-11-27T04:22:15.884825Z",
     "shell.execute_reply.started": "2023-11-27T04:22:15.875822Z"
    }
   },
   "outputs": [],
   "source": [
    "from src.utils.abs_preprocess import AbsPreprocessor\n",
    "\n",
    "class Testprocessor(AbsPreprocessor):\n",
    "\n",
    "    @classmethod\n",
    "    def preprocess(cls, tokenizer,  input_list:List) -> None:\n",
    "        \"\"\" try read tsv file using pandas first if [memory or parse] error catched use other reading method  \"\"\"\n",
    "    \n",
    "        feature_list = list()\n",
    "        skipped_line = 0\n",
    "\n",
    "        for i, line in enumerate(input_list):\n",
    "            try:\n",
    "                a_encoded_sentence = cls.tokenizing(input=line, tokenizer=tokenizer, tokenizer_input=None)\n",
    "                feature_list.append(\n",
    "                    SingleSentenceInput(\n",
    "                        sentence_a = line,\n",
    "                        a_input_ids = a_encoded_sentence.input_ids,\n",
    "                        a_attention_mask=a_encoded_sentence.attention_mask,\n",
    "                    )\n",
    "                )\n",
    "            except Exception as e:\n",
    "                print(f'Error occurs in {i} lines in preprocessing')\n",
    "                print(line)\n",
    "                print(e)\n",
    "                break\n",
    "\n",
    "        return feature_list"
   ]
  },
  {
   "cell_type": "code",
   "execution_count": 188,
   "id": "6e342500-a493-4218-a6c7-13e85a0636f6",
   "metadata": {
    "execution": {
     "iopub.execute_input": "2023-11-27T04:22:16.057037Z",
     "iopub.status.busy": "2023-11-27T04:22:16.056373Z",
     "iopub.status.idle": "2023-11-27T04:22:24.411888Z",
     "shell.execute_reply": "2023-11-27T04:22:24.410074Z",
     "shell.execute_reply.started": "2023-11-27T04:22:16.056989Z"
    }
   },
   "outputs": [
    {
     "name": "stderr",
     "output_type": "stream",
     "text": [
      "\n",
      "KeyboardInterrupt\n",
      "\n"
     ]
    }
   ],
   "source": [
    "query_test_input = Testprocessor.preprocess(tokenizer = tokenizer ,input_list = idx2query)"
   ]
  },
  {
   "cell_type": "code",
   "execution_count": 189,
   "id": "d2bc5292-6b5d-47ac-ab97-73f7979e39f7",
   "metadata": {
    "execution": {
     "iopub.execute_input": "2023-11-27T04:22:35.208183Z",
     "iopub.status.busy": "2023-11-27T04:22:35.207402Z",
     "iopub.status.idle": "2023-11-27T04:22:35.298924Z",
     "shell.execute_reply": "2023-11-27T04:22:35.298117Z",
     "shell.execute_reply.started": "2023-11-27T04:22:35.208125Z"
    }
   },
   "outputs": [],
   "source": [
    "intent_test_input = Testprocessor.preprocess(tokenizer = tokenizer ,input_list = idx2intent_nm)"
   ]
  },
  {
   "cell_type": "code",
   "execution_count": 190,
   "id": "69c61c03-bf97-4a3c-a0b6-ee36e5998628",
   "metadata": {
    "execution": {
     "iopub.execute_input": "2023-11-27T04:22:35.525879Z",
     "iopub.status.busy": "2023-11-27T04:22:35.525204Z",
     "iopub.status.idle": "2023-11-27T04:22:35.896299Z",
     "shell.execute_reply": "2023-11-27T04:22:35.895558Z",
     "shell.execute_reply.started": "2023-11-27T04:22:35.525828Z"
    }
   },
   "outputs": [],
   "source": [
    "service_query_input = Testprocessor.preprocess(tokenizer = tokenizer ,input_list = service_queries)"
   ]
  },
  {
   "cell_type": "code",
   "execution_count": 191,
   "id": "7a760ae8-0084-497b-bca5-114fcc675d21",
   "metadata": {
    "execution": {
     "iopub.execute_input": "2023-11-27T04:22:35.898169Z",
     "iopub.status.busy": "2023-11-27T04:22:35.897848Z",
     "iopub.status.idle": "2023-11-27T04:22:35.912220Z",
     "shell.execute_reply": "2023-11-27T04:22:35.911434Z",
     "shell.execute_reply.started": "2023-11-27T04:22:35.898150Z"
    }
   },
   "outputs": [
    {
     "ename": "NameError",
     "evalue": "name 'query_test_input' is not defined",
     "output_type": "error",
     "traceback": [
      "\u001b[0;31m---------------------------------------------------------------------------\u001b[0m",
      "\u001b[0;31mNameError\u001b[0m                                 Traceback (most recent call last)",
      "Input \u001b[0;32mIn [191]\u001b[0m, in \u001b[0;36m<module>\u001b[0;34m\u001b[0m\n\u001b[0;32m----> 1\u001b[0m query_test_dataset \u001b[38;5;241m=\u001b[39m EmbeddingDataset(args\u001b[38;5;241m=\u001b[39margs, features\u001b[38;5;241m=\u001b[39m\u001b[43mquery_test_input\u001b[49m, max_length\u001b[38;5;241m=\u001b[39margs\u001b[38;5;241m.\u001b[39mmodel_max_len, tokenizer\u001b[38;5;241m=\u001b[39mtokenizer)\n",
      "\u001b[0;31mNameError\u001b[0m: name 'query_test_input' is not defined"
     ]
    }
   ],
   "source": [
    "query_test_dataset = EmbeddingDataset(args=args, features=query_test_input, max_length=args.model_max_len, tokenizer=tokenizer)"
   ]
  },
  {
   "cell_type": "code",
   "execution_count": 193,
   "id": "4e47e2f9-9cda-4a84-9d0f-844cd9836f97",
   "metadata": {
    "execution": {
     "iopub.execute_input": "2023-11-27T04:22:39.748081Z",
     "iopub.status.busy": "2023-11-27T04:22:39.747335Z",
     "iopub.status.idle": "2023-11-27T04:22:39.754536Z",
     "shell.execute_reply": "2023-11-27T04:22:39.753222Z",
     "shell.execute_reply.started": "2023-11-27T04:22:39.748030Z"
    }
   },
   "outputs": [],
   "source": [
    "intent_test_dataset = EmbeddingDataset(args=args, features=intent_test_input, max_length=args.model_max_len, tokenizer=tokenizer)"
   ]
  },
  {
   "cell_type": "code",
   "execution_count": 194,
   "id": "024a190d-c6fb-4ae2-949a-c39267bb637e",
   "metadata": {
    "execution": {
     "iopub.execute_input": "2023-11-27T04:22:39.890487Z",
     "iopub.status.busy": "2023-11-27T04:22:39.889854Z",
     "iopub.status.idle": "2023-11-27T04:22:39.896362Z",
     "shell.execute_reply": "2023-11-27T04:22:39.895117Z",
     "shell.execute_reply.started": "2023-11-27T04:22:39.890439Z"
    }
   },
   "outputs": [],
   "source": [
    "service_query_dataset = EmbeddingDataset(args=args, features=service_query_input, max_length=args.model_max_len, tokenizer=tokenizer)"
   ]
  },
  {
   "cell_type": "markdown",
   "id": "1644df85-2159-4193-968e-048f1401bdbd",
   "metadata": {},
   "source": [
    "# DataLoader"
   ]
  },
  {
   "cell_type": "code",
   "execution_count": null,
   "id": "ae488fb4-b133-4688-a9f6-e0fdc4b5e476",
   "metadata": {
    "execution": {
     "iopub.status.busy": "2023-11-27T04:22:24.417866Z",
     "iopub.status.idle": "2023-11-27T04:22:24.418090Z",
     "shell.execute_reply": "2023-11-27T04:22:24.417988Z",
     "shell.execute_reply.started": "2023-11-27T04:22:24.417978Z"
    }
   },
   "outputs": [],
   "source": [
    "query_dataloader = query_test_dataset.loader(\n",
    "            shuffle=False, batch_size=400 )"
   ]
  },
  {
   "cell_type": "code",
   "execution_count": 195,
   "id": "af7b0c53-b574-4bf4-9288-83ee5545f4c8",
   "metadata": {
    "execution": {
     "iopub.execute_input": "2023-11-27T04:22:42.849832Z",
     "iopub.status.busy": "2023-11-27T04:22:42.849124Z",
     "iopub.status.idle": "2023-11-27T04:22:42.858383Z",
     "shell.execute_reply": "2023-11-27T04:22:42.857157Z",
     "shell.execute_reply.started": "2023-11-27T04:22:42.849783Z"
    }
   },
   "outputs": [],
   "source": [
    "intent_dataloader = intent_test_dataset.loader(\n",
    "            shuffle=False, batch_size=400 )"
   ]
  },
  {
   "cell_type": "code",
   "execution_count": 196,
   "id": "d92d9909-68ec-4ffc-83d7-d480bbe81913",
   "metadata": {
    "execution": {
     "iopub.execute_input": "2023-11-27T04:22:42.983159Z",
     "iopub.status.busy": "2023-11-27T04:22:42.982520Z",
     "iopub.status.idle": "2023-11-27T04:22:42.996564Z",
     "shell.execute_reply": "2023-11-27T04:22:42.995955Z",
     "shell.execute_reply.started": "2023-11-27T04:22:42.983112Z"
    }
   },
   "outputs": [],
   "source": [
    "service_query_dataloader = service_query_dataset.loader(shuffle=False, batch_size=400 )"
   ]
  },
  {
   "cell_type": "markdown",
   "id": "db69171e-b3a3-4cd2-b355-55755f0b8b04",
   "metadata": {},
   "source": [
    "# embed query and intent"
   ]
  },
  {
   "cell_type": "code",
   "execution_count": 197,
   "id": "e67505a2-43d2-4433-b530-5b333989e076",
   "metadata": {
    "execution": {
     "iopub.execute_input": "2023-11-27T04:22:44.339754Z",
     "iopub.status.busy": "2023-11-27T04:22:44.338992Z",
     "iopub.status.idle": "2023-11-27T04:22:44.345791Z",
     "shell.execute_reply": "2023-11-27T04:22:44.344501Z",
     "shell.execute_reply.started": "2023-11-27T04:22:44.339703Z"
    }
   },
   "outputs": [],
   "source": [
    "from tqdm.notebook import tqdm"
   ]
  },
  {
   "cell_type": "code",
   "execution_count": 198,
   "id": "c7737560-8a5a-4d54-8692-03c298c57bae",
   "metadata": {
    "execution": {
     "iopub.execute_input": "2023-11-27T04:22:44.480203Z",
     "iopub.status.busy": "2023-11-27T04:22:44.479575Z",
     "iopub.status.idle": "2023-11-27T04:22:44.492815Z",
     "shell.execute_reply": "2023-11-27T04:22:44.491881Z",
     "shell.execute_reply.started": "2023-11-27T04:22:44.480153Z"
    }
   },
   "outputs": [],
   "source": [
    "model = model.to(args.device)"
   ]
  },
  {
   "cell_type": "code",
   "execution_count": null,
   "id": "4755591d-ae7e-43c8-8774-79cde2d1ee88",
   "metadata": {
    "execution": {
     "iopub.status.busy": "2023-11-27T04:22:24.423064Z",
     "iopub.status.idle": "2023-11-27T04:22:24.423283Z",
     "shell.execute_reply": "2023-11-27T04:22:24.423183Z",
     "shell.execute_reply.started": "2023-11-27T04:22:24.423173Z"
    }
   },
   "outputs": [],
   "source": [
    "#next(iter(query_dataloader))"
   ]
  },
  {
   "cell_type": "code",
   "execution_count": null,
   "id": "9a23720e-24c1-4e76-8237-7790dad58b99",
   "metadata": {
    "execution": {
     "iopub.status.busy": "2023-11-27T04:22:24.423958Z",
     "iopub.status.idle": "2023-11-27T04:22:24.424179Z",
     "shell.execute_reply": "2023-11-27T04:22:24.424079Z",
     "shell.execute_reply.started": "2023-11-27T04:22:24.424068Z"
    }
   },
   "outputs": [],
   "source": [
    "model.eval()\n",
    "query_list = []\n",
    "embedding_query = []\n",
    "with torch.no_grad():   \n",
    "    for batch_idx, batch in enumerate(tqdm(query_dataloader)): \n",
    "        batch = {key: (item.to(args.device) if type(item) == torch.Tensor else item) for key, item in batch.items()}\n",
    "        a_embedding = model(batch['a_input_ids'], batch['a_attention_mask'])\n",
    "        a_sentence = batch['a_sentence']\n",
    "        query_list.extend(a_sentence)\n",
    "        embedding_query.append(a_embedding)\n",
    "    embedding_query = torch.cat(embedding_query, 0) "
   ]
  },
  {
   "cell_type": "code",
   "execution_count": 199,
   "id": "e01da8ef-1f5c-4909-8d75-71d0adcd38ac",
   "metadata": {
    "execution": {
     "iopub.execute_input": "2023-11-27T04:22:46.698555Z",
     "iopub.status.busy": "2023-11-27T04:22:46.697829Z",
     "iopub.status.idle": "2023-11-27T04:22:48.508774Z",
     "shell.execute_reply": "2023-11-27T04:22:48.508121Z",
     "shell.execute_reply.started": "2023-11-27T04:22:46.698504Z"
    }
   },
   "outputs": [
    {
     "data": {
      "application/vnd.jupyter.widget-view+json": {
       "model_id": "2254d3d20640414da91cdf0681ae06d7",
       "version_major": 2,
       "version_minor": 0
      },
      "text/plain": [
       "  0%|          | 0/5 [00:00<?, ?it/s]"
      ]
     },
     "metadata": {},
     "output_type": "display_data"
    }
   ],
   "source": [
    "model.eval()\n",
    "intent_list = []\n",
    "embedding_intent = []\n",
    "with torch.no_grad():   \n",
    "    for batch_idx, batch in enumerate(tqdm(intent_dataloader)): \n",
    "        batch = {key: (item.to(args.device) if type(item) == torch.Tensor else item) for key, item in batch.items()}\n",
    "        a_embedding = model(batch['a_input_ids'], batch['a_attention_mask'])\n",
    "        a_sentence = batch['a_sentence']\n",
    "        intent_list.extend(a_sentence)\n",
    "        embedding_intent.append(a_embedding)\n",
    "    embedding_intent = torch.cat(embedding_intent, 0) \n"
   ]
  },
  {
   "cell_type": "code",
   "execution_count": 200,
   "id": "0be4b3cf-5c35-408a-9886-ffe9ae5d54d9",
   "metadata": {
    "execution": {
     "iopub.execute_input": "2023-11-27T04:22:48.510490Z",
     "iopub.status.busy": "2023-11-27T04:22:48.510166Z",
     "iopub.status.idle": "2023-11-27T04:22:59.667050Z",
     "shell.execute_reply": "2023-11-27T04:22:59.666184Z",
     "shell.execute_reply.started": "2023-11-27T04:22:48.510471Z"
    }
   },
   "outputs": [
    {
     "data": {
      "application/vnd.jupyter.widget-view+json": {
       "model_id": "1b5c2c487a3c456bb78c75e26a0b605c",
       "version_major": 2,
       "version_minor": 0
      },
      "text/plain": [
       "  0%|          | 0/17 [00:00<?, ?it/s]"
      ]
     },
     "metadata": {},
     "output_type": "display_data"
    }
   ],
   "source": [
    "model.eval()\n",
    "service_query_list = []\n",
    "embedding_service_query = []\n",
    "with torch.no_grad():   \n",
    "    for batch_idx, batch in enumerate(tqdm(service_query_dataloader)): \n",
    "        batch = {key: (item.to(args.device) if type(item) == torch.Tensor else item) for key, item in batch.items()}\n",
    "        a_embedding = model(batch['a_input_ids'], batch['a_attention_mask'])\n",
    "        a_sentence = batch['a_sentence']\n",
    "        service_query_list.extend(a_sentence)\n",
    "        embedding_service_query.append(a_embedding)\n",
    "    embedding_service_query = torch.cat(embedding_service_query, 0) \n"
   ]
  },
  {
   "cell_type": "code",
   "execution_count": 201,
   "id": "9897cdbe-207b-4090-a2b5-81ebc230255a",
   "metadata": {
    "execution": {
     "iopub.execute_input": "2023-11-27T04:22:59.669556Z",
     "iopub.status.busy": "2023-11-27T04:22:59.668923Z",
     "iopub.status.idle": "2023-11-27T04:22:59.674960Z",
     "shell.execute_reply": "2023-11-27T04:22:59.674213Z",
     "shell.execute_reply.started": "2023-11-27T04:22:59.669534Z"
    }
   },
   "outputs": [],
   "source": [
    "import torch.nn.functional as F\n",
    "values, indices = torch.topk(F.normalize(embedding_service_query, dim =1) @ F.normalize(embedding_intent.T, dim=1), 3)"
   ]
  },
  {
   "cell_type": "code",
   "execution_count": 202,
   "id": "bd3526a3-debf-4eb7-9e86-f26fefe5a9b9",
   "metadata": {
    "execution": {
     "iopub.execute_input": "2023-11-27T04:22:59.676079Z",
     "iopub.status.busy": "2023-11-27T04:22:59.675803Z",
     "iopub.status.idle": "2023-11-27T04:22:59.684915Z",
     "shell.execute_reply": "2023-11-27T04:22:59.684241Z",
     "shell.execute_reply.started": "2023-11-27T04:22:59.676060Z"
    }
   },
   "outputs": [],
   "source": [
    "threshold = 0.45"
   ]
  },
  {
   "cell_type": "code",
   "execution_count": 203,
   "id": "dac4d930-4e0f-4fd9-808c-f8cc1b2b16f9",
   "metadata": {
    "execution": {
     "iopub.execute_input": "2023-11-27T04:22:59.686598Z",
     "iopub.status.busy": "2023-11-27T04:22:59.686288Z",
     "iopub.status.idle": "2023-11-27T04:23:00.323091Z",
     "shell.execute_reply": "2023-11-27T04:23:00.322465Z",
     "shell.execute_reply.started": "2023-11-27T04:22:59.686573Z"
    }
   },
   "outputs": [],
   "source": [
    "values[values < threshold] = -1\n",
    "indices[values < threshold] = -1"
   ]
  },
  {
   "cell_type": "code",
   "execution_count": 204,
   "id": "912f692f-d046-404f-af23-93015e2676ea",
   "metadata": {
    "execution": {
     "iopub.execute_input": "2023-11-27T04:23:00.324154Z",
     "iopub.status.busy": "2023-11-27T04:23:00.323965Z",
     "iopub.status.idle": "2023-11-27T04:23:00.327319Z",
     "shell.execute_reply": "2023-11-27T04:23:00.326758Z",
     "shell.execute_reply.started": "2023-11-27T04:23:00.324137Z"
    }
   },
   "outputs": [],
   "source": [
    "indices = indices.cpu().numpy()"
   ]
  },
  {
   "cell_type": "code",
   "execution_count": 205,
   "id": "5ff44abd-572a-41a5-897f-aec0968ce7ab",
   "metadata": {
    "execution": {
     "iopub.execute_input": "2023-11-27T04:23:00.328248Z",
     "iopub.status.busy": "2023-11-27T04:23:00.328076Z",
     "iopub.status.idle": "2023-11-27T04:23:00.551662Z",
     "shell.execute_reply": "2023-11-27T04:23:00.550968Z",
     "shell.execute_reply.started": "2023-11-27T04:23:00.328232Z"
    }
   },
   "outputs": [],
   "source": [
    "predict_dict = dict()\n",
    "for i in range(embedding_service_query.size()[0]):        \n",
    "    predict_dict[service_queries[i]] = [(intent_list[indices[i, j]], round(values[i,j].cpu().item(), 3)) for j in range(3) if indices[i,j] != -1]\n",
    "\n",
    "predict_list = []\n",
    "for key, value in predict_dict.items():\n",
    "    query = key\n",
    "    for i in range(3 - len(value)):\n",
    "        value.append('')\n",
    "        \n",
    "    predict_list.append({'query': query, 'n_rank1': value[0], 'n_rank2': value[1], 'n_rank3': value[2]})\n",
    "            "
   ]
  },
  {
   "cell_type": "code",
   "execution_count": 206,
   "id": "c480f032-6d5a-4925-9570-e895a40b586d",
   "metadata": {
    "execution": {
     "iopub.execute_input": "2023-11-27T04:23:00.553198Z",
     "iopub.status.busy": "2023-11-27T04:23:00.552876Z",
     "iopub.status.idle": "2023-11-27T04:23:00.562258Z",
     "shell.execute_reply": "2023-11-27T04:23:00.561698Z",
     "shell.execute_reply.started": "2023-11-27T04:23:00.553179Z"
    }
   },
   "outputs": [],
   "source": [
    "predict_pd = pd.DataFrame(predict_list)"
   ]
  },
  {
   "cell_type": "code",
   "execution_count": 207,
   "id": "70627edd-6b30-493b-a73a-31965837516c",
   "metadata": {
    "execution": {
     "iopub.execute_input": "2023-11-27T04:23:00.563202Z",
     "iopub.status.busy": "2023-11-27T04:23:00.563028Z",
     "iopub.status.idle": "2023-11-27T04:23:00.577840Z",
     "shell.execute_reply": "2023-11-27T04:23:00.577296Z",
     "shell.execute_reply.started": "2023-11-27T04:23:00.563186Z"
    }
   },
   "outputs": [],
   "source": [
    "join_data = pd.merge(predict_pd, service_queries_pd, on = 'query')"
   ]
  },
  {
   "cell_type": "code",
   "execution_count": 210,
   "id": "de8c06e0-2d5f-4294-b6de-7e47bf99c292",
   "metadata": {
    "execution": {
     "iopub.execute_input": "2023-11-27T04:25:53.906971Z",
     "iopub.status.busy": "2023-11-27T04:25:53.906261Z",
     "iopub.status.idle": "2023-11-27T04:25:53.922821Z",
     "shell.execute_reply": "2023-11-27T04:25:53.922057Z",
     "shell.execute_reply.started": "2023-11-27T04:25:53.906922Z"
    }
   },
   "outputs": [
    {
     "data": {
      "text/html": [
       "<div>\n",
       "<style scoped>\n",
       "    .dataframe tbody tr th:only-of-type {\n",
       "        vertical-align: middle;\n",
       "    }\n",
       "\n",
       "    .dataframe tbody tr th {\n",
       "        vertical-align: top;\n",
       "    }\n",
       "\n",
       "    .dataframe thead th {\n",
       "        text-align: right;\n",
       "    }\n",
       "</style>\n",
       "<table border=\"1\" class=\"dataframe\">\n",
       "  <thead>\n",
       "    <tr style=\"text-align: right;\">\n",
       "      <th></th>\n",
       "      <th>query</th>\n",
       "      <th>n_rank1</th>\n",
       "      <th>n_rank2</th>\n",
       "      <th>n_rank3</th>\n",
       "      <th>count</th>\n",
       "      <th>p_rank1</th>\n",
       "      <th>p_rank2</th>\n",
       "      <th>p_rank3</th>\n",
       "    </tr>\n",
       "  </thead>\n",
       "  <tbody>\n",
       "    <tr>\n",
       "      <th>0</th>\n",
       "      <td>미납요금 납부 가능일 문의</td>\n",
       "      <td>(요금납부일확인방법, 0.493)</td>\n",
       "      <td>(SKT미납센터연락처, 0.452)</td>\n",
       "      <td>(미납이용정지, 0.451)</td>\n",
       "      <td>49194</td>\n",
       "      <td>SKT미납센터연락처(0.4809759)</td>\n",
       "      <td>미납이용정지(0.457217725)</td>\n",
       "      <td>미납직권해지(0.43127817)</td>\n",
       "    </tr>\n",
       "  </tbody>\n",
       "</table>\n",
       "</div>"
      ],
      "text/plain": [
       "            query             n_rank1              n_rank2          n_rank3  \\\n",
       "0  미납요금 납부 가능일 문의  (요금납부일확인방법, 0.493)  (SKT미납센터연락처, 0.452)  (미납이용정지, 0.451)   \n",
       "\n",
       "   count                p_rank1              p_rank2             p_rank3  \n",
       "0  49194  SKT미납센터연락처(0.4809759)  미납이용정지(0.457217725)  미납직권해지(0.43127817)  "
      ]
     },
     "execution_count": 210,
     "metadata": {},
     "output_type": "execute_result"
    }
   ],
   "source": [
    "join_data.head(1)"
   ]
  },
  {
   "cell_type": "code",
   "execution_count": 211,
   "id": "161986de-4e5d-4f71-862c-2a5961d40f0e",
   "metadata": {
    "execution": {
     "iopub.execute_input": "2023-11-27T04:26:16.789585Z",
     "iopub.status.busy": "2023-11-27T04:26:16.788866Z",
     "iopub.status.idle": "2023-11-27T04:26:16.845676Z",
     "shell.execute_reply": "2023-11-27T04:26:16.844370Z",
     "shell.execute_reply.started": "2023-11-27T04:26:16.789533Z"
    }
   },
   "outputs": [],
   "source": [
    "join_data.to_csv('./result/result.csv', encoding='utf-8-sig')"
   ]
  },
  {
   "cell_type": "code",
   "execution_count": 217,
   "id": "7bbb26c0-dc82-4830-846a-f5c03ccfa113",
   "metadata": {
    "execution": {
     "iopub.execute_input": "2023-11-27T04:43:18.442727Z",
     "iopub.status.busy": "2023-11-27T04:43:18.441996Z",
     "iopub.status.idle": "2023-11-27T04:43:18.449491Z",
     "shell.execute_reply": "2023-11-27T04:43:18.448199Z",
     "shell.execute_reply.started": "2023-11-27T04:43:18.442664Z"
    }
   },
   "outputs": [],
   "source": [
    "intent_pd = pd.DataFrame(idx2intent_nm, columns=['intent'])"
   ]
  },
  {
   "cell_type": "code",
   "execution_count": 218,
   "id": "eb03fbf2-c493-4e1b-8e9d-90c8508a9d1b",
   "metadata": {
    "execution": {
     "iopub.execute_input": "2023-11-27T04:43:26.128357Z",
     "iopub.status.busy": "2023-11-27T04:43:26.127592Z",
     "iopub.status.idle": "2023-11-27T04:43:26.143423Z",
     "shell.execute_reply": "2023-11-27T04:43:26.142597Z",
     "shell.execute_reply.started": "2023-11-27T04:43:26.128277Z"
    }
   },
   "outputs": [],
   "source": [
    "intent_pd.to_csv('./result/intent.csv', encoding='utf-8-sig')"
   ]
  }
 ],
 "metadata": {
  "kernelspec": {
   "display_name": "Python 3 (ipykernel)",
   "language": "python",
   "name": "python3"
  },
  "language_info": {
   "codemirror_mode": {
    "name": "ipython",
    "version": 3
   },
   "file_extension": ".py",
   "mimetype": "text/x-python",
   "name": "python",
   "nbconvert_exporter": "python",
   "pygments_lexer": "ipython3",
   "version": "3.8.12"
  }
 },
 "nbformat": 4,
 "nbformat_minor": 5
}
